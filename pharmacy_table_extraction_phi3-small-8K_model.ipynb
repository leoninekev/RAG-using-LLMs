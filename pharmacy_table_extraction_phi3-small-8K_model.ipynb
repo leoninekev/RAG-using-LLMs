{
  "cells": [
    {
      "cell_type": "code",
      "source": [
        "!pip install flash-attn --no-build-isolation\n",
        "!pip install urllib3==1.26.15 tiktoken==0.4.0"
      ],
      "metadata": {
        "id": "K-habPlUmWUt"
      },
      "id": "K-habPlUmWUt",
      "execution_count": null,
      "outputs": []
    },
    {
      "cell_type": "code",
      "source": [
        "import os\n",
        "from IPython.display import HTML\n",
        "import unstructured\n",
        "from unstructured.partition.pdf import partition_pdf\n",
        "import torch\n",
        "import time\n",
        "import re\n",
        "from bs4 import BeautifulSoup\n",
        "from llama_index.core import VectorStoreIndex, SimpleDirectoryReader\n",
        "from llama_index.llms.huggingface import HuggingFaceLLM\n",
        "from llama_index.core import Settings\n",
        "from llama_index.embeddings.fastembed import FastEmbedEmbedding\n",
        "from llama_index.core import PromptTemplate"
      ],
      "metadata": {
        "colab": {
          "base_uri": "https://localhost:8080/"
        },
        "id": "G25woI_xRNBA",
        "outputId": "34a4c181-3dda-4398-add4-4ca5ba12484c"
      },
      "id": "G25woI_xRNBA",
      "execution_count": null,
      "outputs": [
        {
          "output_type": "stream",
          "name": "stderr",
          "text": [
            "/usr/local/lib/python3.10/dist-packages/pydantic/_internal/_fields.py:160: UserWarning: Field \"model_id\" has conflict with protected namespace \"model_\".\n",
            "\n",
            "You may be able to resolve this warning by setting `model_config['protected_namespaces'] = ()`.\n",
            "  warnings.warn(\n"
          ]
        }
      ]
    },
    {
      "cell_type": "code",
      "source": [
        "contract_dir= \"pharmacy_contracts\"\n",
        "# text_filepath = os.path.join(contract_dir, \"tables_textfiles\")\n",
        "filenames = [fname for fname in os.listdir(contract_dir) if \".pdf\" in fname]\n",
        "print(\"Number of files- \", len(filenames))"
      ],
      "metadata": {
        "colab": {
          "base_uri": "https://localhost:8080/"
        },
        "id": "e9YTxsFuTI10",
        "outputId": "dac9274a-d632-4997-8029-2b77a03283dd"
      },
      "id": "e9YTxsFuTI10",
      "execution_count": null,
      "outputs": [
        {
          "output_type": "stream",
          "name": "stdout",
          "text": [
            "Number of files-  3\n"
          ]
        }
      ]
    },
    {
      "cell_type": "markdown",
      "source": [
        "## Approach using multiple pdf documents"
      ],
      "metadata": {
        "id": "7BOMWUnPT5Xp"
      },
      "id": "7BOMWUnPT5Xp"
    },
    {
      "cell_type": "code",
      "source": [
        "def get_pdf_elements(contract_dir, filenames):\n",
        "  t1= time.time()\n",
        "  elements= []\n",
        "  for fname in filenames:\n",
        "    filepath = os.path.join(contract_dir, fname)\n",
        "    print(\"Loading pdf filename: \",filepath)\n",
        "    new_elements = partition_pdf(filename=filepath,\n",
        "                                strategy=\"hi_res\",\n",
        "                                infer_table_structure=True,\n",
        "                                languages=[\"eng\"])\n",
        "    elements.extend(new_elements)\n",
        "  print(f\"\\n___\\nTotal partioning time for {len(filenames)} files : {time.time()-t1}\\n___\\n\")\n",
        "  return elements\n",
        "\n",
        "def export_text_file(select_content_from_tables, contract_dir= \"pharmacy_contracts\", saved_filename=\"tables_textfiles.txt\"):\n",
        "  text_filepath= os.path.join(contract_dir, \"tables_textfiles\")\n",
        "  text=\"\"\n",
        "  if not os.path.exists(text_filepath):\n",
        "    print(f\"{text_filepath} doesn't exist!\\nCreating now. .\")\n",
        "    os.mkdir(text_filepath)\n",
        "  output_file_path= os.path.join(text_filepath, saved_filename)\n",
        "  with open(output_file_path, 'w', encoding='utf-8') as text_file:# Save the extracted metadata to text file\n",
        "    text+=str(select_content_from_tables)\n",
        "    text_file.write(text)\n",
        "    text_file.close()\n",
        "    print(f\"\\n___\\nSaving textfile: {output_file_path}!\\n\")"
      ],
      "metadata": {
        "id": "wT2mXJ3ET222"
      },
      "id": "wT2mXJ3ET222",
      "execution_count": null,
      "outputs": []
    },
    {
      "cell_type": "code",
      "source": [
        "def get_tables_from_pdf(contract_dir, save_as_text_file=True, saved_filename=\"tables_textfiles.txt\"):\n",
        "  filenames = [fname for fname in os.listdir(contract_dir) if \".pdf\" in fname]\n",
        "  elements= get_pdf_elements(contract_dir, filenames)\n",
        "  select_content_from_tables= []\n",
        "  for i, page in enumerate(elements):# Iterating over elements loaded through regular partition method\n",
        "    if isinstance(page, unstructured.documents.elements.Table):\n",
        "      print(f\"Element at Index: {i}: with page_number: {page.metadata.page_number} contains a 'table'\")# Signatures from page# 8\n",
        "      page= page.to_dict()# Converts 'Table' type object to regular dictionary\n",
        "      select_content_from_tables.append((page.get(\"metadata\").get(\"filename\"), page.get(\"metadata\").get(\"text_as_html\"),\n",
        "                                         page.get(\"text\")))# Collect metadata from 'Table' dict\n",
        "      # select_content_from_tables.append((page.get(\"metadata\").get(\"filename\"),\n",
        "      #                                 page.get(\"text\")))\n",
        "  if save_as_text_file:\n",
        "    export_text_file(select_content_from_tables, contract_dir, saved_filename=saved_filename)\n",
        "\n",
        "  return select_content_from_tables"
      ],
      "metadata": {
        "id": "HoEv5OX6Uqgi"
      },
      "id": "HoEv5OX6Uqgi",
      "execution_count": null,
      "outputs": []
    },
    {
      "cell_type": "code",
      "source": [
        "\n",
        "select_content_from_tables= get_tables_from_pdf(contract_dir= \"pharmacy_contracts\",\n",
        "                                                saved_filename=\"tables_from_3_textfiles.txt\")\n"
      ],
      "metadata": {
        "colab": {
          "base_uri": "https://localhost:8080/"
        },
        "id": "EZQqeeVuZQ-F",
        "outputId": "7f8653a5-02c6-4aac-b221-d850bfdfa019"
      },
      "id": "EZQqeeVuZQ-F",
      "execution_count": null,
      "outputs": [
        {
          "output_type": "stream",
          "name": "stdout",
          "text": [
            "Loading pdf filename:  pharmacy_contracts/fully executed FK Pharma Sub-WAC Purchase Agreement IU Subwac eff 2.1.2024 (final).pdf\n"
          ]
        },
        {
          "output_type": "stream",
          "name": "stderr",
          "text": [
            "Some weights of the model checkpoint at microsoft/table-transformer-structure-recognition were not used when initializing TableTransformerForObjectDetection: ['model.backbone.conv_encoder.model.layer2.0.downsample.1.num_batches_tracked', 'model.backbone.conv_encoder.model.layer3.0.downsample.1.num_batches_tracked', 'model.backbone.conv_encoder.model.layer4.0.downsample.1.num_batches_tracked']\n",
            "- This IS expected if you are initializing TableTransformerForObjectDetection from the checkpoint of a model trained on another task or with another architecture (e.g. initializing a BertForSequenceClassification model from a BertForPreTraining model).\n",
            "- This IS NOT expected if you are initializing TableTransformerForObjectDetection from the checkpoint of a model that you expect to be exactly identical (initializing a BertForSequenceClassification model from a BertForSequenceClassification model).\n"
          ]
        },
        {
          "output_type": "stream",
          "name": "stdout",
          "text": [
            "Loading pdf filename:  pharmacy_contracts/Countersigned IU Health IDN Access INJ CER 2021-06-22 v4_IUH 07.08.2021_Pfizer 09.28.2021 Clean.pdf\n",
            "Loading pdf filename:  pharmacy_contracts/fully executed_Amendment to 11854 Tier Overlay and Extension.pdf\n",
            "\n",
            "___\n",
            "Total partioning time for 3 files : 682.7155692577362\n",
            "___\n",
            "\n",
            "Element at Index: 95: with page_number: 9 contains a 'table'\n",
            "Element at Index: 110: with page_number: 10 contains a 'table'\n",
            "Element at Index: 317: with page_number: 18 contains a 'table'\n",
            "Element at Index: 322: with page_number: 19 contains a 'table'\n",
            "Element at Index: 327: with page_number: 20 contains a 'table'\n",
            "Element at Index: 332: with page_number: 21 contains a 'table'\n",
            "Element at Index: 337: with page_number: 22 contains a 'table'\n",
            "Element at Index: 342: with page_number: 23 contains a 'table'\n",
            "Element at Index: 367: with page_number: 24 contains a 'table'\n",
            "Element at Index: 388: with page_number: 25 contains a 'table'\n",
            "Element at Index: 393: with page_number: 26 contains a 'table'\n",
            "Element at Index: 398: with page_number: 27 contains a 'table'\n",
            "Element at Index: 413: with page_number: 28 contains a 'table'\n",
            "Element at Index: 418: with page_number: 29 contains a 'table'\n",
            "Element at Index: 440: with page_number: 30 contains a 'table'\n",
            "Element at Index: 445: with page_number: 31 contains a 'table'\n",
            "Element at Index: 450: with page_number: 32 contains a 'table'\n",
            "Element at Index: 454: with page_number: 33 contains a 'table'\n",
            "Element at Index: 458: with page_number: 34 contains a 'table'\n",
            "Element at Index: 462: with page_number: 35 contains a 'table'\n",
            "Element at Index: 470: with page_number: 36 contains a 'table'\n",
            "Element at Index: 474: with page_number: 37 contains a 'table'\n",
            "Element at Index: 482: with page_number: 38 contains a 'table'\n",
            "Element at Index: 486: with page_number: 39 contains a 'table'\n",
            "Element at Index: 490: with page_number: 40 contains a 'table'\n",
            "Element at Index: 499: with page_number: 41 contains a 'table'\n",
            "Element at Index: 503: with page_number: 42 contains a 'table'\n",
            "Element at Index: 508: with page_number: 43 contains a 'table'\n",
            "Element at Index: 513: with page_number: 44 contains a 'table'\n",
            "Element at Index: 518: with page_number: 45 contains a 'table'\n",
            "Element at Index: 526: with page_number: 46 contains a 'table'\n",
            "Element at Index: 535: with page_number: 47 contains a 'table'\n",
            "Element at Index: 541: with page_number: 48 contains a 'table'\n",
            "Element at Index: 555: with page_number: 50 contains a 'table'\n",
            "Element at Index: 603: with page_number: 54 contains a 'table'\n",
            "Element at Index: 623: with page_number: 55 contains a 'table'\n",
            "Element at Index: 641: with page_number: 56 contains a 'table'\n",
            "Element at Index: 695: with page_number: 1 contains a 'table'\n",
            "Element at Index: 697: with page_number: 1 contains a 'table'\n",
            "Element at Index: 706: with page_number: 2 contains a 'table'\n",
            "Element at Index: 713: with page_number: 3 contains a 'table'\n",
            "Element at Index: 716: with page_number: 3 contains a 'table'\n",
            "Element at Index: 721: with page_number: 4 contains a 'table'\n",
            "Element at Index: 724: with page_number: 4 contains a 'table'\n",
            "Element at Index: 725: with page_number: 4 contains a 'table'\n",
            "Element at Index: 727: with page_number: 5 contains a 'table'\n",
            "Element at Index: 732: with page_number: 5 contains a 'table'\n",
            "\n",
            "___\n",
            "Saving textfile: pharmacy_contracts/tables_textfiles/tables_from_3_textfiles.txt!\n",
            "\n"
          ]
        }
      ]
    },
    {
      "cell_type": "code",
      "source": [
        "# select_content_from_tables\n",
        "def extract_ndc_and_price(input_list):\n",
        "    output_list = []\n",
        "\n",
        "    # Regex patterns\n",
        "    ndc_pattern = re.compile(r'\\b\\d{10,12}\\b')\n",
        "    price_pattern = re.compile(r'\\$\\d+(\\.\\d{1,2})?')\n",
        "\n",
        "    for file_name, html_table, text_table in input_list:\n",
        "        soup = BeautifulSoup(html_table, 'html.parser')\n",
        "        rows = soup.find_all('tr')\n",
        "\n",
        "        for row in rows:\n",
        "            cells = row.find_all('td')\n",
        "            if len(cells) > 1:\n",
        "                ndc_number = None\n",
        "                price = None\n",
        "\n",
        "                for cell in cells:\n",
        "                    cell_text = cell.get_text(strip=True)\n",
        "                    # Search for NDC number\n",
        "                    if ndc_pattern.search(cell_text):\n",
        "                        ndc_number = ndc_pattern.search(cell_text).group()\n",
        "                    # Search for price\n",
        "                    if price_pattern.search(cell_text):\n",
        "                        price = price_pattern.search(cell_text).group()\n",
        "\n",
        "                if ndc_number and price:\n",
        "                    output_list.append((file_name, ndc_number, price))\n",
        "\n",
        "    return output_list"
      ],
      "metadata": {
        "id": "Pl5-m_AvfDun"
      },
      "id": "Pl5-m_AvfDun",
      "execution_count": null,
      "outputs": []
    },
    {
      "cell_type": "code",
      "source": [
        "input_list = select_content_from_tables#[select_content_from_tables[1]]\n",
        "\n",
        "output = extract_ndc_and_price(input_list)\n",
        "print(output)"
      ],
      "metadata": {
        "colab": {
          "base_uri": "https://localhost:8080/"
        },
        "id": "m1bGfRG7fcEw",
        "outputId": "156d879d-73cf-495e-8287-ed746851348b"
      },
      "id": "m1bGfRG7fcEw",
      "execution_count": null,
      "outputs": [
        {
          "output_type": "stream",
          "name": "stdout",
          "text": [
            "[('fully executed FK Pharma Sub-WAC Purchase Agreement IU Subwac eff 2.1.2024 (final).pdf', '63323026929', '$22.50'), ('fully executed FK Pharma Sub-WAC Purchase Agreement IU Subwac eff 2.1.2024 (final).pdf', '63323026950', '$112.20'), ('fully executed FK Pharma Sub-WAC Purchase Agreement IU Subwac eff 2.1.2024 (final).pdf', '63323026965', '$112.10'), ('fully executed_Amendment to 11854 Tier Overlay and Extension.pdf', '63323009330', '$90')]\n"
          ]
        }
      ]
    },
    {
      "cell_type": "code",
      "source": [
        "system_prompt = \"\"\"<|SYSTEM|>You are a Q&A assistant Expert in analyzing legal contracts.\n",
        "<|end|>\\n\n",
        "\"\"\"\n",
        "\n",
        "query_wrapper_prompt= (\"<|SYSTEM|>\\n\"\n",
        "\"You are a Q&A assistant Expert in analyzing legal contracts<|end|>\\n\"\n",
        "\"<|user|>\\n\"\n",
        "\"{query_str}<|end|>\\n\"\n",
        "\"<|assistant|>\\n\")\n",
        "llm = HuggingFaceLLM(\n",
        "    context_window=8192,\n",
        "    max_new_tokens=512,# Increase this to 4096\n",
        "    # attn_implementation=\"eager\",\n",
        "    generate_kwargs={\"temperature\": 0.1, \"do_sample\": True},\n",
        "    # generate_kwargs={\"temperature\": 0.7, \"do_sample\": False},\n",
        "    system_prompt=system_prompt,\n",
        "    query_wrapper_prompt=query_wrapper_prompt,\n",
        "    tokenizer_name=\"microsoft/Phi-3-small-8k-instruct\",\n",
        "    model_name=\"microsoft/Phi-3-small-8k-instruct\",\n",
        "    device_map=\"auto\",\n",
        "    # stopping_ids=[50278, 50279, 50277, 1, 0],\n",
        "    tokenizer_kwargs={\"max_length\": 8192},\n",
        "    # uncomment this if using CUDA to reduce memory usage\n",
        "    model_kwargs={\"torch_dtype\": torch.float16})\n"
      ],
      "metadata": {
        "colab": {
          "base_uri": "https://localhost:8080/",
          "height": 1000
        },
        "id": "gRc44fI1mxDm",
        "outputId": "7814b3ac-23fd-4237-9e30-49aa758484eb"
      },
      "id": "gRc44fI1mxDm",
      "execution_count": null,
      "outputs": [
        {
          "output_type": "stream",
          "name": "stderr",
          "text": [
            "/usr/local/lib/python3.10/dist-packages/huggingface_hub/utils/_token.py:89: UserWarning: \n",
            "The secret `HF_TOKEN` does not exist in your Colab secrets.\n",
            "To authenticate with the Hugging Face Hub, create a token in your settings tab (https://huggingface.co/settings/tokens), set it as secret in your Google Colab and restart your session.\n",
            "You will be able to reuse this secret in all of your notebooks.\n",
            "Please note that authentication is recommended but still optional to access public models or datasets.\n",
            "  warnings.warn(\n"
          ]
        },
        {
          "name": "stdout",
          "output_type": "stream",
          "text": [
            "The repository for microsoft/Phi-3-small-8k-instruct contains custom code which must be executed to correctly load the model. You can inspect the repository content at https://hf.co/microsoft/Phi-3-small-8k-instruct.\n",
            "You can avoid this prompt in future by passing the argument `trust_remote_code=True`.\n",
            "\n",
            "Do you wish to run the custom code? [y/N] y\n",
            "The repository for microsoft/Phi-3-small-8k-instruct contains custom code which must be executed to correctly load the model. You can inspect the repository content at https://hf.co/microsoft/Phi-3-small-8k-instruct.\n",
            "You can avoid this prompt in future by passing the argument `trust_remote_code=True`.\n",
            "\n",
            "Do you wish to run the custom code? [y/N] y\n"
          ]
        },
        {
          "output_type": "error",
          "ename": "ConnectTimeout",
          "evalue": "HTTPSConnectionPool(host='openaipublic.blob.core.windows.net', port=443): Max retries exceeded with url: /encodings/cl100k_base.tiktoken (Caused by ConnectTimeoutError(<urllib3.connection.HTTPSConnection object at 0x7d4dc9203a60>, 'Connection to openaipublic.blob.core.windows.net timed out. (connect timeout=None)'))",
          "traceback": [
            "\u001b[0;31m---------------------------------------------------------------------------\u001b[0m",
            "\u001b[0;31mTimeoutError\u001b[0m                              Traceback (most recent call last)",
            "\u001b[0;32m/usr/local/lib/python3.10/dist-packages/urllib3/connection.py\u001b[0m in \u001b[0;36m_new_conn\u001b[0;34m(self)\u001b[0m\n\u001b[1;32m    173\u001b[0m         \u001b[0;32mtry\u001b[0m\u001b[0;34m:\u001b[0m\u001b[0;34m\u001b[0m\u001b[0;34m\u001b[0m\u001b[0m\n\u001b[0;32m--> 174\u001b[0;31m             conn = connection.create_connection(\n\u001b[0m\u001b[1;32m    175\u001b[0m                 \u001b[0;34m(\u001b[0m\u001b[0mself\u001b[0m\u001b[0;34m.\u001b[0m\u001b[0m_dns_host\u001b[0m\u001b[0;34m,\u001b[0m \u001b[0mself\u001b[0m\u001b[0;34m.\u001b[0m\u001b[0mport\u001b[0m\u001b[0;34m)\u001b[0m\u001b[0;34m,\u001b[0m \u001b[0mself\u001b[0m\u001b[0;34m.\u001b[0m\u001b[0mtimeout\u001b[0m\u001b[0;34m,\u001b[0m \u001b[0;34m**\u001b[0m\u001b[0mextra_kw\u001b[0m\u001b[0;34m\u001b[0m\u001b[0;34m\u001b[0m\u001b[0m\n",
            "\u001b[0;32m/usr/local/lib/python3.10/dist-packages/urllib3/util/connection.py\u001b[0m in \u001b[0;36mcreate_connection\u001b[0;34m(address, timeout, source_address, socket_options)\u001b[0m\n\u001b[1;32m     94\u001b[0m     \u001b[0;32mif\u001b[0m \u001b[0merr\u001b[0m \u001b[0;32mis\u001b[0m \u001b[0;32mnot\u001b[0m \u001b[0;32mNone\u001b[0m\u001b[0;34m:\u001b[0m\u001b[0;34m\u001b[0m\u001b[0;34m\u001b[0m\u001b[0m\n\u001b[0;32m---> 95\u001b[0;31m         \u001b[0;32mraise\u001b[0m \u001b[0merr\u001b[0m\u001b[0;34m\u001b[0m\u001b[0;34m\u001b[0m\u001b[0m\n\u001b[0m\u001b[1;32m     96\u001b[0m \u001b[0;34m\u001b[0m\u001b[0m\n",
            "\u001b[0;32m/usr/local/lib/python3.10/dist-packages/urllib3/util/connection.py\u001b[0m in \u001b[0;36mcreate_connection\u001b[0;34m(address, timeout, source_address, socket_options)\u001b[0m\n\u001b[1;32m     84\u001b[0m                 \u001b[0msock\u001b[0m\u001b[0;34m.\u001b[0m\u001b[0mbind\u001b[0m\u001b[0;34m(\u001b[0m\u001b[0msource_address\u001b[0m\u001b[0;34m)\u001b[0m\u001b[0;34m\u001b[0m\u001b[0;34m\u001b[0m\u001b[0m\n\u001b[0;32m---> 85\u001b[0;31m             \u001b[0msock\u001b[0m\u001b[0;34m.\u001b[0m\u001b[0mconnect\u001b[0m\u001b[0;34m(\u001b[0m\u001b[0msa\u001b[0m\u001b[0;34m)\u001b[0m\u001b[0;34m\u001b[0m\u001b[0;34m\u001b[0m\u001b[0m\n\u001b[0m\u001b[1;32m     86\u001b[0m             \u001b[0;32mreturn\u001b[0m \u001b[0msock\u001b[0m\u001b[0;34m\u001b[0m\u001b[0;34m\u001b[0m\u001b[0m\n",
            "\u001b[0;31mTimeoutError\u001b[0m: [Errno 110] Connection timed out",
            "\nDuring handling of the above exception, another exception occurred:\n",
            "\u001b[0;31mConnectTimeoutError\u001b[0m                       Traceback (most recent call last)",
            "\u001b[0;32m/usr/local/lib/python3.10/dist-packages/urllib3/connectionpool.py\u001b[0m in \u001b[0;36murlopen\u001b[0;34m(self, method, url, body, headers, retries, redirect, assert_same_host, timeout, pool_timeout, release_conn, chunked, body_pos, **response_kw)\u001b[0m\n\u001b[1;32m    702\u001b[0m             \u001b[0;31m# Make the request on the httplib connection object.\u001b[0m\u001b[0;34m\u001b[0m\u001b[0;34m\u001b[0m\u001b[0m\n\u001b[0;32m--> 703\u001b[0;31m             httplib_response = self._make_request(\n\u001b[0m\u001b[1;32m    704\u001b[0m                 \u001b[0mconn\u001b[0m\u001b[0;34m,\u001b[0m\u001b[0;34m\u001b[0m\u001b[0;34m\u001b[0m\u001b[0m\n",
            "\u001b[0;32m/usr/local/lib/python3.10/dist-packages/urllib3/connectionpool.py\u001b[0m in \u001b[0;36m_make_request\u001b[0;34m(self, conn, method, url, timeout, chunked, **httplib_request_kw)\u001b[0m\n\u001b[1;32m    385\u001b[0m         \u001b[0;32mtry\u001b[0m\u001b[0;34m:\u001b[0m\u001b[0;34m\u001b[0m\u001b[0;34m\u001b[0m\u001b[0m\n\u001b[0;32m--> 386\u001b[0;31m             \u001b[0mself\u001b[0m\u001b[0;34m.\u001b[0m\u001b[0m_validate_conn\u001b[0m\u001b[0;34m(\u001b[0m\u001b[0mconn\u001b[0m\u001b[0;34m)\u001b[0m\u001b[0;34m\u001b[0m\u001b[0;34m\u001b[0m\u001b[0m\n\u001b[0m\u001b[1;32m    387\u001b[0m         \u001b[0;32mexcept\u001b[0m \u001b[0;34m(\u001b[0m\u001b[0mSocketTimeout\u001b[0m\u001b[0;34m,\u001b[0m \u001b[0mBaseSSLError\u001b[0m\u001b[0;34m)\u001b[0m \u001b[0;32mas\u001b[0m \u001b[0me\u001b[0m\u001b[0;34m:\u001b[0m\u001b[0;34m\u001b[0m\u001b[0;34m\u001b[0m\u001b[0m\n",
            "\u001b[0;32m/usr/local/lib/python3.10/dist-packages/urllib3/connectionpool.py\u001b[0m in \u001b[0;36m_validate_conn\u001b[0;34m(self, conn)\u001b[0m\n\u001b[1;32m   1041\u001b[0m         \u001b[0;32mif\u001b[0m \u001b[0;32mnot\u001b[0m \u001b[0mgetattr\u001b[0m\u001b[0;34m(\u001b[0m\u001b[0mconn\u001b[0m\u001b[0;34m,\u001b[0m \u001b[0;34m\"sock\"\u001b[0m\u001b[0;34m,\u001b[0m \u001b[0;32mNone\u001b[0m\u001b[0;34m)\u001b[0m\u001b[0;34m:\u001b[0m  \u001b[0;31m# AppEngine might not have  `.sock`\u001b[0m\u001b[0;34m\u001b[0m\u001b[0;34m\u001b[0m\u001b[0m\n\u001b[0;32m-> 1042\u001b[0;31m             \u001b[0mconn\u001b[0m\u001b[0;34m.\u001b[0m\u001b[0mconnect\u001b[0m\u001b[0;34m(\u001b[0m\u001b[0;34m)\u001b[0m\u001b[0;34m\u001b[0m\u001b[0;34m\u001b[0m\u001b[0m\n\u001b[0m\u001b[1;32m   1043\u001b[0m \u001b[0;34m\u001b[0m\u001b[0m\n",
            "\u001b[0;32m/usr/local/lib/python3.10/dist-packages/urllib3/connection.py\u001b[0m in \u001b[0;36mconnect\u001b[0;34m(self)\u001b[0m\n\u001b[1;32m    362\u001b[0m         \u001b[0;31m# Add certificate verification\u001b[0m\u001b[0;34m\u001b[0m\u001b[0;34m\u001b[0m\u001b[0m\n\u001b[0;32m--> 363\u001b[0;31m         \u001b[0mself\u001b[0m\u001b[0;34m.\u001b[0m\u001b[0msock\u001b[0m \u001b[0;34m=\u001b[0m \u001b[0mconn\u001b[0m \u001b[0;34m=\u001b[0m \u001b[0mself\u001b[0m\u001b[0;34m.\u001b[0m\u001b[0m_new_conn\u001b[0m\u001b[0;34m(\u001b[0m\u001b[0;34m)\u001b[0m\u001b[0;34m\u001b[0m\u001b[0;34m\u001b[0m\u001b[0m\n\u001b[0m\u001b[1;32m    364\u001b[0m         \u001b[0mhostname\u001b[0m \u001b[0;34m=\u001b[0m \u001b[0mself\u001b[0m\u001b[0;34m.\u001b[0m\u001b[0mhost\u001b[0m\u001b[0;34m\u001b[0m\u001b[0;34m\u001b[0m\u001b[0m\n",
            "\u001b[0;32m/usr/local/lib/python3.10/dist-packages/urllib3/connection.py\u001b[0m in \u001b[0;36m_new_conn\u001b[0;34m(self)\u001b[0m\n\u001b[1;32m    178\u001b[0m         \u001b[0;32mexcept\u001b[0m \u001b[0mSocketTimeout\u001b[0m\u001b[0;34m:\u001b[0m\u001b[0;34m\u001b[0m\u001b[0;34m\u001b[0m\u001b[0m\n\u001b[0;32m--> 179\u001b[0;31m             raise ConnectTimeoutError(\n\u001b[0m\u001b[1;32m    180\u001b[0m                 \u001b[0mself\u001b[0m\u001b[0;34m,\u001b[0m\u001b[0;34m\u001b[0m\u001b[0;34m\u001b[0m\u001b[0m\n",
            "\u001b[0;31mConnectTimeoutError\u001b[0m: (<urllib3.connection.HTTPSConnection object at 0x7d4dc9203a60>, 'Connection to openaipublic.blob.core.windows.net timed out. (connect timeout=None)')",
            "\nDuring handling of the above exception, another exception occurred:\n",
            "\u001b[0;31mMaxRetryError\u001b[0m                             Traceback (most recent call last)",
            "\u001b[0;32m/usr/local/lib/python3.10/dist-packages/requests/adapters.py\u001b[0m in \u001b[0;36msend\u001b[0;34m(self, request, stream, timeout, verify, cert, proxies)\u001b[0m\n\u001b[1;32m    485\u001b[0m         \u001b[0;32mtry\u001b[0m\u001b[0;34m:\u001b[0m\u001b[0;34m\u001b[0m\u001b[0;34m\u001b[0m\u001b[0m\n\u001b[0;32m--> 486\u001b[0;31m             resp = conn.urlopen(\n\u001b[0m\u001b[1;32m    487\u001b[0m                 \u001b[0mmethod\u001b[0m\u001b[0;34m=\u001b[0m\u001b[0mrequest\u001b[0m\u001b[0;34m.\u001b[0m\u001b[0mmethod\u001b[0m\u001b[0;34m,\u001b[0m\u001b[0;34m\u001b[0m\u001b[0;34m\u001b[0m\u001b[0m\n",
            "\u001b[0;32m/usr/local/lib/python3.10/dist-packages/urllib3/connectionpool.py\u001b[0m in \u001b[0;36murlopen\u001b[0;34m(self, method, url, body, headers, retries, redirect, assert_same_host, timeout, pool_timeout, release_conn, chunked, body_pos, **response_kw)\u001b[0m\n\u001b[1;32m    786\u001b[0m \u001b[0;34m\u001b[0m\u001b[0m\n\u001b[0;32m--> 787\u001b[0;31m             retries = retries.increment(\n\u001b[0m\u001b[1;32m    788\u001b[0m                 \u001b[0mmethod\u001b[0m\u001b[0;34m,\u001b[0m \u001b[0murl\u001b[0m\u001b[0;34m,\u001b[0m \u001b[0merror\u001b[0m\u001b[0;34m=\u001b[0m\u001b[0me\u001b[0m\u001b[0;34m,\u001b[0m \u001b[0m_pool\u001b[0m\u001b[0;34m=\u001b[0m\u001b[0mself\u001b[0m\u001b[0;34m,\u001b[0m \u001b[0m_stacktrace\u001b[0m\u001b[0;34m=\u001b[0m\u001b[0msys\u001b[0m\u001b[0;34m.\u001b[0m\u001b[0mexc_info\u001b[0m\u001b[0;34m(\u001b[0m\u001b[0;34m)\u001b[0m\u001b[0;34m[\u001b[0m\u001b[0;36m2\u001b[0m\u001b[0;34m]\u001b[0m\u001b[0;34m\u001b[0m\u001b[0;34m\u001b[0m\u001b[0m\n",
            "\u001b[0;32m/usr/local/lib/python3.10/dist-packages/urllib3/util/retry.py\u001b[0m in \u001b[0;36mincrement\u001b[0;34m(self, method, url, response, error, _pool, _stacktrace)\u001b[0m\n\u001b[1;32m    591\u001b[0m         \u001b[0;32mif\u001b[0m \u001b[0mnew_retry\u001b[0m\u001b[0;34m.\u001b[0m\u001b[0mis_exhausted\u001b[0m\u001b[0;34m(\u001b[0m\u001b[0;34m)\u001b[0m\u001b[0;34m:\u001b[0m\u001b[0;34m\u001b[0m\u001b[0;34m\u001b[0m\u001b[0m\n\u001b[0;32m--> 592\u001b[0;31m             \u001b[0;32mraise\u001b[0m \u001b[0mMaxRetryError\u001b[0m\u001b[0;34m(\u001b[0m\u001b[0m_pool\u001b[0m\u001b[0;34m,\u001b[0m \u001b[0murl\u001b[0m\u001b[0;34m,\u001b[0m \u001b[0merror\u001b[0m \u001b[0;32mor\u001b[0m \u001b[0mResponseError\u001b[0m\u001b[0;34m(\u001b[0m\u001b[0mcause\u001b[0m\u001b[0;34m)\u001b[0m\u001b[0;34m)\u001b[0m\u001b[0;34m\u001b[0m\u001b[0;34m\u001b[0m\u001b[0m\n\u001b[0m\u001b[1;32m    593\u001b[0m \u001b[0;34m\u001b[0m\u001b[0m\n",
            "\u001b[0;31mMaxRetryError\u001b[0m: HTTPSConnectionPool(host='openaipublic.blob.core.windows.net', port=443): Max retries exceeded with url: /encodings/cl100k_base.tiktoken (Caused by ConnectTimeoutError(<urllib3.connection.HTTPSConnection object at 0x7d4dc9203a60>, 'Connection to openaipublic.blob.core.windows.net timed out. (connect timeout=None)'))",
            "\nDuring handling of the above exception, another exception occurred:\n",
            "\u001b[0;31mConnectTimeout\u001b[0m                            Traceback (most recent call last)",
            "\u001b[0;32m<ipython-input-3-b7b99d4999f2>\u001b[0m in \u001b[0;36m<cell line: 10>\u001b[0;34m()\u001b[0m\n\u001b[1;32m      8\u001b[0m \u001b[0;34m\"{query_str}<|end|>\\n\"\u001b[0m\u001b[0;34m\u001b[0m\u001b[0;34m\u001b[0m\u001b[0m\n\u001b[1;32m      9\u001b[0m \"<|assistant|>\\n\")\n\u001b[0;32m---> 10\u001b[0;31m llm = HuggingFaceLLM(\n\u001b[0m\u001b[1;32m     11\u001b[0m     \u001b[0mcontext_window\u001b[0m\u001b[0;34m=\u001b[0m\u001b[0;36m8192\u001b[0m\u001b[0;34m,\u001b[0m\u001b[0;34m\u001b[0m\u001b[0;34m\u001b[0m\u001b[0m\n\u001b[1;32m     12\u001b[0m     \u001b[0mmax_new_tokens\u001b[0m\u001b[0;34m=\u001b[0m\u001b[0;36m512\u001b[0m\u001b[0;34m,\u001b[0m\u001b[0;31m# Increase this to 4096\u001b[0m\u001b[0;34m\u001b[0m\u001b[0;34m\u001b[0m\u001b[0m\n",
            "\u001b[0;32m/usr/local/lib/python3.10/dist-packages/llama_index/llms/huggingface/base.py\u001b[0m in \u001b[0;36m__init__\u001b[0;34m(self, context_window, max_new_tokens, query_wrapper_prompt, tokenizer_name, model_name, model, tokenizer, device_map, stopping_ids, tokenizer_kwargs, tokenizer_outputs_to_remove, model_kwargs, generate_kwargs, is_chat_model, callback_manager, system_prompt, messages_to_prompt, completion_to_prompt, pydantic_program_mode, output_parser)\u001b[0m\n\u001b[1;32m    236\u001b[0m         \u001b[0;34m\"\"\"Initialize params.\"\"\"\u001b[0m\u001b[0;34m\u001b[0m\u001b[0;34m\u001b[0m\u001b[0m\n\u001b[1;32m    237\u001b[0m         \u001b[0mmodel_kwargs\u001b[0m \u001b[0;34m=\u001b[0m \u001b[0mmodel_kwargs\u001b[0m \u001b[0;32mor\u001b[0m \u001b[0;34m{\u001b[0m\u001b[0;34m}\u001b[0m\u001b[0;34m\u001b[0m\u001b[0;34m\u001b[0m\u001b[0m\n\u001b[0;32m--> 238\u001b[0;31m         self._model = model or AutoModelForCausalLM.from_pretrained(\n\u001b[0m\u001b[1;32m    239\u001b[0m             \u001b[0mmodel_name\u001b[0m\u001b[0;34m,\u001b[0m \u001b[0mdevice_map\u001b[0m\u001b[0;34m=\u001b[0m\u001b[0mdevice_map\u001b[0m\u001b[0;34m,\u001b[0m \u001b[0;34m**\u001b[0m\u001b[0mmodel_kwargs\u001b[0m\u001b[0;34m\u001b[0m\u001b[0;34m\u001b[0m\u001b[0m\n\u001b[1;32m    240\u001b[0m         )\n",
            "\u001b[0;32m/usr/local/lib/python3.10/dist-packages/transformers/models/auto/auto_factory.py\u001b[0m in \u001b[0;36mfrom_pretrained\u001b[0;34m(cls, pretrained_model_name_or_path, *model_args, **kwargs)\u001b[0m\n\u001b[1;32m    556\u001b[0m             \u001b[0;32melse\u001b[0m\u001b[0;34m:\u001b[0m\u001b[0;34m\u001b[0m\u001b[0;34m\u001b[0m\u001b[0m\n\u001b[1;32m    557\u001b[0m                 \u001b[0mcls\u001b[0m\u001b[0;34m.\u001b[0m\u001b[0mregister\u001b[0m\u001b[0;34m(\u001b[0m\u001b[0mconfig\u001b[0m\u001b[0;34m.\u001b[0m\u001b[0m__class__\u001b[0m\u001b[0;34m,\u001b[0m \u001b[0mmodel_class\u001b[0m\u001b[0;34m,\u001b[0m \u001b[0mexist_ok\u001b[0m\u001b[0;34m=\u001b[0m\u001b[0;32mTrue\u001b[0m\u001b[0;34m)\u001b[0m\u001b[0;34m\u001b[0m\u001b[0;34m\u001b[0m\u001b[0m\n\u001b[0;32m--> 558\u001b[0;31m             return model_class.from_pretrained(\n\u001b[0m\u001b[1;32m    559\u001b[0m                 \u001b[0mpretrained_model_name_or_path\u001b[0m\u001b[0;34m,\u001b[0m \u001b[0;34m*\u001b[0m\u001b[0mmodel_args\u001b[0m\u001b[0;34m,\u001b[0m \u001b[0mconfig\u001b[0m\u001b[0;34m=\u001b[0m\u001b[0mconfig\u001b[0m\u001b[0;34m,\u001b[0m \u001b[0;34m**\u001b[0m\u001b[0mhub_kwargs\u001b[0m\u001b[0;34m,\u001b[0m \u001b[0;34m**\u001b[0m\u001b[0mkwargs\u001b[0m\u001b[0;34m\u001b[0m\u001b[0;34m\u001b[0m\u001b[0m\n\u001b[1;32m    560\u001b[0m             )\n",
            "\u001b[0;32m/usr/local/lib/python3.10/dist-packages/transformers/modeling_utils.py\u001b[0m in \u001b[0;36mfrom_pretrained\u001b[0;34m(cls, pretrained_model_name_or_path, config, cache_dir, ignore_mismatched_sizes, force_download, local_files_only, token, revision, use_safetensors, *model_args, **kwargs)\u001b[0m\n\u001b[1;32m   3624\u001b[0m         \u001b[0;32mwith\u001b[0m \u001b[0mContextManagers\u001b[0m\u001b[0;34m(\u001b[0m\u001b[0minit_contexts\u001b[0m\u001b[0;34m)\u001b[0m\u001b[0;34m:\u001b[0m\u001b[0;34m\u001b[0m\u001b[0;34m\u001b[0m\u001b[0m\n\u001b[1;32m   3625\u001b[0m             \u001b[0;31m# Let's make sure we don't run the init function of buffer modules\u001b[0m\u001b[0;34m\u001b[0m\u001b[0;34m\u001b[0m\u001b[0m\n\u001b[0;32m-> 3626\u001b[0;31m             \u001b[0mmodel\u001b[0m \u001b[0;34m=\u001b[0m \u001b[0mcls\u001b[0m\u001b[0;34m(\u001b[0m\u001b[0mconfig\u001b[0m\u001b[0;34m,\u001b[0m \u001b[0;34m*\u001b[0m\u001b[0mmodel_args\u001b[0m\u001b[0;34m,\u001b[0m \u001b[0;34m**\u001b[0m\u001b[0mmodel_kwargs\u001b[0m\u001b[0;34m)\u001b[0m\u001b[0;34m\u001b[0m\u001b[0;34m\u001b[0m\u001b[0m\n\u001b[0m\u001b[1;32m   3627\u001b[0m \u001b[0;34m\u001b[0m\u001b[0m\n\u001b[1;32m   3628\u001b[0m         \u001b[0;31m# make sure we use the model's config since the __init__ call might have copied it\u001b[0m\u001b[0;34m\u001b[0m\u001b[0;34m\u001b[0m\u001b[0m\n",
            "\u001b[0;32m~/.cache/huggingface/modules/transformers_modules/microsoft/Phi-3-small-8k-instruct/e6adf2a152c4cede5e9b88ede22ce5c0af2861fc/modeling_phi3_small.py\u001b[0m in \u001b[0;36m__init__\u001b[0;34m(self, config)\u001b[0m\n\u001b[1;32m    907\u001b[0m \u001b[0;34m\u001b[0m\u001b[0m\n\u001b[1;32m    908\u001b[0m         \u001b[0;31m# Create the mask for the dummy tokens in the vocabulary\u001b[0m\u001b[0;34m\u001b[0m\u001b[0;34m\u001b[0m\u001b[0m\n\u001b[0;32m--> 909\u001b[0;31m         \u001b[0mdummy_token_indices\u001b[0m \u001b[0;34m=\u001b[0m \u001b[0mconfig\u001b[0m\u001b[0;34m.\u001b[0m\u001b[0mdummy_token_indices\u001b[0m\u001b[0;34m\u001b[0m\u001b[0;34m\u001b[0m\u001b[0m\n\u001b[0m\u001b[1;32m    910\u001b[0m         \u001b[0mdummy_tokens_mask\u001b[0m \u001b[0;34m=\u001b[0m \u001b[0mtorch\u001b[0m\u001b[0;34m.\u001b[0m\u001b[0mzeros\u001b[0m\u001b[0;34m(\u001b[0m\u001b[0mself\u001b[0m\u001b[0;34m.\u001b[0m\u001b[0mvocab_size\u001b[0m\u001b[0;34m)\u001b[0m\u001b[0;34m.\u001b[0m\u001b[0mbool\u001b[0m\u001b[0;34m(\u001b[0m\u001b[0;34m)\u001b[0m\u001b[0;34m\u001b[0m\u001b[0;34m\u001b[0m\u001b[0m\n\u001b[1;32m    911\u001b[0m         \u001b[0mdummy_tokens_mask\u001b[0m\u001b[0;34m[\u001b[0m\u001b[0mdummy_token_indices\u001b[0m\u001b[0;34m]\u001b[0m \u001b[0;34m=\u001b[0m \u001b[0;32mTrue\u001b[0m\u001b[0;34m\u001b[0m\u001b[0;34m\u001b[0m\u001b[0m\n",
            "\u001b[0;32m/usr/local/lib/python3.10/dist-packages/transformers/configuration_utils.py\u001b[0m in \u001b[0;36m__getattribute__\u001b[0;34m(self, key)\u001b[0m\n\u001b[1;32m    262\u001b[0m         \u001b[0;32mif\u001b[0m \u001b[0mkey\u001b[0m \u001b[0;34m!=\u001b[0m \u001b[0;34m\"attribute_map\"\u001b[0m \u001b[0;32mand\u001b[0m \u001b[0mkey\u001b[0m \u001b[0;32min\u001b[0m \u001b[0msuper\u001b[0m\u001b[0;34m(\u001b[0m\u001b[0;34m)\u001b[0m\u001b[0;34m.\u001b[0m\u001b[0m__getattribute__\u001b[0m\u001b[0;34m(\u001b[0m\u001b[0;34m\"attribute_map\"\u001b[0m\u001b[0;34m)\u001b[0m\u001b[0;34m:\u001b[0m\u001b[0;34m\u001b[0m\u001b[0;34m\u001b[0m\u001b[0m\n\u001b[1;32m    263\u001b[0m             \u001b[0mkey\u001b[0m \u001b[0;34m=\u001b[0m \u001b[0msuper\u001b[0m\u001b[0;34m(\u001b[0m\u001b[0;34m)\u001b[0m\u001b[0;34m.\u001b[0m\u001b[0m__getattribute__\u001b[0m\u001b[0;34m(\u001b[0m\u001b[0;34m\"attribute_map\"\u001b[0m\u001b[0;34m)\u001b[0m\u001b[0;34m[\u001b[0m\u001b[0mkey\u001b[0m\u001b[0;34m]\u001b[0m\u001b[0;34m\u001b[0m\u001b[0;34m\u001b[0m\u001b[0m\n\u001b[0;32m--> 264\u001b[0;31m         \u001b[0;32mreturn\u001b[0m \u001b[0msuper\u001b[0m\u001b[0;34m(\u001b[0m\u001b[0;34m)\u001b[0m\u001b[0;34m.\u001b[0m\u001b[0m__getattribute__\u001b[0m\u001b[0;34m(\u001b[0m\u001b[0mkey\u001b[0m\u001b[0;34m)\u001b[0m\u001b[0;34m\u001b[0m\u001b[0;34m\u001b[0m\u001b[0m\n\u001b[0m\u001b[1;32m    265\u001b[0m \u001b[0;34m\u001b[0m\u001b[0m\n\u001b[1;32m    266\u001b[0m     \u001b[0;32mdef\u001b[0m \u001b[0m__init__\u001b[0m\u001b[0;34m(\u001b[0m\u001b[0mself\u001b[0m\u001b[0;34m,\u001b[0m \u001b[0;34m**\u001b[0m\u001b[0mkwargs\u001b[0m\u001b[0;34m)\u001b[0m\u001b[0;34m:\u001b[0m\u001b[0;34m\u001b[0m\u001b[0;34m\u001b[0m\u001b[0m\n",
            "\u001b[0;32m/usr/lib/python3.10/functools.py\u001b[0m in \u001b[0;36m__get__\u001b[0;34m(self, instance, owner)\u001b[0m\n\u001b[1;32m    979\u001b[0m                 \u001b[0mval\u001b[0m \u001b[0;34m=\u001b[0m \u001b[0mcache\u001b[0m\u001b[0;34m.\u001b[0m\u001b[0mget\u001b[0m\u001b[0;34m(\u001b[0m\u001b[0mself\u001b[0m\u001b[0;34m.\u001b[0m\u001b[0mattrname\u001b[0m\u001b[0;34m,\u001b[0m \u001b[0m_NOT_FOUND\u001b[0m\u001b[0;34m)\u001b[0m\u001b[0;34m\u001b[0m\u001b[0;34m\u001b[0m\u001b[0m\n\u001b[1;32m    980\u001b[0m                 \u001b[0;32mif\u001b[0m \u001b[0mval\u001b[0m \u001b[0;32mis\u001b[0m \u001b[0m_NOT_FOUND\u001b[0m\u001b[0;34m:\u001b[0m\u001b[0;34m\u001b[0m\u001b[0;34m\u001b[0m\u001b[0m\n\u001b[0;32m--> 981\u001b[0;31m                     \u001b[0mval\u001b[0m \u001b[0;34m=\u001b[0m \u001b[0mself\u001b[0m\u001b[0;34m.\u001b[0m\u001b[0mfunc\u001b[0m\u001b[0;34m(\u001b[0m\u001b[0minstance\u001b[0m\u001b[0;34m)\u001b[0m\u001b[0;34m\u001b[0m\u001b[0;34m\u001b[0m\u001b[0m\n\u001b[0m\u001b[1;32m    982\u001b[0m                     \u001b[0;32mtry\u001b[0m\u001b[0;34m:\u001b[0m\u001b[0;34m\u001b[0m\u001b[0;34m\u001b[0m\u001b[0m\n\u001b[1;32m    983\u001b[0m                         \u001b[0mcache\u001b[0m\u001b[0;34m[\u001b[0m\u001b[0mself\u001b[0m\u001b[0;34m.\u001b[0m\u001b[0mattrname\u001b[0m\u001b[0;34m]\u001b[0m \u001b[0;34m=\u001b[0m \u001b[0mval\u001b[0m\u001b[0;34m\u001b[0m\u001b[0;34m\u001b[0m\u001b[0m\n",
            "\u001b[0;32m~/.cache/huggingface/modules/transformers_modules/microsoft/Phi-3-small-8k-instruct/e6adf2a152c4cede5e9b88ede22ce5c0af2861fc/configuration_phi3_small.py\u001b[0m in \u001b[0;36mdummy_token_indices\u001b[0;34m(self)\u001b[0m\n\u001b[1;32m    238\u001b[0m         \u001b[0;31m# Importing here to avoid circular imports\u001b[0m\u001b[0;34m\u001b[0m\u001b[0;34m\u001b[0m\u001b[0m\n\u001b[1;32m    239\u001b[0m         \u001b[0;32mfrom\u001b[0m \u001b[0;34m.\u001b[0m\u001b[0mtokenization_phi3_small\u001b[0m \u001b[0;32mimport\u001b[0m \u001b[0mPhi3SmallTokenizer\u001b[0m\u001b[0;34m\u001b[0m\u001b[0;34m\u001b[0m\u001b[0m\n\u001b[0;32m--> 240\u001b[0;31m         \u001b[0mtokenizer\u001b[0m \u001b[0;34m=\u001b[0m \u001b[0mPhi3SmallTokenizer\u001b[0m\u001b[0;34m(\u001b[0m\u001b[0;34m)\u001b[0m\u001b[0;34m\u001b[0m\u001b[0;34m\u001b[0m\u001b[0m\n\u001b[0m\u001b[1;32m    241\u001b[0m         \u001b[0;32mreturn\u001b[0m \u001b[0mtokenizer\u001b[0m\u001b[0;34m.\u001b[0m\u001b[0mdummy_token_indices\u001b[0m\u001b[0;34m\u001b[0m\u001b[0;34m\u001b[0m\u001b[0m\n\u001b[1;32m    242\u001b[0m \u001b[0;34m\u001b[0m\u001b[0m\n",
            "\u001b[0;32m~/.cache/huggingface/modules/transformers_modules/microsoft/Phi-3-small-8k-instruct/e6adf2a152c4cede5e9b88ede22ce5c0af2861fc/tokenization_phi3_small.py\u001b[0m in \u001b[0;36m__init__\u001b[0;34m(self, vocab_file, errors, **kwargs)\u001b[0m\n\u001b[1;32m    103\u001b[0m         \u001b[0mself\u001b[0m\u001b[0;34m.\u001b[0m\u001b[0merrors\u001b[0m \u001b[0;34m=\u001b[0m \u001b[0merrors\u001b[0m\u001b[0;34m\u001b[0m\u001b[0;34m\u001b[0m\u001b[0m\n\u001b[1;32m    104\u001b[0m \u001b[0;34m\u001b[0m\u001b[0m\n\u001b[0;32m--> 105\u001b[0;31m         \u001b[0mbase\u001b[0m \u001b[0;34m=\u001b[0m \u001b[0mtiktoken\u001b[0m\u001b[0;34m.\u001b[0m\u001b[0mget_encoding\u001b[0m\u001b[0;34m(\u001b[0m\u001b[0;34m\"cl100k_base\"\u001b[0m\u001b[0;34m)\u001b[0m\u001b[0;34m\u001b[0m\u001b[0;34m\u001b[0m\u001b[0m\n\u001b[0m\u001b[1;32m    106\u001b[0m         \u001b[0;32mif\u001b[0m \u001b[0mvocab_file\u001b[0m \u001b[0;32mis\u001b[0m \u001b[0;32mNone\u001b[0m\u001b[0;34m:\u001b[0m\u001b[0;34m\u001b[0m\u001b[0;34m\u001b[0m\u001b[0m\n\u001b[1;32m    107\u001b[0m             \u001b[0mself\u001b[0m\u001b[0;34m.\u001b[0m\u001b[0mmergeable_ranks\u001b[0m\u001b[0;34m:\u001b[0m \u001b[0mDict\u001b[0m\u001b[0;34m[\u001b[0m\u001b[0mbytes\u001b[0m\u001b[0;34m,\u001b[0m \u001b[0mint\u001b[0m\u001b[0;34m]\u001b[0m \u001b[0;34m=\u001b[0m \u001b[0mbase\u001b[0m\u001b[0;34m.\u001b[0m\u001b[0m_mergeable_ranks\u001b[0m\u001b[0;34m\u001b[0m\u001b[0;34m\u001b[0m\u001b[0m\n",
            "\u001b[0;32m/usr/local/lib/python3.10/dist-packages/tiktoken/registry.py\u001b[0m in \u001b[0;36mget_encoding\u001b[0;34m(encoding_name)\u001b[0m\n\u001b[1;32m     61\u001b[0m \u001b[0;34m\u001b[0m\u001b[0m\n\u001b[1;32m     62\u001b[0m         \u001b[0mconstructor\u001b[0m \u001b[0;34m=\u001b[0m \u001b[0mENCODING_CONSTRUCTORS\u001b[0m\u001b[0;34m[\u001b[0m\u001b[0mencoding_name\u001b[0m\u001b[0;34m]\u001b[0m\u001b[0;34m\u001b[0m\u001b[0;34m\u001b[0m\u001b[0m\n\u001b[0;32m---> 63\u001b[0;31m         \u001b[0menc\u001b[0m \u001b[0;34m=\u001b[0m \u001b[0mEncoding\u001b[0m\u001b[0;34m(\u001b[0m\u001b[0;34m**\u001b[0m\u001b[0mconstructor\u001b[0m\u001b[0;34m(\u001b[0m\u001b[0;34m)\u001b[0m\u001b[0;34m)\u001b[0m\u001b[0;34m\u001b[0m\u001b[0;34m\u001b[0m\u001b[0m\n\u001b[0m\u001b[1;32m     64\u001b[0m         \u001b[0mENCODINGS\u001b[0m\u001b[0;34m[\u001b[0m\u001b[0mencoding_name\u001b[0m\u001b[0;34m]\u001b[0m \u001b[0;34m=\u001b[0m \u001b[0menc\u001b[0m\u001b[0;34m\u001b[0m\u001b[0;34m\u001b[0m\u001b[0m\n\u001b[1;32m     65\u001b[0m         \u001b[0;32mreturn\u001b[0m \u001b[0menc\u001b[0m\u001b[0;34m\u001b[0m\u001b[0;34m\u001b[0m\u001b[0m\n",
            "\u001b[0;32m/usr/local/lib/python3.10/dist-packages/tiktoken_ext/openai_public.py\u001b[0m in \u001b[0;36mcl100k_base\u001b[0;34m()\u001b[0m\n\u001b[1;32m     62\u001b[0m \u001b[0;34m\u001b[0m\u001b[0m\n\u001b[1;32m     63\u001b[0m \u001b[0;32mdef\u001b[0m \u001b[0mcl100k_base\u001b[0m\u001b[0;34m(\u001b[0m\u001b[0;34m)\u001b[0m\u001b[0;34m:\u001b[0m\u001b[0;34m\u001b[0m\u001b[0;34m\u001b[0m\u001b[0m\n\u001b[0;32m---> 64\u001b[0;31m     mergeable_ranks = load_tiktoken_bpe(\n\u001b[0m\u001b[1;32m     65\u001b[0m         \u001b[0;34m\"https://openaipublic.blob.core.windows.net/encodings/cl100k_base.tiktoken\"\u001b[0m\u001b[0;34m\u001b[0m\u001b[0;34m\u001b[0m\u001b[0m\n\u001b[1;32m     66\u001b[0m     )\n",
            "\u001b[0;32m/usr/local/lib/python3.10/dist-packages/tiktoken/load.py\u001b[0m in \u001b[0;36mload_tiktoken_bpe\u001b[0;34m(tiktoken_bpe_file)\u001b[0m\n\u001b[1;32m    114\u001b[0m \u001b[0;32mdef\u001b[0m \u001b[0mload_tiktoken_bpe\u001b[0m\u001b[0;34m(\u001b[0m\u001b[0mtiktoken_bpe_file\u001b[0m\u001b[0;34m:\u001b[0m \u001b[0mstr\u001b[0m\u001b[0;34m)\u001b[0m \u001b[0;34m->\u001b[0m \u001b[0mdict\u001b[0m\u001b[0;34m[\u001b[0m\u001b[0mbytes\u001b[0m\u001b[0;34m,\u001b[0m \u001b[0mint\u001b[0m\u001b[0;34m]\u001b[0m\u001b[0;34m:\u001b[0m\u001b[0;34m\u001b[0m\u001b[0;34m\u001b[0m\u001b[0m\n\u001b[1;32m    115\u001b[0m     \u001b[0;31m# NB: do not add caching to this function\u001b[0m\u001b[0;34m\u001b[0m\u001b[0;34m\u001b[0m\u001b[0m\n\u001b[0;32m--> 116\u001b[0;31m     \u001b[0mcontents\u001b[0m \u001b[0;34m=\u001b[0m \u001b[0mread_file_cached\u001b[0m\u001b[0;34m(\u001b[0m\u001b[0mtiktoken_bpe_file\u001b[0m\u001b[0;34m)\u001b[0m\u001b[0;34m\u001b[0m\u001b[0;34m\u001b[0m\u001b[0m\n\u001b[0m\u001b[1;32m    117\u001b[0m     return {\n\u001b[1;32m    118\u001b[0m         \u001b[0mbase64\u001b[0m\u001b[0;34m.\u001b[0m\u001b[0mb64decode\u001b[0m\u001b[0;34m(\u001b[0m\u001b[0mtoken\u001b[0m\u001b[0;34m)\u001b[0m\u001b[0;34m:\u001b[0m \u001b[0mint\u001b[0m\u001b[0;34m(\u001b[0m\u001b[0mrank\u001b[0m\u001b[0;34m)\u001b[0m\u001b[0;34m\u001b[0m\u001b[0;34m\u001b[0m\u001b[0m\n",
            "\u001b[0;32m/usr/local/lib/python3.10/dist-packages/tiktoken/load.py\u001b[0m in \u001b[0;36mread_file_cached\u001b[0;34m(blobpath)\u001b[0m\n\u001b[1;32m     46\u001b[0m             \u001b[0;32mreturn\u001b[0m \u001b[0mf\u001b[0m\u001b[0;34m.\u001b[0m\u001b[0mread\u001b[0m\u001b[0;34m(\u001b[0m\u001b[0;34m)\u001b[0m\u001b[0;34m\u001b[0m\u001b[0;34m\u001b[0m\u001b[0m\n\u001b[1;32m     47\u001b[0m \u001b[0;34m\u001b[0m\u001b[0m\n\u001b[0;32m---> 48\u001b[0;31m     \u001b[0mcontents\u001b[0m \u001b[0;34m=\u001b[0m \u001b[0mread_file\u001b[0m\u001b[0;34m(\u001b[0m\u001b[0mblobpath\u001b[0m\u001b[0;34m)\u001b[0m\u001b[0;34m\u001b[0m\u001b[0;34m\u001b[0m\u001b[0m\n\u001b[0m\u001b[1;32m     49\u001b[0m \u001b[0;34m\u001b[0m\u001b[0m\n\u001b[1;32m     50\u001b[0m     \u001b[0mos\u001b[0m\u001b[0;34m.\u001b[0m\u001b[0mmakedirs\u001b[0m\u001b[0;34m(\u001b[0m\u001b[0mcache_dir\u001b[0m\u001b[0;34m,\u001b[0m \u001b[0mexist_ok\u001b[0m\u001b[0;34m=\u001b[0m\u001b[0;32mTrue\u001b[0m\u001b[0;34m)\u001b[0m\u001b[0;34m\u001b[0m\u001b[0;34m\u001b[0m\u001b[0m\n",
            "\u001b[0;32m/usr/local/lib/python3.10/dist-packages/tiktoken/load.py\u001b[0m in \u001b[0;36mread_file\u001b[0;34m(blobpath)\u001b[0m\n\u001b[1;32m     22\u001b[0m             \u001b[0;32mreturn\u001b[0m \u001b[0mf\u001b[0m\u001b[0;34m.\u001b[0m\u001b[0mread\u001b[0m\u001b[0;34m(\u001b[0m\u001b[0;34m)\u001b[0m\u001b[0;34m\u001b[0m\u001b[0;34m\u001b[0m\u001b[0m\n\u001b[1;32m     23\u001b[0m     \u001b[0;31m# avoiding blobfile for public files helps avoid auth issues, like MFA prompts\u001b[0m\u001b[0;34m\u001b[0m\u001b[0;34m\u001b[0m\u001b[0m\n\u001b[0;32m---> 24\u001b[0;31m     \u001b[0mresp\u001b[0m \u001b[0;34m=\u001b[0m \u001b[0mrequests\u001b[0m\u001b[0;34m.\u001b[0m\u001b[0mget\u001b[0m\u001b[0;34m(\u001b[0m\u001b[0mblobpath\u001b[0m\u001b[0;34m)\u001b[0m\u001b[0;34m\u001b[0m\u001b[0;34m\u001b[0m\u001b[0m\n\u001b[0m\u001b[1;32m     25\u001b[0m     \u001b[0mresp\u001b[0m\u001b[0;34m.\u001b[0m\u001b[0mraise_for_status\u001b[0m\u001b[0;34m(\u001b[0m\u001b[0;34m)\u001b[0m\u001b[0;34m\u001b[0m\u001b[0;34m\u001b[0m\u001b[0m\n\u001b[1;32m     26\u001b[0m     \u001b[0;32mreturn\u001b[0m \u001b[0mresp\u001b[0m\u001b[0;34m.\u001b[0m\u001b[0mcontent\u001b[0m\u001b[0;34m\u001b[0m\u001b[0;34m\u001b[0m\u001b[0m\n",
            "\u001b[0;32m/usr/local/lib/python3.10/dist-packages/requests/api.py\u001b[0m in \u001b[0;36mget\u001b[0;34m(url, params, **kwargs)\u001b[0m\n\u001b[1;32m     71\u001b[0m     \"\"\"\n\u001b[1;32m     72\u001b[0m \u001b[0;34m\u001b[0m\u001b[0m\n\u001b[0;32m---> 73\u001b[0;31m     \u001b[0;32mreturn\u001b[0m \u001b[0mrequest\u001b[0m\u001b[0;34m(\u001b[0m\u001b[0;34m\"get\"\u001b[0m\u001b[0;34m,\u001b[0m \u001b[0murl\u001b[0m\u001b[0;34m,\u001b[0m \u001b[0mparams\u001b[0m\u001b[0;34m=\u001b[0m\u001b[0mparams\u001b[0m\u001b[0;34m,\u001b[0m \u001b[0;34m**\u001b[0m\u001b[0mkwargs\u001b[0m\u001b[0;34m)\u001b[0m\u001b[0;34m\u001b[0m\u001b[0;34m\u001b[0m\u001b[0m\n\u001b[0m\u001b[1;32m     74\u001b[0m \u001b[0;34m\u001b[0m\u001b[0m\n\u001b[1;32m     75\u001b[0m \u001b[0;34m\u001b[0m\u001b[0m\n",
            "\u001b[0;32m/usr/local/lib/python3.10/dist-packages/requests/api.py\u001b[0m in \u001b[0;36mrequest\u001b[0;34m(method, url, **kwargs)\u001b[0m\n\u001b[1;32m     57\u001b[0m     \u001b[0;31m# cases, and look like a memory leak in others.\u001b[0m\u001b[0;34m\u001b[0m\u001b[0;34m\u001b[0m\u001b[0m\n\u001b[1;32m     58\u001b[0m     \u001b[0;32mwith\u001b[0m \u001b[0msessions\u001b[0m\u001b[0;34m.\u001b[0m\u001b[0mSession\u001b[0m\u001b[0;34m(\u001b[0m\u001b[0;34m)\u001b[0m \u001b[0;32mas\u001b[0m \u001b[0msession\u001b[0m\u001b[0;34m:\u001b[0m\u001b[0;34m\u001b[0m\u001b[0;34m\u001b[0m\u001b[0m\n\u001b[0;32m---> 59\u001b[0;31m         \u001b[0;32mreturn\u001b[0m \u001b[0msession\u001b[0m\u001b[0;34m.\u001b[0m\u001b[0mrequest\u001b[0m\u001b[0;34m(\u001b[0m\u001b[0mmethod\u001b[0m\u001b[0;34m=\u001b[0m\u001b[0mmethod\u001b[0m\u001b[0;34m,\u001b[0m \u001b[0murl\u001b[0m\u001b[0;34m=\u001b[0m\u001b[0murl\u001b[0m\u001b[0;34m,\u001b[0m \u001b[0;34m**\u001b[0m\u001b[0mkwargs\u001b[0m\u001b[0;34m)\u001b[0m\u001b[0;34m\u001b[0m\u001b[0;34m\u001b[0m\u001b[0m\n\u001b[0m\u001b[1;32m     60\u001b[0m \u001b[0;34m\u001b[0m\u001b[0m\n\u001b[1;32m     61\u001b[0m \u001b[0;34m\u001b[0m\u001b[0m\n",
            "\u001b[0;32m/usr/local/lib/python3.10/dist-packages/requests/sessions.py\u001b[0m in \u001b[0;36mrequest\u001b[0;34m(self, method, url, params, data, headers, cookies, files, auth, timeout, allow_redirects, proxies, hooks, stream, verify, cert, json)\u001b[0m\n\u001b[1;32m    587\u001b[0m         }\n\u001b[1;32m    588\u001b[0m         \u001b[0msend_kwargs\u001b[0m\u001b[0;34m.\u001b[0m\u001b[0mupdate\u001b[0m\u001b[0;34m(\u001b[0m\u001b[0msettings\u001b[0m\u001b[0;34m)\u001b[0m\u001b[0;34m\u001b[0m\u001b[0;34m\u001b[0m\u001b[0m\n\u001b[0;32m--> 589\u001b[0;31m         \u001b[0mresp\u001b[0m \u001b[0;34m=\u001b[0m \u001b[0mself\u001b[0m\u001b[0;34m.\u001b[0m\u001b[0msend\u001b[0m\u001b[0;34m(\u001b[0m\u001b[0mprep\u001b[0m\u001b[0;34m,\u001b[0m \u001b[0;34m**\u001b[0m\u001b[0msend_kwargs\u001b[0m\u001b[0;34m)\u001b[0m\u001b[0;34m\u001b[0m\u001b[0;34m\u001b[0m\u001b[0m\n\u001b[0m\u001b[1;32m    590\u001b[0m \u001b[0;34m\u001b[0m\u001b[0m\n\u001b[1;32m    591\u001b[0m         \u001b[0;32mreturn\u001b[0m \u001b[0mresp\u001b[0m\u001b[0;34m\u001b[0m\u001b[0;34m\u001b[0m\u001b[0m\n",
            "\u001b[0;32m/usr/local/lib/python3.10/dist-packages/requests/sessions.py\u001b[0m in \u001b[0;36msend\u001b[0;34m(self, request, **kwargs)\u001b[0m\n\u001b[1;32m    701\u001b[0m \u001b[0;34m\u001b[0m\u001b[0m\n\u001b[1;32m    702\u001b[0m         \u001b[0;31m# Send the request\u001b[0m\u001b[0;34m\u001b[0m\u001b[0;34m\u001b[0m\u001b[0m\n\u001b[0;32m--> 703\u001b[0;31m         \u001b[0mr\u001b[0m \u001b[0;34m=\u001b[0m \u001b[0madapter\u001b[0m\u001b[0;34m.\u001b[0m\u001b[0msend\u001b[0m\u001b[0;34m(\u001b[0m\u001b[0mrequest\u001b[0m\u001b[0;34m,\u001b[0m \u001b[0;34m**\u001b[0m\u001b[0mkwargs\u001b[0m\u001b[0;34m)\u001b[0m\u001b[0;34m\u001b[0m\u001b[0;34m\u001b[0m\u001b[0m\n\u001b[0m\u001b[1;32m    704\u001b[0m \u001b[0;34m\u001b[0m\u001b[0m\n\u001b[1;32m    705\u001b[0m         \u001b[0;31m# Total elapsed time of the request (approximately)\u001b[0m\u001b[0;34m\u001b[0m\u001b[0;34m\u001b[0m\u001b[0m\n",
            "\u001b[0;32m/usr/local/lib/python3.10/dist-packages/requests/adapters.py\u001b[0m in \u001b[0;36msend\u001b[0;34m(self, request, stream, timeout, verify, cert, proxies)\u001b[0m\n\u001b[1;32m    505\u001b[0m                 \u001b[0;31m# TODO: Remove this in 3.0.0: see #2811\u001b[0m\u001b[0;34m\u001b[0m\u001b[0;34m\u001b[0m\u001b[0m\n\u001b[1;32m    506\u001b[0m                 \u001b[0;32mif\u001b[0m \u001b[0;32mnot\u001b[0m \u001b[0misinstance\u001b[0m\u001b[0;34m(\u001b[0m\u001b[0me\u001b[0m\u001b[0;34m.\u001b[0m\u001b[0mreason\u001b[0m\u001b[0;34m,\u001b[0m \u001b[0mNewConnectionError\u001b[0m\u001b[0;34m)\u001b[0m\u001b[0;34m:\u001b[0m\u001b[0;34m\u001b[0m\u001b[0;34m\u001b[0m\u001b[0m\n\u001b[0;32m--> 507\u001b[0;31m                     \u001b[0;32mraise\u001b[0m \u001b[0mConnectTimeout\u001b[0m\u001b[0;34m(\u001b[0m\u001b[0me\u001b[0m\u001b[0;34m,\u001b[0m \u001b[0mrequest\u001b[0m\u001b[0;34m=\u001b[0m\u001b[0mrequest\u001b[0m\u001b[0;34m)\u001b[0m\u001b[0;34m\u001b[0m\u001b[0;34m\u001b[0m\u001b[0m\n\u001b[0m\u001b[1;32m    508\u001b[0m \u001b[0;34m\u001b[0m\u001b[0m\n\u001b[1;32m    509\u001b[0m             \u001b[0;32mif\u001b[0m \u001b[0misinstance\u001b[0m\u001b[0;34m(\u001b[0m\u001b[0me\u001b[0m\u001b[0;34m.\u001b[0m\u001b[0mreason\u001b[0m\u001b[0;34m,\u001b[0m \u001b[0mResponseError\u001b[0m\u001b[0;34m)\u001b[0m\u001b[0;34m:\u001b[0m\u001b[0;34m\u001b[0m\u001b[0;34m\u001b[0m\u001b[0m\n",
            "\u001b[0;31mConnectTimeout\u001b[0m: HTTPSConnectionPool(host='openaipublic.blob.core.windows.net', port=443): Max retries exceeded with url: /encodings/cl100k_base.tiktoken (Caused by ConnectTimeoutError(<urllib3.connection.HTTPSConnection object at 0x7d4dc9203a60>, 'Connection to openaipublic.blob.core.windows.net timed out. (connect timeout=None)'))"
          ]
        }
      ]
    },
    {
      "cell_type": "code",
      "source": [
        "# !pip3 install --force-reinstall --pre torch torchtext torchvision torchaudio torchrec --extra-index-url https://download.pytorch.org/whl/nightly/cu121"
      ],
      "metadata": {
        "id": "lAm7g9UQoz2F"
      },
      "id": "lAm7g9UQoz2F",
      "execution_count": null,
      "outputs": []
    },
    {
      "cell_type": "code",
      "source": [
        "Settings.llm = llm\n",
        "Settings.chunk_size = 512\n",
        "embed_model = FastEmbedEmbedding(model_name=\"BAAI/bge-small-en-v1.5\")\n",
        "Settings.embed_model = embed_model\n",
        "Settings.chunk_size = 512"
      ],
      "metadata": {
        "id": "_AIkf_CIoBgK"
      },
      "id": "_AIkf_CIoBgK",
      "execution_count": null,
      "outputs": []
    },
    {
      "cell_type": "code",
      "source": [
        "documents = SimpleDirectoryReader(text_filepath).load_data()\n",
        "index = VectorStoreIndex.from_documents(documents, show_progress=True)\n",
        "query_engine = index.as_query_engine()"
      ],
      "metadata": {
        "id": "MjMBajkunMqN"
      },
      "id": "MjMBajkunMqN",
      "execution_count": null,
      "outputs": []
    },
    {
      "cell_type": "markdown",
      "source": [
        "## Approach using single pdf document"
      ],
      "metadata": {
        "id": "oTPcxrxtTuYK"
      },
      "id": "oTPcxrxtTuYK"
    },
    {
      "cell_type": "code",
      "source": [
        "filepath = os.path.join(contract_dir, filenames[0])\n",
        "print(\"Loading pdf filename: \",filepath)\n",
        "new_elements = partition_pdf(filename=filepath,\n",
        "                             strategy=\"hi_res\",\n",
        "                             infer_table_structure=True,\n",
        "                             languages=[\"eng\"])# Loads a pdf file from 'filepath'"
      ],
      "metadata": {
        "colab": {
          "base_uri": "https://localhost:8080/"
        },
        "id": "TpmR-mXW3vzK",
        "outputId": "9ab04a3b-a60e-49ba-8d00-db113a6cbef4"
      },
      "id": "TpmR-mXW3vzK",
      "execution_count": null,
      "outputs": [
        {
          "output_type": "stream",
          "name": "stderr",
          "text": [
            "/usr/local/lib/python3.10/dist-packages/pydantic/_internal/_fields.py:160: UserWarning: Field \"model_id\" has conflict with protected namespace \"model_\".\n",
            "\n",
            "You may be able to resolve this warning by setting `model_config['protected_namespaces'] = ()`.\n",
            "  warnings.warn(\n"
          ]
        },
        {
          "output_type": "stream",
          "name": "stdout",
          "text": [
            "Loading pdf filename:  pharmacy_contracts/fully executed FK Pharma Sub-WAC Purchase Agreement IU Subwac eff 2.1.2024 (final).pdf\n"
          ]
        },
        {
          "output_type": "stream",
          "name": "stderr",
          "text": [
            "Some weights of the model checkpoint at microsoft/table-transformer-structure-recognition were not used when initializing TableTransformerForObjectDetection: ['model.backbone.conv_encoder.model.layer2.0.downsample.1.num_batches_tracked', 'model.backbone.conv_encoder.model.layer3.0.downsample.1.num_batches_tracked', 'model.backbone.conv_encoder.model.layer4.0.downsample.1.num_batches_tracked']\n",
            "- This IS expected if you are initializing TableTransformerForObjectDetection from the checkpoint of a model trained on another task or with another architecture (e.g. initializing a BertForSequenceClassification model from a BertForPreTraining model).\n",
            "- This IS NOT expected if you are initializing TableTransformerForObjectDetection from the checkpoint of a model that you expect to be exactly identical (initializing a BertForSequenceClassification model from a BertForSequenceClassification model).\n"
          ]
        }
      ]
    },
    {
      "cell_type": "code",
      "source": [
        "select_pages_with_tables= []\n",
        "select_content_from_tables= []\n",
        "for i, page in enumerate(new_elements):# Iterating over elements loaded through regular partition method\n",
        "  if isinstance(page, unstructured.documents.elements.Table):\n",
        "    # v=n\n",
        "    select_pages_with_tables.append(page)# Picks only elements of 'Table' type\n",
        "    print(f\"Element at Index: {i}: with page_number: {page.metadata.page_number} contains a 'table'\")# Signatures from page# 8\n",
        "    page= page.to_dict()# Converts 'Table' type object to regular dictionary\n",
        "    # select_content_from_tables.append((page.get(\"metadata\").get(\"filename\"), page.get(\"metadata\").get(\"text_as_html\"),\n",
        "    #                                    page.get(\"text\")))# Collect metadata from 'Table' dict\n",
        "    select_content_from_tables.append((page.get(\"metadata\").get(\"filename\"),\n",
        "                                     page.get(\"text\")))\n",
        "\n",
        "# text_as_html = page.get(\"metadata\").get(\"text_as_html\")# Visualize one of the table from select above\n",
        "# display(HTML(text_as_html))\n",
        "\n",
        "text=\"\"\n",
        "if not os.path.exists(text_filepath):\n",
        "  print(f\"{text_filepath} doesn't exist!\\nCreating now. .\")\n",
        "  os.mkdir(text_filepath)\n",
        "output_file_path= os.path.join(text_filepath, \"tables_textfiles.txt\")\n",
        "with open(output_file_path, 'w', encoding='utf-8') as text_file:# Save the extracted metadata to text file\n",
        "  text+=str(select_content_from_tables)\n",
        "  text_file.write(text)\n",
        "  text_file.close()\n",
        "  print(f\"Saving textfile: {output_file_path}\")"
      ],
      "metadata": {
        "id": "flWqYyEklECP",
        "colab": {
          "base_uri": "https://localhost:8080/"
        },
        "outputId": "4a3c382a-e3ab-4278-b276-276cdc4d2bfe"
      },
      "id": "flWqYyEklECP",
      "execution_count": null,
      "outputs": [
        {
          "output_type": "stream",
          "name": "stdout",
          "text": [
            "Element at Index: 95: with page_number: 9 contains a 'table'\n",
            "Element at Index: 110: with page_number: 10 contains a 'table'\n",
            "Saving textfile: pharmacy_contracts/tables_textfiles/tables_textfiles.txt\n"
          ]
        }
      ]
    },
    {
      "cell_type": "code",
      "source": [
        "text_filepath= os.path.join(contract_dir, \"tables_textfiles\")\n",
        "text_filepath"
      ],
      "metadata": {
        "colab": {
          "base_uri": "https://localhost:8080/",
          "height": 35
        },
        "id": "eYWb8kzJI5ls",
        "outputId": "2c5501ed-d79c-46a6-f6b3-fce57d1ce7b2"
      },
      "id": "eYWb8kzJI5ls",
      "execution_count": null,
      "outputs": [
        {
          "output_type": "execute_result",
          "data": {
            "text/plain": [
              "'pharmacy_contracts/tables_textfiles'"
            ],
            "application/vnd.google.colaboratory.intrinsic+json": {
              "type": "string"
            }
          },
          "metadata": {},
          "execution_count": 2
        }
      ]
    },
    {
      "cell_type": "code",
      "source": [
        "system_prompt = \"\"\"<|SYSTEM|>You are a Q&A assistant Expert in analyzing legal contracts.\n",
        "<|end|>\\n\n",
        "\"\"\"\n",
        "\n",
        "query_wrapper_prompt= (\"<|SYSTEM|>\\n\"\n",
        "\"You are a Q&A assistant Expert in analyzing legal contracts<|end|>\\n\"\n",
        "\"<|user|>\\n\"\n",
        "\"{query_str}<|end|>\\n\"\n",
        "\"<|assistant|>\\n\")\n",
        "llm = HuggingFaceLLM(\n",
        "    context_window=4096,\n",
        "    max_new_tokens=512,# Increase this to 4096\n",
        "    generate_kwargs={\"temperature\": 0.7, \"do_sample\": True},\n",
        "    # generate_kwargs={\"temperature\": 0.7, \"do_sample\": False},\n",
        "    system_prompt=system_prompt,\n",
        "    query_wrapper_prompt=query_wrapper_prompt,\n",
        "    tokenizer_name=\"microsoft/Phi-3-mini-4k-instruct\",\n",
        "    model_name=\"microsoft/Phi-3-mini-4k-instruct\",\n",
        "    device_map=\"auto\",\n",
        "    # stopping_ids=[50278, 50279, 50277, 1, 0],\n",
        "    tokenizer_kwargs={\"max_length\": 4096},\n",
        "    # uncomment this if using CUDA to reduce memory usage\n",
        "    model_kwargs={\"torch_dtype\": torch.float16})\n",
        "Settings.llm = llm\n",
        "Settings.chunk_size = 512\n",
        "embed_model = FastEmbedEmbedding(model_name=\"BAAI/bge-small-en-v1.5\")\n",
        "Settings.embed_model = embed_model\n",
        "Settings.chunk_size = 512\n",
        "documents = SimpleDirectoryReader(text_filepath).load_data()\n",
        "index = VectorStoreIndex.from_documents(documents, show_progress=True)\n",
        "query_engine = index.as_query_engine()"
      ],
      "metadata": {
        "colab": {
          "base_uri": "https://localhost:8080/",
          "height": 163,
          "referenced_widgets": [
            "a088367d95bb40ca8c630232798672cf",
            "a114eabe84474e13a5f46fde2ca7d7a5",
            "5f286905e55649868fd717d46b1a836f",
            "49dc64cf71cb4501851cb92bc4557e74",
            "b3cc58c31c9b419bb44a341a51da674a",
            "0cfb2a2944ca41b5a45cdb431894fefc",
            "01fc825bcdca4e3cbc61b94310909796",
            "22449eccb1174666ac4360f61dc3e131",
            "afc075db108e429e856c1e035b44f891",
            "37bb127de8fc424ab670fcf8b7b01a65",
            "06f6a738ccdf4717865af2ee75ad19fe",
            "10239502814344c894c6714226bca3b7",
            "d00b5df073eb44f995b49d90508eea07",
            "caea78bf27154fdaba8f1d87a3ec3462",
            "a57a4dcf923c49699255e4511792a45a",
            "1b07f631c6544fae973376624113793e",
            "543a170b7e624634b503ed8e6df4d5de",
            "d403c0784f9b4ec38db8c458266e491e",
            "a093df25f5004fae97c017e85543bbed",
            "19a5d6dc102c40c5a5af2775d4f7b550",
            "d63d0250153f481d99b0d556b96473df",
            "a6816929509a4883ad7c7edb4460d1be",
            "b5af2cc45b8942c29df43fada376e060",
            "e0e2c4406ff843619f952caadd5e9790",
            "bb403bed14ec4a3795f19a60923fdb36",
            "10d6fcdd110045b7b9e4a9285c8102e1",
            "2384258523394c50a03f02566f789748",
            "4708b2481a764190ad56dc1294a34188",
            "c4ab8ded83fd41b79c87991e107b99e8",
            "df95ced828a7497bb858b32811af0956",
            "6a3c8e153c724d3baa4951d7ba780b69",
            "79a51398c3c8474fac3959c9527bd9f1",
            "64252ffc59384dffbff1e4c41bd7f10a",
            "e414a3cd2d254a31ac1c4fc58a08976d",
            "6a334e14eb724b3e8d373a12295aa533",
            "7eea1fdee1a64096bbecae1646806a60",
            "fa6040f6b28a4b53960292e92f0d28e9",
            "a9a2eef7ba4d400db0b05a7959f29cd0",
            "31a9d5abc3594ff1aad14e9651c60c69",
            "2582e7c1b79140fab9c28f05721949fd",
            "7b80ed1ad1324f0dab2d8706210ded73",
            "e01f41d74f094f7fbf994112ecb41ec6",
            "5aff9af4625148aba85ae2dd35e8d0fd",
            "551998fbdd0f4831b8f9e114ef983dd1"
          ]
        },
        "id": "fKK8YSrABirr",
        "outputId": "26a4d120-f688-46fb-87fc-025dcaecf594"
      },
      "id": "fKK8YSrABirr",
      "execution_count": null,
      "outputs": [
        {
          "output_type": "display_data",
          "data": {
            "text/plain": [
              "Loading checkpoint shards:   0%|          | 0/2 [00:00<?, ?it/s]"
            ],
            "application/vnd.jupyter.widget-view+json": {
              "version_major": 2,
              "version_minor": 0,
              "model_id": "a088367d95bb40ca8c630232798672cf"
            }
          },
          "metadata": {}
        },
        {
          "output_type": "stream",
          "name": "stderr",
          "text": [
            "Special tokens have been added in the vocabulary, make sure the associated word embeddings are fine-tuned or trained.\n"
          ]
        },
        {
          "output_type": "display_data",
          "data": {
            "text/plain": [
              "Fetching 5 files:   0%|          | 0/5 [00:00<?, ?it/s]"
            ],
            "application/vnd.jupyter.widget-view+json": {
              "version_major": 2,
              "version_minor": 0,
              "model_id": "10239502814344c894c6714226bca3b7"
            }
          },
          "metadata": {}
        },
        {
          "output_type": "display_data",
          "data": {
            "text/plain": [
              "Parsing nodes:   0%|          | 0/1 [00:00<?, ?it/s]"
            ],
            "application/vnd.jupyter.widget-view+json": {
              "version_major": 2,
              "version_minor": 0,
              "model_id": "b5af2cc45b8942c29df43fada376e060"
            }
          },
          "metadata": {}
        },
        {
          "output_type": "display_data",
          "data": {
            "text/plain": [
              "Generating embeddings:   0%|          | 0/1 [00:00<?, ?it/s]"
            ],
            "application/vnd.jupyter.widget-view+json": {
              "version_major": 2,
              "version_minor": 0,
              "model_id": "e414a3cd2d254a31ac1c4fc58a08976d"
            }
          },
          "metadata": {}
        }
      ]
    },
    {
      "cell_type": "markdown",
      "source": [
        "For your reference, The National Drug Code (NDC) is a unique identifier for medications approved by the FDA, structured in an 11-digit format (5-4-2). NDCs may appear in 10-digit formats on packaging, requiring conversion to 11 digits by inserting zeros:\n",
        "4-4-2 to 5-4-2: Add a leading zero (e.g., 0002-7597-01 to 00002-7597-01).\n",
        "5-3-2 to 5-4-2: Insert a zero in the middle (e.g., 50242-040-62 to 50242-0040-62).\n",
        "5-4-1 to 5-4-2: Append a zero at the end (e.g., 60575-4112-1 to 60575-4112-01).\n",
        "NDCs typically contain hyphens for readability but should be entered without them. To identify NDCs, look for sequences matching the 5-4-2 format and apply conversion rules to 10-digit formats, ensuring they correspond to the medication’s labeler, product, and package codes."
      ],
      "metadata": {
        "id": "CpSstkC5LwOJ"
      },
      "id": "CpSstkC5LwOJ"
    },
    {
      "cell_type": "code",
      "source": [
        "# 1. Uses the updated text document with (filename, table text) to query and fetch all input records without any mofification\n",
        "\n",
        "query= \"\"\"I provided you a text document that contains products and pricing details in list of tuples in format - [(filename, HTML_table_as_text, table_as_text), . . ., (filename, HTML_table_as_text_3, table_as_text_3)].\n",
        "First tell me the length of the list(list of tuples) in the document, then I want you to return the complete input text from the document AS IT IS with NO MODIFICATIONS or change of format in it.\"\"\"\n",
        "print(f\"\\nInput query: {query}\\n_____\\n\",)\n",
        "\n",
        "response = query_engine.query(query)\n",
        "print(response)"
      ],
      "metadata": {
        "colab": {
          "base_uri": "https://localhost:8080/"
        },
        "id": "VbtQGYMqTaMM",
        "outputId": "339b92bf-7fb2-43e0-c248-f02adff2e1d6"
      },
      "id": "VbtQGYMqTaMM",
      "execution_count": null,
      "outputs": [
        {
          "output_type": "stream",
          "name": "stdout",
          "text": [
            "\n",
            "Input query: I provided you a text document that contains products and pricing details in list of tuples in format - [(filename, HTML_table_as_text, table_as_text), . . ., (filename, HTML_table_as_text_3, table_as_text_3)].\n",
            "First tell me the length of the list(list of tuples) in the document, then I want you to return the complete input text from the document AS IT IS with NO MODIFICATIONS or change of format in it.\n",
            "_____\n",
            "\n",
            "The length of the list of tuples in the document is 2.\n",
            "\n",
            "Here is the complete input text from the document AS IT IS with NO MODIFICATIONS or change of format:\n",
            "\n",
            "[('fully executed FK Pharma Sub-WAC Purchase Agreement IU Subwac eff 2.1.2024 (final).pdf', 'FK Account # Facility Name 600929 IU Health Ball Memorial 600066 IU Health Bloomington 70385001 IU Health Methodist 403914 IU Health Saxony 400528016 IU Health Shared Services Pharmacy 66279601 IU Health University 736370 Riley Hospital for Children at IU Health 40052807 IU Health Hem Onc - East Pharmacy 40052808 IU Health Hem Onc - Fishers Pharmacy 748974 IU Health Morgan Address 2401 University Drive, Muncie, IN 47303 2651 E Discovery Pkwy, Bloomington, IN 47408 1701 N Senate Blvd, Indianapolis, IN 46206 13000 136th Street, Fishers, IN 46037 390 Airtech Pkwy Suite 106B, Plainfield, IN 46168-7455 550 N University Blvd, Indianapolis, IN 46202 6845 Rama Drive, Indianapolis, IN 46219 10212 Lantern Drive, Fishers, IN 46037 2209 John R Wooden Drive, Martinsville, IN 46151 DEA HIN AB2645464 BC5175511 BA3876438 BW8232477 E4FLJCDF1', 'fully executed FK Pharma Sub-WAC Purchase Agreement IU Subwac eff 2.1.2024 (final).pdf', 'Product Code NDC Number Product\n"
          ]
        }
      ]
    },
    {
      "cell_type": "code",
      "source": [
        "#2. Uses the updated text document with (filename, table text) to query and fetch all input records with NDC numbers and prices, without any mofification\n",
        "query= \"\"\"I provided you a text document that contains products and pricing details in list of tuples in format - [(filename, HTML_table_as_text, table_as_text), . . .,(filename, HTML_table_as_text_3, table_as_text_3)].\n",
        "I want you to check second index in each tuple of the list and return ONLY THOSE tuples that contain any details related to National Drug Code ('NDC Number' or 'NDC Code') of products and their prices(in Dollars with $ prefix) from the document AS IT IS with NO MODIFICATIONS or change of format in it.\"\"\"\n",
        "print(f\"\\nInput query: {query}\\n_____\\n\",)\n",
        "\n",
        "response = query_engine.query(query)\n",
        "print(response)"
      ],
      "metadata": {
        "colab": {
          "base_uri": "https://localhost:8080/"
        },
        "id": "kzNmetHGKT_g",
        "outputId": "cdbad86e-9dc0-4612-c01e-777e82f7fea7"
      },
      "id": "kzNmetHGKT_g",
      "execution_count": null,
      "outputs": [
        {
          "output_type": "stream",
          "name": "stdout",
          "text": [
            "\n",
            "Input query: I provided you a text document that contains products and pricing details in list of tuples in format - [(filename, HTML_table_as_text, table_as_text), . . .,(filename, HTML_table_as_text_3, table_as_text_3)].\n",
            "I want you to check second index in each tuple of the list and return ONLY THOSE tuples that contain any details related to National Drug Code ('NDC Number' or 'NDC Code') of products and their prices(in Dollars with $ prefix) from the document AS IT IS with NO MODIFICATIONS or change of format in it.\n",
            "_____\n",
            "\n",
            "[('fully executed FK Pharma Sub-WAC Purchase Agreement IU Subwac eff 2.1.2024 (final).pdf', 'Product Code NDC Number Product Description Contract Affected 260929 260950 260965 63323026929 Diprivan® 10mg/mL 1% 20mL SDV 10 Pack 63323026950 Diprivan® 10mg/mL 1% 50mL SDV 63323026965 Diprivan® 10mg/mL 1% 100mL SDV *New* Indiana University Health Sub WAC *New* Indiana University Health Sub WAC PK Size 10 20 10 Price / Each Price / PK $2.25 $22.50 $5.61 $11.21 $112.10')]\n"
          ]
        }
      ]
    },
    {
      "cell_type": "code",
      "source": [
        "firstpass_text = response.response\n",
        "firstpass_text"
      ],
      "metadata": {
        "colab": {
          "base_uri": "https://localhost:8080/",
          "height": 89
        },
        "id": "-B3KegA-b1zi",
        "outputId": "4cbaa9fa-c638-49d9-b36e-bf61c3b5140e"
      },
      "id": "-B3KegA-b1zi",
      "execution_count": null,
      "outputs": [
        {
          "output_type": "execute_result",
          "data": {
            "text/plain": [
              "\"[('fully executed FK Pharma Sub-WAC Purchase Agreement IU Subwac eff 2.1.2024 (final).pdf', 'Product Code NDC Number Product Description Contract Affected 260929 260950 260965 63323026929 Diprivan® 10mg/mL 1% 20mL SDV 10 Pack 63323026950 Diprivan® 10mg/mL 1% 50mL SDV 63323026965 Diprivan® 10mg/mL 1% 100mL SDV *New* Indiana University Health Sub WAC *New* Indiana University Health Sub WAC PK Size 10 20 10 Price / Each Price / PK $2.25 $22.50 $5.61 $11.21 $112.10')]\""
            ],
            "application/vnd.google.colaboratory.intrinsic+json": {
              "type": "string"
            }
          },
          "metadata": {},
          "execution_count": 30
        }
      ]
    },
    {
      "cell_type": "markdown",
      "source": [
        "NDC : a unique identifier for medications approved by the FDA, structured in an 11-digit format (5-4-2) or sometimes in 10-digit format (5-3-2).\n",
        "NDCs typically contain hyphens for readability but they can also be found without hyphens. To identify NDCs, look for 10 to 11-digit format sequences matching the 5-4-2 or 5-3-2 format.\n",
        "\n"
      ],
      "metadata": {
        "id": "XVD6fAVSkAXX"
      },
      "id": "XVD6fAVSkAXX"
    },
    {
      "cell_type": "code",
      "source": [
        "# #3. Uses the output response from above prompt which contains only relevant table text (filename, table text) to query and fetch all only select data values like NDC numbers and prices from input text.\n",
        "# query= f\"\"\"Now using this text - \"{firstpass_text}\" as an input context with format - [(filename1.pdf, table_as_text), . . .,(filename2.txt, table_as_text_3)].\n",
        "# I want you to check second index in each tuple of the list and return ONLY these 2 details from each tuple as list of tuples - 1. National Drug Code ('NDC Number' or 'NDC Code' with 10 to 12 digits), 2. Price (in Dollars with $ prefix) from the document AS IT IS with NO MODIFICATIONS.\n",
        "\n",
        "# Note, 'NDC Number' is a unique identifier for medications approved by the FDA, structured in a 10-digit to 12-digit format (10-digit 5-3-2, 11-digit 5-4-2 and 12-digit format 5-4-3). NDCs typically contain hyphens for readability but can also be found without hyphens. To identify NDCs, look for 10 to 12-digit format sequences matching the 5-4-2, 5-3-2 or 5-3-3 formats.\n",
        "\n",
        "# You must return the output as list of tuples, with each tuple containing EXACTLY 3 values -  1. 'file_name' from input tuple's first index, 2. NDC Number(MUST BE A NUMBER with 10 to 12 digits) of each product/item from input tuple's second index, 3. Price of each item(in Dollars with $ prefix) from input tuple's second index.\n",
        "# Here is what an example output from you should look like - [(filename_abc.txt, 662324999910, $15), (filename_abc.txt, 302324999911, $17). . .(filename_xyz.txt, 12232496710, $21)].\n",
        "# \"\"\"\n",
        "# print(f\"\\nInput query: {query}\\n_____\\n\",)\n",
        "\n",
        "# response = query_engine.query(query)\n",
        "# print(response)"
      ],
      "metadata": {
        "colab": {
          "base_uri": "https://localhost:8080/"
        },
        "id": "tlw3GgT9cJbz",
        "outputId": "d2c6e1f8-e83e-4e82-c255-76c5e49433ca"
      },
      "id": "tlw3GgT9cJbz",
      "execution_count": null,
      "outputs": [
        {
          "output_type": "stream",
          "name": "stdout",
          "text": [
            "\n",
            "Input query: Now using this text - \"[('fully executed FK Pharma Sub-WAC Purchase Agreement IU Subwac eff 2.1.2024 (final).pdf', 'Product Code NDC Number Product Description Contract Affected 260929 260950 260965 63323026929 Diprivan® 10mg/mL 1% 20mL SDV 10 Pack 63323026950 Diprivan® 10mg/mL 1% 50mL SDV 63323026965 Diprivan® 10mg/mL 1% 100mL SDV *New* Indiana University Health Sub WAC *New* Indiana University Health Sub WAC PK Size 10 20 10 Price / Each Price / PK $2.25 $22.50 $5.61 $11.21 $112.10')]\" as an input context of format - [(filename, table_as_text), . . .,(filename, table_as_text_3)].\n",
            "I want you to check second index in each tuple of the list and return ONLY these 2 details from each tuple as list of tuples - 1. National Drug Code ('NDC Number' or 'NDC Code' with 11 to 12 digits), 2. Price (in Dollars with $ prefix) from the document AS IT IS with NO MODIFICATIONS.\n",
            "\n",
            "Note, 'NDC Number' is a unique identifier for medications approved by the FDA, structured in an 11-digit format (5-4-2) or sometimes in 10-digit format (5-3-2). NDCs typically contain hyphens for readability but can also be found without hyphens. To identify NDCs, look for 10 to 11-digit format sequences matching the 5-4-2 or 5-3-2 format.\n",
            "\n",
            "You must return the output as list of tuples, with each tuple containing EXACTLY 3 values -  1. 'file_name' you are referring to, 2. NDC Number(MUST BE A NUMBER with 11 to 12 digits) of each product/item, 3. Price of each item(in Dollars with $ prefix).\n",
            "Here is what an example output from you should look like - [(filename_abc.txt, 662324999910, $15), (filename_abc.txt, 302324999911, $17). . .(filename_xyz.txt, 12232496710, $21)].\n",
            "\n",
            "_____\n",
            "\n",
            "[(file_path, 260929, $2.25), (file_path, 260950, $22.50), (file_path, 260965, $5.61), (file_path, 63323026929, $112.10), (file_path, 63323026950, $112.10), (file_path, 63323026965, $112.10)]\n"
          ]
        }
      ]
    },
    {
      "cell_type": "code",
      "source": [
        "#3. Uses the output response from above prompt which contains only relevant table text (filename, table text) to query and fetch all only select data values like NDC numbers and prices from input text.\n",
        "query= f\"\"\"Now using this text - \"{firstpass_text}\" as an input context with format - [(filename1.pdf, table_as_text), . . .,(filename2.txt, table_as_text_3)].\n",
        "I want you to check second index in each tuple of the list and return ONLY these 2 details from each tuple as list of tuples - 1. National Drug Code ('NDC Number' or 'NDC Code' with 10 to 12 digits), 2. Price (in Dollars with $ prefix) from the document AS IT IS with NO MODIFICATIONS.\n",
        "\n",
        "Note, 'NDC Number' is a unique identifier for medications approved by the FDA, structured in a 10-digit to 12-digit format (10-digit 5-3-2, 11-digit 5-4-2 and 12-digit format 5-4-3). NDCs typically contain hyphens for readability but can also be found without hyphens. To identify NDCs, look for 10 to 12-digit format sequences matching the 5-4-2, 5-3-2 or 5-3-3 formats.\n",
        "\n",
        "You must return the output as list of tuples, with each tuple containing EXACTLY 3 values -  1. 'file_name' from input tuple's first index, 2. NDC Number(MUST BE A NUMBER with 10 to 12 digits) of each product/item from input tuple's second index, 3. Price of each item(in Dollars with $ prefix) from input tuple's second index.\n",
        "Here is what an example output from you should look like - [(filename_abc.txt, 662324999910, $15), (filename_abc.txt, 302324999911, $17). . .(filename_xyz.txt, 12232496710, $21)].\n",
        "\"\"\"\n",
        "print(f\"\\nInput query: {query}\\n_____\\n\",)\n",
        "\n",
        "response = query_engine.query(query)\n",
        "print(response)"
      ],
      "metadata": {
        "colab": {
          "base_uri": "https://localhost:8080/"
        },
        "id": "csPlYLRRnB4k",
        "outputId": "2ceef0e5-77e9-4f43-f682-ea786ec7d24c"
      },
      "id": "csPlYLRRnB4k",
      "execution_count": null,
      "outputs": [
        {
          "output_type": "stream",
          "name": "stdout",
          "text": [
            "\n",
            "Input query: Now using this text - \"[('fully executed FK Pharma Sub-WAC Purchase Agreement IU Subwac eff 2.1.2024 (final).pdf', 'Product Code NDC Number Product Description Contract Affected 260929 260950 260965 63323026929 Diprivan® 10mg/mL 1% 20mL SDV 10 Pack 63323026950 Diprivan® 10mg/mL 1% 50mL SDV 63323026965 Diprivan® 10mg/mL 1% 100mL SDV *New* Indiana University Health Sub WAC *New* Indiana University Health Sub WAC PK Size 10 20 10 Price / Each Price / PK $2.25 $22.50 $5.61 $11.21 $112.10')]\" as an input context with format - [(filename1.pdf, table_as_text), . . .,(filename2.txt, table_as_text_3)].\n",
            "I want you to check second index in each tuple of the list and return ONLY these 2 details from each tuple as list of tuples - 1. National Drug Code ('NDC Number' or 'NDC Code' with 10 to 12 digits), 2. Price (in Dollars with $ prefix) from the document AS IT IS with NO MODIFICATIONS.\n",
            "\n",
            "Note, 'NDC Number' is a unique identifier for medications approved by the FDA, structured in a 10-digit to 12-digit format (10-digit 5-3-2, 11-digit 5-4-2 and 12-digit format 5-4-3). NDCs typically contain hyphens for readability but can also be found without hyphens. To identify NDCs, look for 10 to 12-digit format sequences matching the 5-4-2, 5-3-2 or 5-3-3 formats.\n",
            "\n",
            "You must return the output as list of tuples, with each tuple containing EXACTLY 3 values -  1. 'file_name' from input tuple's first index, 2. NDC Number(MUST BE A NUMBER with 10 to 12 digits) of each product/item from input tuple's second index, 3. Price of each item(in Dollars with $ prefix) from input tuple's second index.\n",
            "Here is what an example output from you should look like - [(filename_abc.txt, 662324999910, $15), (filename_abc.txt, 302324999911, $17). . .(filename_xyz.txt, 12232496710, $21)].\n",
            "\n",
            "_____\n",
            "\n",
            "[(('fully executed FK Pharma Sub-WAC Purchase Agreement IU Subwac eff 2.1.2024 (final).pdf', 'Product Code NDC Number Product Description Contract Affected 260929 260950 260965 63323026929 Diprivan® 10mg/mL 1% 20mL SDV 10 Pack 63323026950 Diprivan® 10mg/mL 1% 50mL SDV 63323026965 Diprivan® 10mg/mL 1% 100mL SDV *New* Indiana University Health Sub WAC *New* Indiana University Health Sub WAC PK Size 10 20 10 Price / Each Price / PK $2.25 $22.50 $5.61 $11.21 $112.10')), (63323026929, 260929, 2.25), (63323026950, 260950, 22.50), (63323026965, 260965, 5.61), (63323026965, 112.10)]\n"
          ]
        }
      ]
    },
    {
      "cell_type": "code",
      "source": [
        "firstpass_text"
      ],
      "metadata": {
        "colab": {
          "base_uri": "https://localhost:8080/",
          "height": 89
        },
        "id": "iWzO7YzDkN5R",
        "outputId": "9554411c-81cd-446d-c7ab-2a0a66788059"
      },
      "id": "iWzO7YzDkN5R",
      "execution_count": null,
      "outputs": [
        {
          "output_type": "execute_result",
          "data": {
            "text/plain": [
              "\"[('fully executed FK Pharma Sub-WAC Purchase Agreement IU Subwac eff 2.1.2024 (final).pdf', 'Product Code NDC Number Product Description Contract Affected 260929 260950 260965 63323026929 Diprivan® 10mg/mL 1% 20mL SDV 10 Pack 63323026950 Diprivan® 10mg/mL 1% 50mL SDV 63323026965 Diprivan® 10mg/mL 1% 100mL SDV *New* Indiana University Health Sub WAC *New* Indiana University Health Sub WAC PK Size 10 20 10 Price / Each Price / PK $2.25 $22.50 $5.61 $11.21 $112.10')]\""
            ],
            "application/vnd.google.colaboratory.intrinsic+json": {
              "type": "string"
            }
          },
          "metadata": {},
          "execution_count": 32
        }
      ]
    },
    {
      "cell_type": "code",
      "source": [
        "firstpass_text= \"\"\"[('fully executed FK Pharma Sub-WAC Purchase Agreement IU Subwac eff 2.1.2024 (final).pdf', 'Product Code NDC Number Product Description Contract Affected 260929 260950 260965 63323026929 Diprivan® 10mg/mL 1% 20mL SDV 10 Pack 63323026950 Diprivan® 10mg/mL 1% 50mL SDV 63323026965 Diprivan® 10mg/mL 1% 100mL SDV *New* Indiana University Health Sub WAC *New* Indiana University Health Sub WAC PK Size 10 20 10 Price / Each Price / PK $2.25 $22.50 $5.61 $11.21 $112.10')]\"\"\"\n",
        "firstpass_text"
      ],
      "metadata": {
        "colab": {
          "base_uri": "https://localhost:8080/",
          "height": 89
        },
        "id": "U9xbkrYr-h7z",
        "outputId": "303431ee-1f9b-459e-e827-17dfde5a250d"
      },
      "id": "U9xbkrYr-h7z",
      "execution_count": null,
      "outputs": [
        {
          "output_type": "execute_result",
          "data": {
            "text/plain": [
              "\"[('fully executed FK Pharma Sub-WAC Purchase Agreement IU Subwac eff 2.1.2024 (final).pdf', 'Product Code NDC Number Product Description Contract Affected 260929 260950 260965 63323026929 Diprivan® 10mg/mL 1% 20mL SDV 10 Pack 63323026950 Diprivan® 10mg/mL 1% 50mL SDV 63323026965 Diprivan® 10mg/mL 1% 100mL SDV *New* Indiana University Health Sub WAC *New* Indiana University Health Sub WAC PK Size 10 20 10 Price / Each Price / PK $2.25 $22.50 $5.61 $11.21 $112.10')]\""
            ],
            "application/vnd.google.colaboratory.intrinsic+json": {
              "type": "string"
            }
          },
          "metadata": {},
          "execution_count": 2
        }
      ]
    },
    {
      "cell_type": "markdown",
      "source": [
        "* Following code tests if the first pass text when given in general instruct settings directly to phi-3, Does it perform better than it does in case of RAG."
      ],
      "metadata": {
        "id": "rWXLvxRhQyYP"
      },
      "id": "rWXLvxRhQyYP"
    },
    {
      "cell_type": "code",
      "source": [
        "import torch\n",
        "from llama_index.core import VectorStoreIndex, SimpleDirectoryReader\n",
        "from llama_index.llms.huggingface import HuggingFaceLLM\n",
        "from llama_index.core import Settings\n",
        "from llama_index.embeddings.fastembed import FastEmbedEmbedding\n",
        "from llama_index.core import PromptTemplate\n",
        "# from huggingface_hub.hf_api import HfFolder\n",
        "from llama_index.core import PromptTemplate\n",
        "from transformers import AutoModelForCausalLM, AutoTokenizer, pipeline\n",
        "\n",
        "# From phi-3 documentation\n",
        "\n",
        "torch.random.manual_seed(0)\n",
        "\n",
        "model = AutoModelForCausalLM.from_pretrained(\n",
        "    \"microsoft/Phi-3-mini-4k-instruct\",\n",
        "    device_map=\"cuda\",\n",
        "    torch_dtype=\"auto\",\n",
        "    trust_remote_code=True,\n",
        ")\n",
        "tokenizer = AutoTokenizer.from_pretrained(\"microsoft/Phi-3-mini-4k-instruct\")\n",
        "\n",
        "pipe = pipeline(\n",
        "    \"text-generation\",\n",
        "    model=model,\n",
        "    tokenizer=tokenizer)\n",
        "\n",
        "generation_args = {\n",
        "    \"max_new_tokens\": 512,\n",
        "    \"return_full_text\": False,\n",
        "    \"temperature\": 0.1,\n",
        "    \"do_sample\": False,\n",
        "}"
      ],
      "metadata": {
        "colab": {
          "base_uri": "https://localhost:8080/",
          "height": 123,
          "referenced_widgets": [
            "644f15e901c84b12b53c4a960ccc54e4",
            "fe83bab56abc4834be642cfb1e6cf211",
            "c0c93382ad7f4610be950bbe3002964c",
            "2732fc067e6b488b9fbe0c6259af0e04",
            "401df6b771f647a395a73020231ee7c0",
            "142a51f6f18941439df09f83b3ddb073",
            "3783809acf974efd927d4b90bccb51c4",
            "ad651bcff924484f86d231745254731b",
            "ef080a5b40f149978a4df77669adc85d",
            "f6e9407c65b8483ba4dcaa7e4f9ca57f",
            "1cda0fafeaa64bac8c7cd0a5499f5c0b"
          ]
        },
        "id": "iaR7cO4T_Jbh",
        "outputId": "ab851eed-dbaf-492d-a892-68e090433ce4"
      },
      "id": "iaR7cO4T_Jbh",
      "execution_count": null,
      "outputs": [
        {
          "output_type": "stream",
          "name": "stderr",
          "text": [
            "WARNING:transformers_modules.microsoft.Phi-3-mini-4k-instruct.d269012bea6fbe38ce7752c8940fea010eea3383.modeling_phi3:`flash-attention` package not found, consider installing for better performance: No module named 'flash_attn'.\n",
            "WARNING:transformers_modules.microsoft.Phi-3-mini-4k-instruct.d269012bea6fbe38ce7752c8940fea010eea3383.modeling_phi3:Current `flash-attention` does not support `window_size`. Either upgrade or use `attn_implementation='eager'`.\n"
          ]
        },
        {
          "output_type": "display_data",
          "data": {
            "text/plain": [
              "Loading checkpoint shards:   0%|          | 0/2 [00:00<?, ?it/s]"
            ],
            "application/vnd.jupyter.widget-view+json": {
              "version_major": 2,
              "version_minor": 0,
              "model_id": "644f15e901c84b12b53c4a960ccc54e4"
            }
          },
          "metadata": {}
        },
        {
          "output_type": "stream",
          "name": "stderr",
          "text": [
            "Special tokens have been added in the vocabulary, make sure the associated word embeddings are fine-tuned or trained.\n"
          ]
        }
      ]
    },
    {
      "cell_type": "code",
      "source": [
        "messages = [\n",
        "    {\"role\": \"user\", \"content\": query},\n",
        "]\n",
        "output = pipe(messages, **generation_args)\n",
        "print(output[0]['generated_text'])"
      ],
      "metadata": {
        "id": "WWYFGFfD_O8t"
      },
      "id": "WWYFGFfD_O8t",
      "execution_count": null,
      "outputs": []
    },
    {
      "cell_type": "markdown",
      "source": [
        "### Using REGEX to extract relevant text"
      ],
      "metadata": {
        "id": "_reyFNWUWNcr"
      },
      "id": "_reyFNWUWNcr"
    },
    {
      "cell_type": "code",
      "source": [
        "select_pages_with_tables= []\n",
        "select_content_from_tables= []\n",
        "for i, page in enumerate(new_elements):# Iterating over elements loaded through regular partition method\n",
        "  if isinstance(page, unstructured.documents.elements.Table):\n",
        "    # v=n\n",
        "    select_pages_with_tables.append(page)# Picks only elements of 'Table' type\n",
        "    print(f\"Element at Index: {i}: with page_number: {page.metadata.page_number} contains a 'table'\")# Signatures from page# 8\n",
        "    page= page.to_dict()# Converts 'Table' type object to regular dictionary\n",
        "    select_content_from_tables.append((page.get(\"metadata\").get(\"filename\"), page.get(\"metadata\").get(\"text_as_html\"),\n",
        "                                       page.get(\"text\")))# Collect metadata from 'Table' dict"
      ],
      "metadata": {
        "colab": {
          "base_uri": "https://localhost:8080/"
        },
        "id": "ZZfUi1dXWMko",
        "outputId": "914a4e40-7de5-46ee-dd6e-49fa78cd8cc2"
      },
      "id": "ZZfUi1dXWMko",
      "execution_count": null,
      "outputs": [
        {
          "output_type": "stream",
          "name": "stdout",
          "text": [
            "Element at Index: 95: with page_number: 9 contains a 'table'\n",
            "Element at Index: 110: with page_number: 10 contains a 'table'\n"
          ]
        }
      ]
    },
    {
      "cell_type": "code",
      "source": [
        "import re\n",
        "from bs4 import BeautifulSoup\n",
        "\n",
        "input_list = [select_content_from_tables[1]]\n",
        "\n",
        "def extract_ndc_and_price(input_list):\n",
        "    output_list = []\n",
        "\n",
        "    # Regex patterns\n",
        "    ndc_pattern = re.compile(r'\\b\\d{10,12}\\b')\n",
        "    price_pattern = re.compile(r'\\$\\d+(\\.\\d{1,2})?')\n",
        "\n",
        "    for file_name, html_table, text_table in input_list:\n",
        "        soup = BeautifulSoup(html_table, 'html.parser')\n",
        "        rows = soup.find_all('tr')\n",
        "\n",
        "        for row in rows:\n",
        "            cells = row.find_all('td')\n",
        "            if len(cells) > 1:\n",
        "                ndc_number = None\n",
        "                price = None\n",
        "\n",
        "                for cell in cells:\n",
        "                    cell_text = cell.get_text(strip=True)\n",
        "                    # Search for NDC number\n",
        "                    if ndc_pattern.search(cell_text):\n",
        "                        ndc_number = ndc_pattern.search(cell_text).group()\n",
        "                    # Search for price\n",
        "                    if price_pattern.search(cell_text):\n",
        "                        price = price_pattern.search(cell_text).group()\n",
        "\n",
        "                if ndc_number and price:\n",
        "                    output_list.append((file_name, ndc_number, price))\n",
        "\n",
        "    return output_list\n",
        "\n",
        "# Example usage\n",
        "output = extract_ndc_and_price(input_list)\n",
        "print(output)\n"
      ],
      "metadata": {
        "colab": {
          "base_uri": "https://localhost:8080/"
        },
        "id": "FKhYW1_UYVny",
        "outputId": "1230f0da-9538-4742-d80a-342adfdcd673"
      },
      "id": "FKhYW1_UYVny",
      "execution_count": null,
      "outputs": [
        {
          "output_type": "stream",
          "name": "stdout",
          "text": [
            "[('fully executed FK Pharma Sub-WAC Purchase Agreement IU Subwac eff 2.1.2024 (final).pdf', '63323026929', '$22.50'), ('fully executed FK Pharma Sub-WAC Purchase Agreement IU Subwac eff 2.1.2024 (final).pdf', '63323026950', '$112.20'), ('fully executed FK Pharma Sub-WAC Purchase Agreement IU Subwac eff 2.1.2024 (final).pdf', '63323026965', '$112.10')]\n"
          ]
        }
      ]
    },
    {
      "cell_type": "code",
      "source": [
        "output = extract_ndc_and_price(select_content_from_tables)\n",
        "print(output)"
      ],
      "metadata": {
        "colab": {
          "base_uri": "https://localhost:8080/"
        },
        "id": "ah2RseVNb6tF",
        "outputId": "f53e91de-a9d9-48cd-c78c-49cab65b5390"
      },
      "id": "ah2RseVNb6tF",
      "execution_count": null,
      "outputs": [
        {
          "output_type": "stream",
          "name": "stdout",
          "text": [
            "[('fully executed FK Pharma Sub-WAC Purchase Agreement IU Subwac eff 2.1.2024 (final).pdf', '63323026929', '$22.50'), ('fully executed FK Pharma Sub-WAC Purchase Agreement IU Subwac eff 2.1.2024 (final).pdf', '63323026950', '$112.20'), ('fully executed FK Pharma Sub-WAC Purchase Agreement IU Subwac eff 2.1.2024 (final).pdf', '63323026965', '$112.10')]\n"
          ]
        }
      ]
    },
    {
      "cell_type": "code",
      "source": [
        "\"{\"prod\": [\"12131\", \"213187\"]}\""
      ],
      "metadata": {
        "id": "Cul2TeQdHTVS"
      },
      "id": "Cul2TeQdHTVS",
      "execution_count": null,
      "outputs": []
    },
    {
      "cell_type": "code",
      "source": [
        "BeautifulSoup(input_list[0][1], 'html.parser')"
      ],
      "metadata": {
        "colab": {
          "base_uri": "https://localhost:8080/"
        },
        "id": "kxcXtMCsY45K",
        "outputId": "b865c790-cc7b-47e9-ebfa-b675b9cb3045"
      },
      "id": "kxcXtMCsY45K",
      "execution_count": null,
      "outputs": [
        {
          "output_type": "execute_result",
          "data": {
            "text/plain": [
              "<table><tr><td rowspan=\"2\">Product Code 260929 |</td><td>NDC Number</td><td></td><td>se Product Description</td><td>Contract Affected</td><td>PK | Size</td><td>Price/ | | Each</td><td>Price / PK</td></tr><tr><td></td><td>63323026929</td><td>Diprivan®</td><td>10mg/mL 1% 20mL SDV_ | 10 Pack</td><td>*New* Indiana University Health Sub WAC</td><td>10</td><td>$2.25 |</td><td>$22.50</td></tr><tr><td>260950 |</td><td>63323026950 |</td><td>a Diprivan®</td><td>9 10mg/mL 1% 50mL SDV</td><td>*New* Indiana University Health Sub WAC</td><td>20</td><td>$5.61 |</td><td>$112.20</td></tr><tr><td>260965 |</td><td>63323026965 |</td><td>a Diprivan®</td><td>9 10mg/mL 1% 100mL SDV</td><td>*New* Indiana University Health Sub WAC</td><td>10</td><td>$11.21</td><td>| $112.10</td></tr></table>"
            ]
          },
          "metadata": {},
          "execution_count": 10
        }
      ]
    },
    {
      "cell_type": "code",
      "source": [
        "# Converting the HTML table python dictionary\n",
        "\n",
        "# input_list[0][1]\n",
        "# def parse_html_table_to_dict(html):\n",
        "#     soup = BeautifulSoup(html, 'html.parser')\n",
        "#     table = soup.find('table')\n",
        "\n",
        "#     headers = [header.get_text(strip=True) for header in table.find_all('th')]  # Extract headers\n",
        "#     headers = [header if header else 'Unnamed' for header in headers]  # Handle unnamed headers\n",
        "\n",
        "#     rows = table.find_all('tr')\n",
        "#     if not headers:\n",
        "#         headers = [header.get_text(strip=True) for header in rows[0].find_all('td')]  # Use the first row as headers if no <th> tags\n",
        "\n",
        "#     data = {header: [] for header in headers}\n",
        "\n",
        "#     for row in rows[1:]:  # Skip the header row\n",
        "#         cells = row.find_all('td')\n",
        "#         for i, cell in enumerate(cells):\n",
        "#             # Ensure to not go out of range for columns\n",
        "#             if i < len(headers):\n",
        "#                 data[headers[i]].append(cell.get_text(strip=True))\n",
        "\n",
        "#     return data\n",
        "\n",
        "def parse_html_table_to_dict(html):\n",
        "    soup = BeautifulSoup(html, 'html.parser')\n",
        "    table = soup.find('table')\n",
        "\n",
        "    # Extract headers\n",
        "    header_row = table.find('tr')\n",
        "    headers = [header.get_text(strip=True) for header in header_row.find_all('td')]\n",
        "\n",
        "    # Initialize the dictionary with headers as keys and empty lists as values\n",
        "    data = {header: [] for header in headers}\n",
        "\n",
        "    # Process each row, skipping the header row\n",
        "    for row in table.find_all('tr')[1:]:\n",
        "        cells = row.find_all('td')\n",
        "        for header, cell in zip(headers, cells):\n",
        "            cell_text = cell.get_text(strip=True).replace('|', '').strip()\n",
        "            data[header].append(cell_text)\n",
        "\n",
        "    return data\n",
        "\n",
        "html_table = input_list[0][1]\n",
        "parsed_data = parse_html_table_to_dict(html_table)\n",
        "print(parsed_data)\n"
      ],
      "metadata": {
        "colab": {
          "base_uri": "https://localhost:8080/"
        },
        "id": "Zb8CNSOLYkEK",
        "outputId": "cd4b70e5-b846-4507-ac56-989c72b8b65f"
      },
      "id": "Zb8CNSOLYkEK",
      "execution_count": null,
      "outputs": [
        {
          "output_type": "stream",
          "name": "stdout",
          "text": [
            "{'Product Code 260929 |': ['', '260950', '260965'], 'NDC Number': ['63323026929', '63323026950', '63323026965'], '': ['Diprivan®', 'a Diprivan®', 'a Diprivan®'], 'se Product Description': ['10mg/mL 1% 20mL SDV_  10 Pack', '9 10mg/mL 1% 50mL SDV', '9 10mg/mL 1% 100mL SDV'], 'Contract Affected': ['*New* Indiana University Health Sub WAC', '*New* Indiana University Health Sub WAC', '*New* Indiana University Health Sub WAC'], 'PK | Size': ['10', '20', '10'], 'Price/ | | Each': ['$2.25', '$5.61', '$11.21'], 'Price / PK': ['$22.50', '$112.20', '$112.10']}\n"
          ]
        }
      ]
    },
    {
      "cell_type": "code",
      "source": [
        "# From previous 'parse_html_table_to_dict' implementation\n",
        "\n",
        "# parsed_data = parse_html_table_to_dict(html_table)\n",
        "# print(parsed_data)"
      ],
      "metadata": {
        "colab": {
          "base_uri": "https://localhost:8080/"
        },
        "id": "McPeyTWcaZ76",
        "outputId": "49f5918b-444e-43ce-951b-c3bab1143d45"
      },
      "id": "McPeyTWcaZ76",
      "execution_count": null,
      "outputs": [
        {
          "output_type": "stream",
          "name": "stdout",
          "text": [
            "{'Product Code 260929 |': ['', '260950 |', '260965 |'], 'NDC Number': ['63323026929', '63323026950 |', '63323026965 |'], '': ['Diprivan®', 'a Diprivan®', 'a Diprivan®'], 'se Product Description': ['10mg/mL 1% 20mL SDV_ | 10 Pack', '9 10mg/mL 1% 50mL SDV', '9 10mg/mL 1% 100mL SDV'], 'Contract Affected': ['*New* Indiana University Health Sub WAC', '*New* Indiana University Health Sub WAC', '*New* Indiana University Health Sub WAC'], 'PK | Size': ['10', '20', '10'], 'Price/ | | Each': ['$2.25 |', '$5.61 |', '$11.21'], 'Price / PK': ['$22.50', '$112.20', '| $112.10']}\n"
          ]
        }
      ]
    },
    {
      "cell_type": "markdown",
      "source": [
        "________\n",
        "## Ignore everything below this"
      ],
      "metadata": {
        "id": "nyRl5lK1pKVs"
      },
      "id": "nyRl5lK1pKVs"
    },
    {
      "cell_type": "code",
      "source": [
        "# !sudo apt-get update\n",
        "# !apt-get install poppler-utils\n",
        "# !apt install pkg-config tesseract-ocr\n",
        "\n",
        "# !apt-get install tesseract-ocr libtesseract-dev libleptonica-dev pkg-config\n",
        "# !pip install tesserocr"
      ],
      "metadata": {
        "colab": {
          "base_uri": "https://localhost:8080/"
        },
        "id": "VVrJo8g6fagn",
        "outputId": "66aa1a7d-e477-4c76-e92c-3bcb242f5b96"
      },
      "id": "VVrJo8g6fagn",
      "execution_count": null,
      "outputs": [
        {
          "output_type": "stream",
          "name": "stdout",
          "text": [
            "Collecting tesserocr\n",
            "  Downloading tesserocr-2.7.0-cp310-cp310-manylinux_2_28_x86_64.whl (5.0 MB)\n",
            "\u001b[2K     \u001b[90m━━━━━━━━━━━━━━━━━━━━━━━━━━━━━━━━━━━━━━━━\u001b[0m \u001b[32m5.0/5.0 MB\u001b[0m \u001b[31m16.1 MB/s\u001b[0m eta \u001b[36m0:00:00\u001b[0m\n",
            "\u001b[?25hInstalling collected packages: tesserocr\n",
            "Successfully installed tesserocr-2.7.0\n"
          ]
        }
      ]
    },
    {
      "cell_type": "code",
      "source": [
        "# !pip install jpype1\n",
        "# !pip install tabula-py\n",
        "# !pip install python-libmagic\n",
        "# !pip install poppler-utils\n",
        "# !pip install tesseract-ocr\n",
        "# !pip install unstructured\n",
        "# !pip install \"unstructured[pdf]\"\n",
        "# !pip install pdf2image pillow\n",
        "# !ls pharmacy_contracts/\n",
        "\n",
        "import os\n",
        "from IPython.display import HTML\n",
        "from pdf2image import convert_from_path\n",
        "from PIL import Image\n",
        "import matplotlib.pyplot as plt\n",
        "import unstructured\n",
        "from unstructured.partition.auto import partition\n",
        "import pypdf\n",
        "from tabula import read_pdf\n",
        "from unstructured.partition.pdf import partition_pdf\n",
        "import torch\n",
        "from llama_index.core import VectorStoreIndex, SimpleDirectoryReader\n",
        "from llama_index.llms.huggingface import HuggingFaceLLM\n",
        "from llama_index.core import Settings\n",
        "from llama_index.embeddings.fastembed import FastEmbedEmbedding\n",
        "from llama_index.core import PromptTemplate\n",
        "# from huggingface_hub.hf_api import HfFolder\n",
        "from llama_index.core import PromptTemplate\n",
        "from transformers import AutoModelForCausalLM, AutoTokenizer, pipeline\n",
        "\n",
        "def extract_and_plot_area(pdf_path, page_number, points):\n",
        "    \"\"\"\n",
        "    Extract and plot a specific area from a given page of a PDF using (x, y) points.\n",
        "\n",
        "    :param pdf_path: Path to the PDF file.\n",
        "    :param page_number: Page number to extract the area from (1-based index).\n",
        "    :param points: Tuple of (x, y) points defining the area to extract.\n",
        "    \"\"\"\n",
        "    # Convert the specified page to an image\n",
        "    images = convert_from_path(pdf_path, first_page=page_number, last_page=page_number)\n",
        "    if not images:\n",
        "        print(f\"Could not load page {page_number} from {pdf_path}\")\n",
        "        return\n",
        "\n",
        "    page_image = images[0]\n",
        "\n",
        "    # Determine the bounding box from the given points\n",
        "    x_coords, y_coords = zip(*points)\n",
        "    left, right = min(x_coords), max(x_coords)\n",
        "    top, bottom = min(y_coords), max(y_coords)\n",
        "\n",
        "    # Extract the specified area from the page image\n",
        "    cropped_image = page_image.crop((left, top, right, bottom))\n",
        "\n",
        "    plt.figure(figsize=(6, 6))\n",
        "    plt.imshow(cropped_image)\n",
        "    plt.axis('off')\n",
        "    plt.show()"
      ],
      "metadata": {
        "id": "z2QCELJllBDV",
        "colab": {
          "base_uri": "https://localhost:8080/"
        },
        "outputId": "0761efcd-5a1a-4bc3-9225-4fec7b87dfe9"
      },
      "id": "z2QCELJllBDV",
      "execution_count": null,
      "outputs": [
        {
          "output_type": "stream",
          "name": "stderr",
          "text": [
            "/usr/local/lib/python3.10/dist-packages/pydantic/_internal/_fields.py:160: UserWarning: Field \"model_id\" has conflict with protected namespace \"model_\".\n",
            "\n",
            "You may be able to resolve this warning by setting `model_config['protected_namespaces'] = ()`.\n",
            "  warnings.warn(\n"
          ]
        }
      ]
    },
    {
      "cell_type": "code",
      "source": [
        "contract_dir= \"pharmacy_contracts\"\n",
        "filenames = os.listdir(contract_dir)\n",
        "filepath = os.path.join(contract_dir, filenames[0])\n",
        "filepath"
      ],
      "metadata": {
        "colab": {
          "base_uri": "https://localhost:8080/",
          "height": 35
        },
        "id": "yieoVuioDarI",
        "outputId": "9080c550-bf72-4337-be0b-286cb6b7787e"
      },
      "id": "yieoVuioDarI",
      "execution_count": null,
      "outputs": [
        {
          "output_type": "execute_result",
          "data": {
            "text/plain": [
              "'pharmacy_contracts/fully executed FK Pharma Sub-WAC Purchase Agreement IU Subwac eff 2.1.2024 (final).pdf'"
            ],
            "application/vnd.google.colaboratory.intrinsic+json": {
              "type": "string"
            }
          },
          "metadata": {},
          "execution_count": 2
        }
      ]
    },
    {
      "cell_type": "markdown",
      "source": [
        "* Read Simple table"
      ],
      "metadata": {
        "id": "mAGCQmMDD26-"
      },
      "id": "mAGCQmMDD26-"
    },
    {
      "cell_type": "code",
      "source": [
        "file = read_pdf(filepath, pages=9)# Reads EXHIBIT A: Affiliates1\n",
        "abc = pypdf.PdfReader(filepath)\n",
        "abc.pages[9].extract_text()# Reads EXHIBIT B: Products and Sub-WAC Contract Pricing"
      ],
      "metadata": {
        "id": "dCzEkRQvD5Zo",
        "colab": {
          "base_uri": "https://localhost:8080/",
          "height": 125
        },
        "outputId": "d409676d-ef47-4b1c-9d6c-00017d35ec5e"
      },
      "id": "dCzEkRQvD5Zo",
      "execution_count": null,
      "outputs": [
        {
          "output_type": "execute_result",
          "data": {
            "text/plain": [
              "'Sub-WAC Purchase Agreement   \\n10 EXHIBIT B  \\nProducts  and Sub-WAC  Contract Pricing \\n \\n \\nProduct \\nCode  NDC \\nNumber  Product Description  Contract Affected  PK \\nSize Price / \\nEach  Price / \\nPK \\n260929  63323026929  Diprivan® 10mg/mL 1% 20mL SDV \\n10 Pack  *New* Indiana University \\nHealth Sub WAC  10 $2.25  $22.50  \\n260950  63323026950 Diprivan® 10mg/mL 1% 50mL SDV  *New* Indi ana University \\nHealth Sub WAC  20 $5.61  $112.20  \\n260965  63323026965  Diprivan® 10m g/mL 1% 100mL SDV  *New* Indiana University \\nHealth Sub WAC  10 $11.21  $112.10  \\nDocuSign Envelope ID: EC92692F-F598-45E4-8A34-D0E2AF0ADEBC\\nDocuSign Envelope ID: E2E09602-0B51-48EA-B5E6-2F41E57D8275'"
            ],
            "application/vnd.google.colaboratory.intrinsic+json": {
              "type": "string"
            }
          },
          "metadata": {},
          "execution_count": 3
        }
      ]
    },
    {
      "cell_type": "code",
      "source": [
        "elements = partition(filepath)\n",
        "elements[0].text"
      ],
      "metadata": {
        "colab": {
          "base_uri": "https://localhost:8080/",
          "height": 35
        },
        "id": "fT13u703I5MY",
        "outputId": "f6d68a51-a706-44d1-c011-8f248fe214e5"
      },
      "id": "fT13u703I5MY",
      "execution_count": null,
      "outputs": [
        {
          "output_type": "execute_result",
          "data": {
            "text/plain": [
              "'DocuSign Envelope ID: E2E09602-0B51-48EA-B5E6-2F41E57D8275'"
            ],
            "application/vnd.google.colaboratory.intrinsic+json": {
              "type": "string"
            }
          },
          "metadata": {},
          "execution_count": 10
        }
      ]
    },
    {
      "cell_type": "code",
      "source": [
        "len(elements)"
      ],
      "metadata": {
        "colab": {
          "base_uri": "https://localhost:8080/"
        },
        "id": "3q0PTz6XUtY2",
        "outputId": "cd96d928-d520-4738-f54d-e04e87f1b3fe"
      },
      "id": "3q0PTz6XUtY2",
      "execution_count": null,
      "outputs": [
        {
          "output_type": "execute_result",
          "data": {
            "text/plain": [
              "180"
            ]
          },
          "metadata": {},
          "execution_count": 11
        }
      ]
    },
    {
      "cell_type": "code",
      "source": [
        "for i, n in enumerate(elements):# Iterating over elements loaded through regular partition method\n",
        "  if isinstance(n, unstructured.documents.elements.NarrativeText):\n",
        "    print(f\"index: {i}: page_number: {n.metadata.page_number}| text: {n.text}\")"
      ],
      "metadata": {
        "colab": {
          "base_uri": "https://localhost:8080/"
        },
        "id": "pVi0pDivUzmr",
        "outputId": "6f15c54e-b6d7-4e74-af97-a01f63aed4e9"
      },
      "id": "pVi0pDivUzmr",
      "execution_count": null,
      "outputs": [
        {
          "output_type": "stream",
          "name": "stdout",
          "text": [
            "index: 5: page_number: 1| text: WHEREAS, Fresenius Kabi is in the business of developing, manufacturing and\n",
            "index: 6: page_number: 1| text: marketing pharmaceutical products;\n",
            "index: 7: page_number: 1| text: WHEREAS, Customer is a Hospital System that is authorized to negotiate pricing for pharmaceutical products and contract on behalf of its affiliated healthcare facilities and providers that are listed on Exhibit A, which is attached hereto and incorporated by reference (“Affiliates”);\n",
            "index: 8: page_number: 1| text: WHEREAS, the parties acknowledge and agree that the intent of this Agreement is to provide access to Products at Sub-WAC prices to assist Customer with its compliance obligations under applicable laws, including without limitation, the 340B statute (42 U.S.C.§ 256(b)) and its implementing regulations. Purchases under this Agreement are not subject to the terms and conditions of any agreement that Fresenius Kabi has with a GPO that Customer is associated with.\n",
            "index: 10: page_number: 1| text: good and valuable consideration hereinafter set forth, the Parties hereto agree as follows:\n",
            "index: 13: page_number: 1| text: Addition and Removal of Products. The Parties may mutually agree to add 2. additional products under this Agreement. Each additional product shall be deemed a “Product” under this Agreement and shall become subject to this Agreement upon execution\n",
            "index: 17: page_number: 2| text: by the Parties of an appropriate, mutually agreed-upon amendment. Fresenius Kabi, in its sole discretion, shall have the right, upon thirty (30) days prior written notice to Customer to change any or all of Products under this Agreement. In the event of an anticipated Product removal, and to the extent Fresenius Kabi has sufficient inventory to do so, Fresenius Kabi shall satisfy all purchase orders made by Customer and its Affiliates during the thirty (30) day notice period so long as such purchase orders do not exceed the purchasing entity’s orders for such Product in the Sixty (60) days prior to Customer’s receipt of such notice of Product removal.\n",
            "index: 21: page_number: 2| text: Standard Forms; Terms and Conditions. In ordering and delivering the Products, Fresenius Kabi or Customer and its Affiliates may employ their standard forms, but nothing in those forms shall be construed to modify, amend or supplement the terms of this Agreement and, in the case of any conflict, the terms of this Agreement shall control. To\n",
            "index: 26: page_number: 3| text: the extent they are not inconsistent with the terms of this Agreement, the standard Fresenius Kabi terms and conditions, available at https://www.fresenius- kabi.com/us/pharmaceutical-product-policies, as amended from time to time in Fresenius Kabi’s sole discretion, shall apply to Product purchases under this Agreement.\n",
            "index: 33: page_number: 4| text: Returned Goods. Products may be returned solely in accordance with Fresenius 8. Kabi’s current Standard End User Returned Goods Policy, available on-line at https://www.fresenius-kabi.com/us/pharmaceutical-product-policies, by Fresenius Kabi from time to time. In returning the Products, Fresenius Kabi or Customer and its Affiliates may employ their standard forms, but nothing in those forms shall be construed to modify, amend or supplement the terms of this Agreement and, in the case of any conflict, the terms of this Agreement shall control. To the extent applicable, any credits or refunded amounts for returned Product shall be based on the actual purchase price for such Product, as amended by any rebates or other post-invoice adjustments.\n",
            "index: 34: page_number: 4| text: revised\n",
            "index: 44: page_number: 5| text: § 1001.952(h) and the requirements of the discount statutory exception at 42 U.S.C. § 1320a-7b(b)(3)(A). If the value of any discount or reduction in price is unknown at the time of sale, Fresenius Kabi will provide documentation of the discount when it is known and identify the Product(s) to which it applies.\n",
            "index: 45: page_number: 5| text: Customer hereby agrees to provide reports to each Affiliate on a quarterly basis that state such Affiliate’s actual net price (inclusive of rebates and any other discounts) with respect to each Product and notify each Affiliate that it may be obligated to report the discount or other reduction in price pursuant to applicable laws and regulations, including but not limited to 42 U.S.C. § 1320a-7b(b)(3)(A) and 42 C.F.R. § 1001.952(h). Customer and its Affiliates shall retain appropriate documentation and disclose the discounts or reductions in price in accordance with such applicable laws and regulations.\n",
            "index: 47: page_number: 5| text: b) Customer and its Affiliates shall have systems in place to enable it to comply with all applicable requirements regarding suspect and illegitimate products, including the identification, investigation, verification, disposition and/or notification of these products. Customer and its Affiliates will comply with all requirements related to the investigation of suspect products once they are finalized.\n",
            "index: 48: page_number: 5| text: c) Customer and its Affiliates shall comply with all applicable requirements set forth in the DSCSA, including but not limited to those provided in this agreement.\n",
            "index: 49: page_number: 5| text: d) Unless expressly stated, all of the definitions in the section 581 apply to this\n",
            "index: 56: page_number: 6| text: Court in Abbott Laboratories, et al v. Portland Retail Druggist Association, Inc., 425 U.S. 1 (1976), subsequent case law, and the Federal Trade Commission. If Customer or any Affiliate fails to observe the terms of this section, Fresenius Kabi may, at its option, terminate Customer’s or such Affiliate’s privileges under this Agreement or take such other action as Fresenius Kabi deems appropriate. Customer agrees to indemnify Fresenius Kabi and hold Fresenius Kabi harmless from and against any loss, damage, cost and expense, including attorneys’ fees, with respect to any claim or demand arising from the breach of this section by Customer or any Affiliate.\n",
            "index: 59: page_number: 6| text: Except as otherwise expressly set forth in this Agreement, Customer shall indemnify, defend, and hold Fresenius Kabi, its affiliates, and its and their respective agents, employees and/or representatives harmless from and against, any and all Losses arising out of or related to (i) use of the Products by Customer or any Affiliate; (ii) Customer’s or any Affiliate’s negligence or willful misconduct; and/or (iii) Customer’s or any Affiliate’s breach of this Agreement, except to the extent any such Losses result from (a) Fresenius Kabi’s negligence or willful misconduct; or (b) a breach of Fresenius Kabi’s obligations under this Agreement.\n",
            "index: 60: page_number: 6| text: If any claims are made against Fresenius Kabi or Customer (including any Affiliate) as to which the indemnification provided in this Section 17 may apply, the Party claiming indemnification hereunder (the “Indemnified Party”) shall promptly notify the other Party (the “Indemnifying Party”) thereof in writing, and allow the Indemnifying Party and its insurers the opportunity to assume direction and control of the defense against such claims, at the Indemnifying Party’s sole expense, including, without limitation, the settlement thereof; provided, however, that neither Party may, without the written consent of the other Party, settle a claim or action if such settlement would impose any monetary or other material obligation on the other Party or require the other Party to submit to an injunction or otherwise limit the other Party’s rights. The Indemnified Party shall reasonably cooperate with the Indemnifying Party and its insurer in the disposition of any such matter at no out- of-pocket expense to the Indemnified Party. The Indemnified Party shall have the right to participate in the defense of any claim to which this Section 17 applies, at its sole expense.\n",
            "index: 65: page_number: 7| text: Insurance. Each Party (including all Affiliates) shall purchase, and maintain, at its 17. sole cost and expense, product liability insurance covering the Products with limits of not less than $1,000,000 per occurrence and $5,000,000 in aggregate. Upon the request, a Party shall provide the other with a certificate of insurance; provided, however, that a Party’s failure to make such a request shall in no way be construed to relieve the other Party from its obligation to procure such insurance coverage.\n",
            "index: 79: page_number: 8| text: IN WITNESS WHEREOF, the Parties have executed this Purchase Agreement to be\n",
            "index: 142: page_number: 9| text: 1 Affiliates may be added upon notification from Customer to Fresenius Kabi.\n"
          ]
        }
      ]
    },
    {
      "cell_type": "code",
      "source": [
        "elements[141].text"
      ],
      "metadata": {
        "colab": {
          "base_uri": "https://localhost:8080/",
          "height": 35
        },
        "id": "-8jfwXLzWuVX",
        "outputId": "b883e96b-a8b2-48bf-a75b-5d4fb31ecb21"
      },
      "id": "-8jfwXLzWuVX",
      "execution_count": null,
      "outputs": [
        {
          "output_type": "execute_result",
          "data": {
            "text/plain": [
              "'FI5116682 422H2KBF1'"
            ],
            "application/vnd.google.colaboratory.intrinsic+json": {
              "type": "string"
            }
          },
          "metadata": {},
          "execution_count": 30
        }
      ]
    },
    {
      "cell_type": "code",
      "source": [
        "for i, n in enumerate(elements):\n",
        "  print(f\"index : {i} | page number: {n.metadata.page_number}\")"
      ],
      "metadata": {
        "colab": {
          "base_uri": "https://localhost:8080/"
        },
        "id": "o31RxMTxI5hG",
        "outputId": "59faa837-25f8-4fbb-9e5d-1ccfce68015c"
      },
      "id": "o31RxMTxI5hG",
      "execution_count": null,
      "outputs": [
        {
          "output_type": "stream",
          "name": "stdout",
          "text": [
            "index : 0 | page number: 1\n",
            "index : 1 | page number: 1\n",
            "index : 2 | page number: 1\n",
            "index : 3 | page number: 1\n",
            "index : 4 | page number: 1\n",
            "index : 5 | page number: 1\n",
            "index : 6 | page number: 1\n",
            "index : 7 | page number: 1\n",
            "index : 8 | page number: 1\n",
            "index : 9 | page number: 1\n",
            "index : 10 | page number: 1\n",
            "index : 11 | page number: 1\n",
            "index : 12 | page number: 1\n",
            "index : 13 | page number: 1\n",
            "index : 14 | page number: 2\n",
            "index : 15 | page number: 2\n",
            "index : 16 | page number: 2\n",
            "index : 17 | page number: 2\n",
            "index : 18 | page number: 2\n",
            "index : 19 | page number: 2\n",
            "index : 20 | page number: 2\n",
            "index : 21 | page number: 2\n",
            "index : 22 | page number: 2\n",
            "index : 23 | page number: 3\n",
            "index : 24 | page number: 3\n",
            "index : 25 | page number: 3\n",
            "index : 26 | page number: 3\n",
            "index : 27 | page number: 3\n",
            "index : 28 | page number: 3\n",
            "index : 29 | page number: 3\n",
            "index : 30 | page number: 4\n",
            "index : 31 | page number: 4\n",
            "index : 32 | page number: 4\n",
            "index : 33 | page number: 4\n",
            "index : 34 | page number: 4\n",
            "index : 35 | page number: 4\n",
            "index : 36 | page number: 4\n",
            "index : 37 | page number: 4\n",
            "index : 38 | page number: 4\n",
            "index : 39 | page number: 4\n",
            "index : 40 | page number: 4\n",
            "index : 41 | page number: 5\n",
            "index : 42 | page number: 5\n",
            "index : 43 | page number: 5\n",
            "index : 44 | page number: 5\n",
            "index : 45 | page number: 5\n",
            "index : 46 | page number: 5\n",
            "index : 47 | page number: 5\n",
            "index : 48 | page number: 5\n",
            "index : 49 | page number: 5\n",
            "index : 50 | page number: 5\n",
            "index : 51 | page number: 5\n",
            "index : 52 | page number: 5\n",
            "index : 53 | page number: 6\n",
            "index : 54 | page number: 6\n",
            "index : 55 | page number: 6\n",
            "index : 56 | page number: 6\n",
            "index : 57 | page number: 6\n",
            "index : 58 | page number: 6\n",
            "index : 59 | page number: 6\n",
            "index : 60 | page number: 6\n",
            "index : 61 | page number: 6\n",
            "index : 62 | page number: 7\n",
            "index : 63 | page number: 7\n",
            "index : 64 | page number: 7\n",
            "index : 65 | page number: 7\n",
            "index : 66 | page number: 7\n",
            "index : 67 | page number: 7\n",
            "index : 68 | page number: 7\n",
            "index : 69 | page number: 7\n",
            "index : 70 | page number: 7\n",
            "index : 71 | page number: 7\n",
            "index : 72 | page number: 7\n",
            "index : 73 | page number: 7\n",
            "index : 74 | page number: 7\n",
            "index : 75 | page number: 7\n",
            "index : 76 | page number: 8\n",
            "index : 77 | page number: 8\n",
            "index : 78 | page number: 8\n",
            "index : 79 | page number: 8\n",
            "index : 80 | page number: 8\n",
            "index : 81 | page number: 8\n",
            "index : 82 | page number: 8\n",
            "index : 83 | page number: 8\n",
            "index : 84 | page number: 8\n",
            "index : 85 | page number: 8\n",
            "index : 86 | page number: 8\n",
            "index : 87 | page number: 8\n",
            "index : 88 | page number: 8\n",
            "index : 89 | page number: 8\n",
            "index : 90 | page number: 8\n",
            "index : 91 | page number: 8\n",
            "index : 92 | page number: 8\n",
            "index : 93 | page number: 8\n",
            "index : 94 | page number: 8\n",
            "index : 95 | page number: 9\n",
            "index : 96 | page number: 9\n",
            "index : 97 | page number: 9\n",
            "index : 98 | page number: 9\n",
            "index : 99 | page number: 9\n",
            "index : 100 | page number: 9\n",
            "index : 101 | page number: 9\n",
            "index : 102 | page number: 9\n",
            "index : 103 | page number: 9\n",
            "index : 104 | page number: 9\n",
            "index : 105 | page number: 9\n",
            "index : 106 | page number: 9\n",
            "index : 107 | page number: 9\n",
            "index : 108 | page number: 9\n",
            "index : 109 | page number: 9\n",
            "index : 110 | page number: 9\n",
            "index : 111 | page number: 9\n",
            "index : 112 | page number: 9\n",
            "index : 113 | page number: 9\n",
            "index : 114 | page number: 9\n",
            "index : 115 | page number: 9\n",
            "index : 116 | page number: 9\n",
            "index : 117 | page number: 9\n",
            "index : 118 | page number: 9\n",
            "index : 119 | page number: 9\n",
            "index : 120 | page number: 9\n",
            "index : 121 | page number: 9\n",
            "index : 122 | page number: 9\n",
            "index : 123 | page number: 9\n",
            "index : 124 | page number: 9\n",
            "index : 125 | page number: 9\n",
            "index : 126 | page number: 9\n",
            "index : 127 | page number: 9\n",
            "index : 128 | page number: 9\n",
            "index : 129 | page number: 9\n",
            "index : 130 | page number: 9\n",
            "index : 131 | page number: 9\n",
            "index : 132 | page number: 9\n",
            "index : 133 | page number: 9\n",
            "index : 134 | page number: 9\n",
            "index : 135 | page number: 9\n",
            "index : 136 | page number: 9\n",
            "index : 137 | page number: 9\n",
            "index : 138 | page number: 9\n",
            "index : 139 | page number: 9\n",
            "index : 140 | page number: 9\n",
            "index : 141 | page number: 9\n",
            "index : 142 | page number: 9\n",
            "index : 143 | page number: 9\n",
            "index : 144 | page number: 10\n",
            "index : 145 | page number: 10\n",
            "index : 146 | page number: 10\n",
            "index : 147 | page number: 10\n",
            "index : 148 | page number: 10\n",
            "index : 149 | page number: 10\n",
            "index : 150 | page number: 10\n",
            "index : 151 | page number: 10\n",
            "index : 152 | page number: 10\n",
            "index : 153 | page number: 10\n",
            "index : 154 | page number: 10\n",
            "index : 155 | page number: 10\n",
            "index : 156 | page number: 10\n",
            "index : 157 | page number: 10\n",
            "index : 158 | page number: 10\n",
            "index : 159 | page number: 10\n",
            "index : 160 | page number: 10\n",
            "index : 161 | page number: 10\n",
            "index : 162 | page number: 10\n",
            "index : 163 | page number: 10\n",
            "index : 164 | page number: 10\n",
            "index : 165 | page number: 10\n",
            "index : 166 | page number: 10\n",
            "index : 167 | page number: 10\n",
            "index : 168 | page number: 10\n",
            "index : 169 | page number: 10\n",
            "index : 170 | page number: 10\n",
            "index : 171 | page number: 10\n",
            "index : 172 | page number: 10\n",
            "index : 173 | page number: 11\n",
            "index : 174 | page number: 11\n",
            "index : 175 | page number: 11\n",
            "index : 176 | page number: 11\n",
            "index : 177 | page number: 11\n",
            "index : 178 | page number: 11\n",
            "index : 179 | page number: 11\n"
          ]
        }
      ]
    },
    {
      "cell_type": "markdown",
      "source": [
        "* Index  95:143 contains Page 9 content which is mostly a table with only little prior text"
      ],
      "metadata": {
        "id": "ybBHjP0zXc1U"
      },
      "id": "ybBHjP0zXc1U"
    },
    {
      "cell_type": "code",
      "source": [
        "for i in range(95, 144):#iterates on elements[95:143]\n",
        "  print(f\"index: {i} | type: {type(elements[i])} | text: {elements[i].text}\")"
      ],
      "metadata": {
        "colab": {
          "base_uri": "https://localhost:8080/"
        },
        "id": "heOEgSg9I5nt",
        "outputId": "9fb7974a-abe2-474d-a32b-51aa90e6ab26"
      },
      "id": "heOEgSg9I5nt",
      "execution_count": null,
      "outputs": [
        {
          "output_type": "stream",
          "name": "stdout",
          "text": [
            "index: 95 | type: <class 'unstructured.documents.elements.Title'> | text: DocuSign Envelope ID: EC92692F-F598-45E4-8A34-D0E2AF0ADEBC\n",
            "index: 96 | type: <class 'unstructured.documents.elements.Title'> | text: DocuSign Envelope ID: E2E09602-0B51-48EA-B5E6-2F41E57D8275\n",
            "index: 97 | type: <class 'unstructured.documents.elements.Header'> | text: Sub-WAC Purchase Agreement\n",
            "index: 98 | type: <class 'unstructured.documents.elements.Title'> | text: EXHIBIT A\n",
            "index: 99 | type: <class 'unstructured.documents.elements.Title'> | text: Affiliates1\n",
            "index: 100 | type: <class 'unstructured.documents.elements.Title'> | text: FK Account #\n",
            "index: 101 | type: <class 'unstructured.documents.elements.Title'> | text: Facility Name\n",
            "index: 102 | type: <class 'unstructured.documents.elements.Title'> | text: Address\n",
            "index: 103 | type: <class 'unstructured.documents.elements.Title'> | text: HIN\n",
            "index: 104 | type: <class 'unstructured.documents.elements.Title'> | text: DEA\n",
            "index: 105 | type: <class 'unstructured.documents.elements.Title'> | text: 2401 University Drive, Muncie, IN 47303\n",
            "index: 106 | type: <class 'unstructured.documents.elements.Text'> | text: 600929\n",
            "index: 107 | type: <class 'unstructured.documents.elements.Text'> | text: AB2645464\n",
            "index: 108 | type: <class 'unstructured.documents.elements.Title'> | text: IU Health Ball Memorial\n",
            "index: 109 | type: <class 'unstructured.documents.elements.Text'> | text: 4211008F6\n",
            "index: 110 | type: <class 'unstructured.documents.elements.Text'> | text: 2651 E Discovery Pkwy, Bloomington, IN 47408 1701 N Senate Blvd, Indianapolis, IN 46206\n",
            "index: 111 | type: <class 'unstructured.documents.elements.Text'> | text: 600066\n",
            "index: 112 | type: <class 'unstructured.documents.elements.Title'> | text: IU Health Bloomington\n",
            "index: 113 | type: <class 'unstructured.documents.elements.Text'> | text: AB2687284 0GJ71QX00\n",
            "index: 114 | type: <class 'unstructured.documents.elements.Title'> | text: BC5175535 FED2VTWF3\n",
            "index: 115 | type: <class 'unstructured.documents.elements.Text'> | text: 70385001\n",
            "index: 116 | type: <class 'unstructured.documents.elements.Title'> | text: IU Health Methodist\n",
            "index: 117 | type: <class 'unstructured.documents.elements.Text'> | text: 13000 136th Street, Fishers, IN 46037 390 Airtech Pkwy Suite 106B, Plainfield, IN 46168-7455\n",
            "index: 118 | type: <class 'unstructured.documents.elements.Text'> | text: 403914\n",
            "index: 119 | type: <class 'unstructured.documents.elements.Text'> | text: FI2888115 98G43HL00\n",
            "index: 120 | type: <class 'unstructured.documents.elements.Title'> | text: IU Health Saxony\n",
            "index: 121 | type: <class 'unstructured.documents.elements.Title'> | text: IU Health Shared Services Pharmacy\n",
            "index: 122 | type: <class 'unstructured.documents.elements.Text'> | text: 400528016\n",
            "index: 123 | type: <class 'unstructured.documents.elements.Text'> | text: FI2501751 D874BGN00\n",
            "index: 124 | type: <class 'unstructured.documents.elements.Text'> | text: 550 N University Blvd, Indianapolis, IN 46202 705 Riley Hospital Drive, Indianapolis, IN 46202 6845 Rama Drive, Indianapolis, IN 46219\n",
            "index: 125 | type: <class 'unstructured.documents.elements.Title'> | text: IU Health University\n",
            "index: 126 | type: <class 'unstructured.documents.elements.Text'> | text: 66279601\n",
            "index: 127 | type: <class 'unstructured.documents.elements.Text'> | text: BC5175561 BGRMLH600\n",
            "index: 128 | type: <class 'unstructured.documents.elements.Title'> | text: Riley Hospital for Children at IU Health\n",
            "index: 129 | type: <class 'unstructured.documents.elements.Text'> | text: BC5175511\n",
            "index: 130 | type: <class 'unstructured.documents.elements.Text'> | text: 736370\n",
            "index: 131 | type: <class 'unstructured.documents.elements.Title'> | text: IU Health Hem Onc - East Pharmacy\n",
            "index: 132 | type: <class 'unstructured.documents.elements.Text'> | text: 40052807\n",
            "index: 133 | type: <class 'unstructured.documents.elements.Title'> | text: L2AREDFF2\n",
            "index: 134 | type: <class 'unstructured.documents.elements.Text'> | text: BA3876438\n",
            "index: 135 | type: <class 'unstructured.documents.elements.Title'> | text: IU Health Hem Onc - Fishers Pharmacy\n",
            "index: 136 | type: <class 'unstructured.documents.elements.Text'> | text: 10212 Lantern Drive, Fishers, IN 46037 2209 John R Wooden Drive, Martinsville, IN 46151\n",
            "index: 137 | type: <class 'unstructured.documents.elements.Title'> | text: BW8232477 E4FLJCDF1\n",
            "index: 138 | type: <class 'unstructured.documents.elements.Text'> | text: 40052808\n",
            "index: 139 | type: <class 'unstructured.documents.elements.Text'> | text: 748974\n",
            "index: 140 | type: <class 'unstructured.documents.elements.Title'> | text: IU Health Morgan\n",
            "index: 141 | type: <class 'unstructured.documents.elements.Text'> | text: FI5116682 422H2KBF1\n",
            "index: 142 | type: <class 'unstructured.documents.elements.NarrativeText'> | text: 1 Affiliates may be added upon notification from Customer to Fresenius Kabi.\n",
            "index: 143 | type: <class 'unstructured.documents.elements.Footer'> | text: 9\n"
          ]
        }
      ]
    },
    {
      "cell_type": "code",
      "source": [
        "new_elements = partition_pdf(filename=filepath)\n",
        "len(new_elements)"
      ],
      "metadata": {
        "colab": {
          "base_uri": "https://localhost:8080/"
        },
        "id": "ZBjdy_5yegGy",
        "outputId": "36c8801d-5630-4aa9-b7cb-3b8df572d648"
      },
      "id": "ZBjdy_5yegGy",
      "execution_count": null,
      "outputs": [
        {
          "output_type": "execute_result",
          "data": {
            "text/plain": [
              "180"
            ]
          },
          "metadata": {},
          "execution_count": 52
        }
      ]
    },
    {
      "cell_type": "code",
      "source": [
        "new_elements = partition_pdf(filename=filepath, strategy=\"hi_res\")#, languages=[\"eng\", \"swe\"])\n",
        "len(new_elements)#, new_elements"
      ],
      "metadata": {
        "colab": {
          "base_uri": "https://localhost:8080/"
        },
        "id": "lmWz6mdxh-n1",
        "outputId": "604b3326-52ef-4119-a0d2-e25be86d8a30"
      },
      "id": "lmWz6mdxh-n1",
      "execution_count": null,
      "outputs": [
        {
          "output_type": "execute_result",
          "data": {
            "text/plain": [
              "119"
            ]
          },
          "metadata": {},
          "execution_count": 69
        }
      ]
    },
    {
      "cell_type": "code",
      "source": [
        "new_elements[:20]"
      ],
      "metadata": {
        "colab": {
          "base_uri": "https://localhost:8080/"
        },
        "id": "GBKweuORilFV",
        "outputId": "14551ee7-2a8e-46a6-f408-bb85a412b128"
      },
      "id": "GBKweuORilFV",
      "execution_count": null,
      "outputs": [
        {
          "output_type": "execute_result",
          "data": {
            "text/plain": [
              "[<unstructured.documents.elements.Header at 0x784634b75ea0>,\n",
              " <unstructured.documents.elements.Title at 0x784634b75480>,\n",
              " <unstructured.documents.elements.NarrativeText at 0x784634b779d0>,\n",
              " <unstructured.documents.elements.Title at 0x784634b74670>,\n",
              " <unstructured.documents.elements.NarrativeText at 0x784634b75b40>,\n",
              " <unstructured.documents.elements.NarrativeText at 0x784634b76080>,\n",
              " <unstructured.documents.elements.NarrativeText at 0x784634b768f0>,\n",
              " <unstructured.documents.elements.NarrativeText at 0x784634b755a0>,\n",
              " <unstructured.documents.elements.Title at 0x784634f82b30>,\n",
              " <unstructured.documents.elements.NarrativeText at 0x784634f81f90>,\n",
              " <unstructured.documents.elements.NarrativeText at 0x784634f803a0>,\n",
              " <unstructured.documents.elements.NarrativeText at 0x784634f82a40>,\n",
              " <unstructured.documents.elements.Header at 0x784634f81630>,\n",
              " <unstructured.documents.elements.NarrativeText at 0x784634f81bd0>,\n",
              " <unstructured.documents.elements.NarrativeText at 0x784634f81e10>,\n",
              " <unstructured.documents.elements.NarrativeText at 0x784634f83010>,\n",
              " <unstructured.documents.elements.NarrativeText at 0x784634f81300>,\n",
              " <unstructured.documents.elements.NarrativeText at 0x784634f823e0>,\n",
              " <unstructured.documents.elements.NarrativeText at 0x784634f832b0>,\n",
              " <unstructured.documents.elements.NarrativeText at 0x784634f82f20>]"
            ]
          },
          "metadata": {},
          "execution_count": 74
        }
      ]
    },
    {
      "cell_type": "code",
      "source": [
        "new_elements[1].text"
      ],
      "metadata": {
        "colab": {
          "base_uri": "https://localhost:8080/",
          "height": 35
        },
        "id": "OmM1oGbJiqYR",
        "outputId": "538b6486-c549-4938-c8c5-9c6e214631d8"
      },
      "id": "OmM1oGbJiqYR",
      "execution_count": null,
      "outputs": [
        {
          "output_type": "execute_result",
          "data": {
            "text/plain": [
              "'SUB-WAC PURCHASE AGREEMENT'"
            ],
            "application/vnd.google.colaboratory.intrinsic+json": {
              "type": "string"
            }
          },
          "metadata": {},
          "execution_count": 76
        }
      ]
    },
    {
      "cell_type": "code",
      "source": [
        "for i, n in enumerate(new_elements):# Iterating over elements loaded through regular partition method\n",
        "  if isinstance(n, unstructured.documents.elements.Image):\n",
        "    v=n\n",
        "    print(f\"index: {i}: page_number: {n.metadata.page_number}\")# Signatures from page# 8"
      ],
      "metadata": {
        "colab": {
          "base_uri": "https://localhost:8080/"
        },
        "id": "XXXZ7bS9iVK_",
        "outputId": "93bbd8a4-ce82-47c3-dbbe-7d04e08f8fd5"
      },
      "id": "XXXZ7bS9iVK_",
      "execution_count": null,
      "outputs": [
        {
          "output_type": "stream",
          "name": "stdout",
          "text": [
            "index: 73: page_number: 8\n",
            "index: 76: page_number: 8\n",
            "index: 87: page_number: 8\n"
          ]
        }
      ]
    },
    {
      "cell_type": "code",
      "source": [
        "type(v)"
      ],
      "metadata": {
        "colab": {
          "base_uri": "https://localhost:8080/"
        },
        "id": "rev_p-pFjNPJ",
        "outputId": "413b8c9c-aaed-4781-d3f8-aa1e2f9bb773"
      },
      "id": "rev_p-pFjNPJ",
      "execution_count": null,
      "outputs": [
        {
          "output_type": "execute_result",
          "data": {
            "text/plain": [
              "unstructured.documents.elements.Image"
            ]
          },
          "metadata": {},
          "execution_count": 87
        }
      ]
    },
    {
      "cell_type": "code",
      "source": [
        "new_elements[101].text"
      ],
      "metadata": {
        "colab": {
          "base_uri": "https://localhost:8080/",
          "height": 35
        },
        "id": "W9wb9inFlHZZ",
        "outputId": "97a446e9-c474-47e0-d246-5c6cd23abae6"
      },
      "id": "W9wb9inFlHZZ",
      "execution_count": null,
      "outputs": [
        {
          "output_type": "execute_result",
          "data": {
            "text/plain": [
              "'BC5175561 BGRMLH600'"
            ],
            "application/vnd.google.colaboratory.intrinsic+json": {
              "type": "string"
            }
          },
          "metadata": {},
          "execution_count": 91
        }
      ]
    },
    {
      "cell_type": "code",
      "source": [
        "contract_dir, filepath"
      ],
      "metadata": {
        "colab": {
          "base_uri": "https://localhost:8080/"
        },
        "id": "pRO_S2tglgKb",
        "outputId": "c89158e1-1283-4036-ec4b-349817b1b70d"
      },
      "id": "pRO_S2tglgKb",
      "execution_count": null,
      "outputs": [
        {
          "output_type": "execute_result",
          "data": {
            "text/plain": [
              "('pharmacy_contracts',\n",
              " 'pharmacy_contracts/fully executed FK Pharma Sub-WAC Purchase Agreement IU Subwac eff 2.1.2024 (final).pdf')"
            ]
          },
          "metadata": {},
          "execution_count": 93
        }
      ]
    },
    {
      "cell_type": "code",
      "source": [
        "os.listdir(f\"{contract_dir}/images\")"
      ],
      "metadata": {
        "colab": {
          "base_uri": "https://localhost:8080/"
        },
        "id": "sn4BJjDulptB",
        "outputId": "94de2787-21b0-419a-fb80-c35ee6c5e378"
      },
      "id": "sn4BJjDulptB",
      "execution_count": null,
      "outputs": [
        {
          "output_type": "execute_result",
          "data": {
            "text/plain": [
              "[]"
            ]
          },
          "metadata": {},
          "execution_count": 95
        }
      ]
    },
    {
      "cell_type": "markdown",
      "source": [
        "### A document image analysis model with strategy  set to `hi_res` is used. This identifies the layout of the document using `detectron2`"
      ],
      "metadata": {
        "id": "fmMhQaM4tbbW"
      },
      "id": "fmMhQaM4tbbW"
    },
    {
      "cell_type": "code",
      "source": [
        "new_elements = partition_pdf(filename=filepath,\n",
        "                             strategy=\"hi_res\",\n",
        "                             infer_table_structure=True,\n",
        "                             languages=[\"eng\"])\n",
        "                            #  extract_images_in_pdf=True,\n",
        "                            #  extract_image_block_types=[\"Image\", \"Table\"],\n",
        "                            #  extract_image_block_to_payload=False,\n",
        "                            #   extract_image_block_output_dir=f\"{contract_dir}/images\")\n"
      ],
      "metadata": {
        "colab": {
          "base_uri": "https://localhost:8080/",
          "height": 155,
          "referenced_widgets": [
            "7057192bd62943f79ca7f497f9347183",
            "f3795380f0f548b3a28ded2ace097532",
            "49144fc221c04205b2a01b39e66c4f8e",
            "f39d359b8e6d4ee08858980cb5395d90",
            "e1684035cbe94de69a03bdc119e030e6",
            "c0100d64d386484f8a5c82c9abd65a86",
            "464fa7d924114a40b7f2afecf4dc65b5",
            "ad4b71412b2e4ac490919982ea918092",
            "b517f386f96a4c0fb7033515f4356701",
            "daa98be47efa4dc78cf6480bb8067ab6",
            "5f89eefc6430480595a3574cd69022fa",
            "db76be584b884ddebbd188afe691c520",
            "83b95359601e4384a1429a6f2541d35d",
            "68e6f4a55603483cacd9e63724a242bb",
            "69e55bd55f3241babb68e9ffc64127e9",
            "302231b88c674c6996e5602e7c020e28",
            "4b43dbfab1dd427ea8f77038ba806a5c",
            "1ae832caec1844b4b021eb2be7e0e941",
            "37a65a95cfe64100a62958bcdceafa72",
            "18ee6d356bb5462f862d61afb0451159",
            "4cf0a79373204b1cb29a1ed56e355d79",
            "e11f187b03884de6862a0c377612f98d"
          ]
        },
        "id": "N2CFrbHBatgn",
        "outputId": "0771ea1b-43c4-427d-cc0b-3be90de22f73"
      },
      "id": "N2CFrbHBatgn",
      "execution_count": null,
      "outputs": [
        {
          "output_type": "display_data",
          "data": {
            "text/plain": [
              "model.safetensors:   0%|          | 0.00/115M [00:00<?, ?B/s]"
            ],
            "application/vnd.jupyter.widget-view+json": {
              "version_major": 2,
              "version_minor": 0,
              "model_id": "7057192bd62943f79ca7f497f9347183"
            }
          },
          "metadata": {}
        },
        {
          "output_type": "display_data",
          "data": {
            "text/plain": [
              "model.safetensors:   0%|          | 0.00/46.8M [00:00<?, ?B/s]"
            ],
            "application/vnd.jupyter.widget-view+json": {
              "version_major": 2,
              "version_minor": 0,
              "model_id": "db76be584b884ddebbd188afe691c520"
            }
          },
          "metadata": {}
        },
        {
          "output_type": "stream",
          "name": "stderr",
          "text": [
            "Some weights of the model checkpoint at microsoft/table-transformer-structure-recognition were not used when initializing TableTransformerForObjectDetection: ['model.backbone.conv_encoder.model.layer2.0.downsample.1.num_batches_tracked', 'model.backbone.conv_encoder.model.layer3.0.downsample.1.num_batches_tracked', 'model.backbone.conv_encoder.model.layer4.0.downsample.1.num_batches_tracked']\n",
            "- This IS expected if you are initializing TableTransformerForObjectDetection from the checkpoint of a model trained on another task or with another architecture (e.g. initializing a BertForSequenceClassification model from a BertForPreTraining model).\n",
            "- This IS NOT expected if you are initializing TableTransformerForObjectDetection from the checkpoint of a model that you expect to be exactly identical (initializing a BertForSequenceClassification model from a BertForSequenceClassification model).\n"
          ]
        }
      ]
    },
    {
      "cell_type": "code",
      "source": [
        "filepath"
      ],
      "metadata": {
        "colab": {
          "base_uri": "https://localhost:8080/",
          "height": 35
        },
        "id": "zS6OT-pA0XpY",
        "outputId": "7bed93a9-7525-4024-a017-e2ff563a9f22"
      },
      "id": "zS6OT-pA0XpY",
      "execution_count": null,
      "outputs": [
        {
          "output_type": "execute_result",
          "data": {
            "text/plain": [
              "'pharmacy_contracts/fully executed FK Pharma Sub-WAC Purchase Agreement IU Subwac eff 2.1.2024 (final).pdf'"
            ],
            "application/vnd.google.colaboratory.intrinsic+json": {
              "type": "string"
            }
          },
          "metadata": {},
          "execution_count": 5
        }
      ]
    },
    {
      "cell_type": "code",
      "source": [
        "len(new_elements), new_elements"
      ],
      "metadata": {
        "colab": {
          "base_uri": "https://localhost:8080/"
        },
        "id": "mmpMY1_wm14O",
        "outputId": "61b4872b-2233-4afc-9aa5-f8a77be82dfb"
      },
      "id": "mmpMY1_wm14O",
      "execution_count": null,
      "outputs": [
        {
          "output_type": "execute_result",
          "data": {
            "text/plain": [
              "(119,\n",
              " [<unstructured.documents.elements.Header at 0x7845b1b04e50>,\n",
              "  <unstructured.documents.elements.Title at 0x7845b1baeb60>,\n",
              "  <unstructured.documents.elements.NarrativeText at 0x7845b1bac6a0>,\n",
              "  <unstructured.documents.elements.Title at 0x7845b1badd50>,\n",
              "  <unstructured.documents.elements.NarrativeText at 0x7845b1bae0e0>,\n",
              "  <unstructured.documents.elements.NarrativeText at 0x7845b1baf4c0>,\n",
              "  <unstructured.documents.elements.NarrativeText at 0x7845b1badf60>,\n",
              "  <unstructured.documents.elements.NarrativeText at 0x7845b1bad0c0>,\n",
              "  <unstructured.documents.elements.Title at 0x7845b1bacdc0>,\n",
              "  <unstructured.documents.elements.NarrativeText at 0x7845b1bad660>,\n",
              "  <unstructured.documents.elements.NarrativeText at 0x7845b1bae200>,\n",
              "  <unstructured.documents.elements.NarrativeText at 0x7845b1bad5a0>,\n",
              "  <unstructured.documents.elements.Header at 0x7845b1bada20>,\n",
              "  <unstructured.documents.elements.NarrativeText at 0x7845b1bad2a0>,\n",
              "  <unstructured.documents.elements.NarrativeText at 0x7845b1bac460>,\n",
              "  <unstructured.documents.elements.NarrativeText at 0x7845b1bad7e0>,\n",
              "  <unstructured.documents.elements.NarrativeText at 0x7845b1bacc10>,\n",
              "  <unstructured.documents.elements.NarrativeText at 0x7845b1bad750>,\n",
              "  <unstructured.documents.elements.NarrativeText at 0x7845b1bad1e0>,\n",
              "  <unstructured.documents.elements.NarrativeText at 0x7845b1bae8c0>,\n",
              "  <unstructured.documents.elements.Text at 0x7845bc82e440>,\n",
              "  <unstructured.documents.elements.Header at 0x7845b1bad3c0>,\n",
              "  <unstructured.documents.elements.NarrativeText at 0x7845b1bae380>,\n",
              "  <unstructured.documents.elements.NarrativeText at 0x7845bc97b2e0>,\n",
              "  <unstructured.documents.elements.NarrativeText at 0x7845bc979c60>,\n",
              "  <unstructured.documents.elements.NarrativeText at 0x7845bc97b340>,\n",
              "  <unstructured.documents.elements.Text at 0x7845bc82e860>,\n",
              "  <unstructured.documents.elements.Header at 0x7845bc979870>,\n",
              "  <unstructured.documents.elements.NarrativeText at 0x7845bc97a4d0>,\n",
              "  <unstructured.documents.elements.NarrativeText at 0x7845bc97a320>,\n",
              "  <unstructured.documents.elements.NarrativeText at 0x7845bc97a080>,\n",
              "  <unstructured.documents.elements.NarrativeText at 0x7845bc97a830>,\n",
              "  <unstructured.documents.elements.NarrativeText at 0x7845bc97a6e0>,\n",
              "  <unstructured.documents.elements.NarrativeText at 0x7845bc97aa40>,\n",
              "  <unstructured.documents.elements.Text at 0x7845bc82e8f0>,\n",
              "  <unstructured.documents.elements.Header at 0x7845bc978ee0>,\n",
              "  <unstructured.documents.elements.NarrativeText at 0x7845bc97b370>,\n",
              "  <unstructured.documents.elements.NarrativeText at 0x7845bc9793f0>,\n",
              "  <unstructured.documents.elements.NarrativeText at 0x7845bc979120>,\n",
              "  <unstructured.documents.elements.NarrativeText at 0x7845bc979fc0>,\n",
              "  <unstructured.documents.elements.ListItem at 0x7845bc97aa10>,\n",
              "  <unstructured.documents.elements.ListItem at 0x7845bc97a260>,\n",
              "  <unstructured.documents.elements.ListItem at 0x7845bc97ab30>,\n",
              "  <unstructured.documents.elements.ListItem at 0x7845bcab2bc0>,\n",
              "  <unstructured.documents.elements.NarrativeText at 0x7845bcab22c0>,\n",
              "  <unstructured.documents.elements.NarrativeText at 0x7845bcab2f50>,\n",
              "  <unstructured.documents.elements.Text at 0x7845bc82da20>,\n",
              "  <unstructured.documents.elements.Header at 0x7845bcab2320>,\n",
              "  <unstructured.documents.elements.NarrativeText at 0x7845bcab10f0>,\n",
              "  <unstructured.documents.elements.NarrativeText at 0x7845bcab26b0>,\n",
              "  <unstructured.documents.elements.NarrativeText at 0x7845bcab3130>,\n",
              "  <unstructured.documents.elements.NarrativeText at 0x7845bc2d1480>,\n",
              "  <unstructured.documents.elements.NarrativeText at 0x7845bcac3fd0>,\n",
              "  <unstructured.documents.elements.NarrativeText at 0x7845bcac1990>,\n",
              "  <unstructured.documents.elements.Text at 0x7845bc82c100>,\n",
              "  <unstructured.documents.elements.Header at 0x7845bcac3b50>,\n",
              "  <unstructured.documents.elements.NarrativeText at 0x7845bcac3490>,\n",
              "  <unstructured.documents.elements.NarrativeText at 0x7845bcac00a0>,\n",
              "  <unstructured.documents.elements.NarrativeText at 0x7845bcac3be0>,\n",
              "  <unstructured.documents.elements.NarrativeText at 0x7845bcac0130>,\n",
              "  <unstructured.documents.elements.Title at 0x7845bc82f6d0>,\n",
              "  <unstructured.documents.elements.Address at 0x7845bc82ddb0>,\n",
              "  <unstructured.documents.elements.Title at 0x7845bc82f700>,\n",
              "  <unstructured.documents.elements.Text at 0x7845bc82fca0>,\n",
              "  <unstructured.documents.elements.Title at 0x7845bc82d7b0>,\n",
              "  <unstructured.documents.elements.Text at 0x7845bc82dde0>,\n",
              "  <unstructured.documents.elements.NarrativeText at 0x7845bc9a24d0>,\n",
              "  <unstructured.documents.elements.Text at 0x7845bc82fbb0>,\n",
              "  <unstructured.documents.elements.Header at 0x7845bc9a3670>,\n",
              "  <unstructured.documents.elements.NarrativeText at 0x7845bc9a0910>,\n",
              "  <unstructured.documents.elements.NarrativeText at 0x7845bc9a06d0>,\n",
              "  <unstructured.documents.elements.Title at 0x7845bc9a2080>,\n",
              "  <unstructured.documents.elements.Title at 0x7845bc9a25f0>,\n",
              "  <unstructured.documents.elements.Image at 0x7845bc9a2b60>,\n",
              "  <unstructured.documents.elements.Text at 0x7845bc82f580>,\n",
              "  <unstructured.documents.elements.NarrativeText at 0x7845bc9a2cb0>,\n",
              "  <unstructured.documents.elements.Image at 0x7845bc9a1210>,\n",
              "  <unstructured.documents.elements.Text at 0x7845bc82f6a0>,\n",
              "  <unstructured.documents.elements.Title at 0x7845bc82ea10>,\n",
              "  <unstructured.documents.elements.Title at 0x7845bc82c880>,\n",
              "  <unstructured.documents.elements.NarrativeText at 0x7845bc95f730>,\n",
              "  <unstructured.documents.elements.Title at 0x7845be4926b0>,\n",
              "  <unstructured.documents.elements.NarrativeText at 0x7845bc95db40>,\n",
              "  <unstructured.documents.elements.NarrativeText at 0x7845bc95d630>,\n",
              "  <unstructured.documents.elements.Title at 0x7845be492ce0>,\n",
              "  <unstructured.documents.elements.Title at 0x7845bc95c100>,\n",
              "  <unstructured.documents.elements.NarrativeText at 0x7845bc95e020>,\n",
              "  <unstructured.documents.elements.Image at 0x7845bc95ff40>,\n",
              "  <unstructured.documents.elements.Title at 0x7845be493940>,\n",
              "  <unstructured.documents.elements.NarrativeText at 0x7845bc95e410>,\n",
              "  <unstructured.documents.elements.Text at 0x7845be493f40>,\n",
              "  <unstructured.documents.elements.Header at 0x7845bc95c5e0>,\n",
              "  <unstructured.documents.elements.NarrativeText at 0x7845bc95cd60>,\n",
              "  <unstructured.documents.elements.Title at 0x7845bc95efe0>,\n",
              "  <unstructured.documents.elements.Title at 0x7845bc95e8f0>,\n",
              "  <unstructured.documents.elements.Table at 0x7845b1adffd0>,\n",
              "  <unstructured.documents.elements.Text at 0x7845be493280>,\n",
              "  <unstructured.documents.elements.Text at 0x7845be493250>,\n",
              "  <unstructured.documents.elements.Title at 0x7845bc95d6c0>,\n",
              "  <unstructured.documents.elements.Text at 0x7845bc95c040>,\n",
              "  <unstructured.documents.elements.Text at 0x7845bc95f940>,\n",
              "  <unstructured.documents.elements.Text at 0x7845bc95d240>,\n",
              "  <unstructured.documents.elements.Title at 0x7845bc95e080>,\n",
              "  <unstructured.documents.elements.Text at 0x7845bc95c4c0>,\n",
              "  <unstructured.documents.elements.NarrativeText at 0x7845bc95c9a0>,\n",
              "  <unstructured.documents.elements.Text at 0x7845bc95dc00>,\n",
              "  <unstructured.documents.elements.Header at 0x7845b1adca30>,\n",
              "  <unstructured.documents.elements.NarrativeText at 0x7845b1adea40>,\n",
              "  <unstructured.documents.elements.Title at 0x7845b1adcfa0>,\n",
              "  <unstructured.documents.elements.Title at 0x7845b1adf040>,\n",
              "  <unstructured.documents.elements.Table at 0x7845b1adc0a0>,\n",
              "  <unstructured.documents.elements.Text at 0x7845bc95ef80>,\n",
              "  <unstructured.documents.elements.Text at 0x7845bc95fd30>,\n",
              "  <unstructured.documents.elements.Header at 0x7845b1ade080>,\n",
              "  <unstructured.documents.elements.NarrativeText at 0x7845b1add4b0>,\n",
              "  <unstructured.documents.elements.Title at 0x7845b1adfc70>,\n",
              "  <unstructured.documents.elements.Title at 0x7845b1adddb0>,\n",
              "  <unstructured.documents.elements.NarrativeText at 0x7845b1adebc0>,\n",
              "  <unstructured.documents.elements.Text at 0x7845bc95dc30>])"
            ]
          },
          "metadata": {},
          "execution_count": 99
        }
      ]
    },
    {
      "cell_type": "code",
      "source": [
        "select_pages_with_tables= []\n",
        "for i, n in enumerate(new_elements):# Iterating over elements loaded through regular partition method\n",
        "  if isinstance(n, unstructured.documents.elements.Table):\n",
        "    v=n\n",
        "    select_pages_with_tables.append(n)\n",
        "    print(f\"index: {i}: page_number: {n.metadata.page_number}\")# Signatures from page# 8"
      ],
      "metadata": {
        "colab": {
          "base_uri": "https://localhost:8080/"
        },
        "id": "IaJBVHBH4pNH",
        "outputId": "fee9384f-65ed-47e2-878d-58b55db35b13"
      },
      "id": "IaJBVHBH4pNH",
      "execution_count": null,
      "outputs": [
        {
          "output_type": "stream",
          "name": "stdout",
          "text": [
            "index: 95: page_number: 9\n",
            "index: 110: page_number: 10\n"
          ]
        }
      ]
    },
    {
      "cell_type": "markdown",
      "source": [
        "* Element index 110 corresponds to page 10 in pdf"
      ],
      "metadata": {
        "id": "8GN1mbIStI1l"
      },
      "id": "8GN1mbIStI1l"
    },
    {
      "cell_type": "code",
      "source": [
        "print(v.text)# Page 10 confirms to have these 3 products and NDC numbers"
      ],
      "metadata": {
        "colab": {
          "base_uri": "https://localhost:8080/"
        },
        "id": "wqDs9gNbnIzH",
        "outputId": "0a0a305c-553d-4ef5-8531-e4c5939b0aa8"
      },
      "id": "wqDs9gNbnIzH",
      "execution_count": null,
      "outputs": [
        {
          "output_type": "stream",
          "name": "stdout",
          "text": [
            "Product Code NDC Number Product Description Contract Affected 260929 260950 260965 63323026929 Diprivan® 10mg/mL 1% 20mL SDV 10 Pack 63323026950 Diprivan® 10mg/mL 1% 50mL SDV 63323026965 Diprivan® 10mg/mL 1% 100mL SDV *New* Indiana University Health Sub WAC *New* Indiana University Health Sub WAC *New* Indiana University Health Sub WAC PK Size 10 20 10 Price / Each Price / PK $2.25 $22.50 $5.61 $11.21 $112.10\n"
          ]
        }
      ]
    },
    {
      "cell_type": "code",
      "source": [
        "page10_dict= v.to_dict()\n",
        "page10_dict"
      ],
      "metadata": {
        "colab": {
          "base_uri": "https://localhost:8080/"
        },
        "id": "BbhTjq3Xnen4",
        "outputId": "c0ab44ab-c7eb-42f7-f363-c49141d2699b"
      },
      "id": "BbhTjq3Xnen4",
      "execution_count": null,
      "outputs": [
        {
          "output_type": "execute_result",
          "data": {
            "text/plain": [
              "{'type': 'Table',\n",
              " 'element_id': '6f3beebdc6e5343b5f6033857d2585df',\n",
              " 'text': 'Product Code NDC Number Product Description Contract Affected 260929 260950 260965 63323026929 Diprivan® 10mg/mL 1% 20mL SDV 10 Pack 63323026950 Diprivan® 10mg/mL 1% 50mL SDV 63323026965 Diprivan® 10mg/mL 1% 100mL SDV *New* Indiana University Health Sub WAC *New* Indiana University Health Sub WAC *New* Indiana University Health Sub WAC PK Size 10 20 10 Price / Each Price / PK $2.25 $22.50 $5.61 $11.21 $112.10',\n",
              " 'metadata': {'detection_class_prob': 0.9308729767799377,\n",
              "  'coordinates': {'points': ((196.45912170410156, 408.3201904296875),\n",
              "    (196.45912170410156, 732.2420043945312),\n",
              "    (1616.7733154296875, 732.2420043945312),\n",
              "    (1616.7733154296875, 408.3201904296875)),\n",
              "   'system': 'PixelSpace',\n",
              "   'layout_width': 1700,\n",
              "   'layout_height': 2200},\n",
              "  'last_modified': '2024-05-21T01:47:17',\n",
              "  'text_as_html': '<table><tr><td rowspan=\"2\">Product Code 260929 |</td><td>NDC Number</td><td></td><td>se Product Description</td><td>Contract Affected</td><td>PK | Size</td><td>Price/ | | Each</td><td>Price / PK</td></tr><tr><td></td><td>63323026929</td><td>Diprivan®</td><td>10mg/mL 1% 20mL SDV_ | 10 Pack</td><td>*New* Indiana University Health Sub WAC</td><td>10</td><td>$2.25 |</td><td>$22.50</td></tr><tr><td>260950 |</td><td>63323026950 |</td><td>a Diprivan®</td><td>9 10mg/mL 1% 50mL SDV</td><td>*New* Indiana University Health Sub WAC</td><td>20</td><td>$5.61 |</td><td>$112.20</td></tr><tr><td>260965 |</td><td>63323026965 |</td><td>a Diprivan®</td><td>9 10mg/mL 1% 100mL SDV</td><td>*New* Indiana University Health Sub WAC</td><td>10</td><td>$11.21</td><td>| $112.10</td></tr></table>',\n",
              "  'filetype': 'application/pdf',\n",
              "  'languages': ['eng'],\n",
              "  'page_number': 10,\n",
              "  'parent_id': '8e7dbc01a5ecdc7cd86e2b1081e8d890',\n",
              "  'file_directory': 'pharmacy_contracts',\n",
              "  'filename': 'fully executed FK Pharma Sub-WAC Purchase Agreement IU Subwac eff 2.1.2024 (final).pdf'}}"
            ]
          },
          "metadata": {},
          "execution_count": 124
        }
      ]
    },
    {
      "cell_type": "code",
      "source": [
        "text_as_html = page10_dict.get(\"metadata\").get(\"text_as_html\")\n",
        "text_as_html"
      ],
      "metadata": {
        "colab": {
          "base_uri": "https://localhost:8080/",
          "height": 143
        },
        "id": "PdCeWMTOn3Fo",
        "outputId": "edfe7771-858a-441c-f1d1-e0578c40c835"
      },
      "id": "PdCeWMTOn3Fo",
      "execution_count": null,
      "outputs": [
        {
          "output_type": "execute_result",
          "data": {
            "text/plain": [
              "'<table><tr><td rowspan=\"2\">Product Code 260929 |</td><td>NDC Number</td><td></td><td>se Product Description</td><td>Contract Affected</td><td>PK | Size</td><td>Price/ | | Each</td><td>Price / PK</td></tr><tr><td></td><td>63323026929</td><td>Diprivan®</td><td>10mg/mL 1% 20mL SDV_ | 10 Pack</td><td>*New* Indiana University Health Sub WAC</td><td>10</td><td>$2.25 |</td><td>$22.50</td></tr><tr><td>260950 |</td><td>63323026950 |</td><td>a Diprivan®</td><td>9 10mg/mL 1% 50mL SDV</td><td>*New* Indiana University Health Sub WAC</td><td>20</td><td>$5.61 |</td><td>$112.20</td></tr><tr><td>260965 |</td><td>63323026965 |</td><td>a Diprivan®</td><td>9 10mg/mL 1% 100mL SDV</td><td>*New* Indiana University Health Sub WAC</td><td>10</td><td>$11.21</td><td>| $112.10</td></tr></table>'"
            ],
            "application/vnd.google.colaboratory.intrinsic+json": {
              "type": "string"
            }
          },
          "metadata": {},
          "execution_count": 125
        }
      ]
    },
    {
      "cell_type": "code",
      "source": [
        "\n",
        "display(HTML(text_as_html))"
      ],
      "metadata": {
        "colab": {
          "base_uri": "https://localhost:8080/",
          "height": 174
        },
        "id": "nb4vs40KoQc-",
        "outputId": "dcc2ed90-3ffd-4c03-d04f-83af8e8262d5"
      },
      "id": "nb4vs40KoQc-",
      "execution_count": null,
      "outputs": [
        {
          "output_type": "display_data",
          "data": {
            "text/plain": [
              "<IPython.core.display.HTML object>"
            ],
            "text/html": [
              "<table><tr><td rowspan=\"2\">Product Code 260929 |</td><td>NDC Number</td><td></td><td>se Product Description</td><td>Contract Affected</td><td>PK | Size</td><td>Price/ | | Each</td><td>Price / PK</td></tr><tr><td></td><td>63323026929</td><td>Diprivan®</td><td>10mg/mL 1% 20mL SDV_ | 10 Pack</td><td>*New* Indiana University Health Sub WAC</td><td>10</td><td>$2.25 |</td><td>$22.50</td></tr><tr><td>260950 |</td><td>63323026950 |</td><td>a Diprivan®</td><td>9 10mg/mL 1% 50mL SDV</td><td>*New* Indiana University Health Sub WAC</td><td>20</td><td>$5.61 |</td><td>$112.20</td></tr><tr><td>260965 |</td><td>63323026965 |</td><td>a Diprivan®</td><td>9 10mg/mL 1% 100mL SDV</td><td>*New* Indiana University Health Sub WAC</td><td>10</td><td>$11.21</td><td>| $112.10</td></tr></table>"
            ]
          },
          "metadata": {}
        }
      ]
    },
    {
      "cell_type": "code",
      "source": [
        "filepath"
      ],
      "metadata": {
        "colab": {
          "base_uri": "https://localhost:8080/",
          "height": 35
        },
        "id": "jrlrb4iJp7OV",
        "outputId": "c67ce5c1-ddf9-4bae-9160-59cb12d2e753"
      },
      "id": "jrlrb4iJp7OV",
      "execution_count": null,
      "outputs": [
        {
          "output_type": "execute_result",
          "data": {
            "text/plain": [
              "'pharmacy_contracts/fully executed FK Pharma Sub-WAC Purchase Agreement IU Subwac eff 2.1.2024 (final).pdf'"
            ],
            "application/vnd.google.colaboratory.intrinsic+json": {
              "type": "string"
            }
          },
          "metadata": {},
          "execution_count": 118
        }
      ]
    },
    {
      "cell_type": "code",
      "source": [
        "page10_dict.get(\"metadata\").get(\"coordinates\").get(\"points\")"
      ],
      "metadata": {
        "colab": {
          "base_uri": "https://localhost:8080/"
        },
        "id": "hLnxOHeVqF1Q",
        "outputId": "39545e74-1ea9-4463-a216-286c4311acb1"
      },
      "id": "hLnxOHeVqF1Q",
      "execution_count": null,
      "outputs": [
        {
          "output_type": "execute_result",
          "data": {
            "text/plain": [
              "((196.45912170410156, 408.3201904296875),\n",
              " (196.45912170410156, 732.2420043945312),\n",
              " (1616.7733154296875, 732.2420043945312),\n",
              " (1616.7733154296875, 408.3201904296875))"
            ]
          },
          "metadata": {},
          "execution_count": 127
        }
      ]
    },
    {
      "cell_type": "code",
      "source": [
        "# Example usage\n",
        "pdf_path = filepath\n",
        "page_number = 10\n",
        "points = page10_dict.get(\"metadata\").get(\"coordinates\").get(\"points\")\n",
        "\n",
        "extract_and_plot_area(pdf_path, page_number, points)\n"
      ],
      "metadata": {
        "colab": {
          "base_uri": "https://localhost:8080/",
          "height": 143
        },
        "id": "NDqtDFLzp6dT",
        "outputId": "6105c98f-adb8-48e4-d605-db1c5a5bb38d"
      },
      "id": "NDqtDFLzp6dT",
      "execution_count": null,
      "outputs": [
        {
          "output_type": "display_data",
          "data": {
            "text/plain": [
              "<Figure size 600x600 with 1 Axes>"
            ],
            "image/png": "[encoded data removed]"
          },
          "metadata": {}
        }
      ]
    },
    {
      "cell_type": "markdown",
      "source": [
        "* Element index 95 corresponds to page 9 in pdf"
      ],
      "metadata": {
        "id": "C8sQ8rZssX17"
      },
      "id": "C8sQ8rZssX17"
    },
    {
      "cell_type": "code",
      "source": [
        "page9_dict= new_elements[95].to_dict()\n",
        "\n",
        "text_as_html9 = page9_dict.get(\"metadata\").get(\"text_as_html\")\n",
        "display(HTML(text_as_html9))"
      ],
      "metadata": {
        "colab": {
          "base_uri": "https://localhost:8080/",
          "height": 254
        },
        "id": "f5Txz0XRsRew",
        "outputId": "67e62583-316c-47e7-82ba-d1944df2f5ff"
      },
      "id": "f5Txz0XRsRew",
      "execution_count": null,
      "outputs": [
        {
          "output_type": "display_data",
          "data": {
            "text/plain": [
              "<IPython.core.display.HTML object>"
            ],
            "text/html": [
              "<table><thead><th>FK Account #</th><th></th><th>Facility</th><th>Name</th><th>Address</th><th>DEA</th><th>HIN</th></thead><tr><td>600929</td><td>I</td><td>Health</td><td>. BallMem oral</td><td>2401 Unwersity Drive, Muncie, IN 47303</td><td>AB2645464</td><td>42110086</td></tr><tr><td>600066</td><td>IU</td><td>Health Bbom</td><td>ngton</td><td>2651 E Discovery Pkwy, Blbom ngton, IN | 47408</td><td>AB2687284 |</td><td>0GJ71Q X00</td></tr><tr><td>70385001</td><td></td><td>TU Health</td><td>. Methodist</td><td>1701 N Senate Bld, Indanapols, IN 46206</td><td>BC5175535 |</td><td>FED2VTW F3</td></tr><tr><td>403914</td><td></td><td>WU Health</td><td>Saxony</td><td>13000 136th Street, Fishers, IN 46037</td><td>FI2888115 |</td><td>98G43HLOO</td></tr><tr><td>400528016 |</td><td>@</td><td>Heath Shared</td><td>. Serves y</td><td>390 Ajirtech Pkwy Suite | “10968, Phnfel, IN 46168-7455</td><td>FI2501751 |</td><td>D874BGN00</td></tr><tr><td>66279601</td><td></td><td>. IU Health</td><td>. Unwversity</td><td>550 N Unwersity Bld, Ind‘anapols, IN 46202</td><td>BC5175561</td><td>| BERMLH600</td></tr><tr><td>736370</td><td>. Riky</td><td>. Hospitalfor at IU</td><td>. Chiliren Health</td><td>705 Riky Hospital | 5 ve, indianapolis, IN | 46202</td><td>BC5175511</td><td></td></tr><tr><td>40052807</td><td>IU</td><td>Health Hem Pham</td><td>Onc - East acy</td><td>6845 Rama Drwe, Ind‘anapols, IN 46219</td><td>BA3876438</td><td>L2ARED FF2</td></tr><tr><td>40052808</td><td></td><td>TU Health Hem Fishers</td><td>Onc - Pharm acy</td><td>10212 Lantem Drwe, Fishers, IN 46037</td><td>BW 8232477</td><td>| E4FLICDF1</td></tr><tr><td>748974</td><td></td><td>IU Health</td><td>Morgan</td><td>2209 John R W ooden Drive, Martnsvilk, IN 46151</td><td>FI5116682 |</td><td>422H2KBF1</td></tr></table>"
            ]
          },
          "metadata": {}
        }
      ]
    },
    {
      "cell_type": "code",
      "source": [
        "page_number = 9\n",
        "points = page9_dict.get(\"metadata\").get(\"coordinates\").get(\"points\")\n",
        "\n",
        "extract_and_plot_area(pdf_path, page_number, points)\n"
      ],
      "metadata": {
        "colab": {
          "base_uri": "https://localhost:8080/",
          "height": 364
        },
        "id": "bm5T8k0Xskff",
        "outputId": "3678d8c8-6e1c-4b50-9095-3dba861a8d55"
      },
      "id": "bm5T8k0Xskff",
      "execution_count": null,
      "outputs": [
        {
          "output_type": "display_data",
          "data": {
            "text/plain": [
              "<Figure size 600x600 with 1 Axes>"
            ],
            "image/png": "[encoded data removed]"
          },
          "metadata": {}
        }
      ]
    },
    {
      "cell_type": "markdown",
      "source": [
        "* Consolidating relevant contents from pages with tables"
      ],
      "metadata": {
        "id": "It7U4k-J8ikw"
      },
      "id": "It7U4k-J8ikw"
    },
    {
      "cell_type": "code",
      "source": [
        "select_content_from_tables= []\n",
        "for page in select_pages_with_tables:\n",
        "  page= page.to_dict()\n",
        "  # select_content_from_tables.append((page.get(\"metadata\").get(\"filename\"),\n",
        "  #                                    page.get(\"metadata\").get(\"text_as_html\"),\n",
        "  #                                    page.get(\"text\")))\n",
        "  select_content_from_tables.append((page.get(\"metadata\").get(\"filename\"),\n",
        "                                     page.get(\"text\")))\n",
        "select_content_from_tables"
      ],
      "metadata": {
        "colab": {
          "base_uri": "https://localhost:8080/"
        },
        "id": "Pg0wEOEH7srK",
        "outputId": "d247c8c6-0836-4fdc-d6fe-0c976d713725"
      },
      "id": "Pg0wEOEH7srK",
      "execution_count": null,
      "outputs": [
        {
          "output_type": "execute_result",
          "data": {
            "text/plain": [
              "[('fully executed FK Pharma Sub-WAC Purchase Agreement IU Subwac eff 2.1.2024 (final).pdf',\n",
              "  'FK Account # Facility Name 600929 IU Health Ball Memorial 600066 IU Health Bloomington 70385001 IU Health Methodist 403914 IU Health Saxony 400528016 IU Health Shared Services Pharmacy 66279601 IU Health University 736370 Riley Hospital for Children at IU Health 40052807 IU Health Hem Onc - East Pharmacy 40052808 IU Health Hem Onc - Fishers Pharmacy 748974 IU Health Morgan Address 2401 University Drive, Muncie, IN 47303 2651 E Discovery Pkwy, Bloomington, IN 47408 1701 N Senate Blvd, Indianapolis, IN 46206 13000 136th Street, Fishers, IN 46037 390 Airtech Pkwy Suite 106B, Plainfield, IN 46168-7455 550 N University Blvd, Indianapolis, IN 46202 705 Riley Hospital Drive, Indianapolis, IN 46202 6845 Rama Drive, Indianapolis, IN 46219 10212 Lantern Drive, Fishers, IN 46037 2209 John R Wooden Drive, Martinsville, IN 46151 DEA HIN AB2645464 BC5175511 BA3876438 BW8232477 E4FLJCDF1'),\n",
              " ('fully executed FK Pharma Sub-WAC Purchase Agreement IU Subwac eff 2.1.2024 (final).pdf',\n",
              "  'Product Code NDC Number Product Description Contract Affected 260929 260950 260965 63323026929 Diprivan® 10mg/mL 1% 20mL SDV 10 Pack 63323026950 Diprivan® 10mg/mL 1% 50mL SDV 63323026965 Diprivan® 10mg/mL 1% 100mL SDV *New* Indiana University Health Sub WAC *New* Indiana University Health Sub WAC *New* Indiana University Health Sub WAC PK Size 10 20 10 Price / Each Price / PK $2.25 $22.50 $5.61 $11.21 $112.10')]"
            ]
          },
          "metadata": {},
          "execution_count": 63
        }
      ]
    },
    {
      "cell_type": "markdown",
      "source": [
        "* Simple Prompting without RAG"
      ],
      "metadata": {
        "id": "22xk4Bd69rf9"
      },
      "id": "22xk4Bd69rf9"
    },
    {
      "cell_type": "code",
      "source": [
        "# From phi-3 documentation\n",
        "\n",
        "torch.random.manual_seed(0)\n",
        "\n",
        "model = AutoModelForCausalLM.from_pretrained(\n",
        "    \"microsoft/Phi-3-mini-4k-instruct\",\n",
        "    device_map=\"cuda\",\n",
        "    torch_dtype=\"auto\",\n",
        "    trust_remote_code=True,\n",
        ")\n",
        "tokenizer = AutoTokenizer.from_pretrained(\"microsoft/Phi-3-mini-4k-instruct\")\n",
        "\n",
        "pipe = pipeline(\n",
        "    \"text-generation\",\n",
        "    model=model,\n",
        "    tokenizer=tokenizer)\n"
      ],
      "metadata": {
        "colab": {
          "base_uri": "https://localhost:8080/",
          "height": 326,
          "referenced_widgets": [
            "4516da7f6f5242caada8e5e356d9a1b9",
            "6e37a1ce5ee24e2da746c4585727039f",
            "88aded3f0c2043c18bdf4350d89396ae",
            "c463310dd7da4e53859a4ae45b163448",
            "cd62b0be2ac14159b9674159e66191ce",
            "99b8a48c7f34481a9b594ce04a0cad33",
            "bf3f7c35328f4d64a2c1a74a0715fed1",
            "08cdac235c2d422eb7bdb6904f37133f",
            "9f606ed7be224aff8af1509b01cc7c44",
            "1ea3118e40574d02989049a8d32749f2",
            "265a956aa45f40d7b927ec629df43a13",
            "9ae1d55a00074aa7b15b97a105c43a0a",
            "472609faddf34cb1b51e86107d4933dd",
            "3d5e85e6fc3547218733ee8145eefbb7",
            "f79aea041bd0447fb871485aba80c64b",
            "afebff760de7418d9435530e300016c0",
            "4f14a01c680348c0b3ee6ed9a245ca05",
            "6aabfea651e64db2b9f531c2c1e60719",
            "9ff5a7d26a344ab3a611bc9d5cee51fe",
            "92da6592d6de4e9ebdb26f38fa5cfda6",
            "4cbaecd512fe43faacfc9966bed95327",
            "54e2edb9b36549149ea38a331e2762ae",
            "678a71aa77bd4319ae2f378943d20f2c",
            "4f48d9cc236b4570a8f555925f0aa88f",
            "ab33c0d206fb42b1a73749e78d37e00f",
            "255b9759cd894a5c950d7559f831a4a6",
            "6596bf30f4a14b7689a53b466be49a4c",
            "6c36706354cd418e8e5cff29dfdc42b2",
            "045c1a2aaa7d4689890bab6c165b8798",
            "cefa14e6d5df45e7a7dedacfc8ddca2e",
            "222a2dc274fe4757b05e5e962298676b",
            "6dc73aea429b4ce2b1300a69efb5068f",
            "d6d9810bb8e740fcb3942944948f9a4d",
            "bb1c05af56a24e40bba86f3c6d456fac",
            "d68dcdb6d9ba407fbf2da05207025f24",
            "a1bc046a19a64e8ba420e9d5a4ca2d9e",
            "6066c6efeff647cfb07af1109530d9aa",
            "03d9486981cf46f7a03e71e0bd5114ef",
            "27ea95da868f40c694bd6baa992d13cf",
            "c1aa790f022b4887be43d509e073942d",
            "968d3ec9045949c2b0d33b0a1b127202",
            "44c3272af2d340c8b68a44a73c451ab6",
            "6de8595eb6cf4198b5dbdc56925e6f2b",
            "3f06de8dd6aa441897e716807087a29d"
          ]
        },
        "id": "moELrT3G9xKY",
        "outputId": "575c4acd-fb5c-472b-cb50-37004768a9c2"
      },
      "id": "moELrT3G9xKY",
      "execution_count": null,
      "outputs": [
        {
          "output_type": "display_data",
          "data": {
            "text/plain": [
              "configuration_phi3.py:   0%|          | 0.00/10.4k [00:00<?, ?B/s]"
            ],
            "application/vnd.jupyter.widget-view+json": {
              "version_major": 2,
              "version_minor": 0,
              "model_id": "4516da7f6f5242caada8e5e356d9a1b9"
            }
          },
          "metadata": {}
        },
        {
          "output_type": "stream",
          "name": "stderr",
          "text": [
            "A new version of the following files was downloaded from https://huggingface.co/microsoft/Phi-3-mini-4k-instruct:\n",
            "- configuration_phi3.py\n",
            ". Make sure to double-check they do not contain any added malicious code. To avoid downloading new versions of the code file, you can pin a revision.\n"
          ]
        },
        {
          "output_type": "display_data",
          "data": {
            "text/plain": [
              "modeling_phi3.py:   0%|          | 0.00/73.8k [00:00<?, ?B/s]"
            ],
            "application/vnd.jupyter.widget-view+json": {
              "version_major": 2,
              "version_minor": 0,
              "model_id": "9ae1d55a00074aa7b15b97a105c43a0a"
            }
          },
          "metadata": {}
        },
        {
          "output_type": "stream",
          "name": "stderr",
          "text": [
            "A new version of the following files was downloaded from https://huggingface.co/microsoft/Phi-3-mini-4k-instruct:\n",
            "- modeling_phi3.py\n",
            ". Make sure to double-check they do not contain any added malicious code. To avoid downloading new versions of the code file, you can pin a revision.\n",
            "WARNING:transformers_modules.microsoft.Phi-3-mini-4k-instruct.d269012bea6fbe38ce7752c8940fea010eea3383.modeling_phi3:`flash-attention` package not found, consider installing for better performance: No module named 'flash_attn'.\n",
            "WARNING:transformers_modules.microsoft.Phi-3-mini-4k-instruct.d269012bea6fbe38ce7752c8940fea010eea3383.modeling_phi3:Current `flash-attention` does not support `window_size`. Either upgrade or use `attn_implementation='eager'`.\n"
          ]
        },
        {
          "output_type": "display_data",
          "data": {
            "text/plain": [
              "Downloading shards:   0%|          | 0/2 [00:00<?, ?it/s]"
            ],
            "application/vnd.jupyter.widget-view+json": {
              "version_major": 2,
              "version_minor": 0,
              "model_id": "678a71aa77bd4319ae2f378943d20f2c"
            }
          },
          "metadata": {}
        },
        {
          "output_type": "display_data",
          "data": {
            "text/plain": [
              "Loading checkpoint shards:   0%|          | 0/2 [00:00<?, ?it/s]"
            ],
            "application/vnd.jupyter.widget-view+json": {
              "version_major": 2,
              "version_minor": 0,
              "model_id": "bb1c05af56a24e40bba86f3c6d456fac"
            }
          },
          "metadata": {}
        },
        {
          "output_type": "stream",
          "name": "stderr",
          "text": [
            "Special tokens have been added in the vocabulary, make sure the associated word embeddings are fine-tuned or trained.\n"
          ]
        }
      ]
    },
    {
      "cell_type": "code",
      "source": [
        "query= f\"\"\"Here's the context text given as list of tuple for you to remember and understand \"{select_content_from_tables}\".\n",
        "In the list go through each tuple containing products and pricing details, each tuple essentially contains 3 values, filename(.pdf/.txt),\n",
        "table with product & pricing details in HTML as text, ONLY text from the same table at index 2 without HTML tags.\n",
        "Now return all the asked details from each tuple as list of tuples in this specific format - [(filename, NDC number of each item, Price in USD of each item)].\n",
        "Ensure that each output tuple in the list is of length 3 and contains these EXACTLY 3 values, 1. 'file_name' from each tuple you are referring to.,\n",
        " 2. NDC number of each product/item inside each tuple, 3. Price of each item in USD.\n",
        " Here is what an example output would look like - [(filename_abc.txt, 00232-49999-10, $15),\n",
        " (filename_abc.txt, 00232-49999-11, $17), (filename_abc.txt, 00232-49999-16, $25). . .(filename_xyz.txt, 00232-4967-10, $21)].\n",
        " Fetch all the values from each given list of tuples as list of tuples.\n",
        " ..\n",
        "\n",
        " NOTE: UNDERSTAND THE CONTENT OF THE INPUT LIST OF TUPLES TO USE ITS DETAILS IN THE OUTPUT, RETURN THE OUTPUT NOT THE PYTHON CODE AND STRICLTY STICK THE OUTPUT FORMAT EXPLAINED AND DO NOT MAKE UP STUFF OF YOUR OWN\"\"\"\n",
        "query"
      ],
      "metadata": {
        "colab": {
          "base_uri": "https://localhost:8080/",
          "height": 178
        },
        "id": "uQoydyV1-FhT",
        "outputId": "04528e27-45f6-41f4-9aa9-ca09a4a9c4c3"
      },
      "id": "uQoydyV1-FhT",
      "execution_count": null,
      "outputs": [
        {
          "output_type": "execute_result",
          "data": {
            "text/plain": [
              "'Here\\'s the context text given as list of tuple for you to remember and understand \"[(\\'fully executed FK Pharma Sub-WAC Purchase Agreement IU Subwac eff 2.1.2024 (final).pdf\\', \\'<table><thead><th>FK Account #</th><th></th><th>Facility</th><th>Name</th><th>Address</th><th>DEA</th><th>HIN</th></thead><tr><td>600929</td><td>I</td><td>Health</td><td>. BallMem oral</td><td>2401 Unwersity Drive, Muncie, IN 47303</td><td>AB2645464</td><td>42110086</td></tr><tr><td>600066</td><td>IU</td><td>Health Bbom</td><td>ngton</td><td>2651 E Discovery Pkwy, Blbom ngton, IN | 47408</td><td>AB2687284 |</td><td>0GJ71Q X00</td></tr><tr><td>70385001</td><td></td><td>TU Health</td><td>. Methodist</td><td>1701 N Senate Bld, Indanapols, IN 46206</td><td>BC5175535 |</td><td>FED2VTW F3</td></tr><tr><td>403914</td><td></td><td>WU Health</td><td>Saxony</td><td>13000 136th Street, Fishers, IN 46037</td><td>FI2888115 |</td><td>98G43HLOO</td></tr><tr><td>400528016 |</td><td>@</td><td>Heath Shared</td><td>. Serves y</td><td>390 Ajirtech Pkwy Suite | “10968, Phnfel, IN 46168-7455</td><td>FI2501751 |</td><td>D874BGN00</td></tr><tr><td>66279601</td><td></td><td>. IU Health</td><td>. Unwversity</td><td>550 N Unwersity Bld, Ind‘anapols, IN 46202</td><td>BC5175561</td><td>| BERMLH600</td></tr><tr><td>736370</td><td>. Riky</td><td>. Hospitalfor at IU</td><td>. Chiliren Health</td><td>705 Riky Hospital | 5 ve, indianapolis, IN | 46202</td><td>BC5175511</td><td></td></tr><tr><td>40052807</td><td>IU</td><td>Health Hem Pham</td><td>Onc - East acy</td><td>6845 Rama Drwe, Ind‘anapols, IN 46219</td><td>BA3876438</td><td>L2ARED FF2</td></tr><tr><td>40052808</td><td></td><td>TU Health Hem Fishers</td><td>Onc - Pharm acy</td><td>10212 Lantem Drwe, Fishers, IN 46037</td><td>BW 8232477</td><td>| E4FLICDF1</td></tr><tr><td>748974</td><td></td><td>IU Health</td><td>Morgan</td><td>2209 John R W ooden Drive, Martnsvilk, IN 46151</td><td>FI5116682 |</td><td>422H2KBF1</td></tr></table>\\', \\'FK Account # Facility Name 600929 IU Health Ball Memorial 600066 IU Health Bloomington 70385001 IU Health Methodist 403914 IU Health Saxony 400528016 IU Health Shared Services Pharmacy 66279601 IU Health University 736370 Riley Hospital for Children at IU Health 40052807 IU Health Hem Onc - East Pharmacy 40052808 IU Health Hem Onc - Fishers Pharmacy 748974 IU Health Morgan Address 2401 University Drive, Muncie, IN 47303 2651 E Discovery Pkwy, Bloomington, IN 47408 1701 N Senate Blvd, Indianapolis, IN 46206 13000 136th Street, Fishers, IN 46037 390 Airtech Pkwy Suite 106B, Plainfield, IN 46168-7455 550 N University Blvd, Indianapolis, IN 46202 705 Riley Hospital Drive, Indianapolis, IN 46202 6845 Rama Drive, Indianapolis, IN 46219 10212 Lantern Drive, Fishers, IN 46037 2209 John R Wooden Drive, Martinsville, IN 46151 DEA HIN AB2645464 BC5175511 BA3876438 BW8232477 E4FLJCDF1\\'), (\\'fully executed FK Pharma Sub-WAC Purchase Agreement IU Subwac eff 2.1.2024 (final).pdf\\', \\'<table><tr><td rowspan=\"2\">Product Code 260929 |</td><td>NDC Number</td><td></td><td>se Product Description</td><td>Contract Affected</td><td>PK | Size</td><td>Price/ | | Each</td><td>Price / PK</td></tr><tr><td></td><td>63323026929</td><td>Diprivan®</td><td>10mg/mL 1% 20mL SDV_ | 10 Pack</td><td>*New* Indiana University Health Sub WAC</td><td>10</td><td>$2.25 |</td><td>$22.50</td></tr><tr><td>260950 |</td><td>63323026950 |</td><td>a Diprivan®</td><td>9 10mg/mL 1% 50mL SDV</td><td>*New* Indiana University Health Sub WAC</td><td>20</td><td>$5.61 |</td><td>$112.20</td></tr><tr><td>260965 |</td><td>63323026965 |</td><td>a Diprivan®</td><td>9 10mg/mL 1% 100mL SDV</td><td>*New* Indiana University Health Sub WAC</td><td>10</td><td>$11.21</td><td>| $112.10</td></tr></table>\\', \\'Product Code NDC Number Product Description Contract Affected 260929 260950 260965 63323026929 Diprivan® 10mg/mL 1% 20mL SDV 10 Pack 63323026950 Diprivan® 10mg/mL 1% 50mL SDV 63323026965 Diprivan® 10mg/mL 1% 100mL SDV *New* Indiana University Health Sub WAC *New* Indiana University Health Sub WAC *New* Indiana University Health Sub WAC PK Size 10 20 10 Price / Each Price / PK $2.25 $22.50 $5.61 $11.21 $112.10\\')]\". \\nIn the list go through each tuple containing products and pricing details, each tuple essentially contains 3 values, filename(.pdf/.txt), \\ntable with product & pricing details in HTML as text, ONLY text from the same table at index 2 without HTML tags.\\nNow return all the asked details from each tuple as list of tuples in this specific format - [(filename, NDC number of each item, Price in USD of each item)].\\nEnsure that each output tuple in the list is of length 3 and contains these EXACTLY 3 values, 1. \\'file_name\\' from each tuple you are referring to.,\\n 2. NDC number of each product/item inside each tuple, 3. Price of each item in USD. \\n Here is what an example output would look like - [(filename_abc.txt, 00232-49999-10, $15),\\n (filename_abc.txt, 00232-49999-11, $17), (filename_abc.txt, 00232-49999-16, $25). . .(filename_xyz.txt, 00232-4967-10, $21)].\\n Fetch all the values from each given list of tuples as list of tuples. \\n ..\\n\\n NOTE: UNDERSTAND THE CONTENT OF THE INPUT LIST OF TUPLES TO USE ITS DETAILS IN THE OUTPUT, RETURN THE OUTPUT NOT THE PYTHON CODE AND STRICLTY STICK THE OUTPUT FORMAT EXPLAINED AND DO NOT MAKE UP STUFF OF YOUR OWN'"
            ],
            "application/vnd.google.colaboratory.intrinsic+json": {
              "type": "string"
            }
          },
          "metadata": {},
          "execution_count": 40
        }
      ]
    },
    {
      "cell_type": "code",
      "source": [
        "generation_args = {\n",
        "    \"max_new_tokens\": 512,\n",
        "    \"return_full_text\": False,\n",
        "    \"temperature\": 0.1,\n",
        "    \"do_sample\": False,\n",
        "}\n",
        "\n",
        "messages = [\n",
        "    {\"role\": \"user\", \"content\": query},\n",
        "]\n",
        "output = pipe(messages, **generation_args)\n",
        "print(output[0]['generated_text'])"
      ],
      "metadata": {
        "colab": {
          "base_uri": "https://localhost:8080/"
        },
        "id": "L7ROzD5892g0",
        "outputId": "28b55124-784e-439e-ad29-6d3a3feb818a"
      },
      "id": "L7ROzD5892g0",
      "execution_count": null,
      "outputs": [
        {
          "output_type": "stream",
          "name": "stderr",
          "text": [
            "/usr/local/lib/python3.10/dist-packages/transformers/generation/configuration_utils.py:515: UserWarning: `do_sample` is set to `False`. However, `temperature` is set to `0.1` -- this flag is only used in sample-based generation modes. You should set `do_sample=True` or unset `temperature`.\n",
            "  warnings.warn(\n"
          ]
        },
        {
          "output_type": "stream",
          "name": "stdout",
          "text": [
            " [(('fully executed FK Pharma Sub-WAC Purchase Agreement IU Subwac eff 2.1.2024 (final).pdf', '<table><tr><td>FK Account #</td><td></td><td>I</td><td>Health</td><td>Ball Memorial</td><td>Indianapolis, IN 47303</td><td>HIN</td></tr><tr><td>600929</td><td>I</td><td>IU Health</td><td>Bloomington</td><td>IN 44005</td><td>6251 E Discovery Pkwy, Bloomington, IN 47408</td><td>AB2644501</td></tr><tr><td>600066</td><td>I</td><td>IU Health</td><td>Bloomington</td><td>IN 46202</td><td>1701 N Senate Blvd, Indianapolis, IN 46202</td><td>AB2645464</td></tr><tr><td>703830</td><td>R</td><td>IU Health</td><td>Chilren's</td><td>Indianapolis, IN 46206</td><td>705 Riley Hospital Drwe, Indianapolis, IN 46202</td><td>| BLERMBAL</td></tr><tr><td>66279601</td><td></td><td>IU Health</td><td>Ulrich</td><td>Indianapolis, IN 46202</td><td>570 Riley Hospital Drwe, Indianapolis, IN 46192</td><td>BC517511</td></tr><tr><td>403914</td><td>H</td><td>WU Health</td><td>Saxony</td><td>Indianapolis, IN 46219</td><td>1300\n"
          ]
        }
      ]
    },
    {
      "cell_type": "markdown",
      "source": [
        "### Building rag from above context"
      ],
      "metadata": {
        "id": "Qf60-sB88scq"
      },
      "id": "Qf60-sB88scq"
    },
    {
      "cell_type": "code",
      "source": [
        "maindir= \"pharmacy_contracts\"\n",
        "text=\"\"\n",
        "text_filepath= os.path.join(maindir, \"tables_textfiles\")\n",
        "if not os.path.exists(text_filepath):\n",
        "  print(f\"{text_filepath} doesn't exist!\\nCreating now. .\")\n",
        "  os.mkdir(text_filepath)\n",
        "output_file_path= os.path.join(text_filepath, \"tables_textfiles.txt\")\n",
        "with open(output_file_path, 'w', encoding='utf-8') as text_file:\n",
        "  text+=str(select_content_from_tables)\n",
        "  text_file.write(text)\n",
        "  text_file.close()\n",
        "  print(f\"Saving textfile: {output_file_path}\")"
      ],
      "metadata": {
        "colab": {
          "base_uri": "https://localhost:8080/"
        },
        "id": "2duU1l9BSBAs",
        "outputId": "0a32b2d9-72ff-47e7-fece-69dce2a62753"
      },
      "id": "2duU1l9BSBAs",
      "execution_count": null,
      "outputs": [
        {
          "output_type": "stream",
          "name": "stdout",
          "text": [
            "Saving textfile: pharmacy_contracts/tables_textfiles/tables_textfiles.txt\n"
          ]
        }
      ]
    },
    {
      "cell_type": "code",
      "source": [
        "system_prompt = \"\"\"<|SYSTEM|>You are a Q&A assistant Expert in analyzing legal contracts and Procurement.\n",
        "<|end|>\\n\n",
        "\"\"\"\n",
        "\n",
        "query_wrapper_prompt= (\"<|SYSTEM|>\\n\"\n",
        "\"You are a Q&A assistant Expert in analyzing legal contracts<|end|>\\n\"\n",
        "\"<|user|>\\n\"\n",
        "\"{query_str}<|end|>\\n\"\n",
        "\"<|assistant|>\\n\")"
      ],
      "metadata": {
        "id": "A4XE8QrpI5tI"
      },
      "id": "A4XE8QrpI5tI",
      "execution_count": null,
      "outputs": []
    },
    {
      "cell_type": "code",
      "source": [
        "llm = HuggingFaceLLM(\n",
        "    context_window=4096,\n",
        "    max_new_tokens=512,# Increase this to 4096\n",
        "    generate_kwargs={\"temperature\": 0.7, \"do_sample\": True},\n",
        "    # generate_kwargs={\"temperature\": 0.7, \"do_sample\": False},\n",
        "    system_prompt=system_prompt,\n",
        "    query_wrapper_prompt=query_wrapper_prompt,\n",
        "    tokenizer_name=\"microsoft/Phi-3-mini-4k-instruct\",\n",
        "    model_name=\"microsoft/Phi-3-mini-4k-instruct\",\n",
        "    device_map=\"auto\",\n",
        "    # stopping_ids=[50278, 50279, 50277, 1, 0],\n",
        "    tokenizer_kwargs={\"max_length\": 4096},\n",
        "    # uncomment this if using CUDA to reduce memory usage\n",
        "    model_kwargs={\"torch_dtype\": torch.float16})"
      ],
      "metadata": {
        "colab": {
          "base_uri": "https://localhost:8080/",
          "height": 67,
          "referenced_widgets": [
            "6e3ec789ca5e460f9e0681d169d0e039",
            "91d0437a782048bd88cf05e25a3400d9",
            "ad13be1cd09f41b0bdc63be85e487673",
            "0c0c7fe7491f448da29fdcb90f7651f1",
            "f46a15c69fd646068a8bdb9cf1fc25b2",
            "e4ed2b71400943f08262db6a602992f6",
            "f3ac07aed2ac43569a94648c4b941a44",
            "f4c39fb162354e65b4680ff999e91970",
            "b2aeee87f48c41e3a804559fb96c403f",
            "9fd813f13fed4d8a808650462cdd93f2",
            "659bd97161124618a8b7436618c53846"
          ]
        },
        "id": "V4SsiwoJ8y5x",
        "outputId": "edebf9ba-ee02-48f9-cc41-79668a06e981"
      },
      "id": "V4SsiwoJ8y5x",
      "execution_count": null,
      "outputs": [
        {
          "output_type": "display_data",
          "data": {
            "text/plain": [
              "Loading checkpoint shards:   0%|          | 0/2 [00:00<?, ?it/s]"
            ],
            "application/vnd.jupyter.widget-view+json": {
              "version_major": 2,
              "version_minor": 0,
              "model_id": "6e3ec789ca5e460f9e0681d169d0e039"
            }
          },
          "metadata": {}
        },
        {
          "output_type": "stream",
          "name": "stderr",
          "text": [
            "Special tokens have been added in the vocabulary, make sure the associated word embeddings are fine-tuned or trained.\n"
          ]
        }
      ]
    },
    {
      "cell_type": "code",
      "source": [
        "Settings.llm = llm\n",
        "Settings.chunk_size = 512\n",
        "embed_model = FastEmbedEmbedding(model_name=\"BAAI/bge-small-en-v1.5\")\n",
        "Settings.embed_model = embed_model\n",
        "Settings.chunk_size = 512"
      ],
      "metadata": {
        "colab": {
          "base_uri": "https://localhost:8080/",
          "height": 49,
          "referenced_widgets": [
            "ac014d279fb34ada82c4586f898b11ed",
            "c303f7173bb24cedb061eacebcd2f5eb",
            "15666bb5b17844fca058d09bb07ac4c1",
            "bb410cc0f5b7416483ea534d94b2ff9d",
            "d3d064f9881b4661afa246c4806fb571",
            "ba67bbb6aa5e400d82d0b63bab7a9aa5",
            "f8727e3a59c04b42a42f6c50c7fc585a",
            "bbde67d912bb4723b7f871869f7e6dba",
            "9ae7283263d34ee49e3dba2dc1949cea",
            "cd16218b006a4351b25f0c06c2c51b94",
            "3ac035054c344a409dcd2d1c7821f3e7"
          ]
        },
        "id": "OwGuQXqrYADW",
        "outputId": "e6d0ab9d-d93c-40df-cf1a-0516f4967f8f"
      },
      "id": "OwGuQXqrYADW",
      "execution_count": null,
      "outputs": [
        {
          "output_type": "display_data",
          "data": {
            "text/plain": [
              "Fetching 5 files:   0%|          | 0/5 [00:00<?, ?it/s]"
            ],
            "application/vnd.jupyter.widget-view+json": {
              "version_major": 2,
              "version_minor": 0,
              "model_id": "ac014d279fb34ada82c4586f898b11ed"
            }
          },
          "metadata": {}
        }
      ]
    },
    {
      "cell_type": "code",
      "source": [
        "text_filepath, os.listdir(text_filepath)"
      ],
      "metadata": {
        "colab": {
          "base_uri": "https://localhost:8080/"
        },
        "id": "NC1gizUBXvNC",
        "outputId": "06a76696-9dc8-4cd9-bce0-9579551b1988"
      },
      "id": "NC1gizUBXvNC",
      "execution_count": null,
      "outputs": [
        {
          "output_type": "execute_result",
          "data": {
            "text/plain": [
              "('pharmacy_contracts/tables_textfiles', ['tables_textfiles.txt'])"
            ]
          },
          "metadata": {},
          "execution_count": 57
        }
      ]
    },
    {
      "cell_type": "code",
      "source": [
        "documents = SimpleDirectoryReader(text_filepath).load_data()\n",
        "index = VectorStoreIndex.from_documents(documents, show_progress=True)\n",
        "query_engine = index.as_query_engine()"
      ],
      "metadata": {
        "colab": {
          "base_uri": "https://localhost:8080/",
          "height": 81,
          "referenced_widgets": [
            "ef65ab6cf6374cc0b51eab070a955bcf",
            "70dc8873d4d74ba5860ad9bfb15058d0",
            "5e975474bf9b48f0bb2eb880953b174d",
            "5cb16c442e2c475f9612432ca0342bc7",
            "0882f6adf5d04dcb9fb65c38e3981bc7",
            "140e27caaafd4c9d8a310f545ba1649b",
            "b0afb89191674fc7b67e8733d12d16ce",
            "ab079745cf7247a4b44b1894159fe9c7",
            "ac15568882e04d59890bec5353151225",
            "1c5241c5a5124df49df93b85fb208a0d",
            "6ddce8026e724368b4b35c34c28f55bc",
            "683424e6922848a38bde4aad95249b38",
            "ab9f10e84af14dd28e3b75f8e57e5ce8",
            "71bc80a9cc3b4ac8bfbb58f5ea6d2003",
            "e285b9409ede4635b4eae36d46820ea7",
            "836fe2c25f0949b292b36376da04e548",
            "e1276ff3a14e40bca735bb42d0e6e18a",
            "5f98b4ba893d4c569cefb1681b9bcfee",
            "5363e7d69e774694ba6c0a47467f401a",
            "30aaad6a92224c47900c528ac819f58d",
            "162a0cad7f864940b6c2b768720cab14",
            "f5f8742391684ce0937dda10e6d1fa9f"
          ]
        },
        "id": "oPqOxrFO8158",
        "outputId": "eb80ecdb-7848-4d54-8989-22d12ef40f41"
      },
      "id": "oPqOxrFO8158",
      "execution_count": null,
      "outputs": [
        {
          "output_type": "display_data",
          "data": {
            "text/plain": [
              "Parsing nodes:   0%|          | 0/1 [00:00<?, ?it/s]"
            ],
            "application/vnd.jupyter.widget-view+json": {
              "version_major": 2,
              "version_minor": 0,
              "model_id": "ef65ab6cf6374cc0b51eab070a955bcf"
            }
          },
          "metadata": {}
        },
        {
          "output_type": "display_data",
          "data": {
            "text/plain": [
              "Generating embeddings:   0%|          | 0/1 [00:00<?, ?it/s]"
            ],
            "application/vnd.jupyter.widget-view+json": {
              "version_major": 2,
              "version_minor": 0,
              "model_id": "683424e6922848a38bde4aad95249b38"
            }
          },
          "metadata": {}
        }
      ]
    },
    {
      "cell_type": "code",
      "source": [
        "query= \"\"\"Understand and remember the given text in the document with products and pricing details given to you as list of tuples.\n",
        "I'm looking for NDC numbers(a number with 11 to 12 digits) of products and their prices in USD. In the text, go through each tuple in the list, each tuple essentially contains 2 values - 1. filename(.pdf/.txt),\n",
        "2. Text extracted from an HTML table without any HTML tags.\n",
        "Go through each tuple to pick ONLY the tuples that contain text with NDC Numbers, Product/Item details and their prices in USD, these can be termed as QUALIFYING tuples with relevant tables.\n",
        "IGNORE the tuples with table having no such relevant details(i.e, IGNORE Tuples that don't QUALIFY).\n",
        "\n",
        "\"NDC Number\" of products/items and their corresponding \"Price\" in USD are to be extracted from the tables of QUALIFYING tuple ONLY.\n",
        "IF QUALIFYING table is found in any tuple in the list, Obtain these 2 details from it - NDC Number(Check, it MUST be 11 to 12 digits) & Price in USD from the table at index 2 of the tuple.\n",
        "\n",
        "Print out all the values as list of tuples in this format - [(filename, NDC number, Price in USD)].\n",
        "Ensure that each tuple in the output list is of length 3 and contains EXACTLY these 3 values ONLY, 1. 'file_name' from each QUALIFYING tuple you are referring to.,\n",
        "2. NDC Number(MUST BE A NUMBER with 11 to 12 digits) of each product/item in a table from QUALIFYING tuple., 3. Price of each item in USD in a table from QUALIFYING tuple.\n",
        "Here is what an example output would look like - [(filename_abc.txt, 662324999910, $15),\n",
        "(filename_abc.txt, 302324999911, $17), (filename_abc.txt, 562324999916, $25). . .(filename_xyz.txt, 12232496710, $21)].\n",
        "\n",
        "Note: Return all the tuples from each text contained inside the tuples of the given list, in the text document. If you don't find any relevant details don't make up imaginary stuff.\"\"\"\n",
        "\n",
        "print(f\"\\nInput query: {query}\\n_____\\n\", )\n",
        "\n",
        "response = query_engine.query(query)\n",
        "print(response)"
      ],
      "metadata": {
        "colab": {
          "base_uri": "https://localhost:8080/"
        },
        "id": "1dot_Pegopwm",
        "outputId": "d8fed766-fdfb-4f45-b90b-28a98744a7a0"
      },
      "id": "1dot_Pegopwm",
      "execution_count": null,
      "outputs": [
        {
          "output_type": "stream",
          "name": "stdout",
          "text": [
            "\n",
            "Input query: Understand and remember the given text in the document with products and pricing details given to you as list of tuples.\n",
            "I'm looking for NDC numbers(a number with 11 to 12 digits) of products and their prices in USD. In the text, go through each tuple in the list, each tuple essentially contains 2 values - 1. filename(.pdf/.txt),\n",
            "2. Text extracted from an HTML table without any HTML tags.\n",
            "Go through each tuple to pick ONLY the tuples that contain text with NDC Numbers, Product/Item details and their prices in USD, these can be termed as QUALIFYING tuples with relevant tables.\n",
            "IGNORE the tuples with table having no such relevant details(i.e, IGNORE Tuples that don't QUALIFY).\n",
            "\n",
            "\"NDC Number\" of products/items and their corresponding \"Price\" in USD are to be extracted from the tables of QUALIFYING tuple ONLY.\n",
            "IF QUALIFYING table is found in any tuple in the list, Obtain these 2 details from it - NDC Number(Check, it MUST be 11 to 12 digits) & Price in USD from the table at index 2 of the tuple.\n",
            "\n",
            "Print out all the values as list of tuples in this format - [(filename, NDC number, Price in USD)].\n",
            "Ensure that each tuple in the output list is of length 3 and contains EXACTLY these 3 values ONLY, 1. 'file_name' from each QUALIFYING tuple you are referring to.,\n",
            "2. NDC Number(MUST BE A NUMBER with 11 to 12 digits) of each product/item in a table from QUALIFYING tuple., 3. Price of each item in USD in a table from QUALIFYING tuple.\n",
            "Here is what an example output would look like - [(filename_abc.txt, 662324999910, $15),\n",
            "(filename_abc.txt, 302324999911, $17), (filename_abc.txt, 562324999916, $25). . .(filename_xyz.txt, 12232496710, $21)].\n",
            "\n",
            "Note: Return all the tuples from each text contained inside the tuples of the given list, in the text document. If you don't find any relevant details don't make up imaginary stuff.\n",
            "_____\n",
            "\n",
            "[(('fully executed FK Pharma Sub-WAC Purchase Agreement IU Subwac eff 2.1.2024 (final).pdf', 'NDC Number 66279601', '$15.00'),\n",
            " ('fully executed FK Pharma Sub-WAC Purchase Agreement IU Subwac eff 2.1.2024 (final).pdf', 'NDC Number 736370', '$21.00'),\n",
            " ('fully executed FK Pharma Sub-WAC Purchase Agreement IU Subwac eff 2.1.2024 (final).pdf', 'NDC Number 600929', '$18.00'),\n",
            " ('fully executed FK Pharma Sub-WAC Purchase Agreement IU Subwac eff 2.1.2024 (final).pdf', 'NDC Number 40052801', '$20.00'),\n",
            " ('fully executed FK Pharma Sub-WAC Purchase Agreement IU Subwac eff 2.1.2024 (final).pdf', 'NDC Number 40052807', '$25.00'),\n",
            " ('fully executed FK Pharma Sub-WAC Purchase Agreement IU Subwac eff 2.1.2024 (final).pdf', 'NDC Number 40052808', '$21.00'),\n",
            " ('fully executed FK Pharma Sub-WAC Purchase Agreement IU Subwac eff 2.1.2024 (final).pdf', 'NDC Number 748974', '$25.00'),\n",
            " ('fully executed FK Pharma Sub-WAC Purchase Agreement IU Subwac eff 2.1.2024 (final).pdf', 'NDC Number 2651', '$15.00'),\n",
            " ('fully executed FK Pharma Sub-WAC Purchase Agreement IU Subwac eff 2.1.2024 (final).pdf', 'NDC Number 2651', '$20.00'),\n",
            " ('fully executed FK Pharma Sub-WAC Purchase Agreement IU Subwac eff \n"
          ]
        }
      ]
    },
    {
      "cell_type": "code",
      "source": [
        "# query= \"\"\"Understand and remember the given text in the document with products and pricing details given to you as list of tuples.\n",
        "# I'm looking for NDC numbers(a number with 11 to 12 digits) of products and their prices in USD. In the text, go through each tuple in the list, each tuple essentially contains 2 values - 1. filename(.pdf/.txt),\n",
        "# 2. Text extracted from an HTML table without any HTML tags.\n",
        "# Go through each tuple to pick ONLY the tuples that contain tables with NDC Numbers, Product/Item details and their prices in USD, these can be termed as QUALIFYING tuples with relevant tables.\n",
        "# IGNORE the tuples with table having no such relevant details(i.e, IGNORE Tuples that don't QUALIFY).\n",
        "\n",
        "# \"NDC Number\" of products/items and their corresponding \"Price\" in USD are to be extracted from the tables of QUALIFYING tuple ONLY.\n",
        "# IF QUALIFYING table is found in any tuple in the list, Obtain these 2 details from it - NDC Number(Check, it MUST be 11 to 12 digits) & Price in USD from the table at index 2 of the tuple.\n",
        "\n",
        "# Print out all the values as list of tuples in this format - [(filename, NDC number, Price in USD)].\n",
        "# Ensure that each tuple in the output list is of length 3 and contains EXACTLY these 3 values ONLY, 1. 'file_name' from each QUALIFYING tuple you are referring to.,\n",
        "# 2. NDC Number(MUST BE A NUMBER with 11 to 12 digits) of each product/item in a table from QUALIFYING tuple., 3. Price of each item in USD in a table from QUALIFYING tuple.\n",
        "# Here is what an example output would look like - [(filename_abc.txt, 662324999910, $15),\n",
        "# (filename_abc.txt, 302324999911, $17), (filename_abc.txt, 562324999916, $25). . .(filename_xyz.txt, 12232496710, $21)].\n",
        "\n",
        "# Note: Return all the tuples from each text contained inside the tuples of the given list, in the text document. If you don't find any relevant details don't make up imaginary stuff.\"\"\"\n",
        "\n",
        "# print(f\"\\nInput query: {query}\\n_____\\n\", )\n",
        "\n",
        "# response = query_engine.query(query)\n",
        "# print(response)"
      ],
      "metadata": {
        "colab": {
          "base_uri": "https://localhost:8080/"
        },
        "id": "euBy8AuzmyT6",
        "outputId": "6839a0a8-5edd-4e71-a7ad-9956776f6bc6"
      },
      "id": "euBy8AuzmyT6",
      "execution_count": null,
      "outputs": [
        {
          "output_type": "stream",
          "name": "stdout",
          "text": [
            "\n",
            "Input query: Understand and remember the given text in the document with products and pricing details given to you as list of tuples.\n",
            "I'm looking for NDC numbers(a number with 11 to 12 digits) of products and their prices in USD. In the text, go through each tuple in the list, each tuple essentially contains 2 values - 1. filename(.pdf/.txt),\n",
            "2. Text extracted from an HTML table without any HTML tags.\n",
            "Go through each tuple to pick ONLY the tuples that contain tables with NDC Numbers, Product/Item details and their prices in USD, these can be termed as QUALIFYING tuples with relevant tables.\n",
            "IGNORE the tuples with table having no such relevant details(i.e, IGNORE Tuples that don't QUALIFY).\n",
            "\n",
            "\"NDC Number\" of products/items and their corresponding \"Price\" in USD are to be extracted from the tables of QUALIFYING tuple ONLY.\n",
            "IF QUALIFYING table is found in any tuple in the list, Obtain these 2 details from it - NDC Number(Check, it MUST be 11 to 12 digits) & Price in USD from the table at index 2 of the tuple.\n",
            "\n",
            "Print out all the values as list of tuples in this format - [(filename, NDC number, Price in USD)].\n",
            "Ensure that each tuple in the output list is of length 3 and contains EXACTLY these 3 values ONLY, 1. 'file_name' from each QUALIFYING tuple you are referring to.,\n",
            "2. NDC Number(Check, it MUST be 11 to 12 digits) of each product/item in a table from QUALIFYING tuple., 3. Price of each item in USD in a table from QUALIFYING tuple.\n",
            "Here is what an example output would look like - [(filename_abc.txt, 662324999910, $15),\n",
            "(filename_abc.txt, 302324999911, $17), (filename_abc.txt, 562324999916, $25). . .(filename_xyz.txt, 12232496710, $21)].\n",
            "\n",
            "Note: Return all the tuples from each text contained inside the tuples of the given list, in the text document. If you don't find any relevant details don't make up imaginary stuff.\n",
            "_____\n",
            "\n",
            "[(('fully executed FK Pharma Sub-WAC Purchase Agreement IU Subwac eff 2.1.2024 (final).pdf', 'NDC Number Product Description Contract Affected 260929 260950 260965 63323026929 Diprivan® 10mg/mL 1% 20mL SDV 10 Pack', '$5.61'), ('fully executed FK Pharma Sub-WAC Purchase Agreement IU Subwac eff 2.1.2024 (final).pdf', 'NDC Number Product Description Contract Affected 63323026950 Diprivan® 10mg/mL 1% 50mL SDV *New* Indiana University Health Sub WAC PK Size 10', '$11.21'), ('fully executed FK Pharma Sub-WAC Purchase Agreement IU Subwac eff 2.1.2024 (final).pdf', 'NDC Number Product Description Contract Affected 63323026965 Diprivan® 10mg/mL 1% 100mL SDV *New* Indiana University Health Sub WAC PK Size 10', '$112.10')]]\n"
          ]
        }
      ]
    },
    {
      "cell_type": "code",
      "source": [
        "# query= \"\"\"Understand and remember the given text in the document with products and pricing details given to you as list of tuples.\n",
        "# I'm looking for NDC numbers(11 to 12 digits) of products and their prices in USD. In the text, go through each tuple in the list, each tuple essentially contains 3 values - 1. filename(.pdf/.txt),\n",
        "# 2. A table in HTML format, 3. text obtained from the same table at 2. but without any HTML tags.\n",
        "# Go through each tuple to pick ONLY the tuples that contain tables with NDC Numbers, Product/Item details and their prices in USD, these can be termed as QUALIFYING tuples with relevant tables.\n",
        "# IGNORE the tuples with table having no such relevant details(i.e, IGNORE Tuples that don't QUALIFY).\n",
        "\n",
        "# NDC numbers of products/items and their corresponding prices in USD are to be extracted from the tables of QUALIFYING tuple ONLY.\n",
        "# IF QUALIFYING table is found in any tuple in the list, Obtain these details - NDC number(with 11 to 12 digits) & Price in USD from the table at index 2 of the tuple,\n",
        "# You can also refer to the text given at 3. in the same tuple for clarifiying details.\n",
        "\n",
        "# Print out all the values as list of tuples in this format - [(filename, NDC number, Price in USD)].\n",
        "# Ensure that each tuple in the output list is of length 3 and contains EXACTLY these 3 values ONLY, 1. 'file_name' from each QUALIFYING tuple you are referring to.,\n",
        "# 2. A 11 to 12 digits NDC Number of each product/item in a table from QUALIFYING tuple., 3. Price of each item in USD in a table from QUALIFYING tuple.\n",
        "# Here is what an example output would look like - [(filename_abc.txt, 002324999910, $15),\n",
        "# (filename_abc.txt, 002324999911, $17), (filename_abc.txt, 002324999916, $25). . .(filename_xyz.txt, 00232496710, $21)].\n",
        "# Ensure that the tuples in output list contain only formatted simple string but NOT any HTML tags from the original table of QUALIFYING tuple.\n",
        "# Also check the NDC numbers must have length of 11 to 12 digits.\n",
        "\n",
        "# Note: Return all the tuples from each table contained inside the tuples of the given list in the text document. If you don't find any relevant details don't make up imaginary stuff.\"\"\"\n",
        "\n",
        "# print(f\"\\nInput query: {query}\\n_____\\n\", )\n",
        "\n",
        "# response = query_engine.query(query)\n",
        "# print(response)"
      ],
      "metadata": {
        "colab": {
          "base_uri": "https://localhost:8080/"
        },
        "id": "EHJPaKAAkY5J",
        "outputId": "5a2e00e1-a619-41a8-c2ff-b3ef85cf448f"
      },
      "id": "EHJPaKAAkY5J",
      "execution_count": null,
      "outputs": [
        {
          "output_type": "stream",
          "name": "stdout",
          "text": [
            "\n",
            "Input query: Understand and remember the given text in the document with products and pricing details given to you as list of tuples.\n",
            "I'm looking for NDC numbers(11 to 12 digits) of products and their prices in USD. In the text, go through each tuple in the list, each tuple essentially contains 3 values - 1. filename(.pdf/.txt),\n",
            "2. A table in HTML format, 3. text obtained from the same table at 2. but without any HTML tags.\n",
            "Go through each tuple to pick ONLY the tuples that contain tables with NDC Numbers, Product/Item details and their prices in USD, these can be termed as QUALIFYING tuples with relevant tables.\n",
            "IGNORE the tuples with table having no such relevant details(i.e, IGNORE Tuples that don't QUALIFY).\n",
            "\n",
            "NDC numbers of products/items and their corresponding prices in USD are to be extracted from the tables of QUALIFYING tuple ONLY.\n",
            "IF QUALIFYING table is found in any tuple in the list, Obtain these details - NDC number(with 11 to 12 digits) & Price in USD from the table at index 2 of the tuple, \n",
            "You can also refer to the text given at 3. in the same tuple for clarifiying details.\n",
            "\n",
            "Print out all the values as list of tuples in this format - [(filename, NDC number, Price in USD)].\n",
            "Ensure that each tuple in the output list is of length 3 and contains EXACTLY these 3 values ONLY, 1. 'file_name' from each QUALIFYING tuple you are referring to.,\n",
            "2. A 11 to 12 digits NDC Number of each product/item in a table from QUALIFYING tuple., 3. Price of each item in USD in a table from QUALIFYING tuple.\n",
            "Here is what an example output would look like - [(filename_abc.txt, 002324999910, $15),\n",
            "(filename_abc.txt, 002324999911, $17), (filename_abc.txt, 002324999916, $25). . .(filename_xyz.txt, 00232496710, $21)].\n",
            "Ensure that the tuples in output list contain only formatted simple string but NOT any HTML tags from the original table of QUALIFYING tuple.\n",
            "Also check the NDC numbers must have length of 11 to 12 digits.\n",
            "\n",
            "Note: Return all the tuples from each table contained inside the tuples of the given list in the text document. If you don't find any relevant details don't make up imaginary stuff.\n",
            "_____\n",
            "\n",
            "[(('fully executed FK Pharma Sub-WAC Purchase Agreement IU Subwac eff 2.1.2024 (final).pdf', '002324999910', '$15'),\n",
            " ('fully executed FK Pharma Sub-WAC Purchase Agreement IU Subwac eff 2.1.2024 (final).pdf', '002324999911', '$17'),\n",
            " ('fully executed FK Pharma Sub-WAC Purchase Agreement IU Subwac eff 2.1.2024 (final).pdf', '002324999916', '$25'),\n",
            " ('fully executed FK Pharma Sub-WAC Purchase Agreement IU Subwac eff 2.1.2024 (final).pdf', '00232496710', '$21')],\n",
            " (('fully executed FK Pharma Sub-WAC Purchase Agreement IU Subwac eff 2.1.2024 (final).pdf', '260929', '$22.50'),\n",
            " ('fully executed FK Pharma Sub-WAC Purchase Agreement IU Subwac eff 2.1.2024 (final).pdf', '260950', '$5.61'),\n",
            " ('fully executed FK Pharma Sub-WAC Purchase Agreement IU Subwac eff 2.1.2024 (final).pdf', '260965', '$11.21'))]\n"
          ]
        }
      ]
    },
    {
      "cell_type": "code",
      "source": [
        "# query= \"\"\"Understand and remember the given text in the document with products and pricing details given to you as list of tuples.\n",
        "# I'm looking for NDC numbers of products and their prices in USD. In the text, go through each tuple in the list, each tuple essentially contains 3 values - 1. filename(.pdf/.txt),\n",
        "# 2. A table in HTML format, 3. text obtained from the same table at 2. but without any HTML tags.\n",
        "# Go through each tuple to pick ONLY the tuples that contain tables with NDC Numbers, Product/Item details and their prices in USD, these can be termed as QUALIFYING tuples with relevant tables.\n",
        "# IGNORE the tuples with table having no such relevant details(i.e, IGNORE Tuples that don't QUALIFY).\n",
        "\n",
        "# The NDC numbers and their prices in USD are to be extracted from the tables of QUALIFYING tuple ONLY.\n",
        "# IF QUALIFYING table is found in any tuple in the list, Obtain these details - NDC number & Price in USD from the table at index 2 of the tuple,\n",
        "# You can also refer to the text given at 3. in the same tuple for clarifiying details.\n",
        "\n",
        "# Print out all the values as list of tuples in this format - [(filename, NDC number, Price in USD)].\n",
        "# Ensure that each tuple in the output list is of length 3 and contains EXACTLY these 3 values ONLY, 1. 'file_name' from each QUALIFYING tuple you are referring to.,\n",
        "# 2. An 11 digits NDC number of each product/item in a table from QUALIFYING tuple., 3. Price of each item in USD in a table from QUALIFYING tuple.\n",
        "# Here is what an example output would look like - [(filename_abc.txt, 00232-49999-10, $15),\n",
        "# (filename_abc.txt, 00232-49999-11, $17), (filename_abc.txt, 00232-49999-16, $25). . .(filename_xyz.txt, 00232-4967-10, $21)].\n",
        "# Ensure that the tuples in output list contain only formatted simple string but NOT any HTML tags from the original table of QUALIFYING tuple.\n",
        "\n",
        "# Note: Return all the tuples from each table contained inside the tuples of the given list in the text document. If you don't find any relevant details don't make up imaginary stuff.\"\"\"\n",
        "\n",
        "# print(f\"\\nInput query: {query}\\n_____\\n\", )\n",
        "\n",
        "# response = query_engine.query(query)\n",
        "# print(response)"
      ],
      "metadata": {
        "colab": {
          "base_uri": "https://localhost:8080/"
        },
        "id": "ww6WXl6sh4ja",
        "outputId": "7eff2ffb-095e-41a4-ad92-182756f3721c"
      },
      "id": "ww6WXl6sh4ja",
      "execution_count": null,
      "outputs": [
        {
          "output_type": "stream",
          "name": "stdout",
          "text": [
            "\n",
            "Input query: Understand and remember the given text in the document with products and pricing details given to you as list of tuples.\n",
            "I'm looking for NDC numbers of products and their prices in USD. In the text, go through each tuple in the list, each tuple essentially contains 3 values - 1. filename(.pdf/.txt),\n",
            "2. A table in HTML format, 3. text obtained from the same table at 2. but without any HTML tags.\n",
            "Go through each tuple to pick ONLY the tuples that contain tables with NDC Numbers, Product/Item details and their prices in USD, these can be termed as QUALIFYING tuples with relevant tables.\n",
            "IGNORE the tuples with table having no such relevant details(i.e, IGNORE Tuples that don't QUALIFY).\n",
            "\n",
            "The NDC numbers and their prices in USD are to be extracted from the tables of QUALIFYING tuple ONLY.\n",
            "IF QUALIFYING table is found in any tuple in the list, Obtain these details - NDC number & Price in USD from the table at index 2 of the tuple, \n",
            "You can also refer to the text given at 3. in the same tuple for clarifiying details.\n",
            "\n",
            "Print out all the values as list of tuples in this format - [(filename, NDC number, Price in USD)].\n",
            "Ensure that each tuple in the output list is of length 3 and contains EXACTLY these 3 values ONLY, 1. 'file_name' from each QUALIFYING tuple you are referring to.,\n",
            "2. NDC number of each product/item in a table from QUALIFYING tuple., 3. Price of each item in USD in a table from QUALIFYING tuple.\n",
            "Here is what an example output would look like - [(filename_abc.txt, 00232-49999-10, $15),\n",
            "(filename_abc.txt, 00232-49999-11, $17), (filename_abc.txt, 00232-49999-16, $25). . .(filename_xyz.txt, 00232-4967-10, $21)].\n",
            "Ensure that the tuples in output list contain only formatted simple string but NOT any HTML tags from the original table of QUALIFYING tuple.\n",
            "\n",
            "Note: Return all the tuples from each table contained inside the tuples of the given list in the text document. If you don't find any relevant details don't make up imaginary stuff.\n",
            "_____\n",
            "\n",
            "[(('fully executed FK Pharma Sub-WAC Purchase Agreement IU Subwac eff 2.1.2024 (final).pdf', '260950', '$5.61'), ('fully executed FK Pharma Sub-WAC Purchase Agreement IU Subwac eff 2.1.2024 (final).pdf', '260965', '$11.21')]\n"
          ]
        }
      ]
    },
    {
      "cell_type": "code",
      "source": [
        "# query= \"\"\"Understand and remember the given text in the document with products and pricing details given to you as list of tuples.\n",
        "# I'm looking for NDC numbers of products and their prices in USD. In the text, go through each tuple in the list, each tuple essentially contains 3 values - 1. filename(.pdf/.txt),\n",
        "# 2. A table in HTML format, 3. text obtained from the same table at 2. but without any HTML tags.\n",
        "# Go through each tuple to pick ONLY the tuples that contain tables with NDC Numbers, Product/Item details and their prices in USD, these can be termed as QUALIFYING tuples with relevant tables.\n",
        "# IGNORE the tuples with table having no such relevant details(i.e, IGNORE Tuples that don't QUALIFY).\n",
        "\n",
        "# The NDC numbers and their prices in USD are to be extracted from the tables of QUALIFYING tuple ONLY.\n",
        "# IF QUALIFYING table is found in any tuple in the list, Obtain these details - NDC number & Price in USD from the table at index 2 of the tuple,\n",
        "# You can also refer to the text given at 3. in the same tuple for clarifiying details.\n",
        "\n",
        "# Print out all the values as list of tuples in this format - [(filename, NDC number, Price in USD)].\n",
        "# Ensure that each tuple in the output list is of length 3 and contains EXACTLY these 3 values ONLY, 1. 'file_name' from each QUALIFYING tuple you are referring to.,\n",
        "# 2. NDC number of each product/item in a table from QUALIFYING tuple., 3. Price of each item in USD in a table from QUALIFYING tuple.\n",
        "# Here is what an example output would look like - [(filename_abc.txt, 00232-49999-10, $15),\n",
        "# (filename_abc.txt, 00232-49999-11, $17), (filename_abc.txt, 00232-49999-16, $25). . .(filename_xyz.txt, 00232-4967-10, $21)].\n",
        "# Ensure that the tuples in output list contain only formatted simple string but NOT any HTML tags from the original table of QUALIFYING tuple.\n",
        "\n",
        "# Note: Return all the tuples from each table contained inside the tuples of the given list in the text document. If you don't find any relevant details don't make up imaginary stuff.\"\"\"\n",
        "\n",
        "# print(f\"\\nInput query: {query}\\n_____\\n\", )\n",
        "\n",
        "# response = query_engine.query(query)\n",
        "# print(response)"
      ],
      "metadata": {
        "colab": {
          "base_uri": "https://localhost:8080/"
        },
        "id": "HfuuOS-k84wP",
        "outputId": "20165fac-70e1-4149-bdcc-fc796340c505"
      },
      "id": "HfuuOS-k84wP",
      "execution_count": null,
      "outputs": [
        {
          "output_type": "stream",
          "name": "stdout",
          "text": [
            "\n",
            "Input query: Understand and remember the given text in the document with products and pricing details given to you as list of tuples. \n",
            "In the text, go through each tuple in the list, each tuple essentially contains 3 values - 1. filename(.pdf/.txt), \n",
            "2. An HTML format table as text with product & pricing details, 3. text obtained from the same table at 2. but without HTML tags.\n",
            "Obtain the details like NDC number & Price in USD from the table at 2., you can also refer to text given at 3. for clarifiying details.\n",
            "\n",
            "Print out all the values as list of tuples in this format - [(filename, NDC number, Price in USD)].\n",
            "Ensure that each tuple in the output list is of length 3 and contains EXACTLY these 3 values ONLY, 1. 'file_name' from each tuple you are referring to.,\n",
            "2. NDC number of each product/item in a table inside each tuple., 3. Price of each item in USD in a table inside each tuple.\n",
            "Here is what an example output would look like - [(filename_abc.txt, 00232-49999-10, $15),\n",
            "(filename_abc.txt, 00232-49999-11, $17), (filename_abc.txt, 00232-49999-16, $25). . .(filename_xyz.txt, 00232-4967-10, $21)].\n",
            "Ensure the tuples in output list contain only formatted simple string but NOT any HTML tags of the original table.\n",
            "\n",
            "Note: Return all the tuples from each table contained inside the tuples of the given list in the text document. If you don't find any relevant details don't make up imaginary stuff.\n",
            "_____\n",
            "\n"
          ]
        },
        {
          "output_type": "stream",
          "name": "stderr",
          "text": [
            "You are not running the flash-attention implementation, expect numerical differences.\n"
          ]
        },
        {
          "output_type": "stream",
          "name": "stdout",
          "text": [
            "[(('fully executed FK Pharma Sub-WAC Purchase Agreement IU Subwac eff 2.1.2024 (final).pdf', '600929', '$N/A'),\n",
            " ('fully executed FK Pharma Sub-WAC Purchase Agreement IU Subwac eff 2.1.2024 (final).pdf', '600066', '$N/A'),\n",
            " ('fully executed FK Pharma Sub-WAC Purchase Agreement IU Subwac eff 2.1.2024 (final).pdf', '70385001', '$N/A'),\n",
            " ('fully executed FK Pharma Sub-WAC Purchase Agreement IU Subwac eff 2.1.2024 (final).pdf', '403914', '$N/A'),\n",
            " ('fully executed FK Pharma Sub-WAC Purchase Agreement IU Subwac eff 2.1.2024 (final).pdf', '400528016', '$N/A'),\n",
            " ('fully executed FK Pharma Sub-WAC Purchase Agreement IU Subwac eff 2.1.2024 (final).pdf', '66279601', '$N/A'),\n",
            " ('fully executed FK Pharma Sub-WAC Purchase Agreement IU Subwac eff 2.1.2024 (final).pdf', '736370', '$N/A'),\n",
            " ('fully executed FK Pharma Sub-WAC Purchase Agreement IU Subwac eff 2.1.2024 (final).pdf', '40052807', '$N/A'),\n",
            " ('fully executed FK Pharma Sub-WAC Purchase Agreement IU Subwac eff 2.1.2024 (final).pdf', '40052808', '$N/A'),\n",
            " ('fully executed FK Pharma Sub-WAC Purchase Agreement IU Subwac eff 2.1.2024 (final).pdf', '748974', '$N/A')],\n",
            "\n",
            "(('fully executed FK Pharma Sub-WAC Purchase Agreement IU Sub\n"
          ]
        }
      ]
    },
    {
      "cell_type": "code",
      "source": [
        "# query= f\"\"\"Here's the context text given as list of tuple for you to remember and understand \"{select_content_from_tables}\".\n",
        "# In the list go through each tuple containing products and pricing details, each tuple essentially contains 3 values, filename(.pdf/.txt),\n",
        "# table with product & pricing details in HTML as text, ONLY text from the same table at index 2 without HTML tags.\n",
        "# Now return all the asked details from each tuple as list of tuples in this specific format - [(filename, NDC number of each item, Price in USD of each item)].\n",
        "# Ensure that each output tuple in the list is of length 3 and contains these EXACTLY 3 values, 1. 'file_name' from each tuple you are referring to.,\n",
        "#  2. NDC number of each product/item inside each tuple, 3. Price of each item in USD.\n",
        "#  Here is what an example output would look like - [(filename_abc.txt, 00232-49999-10, $15),\n",
        "#  (filename_abc.txt, 00232-49999-11, $17), (filename_abc.txt, 00232-49999-16, $25). . .(filename_xyz.txt, 00232-4967-10, $21)].\n",
        "#  Fetch all the values from each given list of tuples as list of tuples.\n",
        "#  ..\n",
        "\n",
        "#  NOTE: UNDERSTAND THE CONTENT OF THE INPUT LIST OF TUPLES TO USE ITS DETAILS IN THE OUTPUT, RETURN THE OUTPUT NOT THE PYTHON CODE AND STRICLTY STICK THE OUTPUT FORMAT EXPLAINED AND DO NOT MAKE UP STUFF OF YOUR OWN\"\"\"\n",
        "\n",
        "\n",
        "\n",
        "## Last query\n",
        "# query= \"\"\"Understand and remember the given text in the document with products and pricing details given to you as list of tuples.\n",
        "# In the text, go through each tuple in the list, each tuple essentially contains 3 values - 1. filename(.pdf/.txt),\n",
        "# 2. An HTML format table as text with product & pricing details, 3. text obtained from the same table at 2. but without HTML tags.\n",
        "# Obtain the details like NDC number & Price in USD from the table at 2., you can also refer to text given at 3. for clarifiying details.\n",
        "\n",
        "# Print out all the values as list of tuples in this format - [(filename, NDC number, Price in USD)].\n",
        "# Ensure that each tuple in the output list is of length 3 and contains EXACTLY these 3 values ONLY, 1. 'file_name' from each tuple you are referring to.,\n",
        "# 2. NDC number of each product/item in a table inside each tuple., 3. Price of each item in USD in a table inside each tuple.\n",
        "# Here is what an example output would look like - [(filename_abc.txt, 00232-49999-10, $15),\n",
        "# (filename_abc.txt, 00232-49999-11, $17), (filename_abc.txt, 00232-49999-16, $25). . .(filename_xyz.txt, 00232-4967-10, $21)].\n",
        "# Ensure the tuples in output list contain only formatted simple string but NOT any HTML tags of the original table.\n",
        "\n",
        "# Note: Return all the tuples from each table contained inside the tuples of the given list in the text document. If you don't find any relevant details don't make up imaginary stuff.\"\"\""
      ],
      "metadata": {
        "id": "jzSoc4XmYpDe"
      },
      "id": "jzSoc4XmYpDe",
      "execution_count": null,
      "outputs": []
    }
  ],
  "metadata": {
    "kernelspec": {
      "display_name": "Python 3",
      "language": "python",
      "name": "python3"
    },
    "language_info": {
      "codemirror_mode": {
        "name": "ipython",
        "version": 3
      },
      "file_extension": ".py",
      "mimetype": "text/x-python",
      "name": "python",
      "nbconvert_exporter": "python",
      "pygments_lexer": "ipython3",
      "version": "3.10.10"
    },
    "colab": {
      "provenance": []
    },
    "widgets": {
      "application/vnd.jupyter.widget-state+json": {
        "7057192bd62943f79ca7f497f9347183": {
          "model_module": "@jupyter-widgets/controls",
          "model_name": "HBoxModel",
          "model_module_version": "1.5.0",
          "state": {
            "_dom_classes": [],
            "_model_module": "@jupyter-widgets/controls",
            "_model_module_version": "1.5.0",
            "_model_name": "HBoxModel",
            "_view_count": null,
            "_view_module": "@jupyter-widgets/controls",
            "_view_module_version": "1.5.0",
            "_view_name": "HBoxView",
            "box_style": "",
            "children": [
              "IPY_MODEL_f3795380f0f548b3a28ded2ace097532",
              "IPY_MODEL_49144fc221c04205b2a01b39e66c4f8e",
              "IPY_MODEL_f39d359b8e6d4ee08858980cb5395d90"
            ],
            "layout": "IPY_MODEL_e1684035cbe94de69a03bdc119e030e6"
          }
        },
        "f3795380f0f548b3a28ded2ace097532": {
          "model_module": "@jupyter-widgets/controls",
          "model_name": "HTMLModel",
          "model_module_version": "1.5.0",
          "state": {
            "_dom_classes": [],
            "_model_module": "@jupyter-widgets/controls",
            "_model_module_version": "1.5.0",
            "_model_name": "HTMLModel",
            "_view_count": null,
            "_view_module": "@jupyter-widgets/controls",
            "_view_module_version": "1.5.0",
            "_view_name": "HTMLView",
            "description": "",
            "description_tooltip": null,
            "layout": "IPY_MODEL_c0100d64d386484f8a5c82c9abd65a86",
            "placeholder": "​",
            "style": "IPY_MODEL_464fa7d924114a40b7f2afecf4dc65b5",
            "value": "model.safetensors: 100%"
          }
        },
        "49144fc221c04205b2a01b39e66c4f8e": {
          "model_module": "@jupyter-widgets/controls",
          "model_name": "FloatProgressModel",
          "model_module_version": "1.5.0",
          "state": {
            "_dom_classes": [],
            "_model_module": "@jupyter-widgets/controls",
            "_model_module_version": "1.5.0",
            "_model_name": "FloatProgressModel",
            "_view_count": null,
            "_view_module": "@jupyter-widgets/controls",
            "_view_module_version": "1.5.0",
            "_view_name": "ProgressView",
            "bar_style": "success",
            "description": "",
            "description_tooltip": null,
            "layout": "IPY_MODEL_ad4b71412b2e4ac490919982ea918092",
            "max": 115434268,
            "min": 0,
            "orientation": "horizontal",
            "style": "IPY_MODEL_b517f386f96a4c0fb7033515f4356701",
            "value": 115434268
          }
        },
        "f39d359b8e6d4ee08858980cb5395d90": {
          "model_module": "@jupyter-widgets/controls",
          "model_name": "HTMLModel",
          "model_module_version": "1.5.0",
          "state": {
            "_dom_classes": [],
            "_model_module": "@jupyter-widgets/controls",
            "_model_module_version": "1.5.0",
            "_model_name": "HTMLModel",
            "_view_count": null,
            "_view_module": "@jupyter-widgets/controls",
            "_view_module_version": "1.5.0",
            "_view_name": "HTMLView",
            "description": "",
            "description_tooltip": null,
            "layout": "IPY_MODEL_daa98be47efa4dc78cf6480bb8067ab6",
            "placeholder": "​",
            "style": "IPY_MODEL_5f89eefc6430480595a3574cd69022fa",
            "value": " 115M/115M [00:01&lt;00:00, 129MB/s]"
          }
        },
        "e1684035cbe94de69a03bdc119e030e6": {
          "model_module": "@jupyter-widgets/base",
          "model_name": "LayoutModel",
          "model_module_version": "1.2.0",
          "state": {
            "_model_module": "@jupyter-widgets/base",
            "_model_module_version": "1.2.0",
            "_model_name": "LayoutModel",
            "_view_count": null,
            "_view_module": "@jupyter-widgets/base",
            "_view_module_version": "1.2.0",
            "_view_name": "LayoutView",
            "align_content": null,
            "align_items": null,
            "align_self": null,
            "border": null,
            "bottom": null,
            "display": null,
            "flex": null,
            "flex_flow": null,
            "grid_area": null,
            "grid_auto_columns": null,
            "grid_auto_flow": null,
            "grid_auto_rows": null,
            "grid_column": null,
            "grid_gap": null,
            "grid_row": null,
            "grid_template_areas": null,
            "grid_template_columns": null,
            "grid_template_rows": null,
            "height": null,
            "justify_content": null,
            "justify_items": null,
            "left": null,
            "margin": null,
            "max_height": null,
            "max_width": null,
            "min_height": null,
            "min_width": null,
            "object_fit": null,
            "object_position": null,
            "order": null,
            "overflow": null,
            "overflow_x": null,
            "overflow_y": null,
            "padding": null,
            "right": null,
            "top": null,
            "visibility": null,
            "width": null
          }
        },
        "c0100d64d386484f8a5c82c9abd65a86": {
          "model_module": "@jupyter-widgets/base",
          "model_name": "LayoutModel",
          "model_module_version": "1.2.0",
          "state": {
            "_model_module": "@jupyter-widgets/base",
            "_model_module_version": "1.2.0",
            "_model_name": "LayoutModel",
            "_view_count": null,
            "_view_module": "@jupyter-widgets/base",
            "_view_module_version": "1.2.0",
            "_view_name": "LayoutView",
            "align_content": null,
            "align_items": null,
            "align_self": null,
            "border": null,
            "bottom": null,
            "display": null,
            "flex": null,
            "flex_flow": null,
            "grid_area": null,
            "grid_auto_columns": null,
            "grid_auto_flow": null,
            "grid_auto_rows": null,
            "grid_column": null,
            "grid_gap": null,
            "grid_row": null,
            "grid_template_areas": null,
            "grid_template_columns": null,
            "grid_template_rows": null,
            "height": null,
            "justify_content": null,
            "justify_items": null,
            "left": null,
            "margin": null,
            "max_height": null,
            "max_width": null,
            "min_height": null,
            "min_width": null,
            "object_fit": null,
            "object_position": null,
            "order": null,
            "overflow": null,
            "overflow_x": null,
            "overflow_y": null,
            "padding": null,
            "right": null,
            "top": null,
            "visibility": null,
            "width": null
          }
        },
        "464fa7d924114a40b7f2afecf4dc65b5": {
          "model_module": "@jupyter-widgets/controls",
          "model_name": "DescriptionStyleModel",
          "model_module_version": "1.5.0",
          "state": {
            "_model_module": "@jupyter-widgets/controls",
            "_model_module_version": "1.5.0",
            "_model_name": "DescriptionStyleModel",
            "_view_count": null,
            "_view_module": "@jupyter-widgets/base",
            "_view_module_version": "1.2.0",
            "_view_name": "StyleView",
            "description_width": ""
          }
        },
        "ad4b71412b2e4ac490919982ea918092": {
          "model_module": "@jupyter-widgets/base",
          "model_name": "LayoutModel",
          "model_module_version": "1.2.0",
          "state": {
            "_model_module": "@jupyter-widgets/base",
            "_model_module_version": "1.2.0",
            "_model_name": "LayoutModel",
            "_view_count": null,
            "_view_module": "@jupyter-widgets/base",
            "_view_module_version": "1.2.0",
            "_view_name": "LayoutView",
            "align_content": null,
            "align_items": null,
            "align_self": null,
            "border": null,
            "bottom": null,
            "display": null,
            "flex": null,
            "flex_flow": null,
            "grid_area": null,
            "grid_auto_columns": null,
            "grid_auto_flow": null,
            "grid_auto_rows": null,
            "grid_column": null,
            "grid_gap": null,
            "grid_row": null,
            "grid_template_areas": null,
            "grid_template_columns": null,
            "grid_template_rows": null,
            "height": null,
            "justify_content": null,
            "justify_items": null,
            "left": null,
            "margin": null,
            "max_height": null,
            "max_width": null,
            "min_height": null,
            "min_width": null,
            "object_fit": null,
            "object_position": null,
            "order": null,
            "overflow": null,
            "overflow_x": null,
            "overflow_y": null,
            "padding": null,
            "right": null,
            "top": null,
            "visibility": null,
            "width": null
          }
        },
        "b517f386f96a4c0fb7033515f4356701": {
          "model_module": "@jupyter-widgets/controls",
          "model_name": "ProgressStyleModel",
          "model_module_version": "1.5.0",
          "state": {
            "_model_module": "@jupyter-widgets/controls",
            "_model_module_version": "1.5.0",
            "_model_name": "ProgressStyleModel",
            "_view_count": null,
            "_view_module": "@jupyter-widgets/base",
            "_view_module_version": "1.2.0",
            "_view_name": "StyleView",
            "bar_color": null,
            "description_width": ""
          }
        },
        "daa98be47efa4dc78cf6480bb8067ab6": {
          "model_module": "@jupyter-widgets/base",
          "model_name": "LayoutModel",
          "model_module_version": "1.2.0",
          "state": {
            "_model_module": "@jupyter-widgets/base",
            "_model_module_version": "1.2.0",
            "_model_name": "LayoutModel",
            "_view_count": null,
            "_view_module": "@jupyter-widgets/base",
            "_view_module_version": "1.2.0",
            "_view_name": "LayoutView",
            "align_content": null,
            "align_items": null,
            "align_self": null,
            "border": null,
            "bottom": null,
            "display": null,
            "flex": null,
            "flex_flow": null,
            "grid_area": null,
            "grid_auto_columns": null,
            "grid_auto_flow": null,
            "grid_auto_rows": null,
            "grid_column": null,
            "grid_gap": null,
            "grid_row": null,
            "grid_template_areas": null,
            "grid_template_columns": null,
            "grid_template_rows": null,
            "height": null,
            "justify_content": null,
            "justify_items": null,
            "left": null,
            "margin": null,
            "max_height": null,
            "max_width": null,
            "min_height": null,
            "min_width": null,
            "object_fit": null,
            "object_position": null,
            "order": null,
            "overflow": null,
            "overflow_x": null,
            "overflow_y": null,
            "padding": null,
            "right": null,
            "top": null,
            "visibility": null,
            "width": null
          }
        },
        "5f89eefc6430480595a3574cd69022fa": {
          "model_module": "@jupyter-widgets/controls",
          "model_name": "DescriptionStyleModel",
          "model_module_version": "1.5.0",
          "state": {
            "_model_module": "@jupyter-widgets/controls",
            "_model_module_version": "1.5.0",
            "_model_name": "DescriptionStyleModel",
            "_view_count": null,
            "_view_module": "@jupyter-widgets/base",
            "_view_module_version": "1.2.0",
            "_view_name": "StyleView",
            "description_width": ""
          }
        },
        "db76be584b884ddebbd188afe691c520": {
          "model_module": "@jupyter-widgets/controls",
          "model_name": "HBoxModel",
          "model_module_version": "1.5.0",
          "state": {
            "_dom_classes": [],
            "_model_module": "@jupyter-widgets/controls",
            "_model_module_version": "1.5.0",
            "_model_name": "HBoxModel",
            "_view_count": null,
            "_view_module": "@jupyter-widgets/controls",
            "_view_module_version": "1.5.0",
            "_view_name": "HBoxView",
            "box_style": "",
            "children": [
              "IPY_MODEL_83b95359601e4384a1429a6f2541d35d",
              "IPY_MODEL_68e6f4a55603483cacd9e63724a242bb",
              "IPY_MODEL_69e55bd55f3241babb68e9ffc64127e9"
            ],
            "layout": "IPY_MODEL_302231b88c674c6996e5602e7c020e28"
          }
        },
        "83b95359601e4384a1429a6f2541d35d": {
          "model_module": "@jupyter-widgets/controls",
          "model_name": "HTMLModel",
          "model_module_version": "1.5.0",
          "state": {
            "_dom_classes": [],
            "_model_module": "@jupyter-widgets/controls",
            "_model_module_version": "1.5.0",
            "_model_name": "HTMLModel",
            "_view_count": null,
            "_view_module": "@jupyter-widgets/controls",
            "_view_module_version": "1.5.0",
            "_view_name": "HTMLView",
            "description": "",
            "description_tooltip": null,
            "layout": "IPY_MODEL_4b43dbfab1dd427ea8f77038ba806a5c",
            "placeholder": "​",
            "style": "IPY_MODEL_1ae832caec1844b4b021eb2be7e0e941",
            "value": "model.safetensors: 100%"
          }
        },
        "68e6f4a55603483cacd9e63724a242bb": {
          "model_module": "@jupyter-widgets/controls",
          "model_name": "FloatProgressModel",
          "model_module_version": "1.5.0",
          "state": {
            "_dom_classes": [],
            "_model_module": "@jupyter-widgets/controls",
            "_model_module_version": "1.5.0",
            "_model_name": "FloatProgressModel",
            "_view_count": null,
            "_view_module": "@jupyter-widgets/controls",
            "_view_module_version": "1.5.0",
            "_view_name": "ProgressView",
            "bar_style": "success",
            "description": "",
            "description_tooltip": null,
            "layout": "IPY_MODEL_37a65a95cfe64100a62958bcdceafa72",
            "max": 46807446,
            "min": 0,
            "orientation": "horizontal",
            "style": "IPY_MODEL_18ee6d356bb5462f862d61afb0451159",
            "value": 46807446
          }
        },
        "69e55bd55f3241babb68e9ffc64127e9": {
          "model_module": "@jupyter-widgets/controls",
          "model_name": "HTMLModel",
          "model_module_version": "1.5.0",
          "state": {
            "_dom_classes": [],
            "_model_module": "@jupyter-widgets/controls",
            "_model_module_version": "1.5.0",
            "_model_name": "HTMLModel",
            "_view_count": null,
            "_view_module": "@jupyter-widgets/controls",
            "_view_module_version": "1.5.0",
            "_view_name": "HTMLView",
            "description": "",
            "description_tooltip": null,
            "layout": "IPY_MODEL_4cf0a79373204b1cb29a1ed56e355d79",
            "placeholder": "​",
            "style": "IPY_MODEL_e11f187b03884de6862a0c377612f98d",
            "value": " 46.8M/46.8M [00:00&lt;00:00, 139MB/s]"
          }
        },
        "302231b88c674c6996e5602e7c020e28": {
          "model_module": "@jupyter-widgets/base",
          "model_name": "LayoutModel",
          "model_module_version": "1.2.0",
          "state": {
            "_model_module": "@jupyter-widgets/base",
            "_model_module_version": "1.2.0",
            "_model_name": "LayoutModel",
            "_view_count": null,
            "_view_module": "@jupyter-widgets/base",
            "_view_module_version": "1.2.0",
            "_view_name": "LayoutView",
            "align_content": null,
            "align_items": null,
            "align_self": null,
            "border": null,
            "bottom": null,
            "display": null,
            "flex": null,
            "flex_flow": null,
            "grid_area": null,
            "grid_auto_columns": null,
            "grid_auto_flow": null,
            "grid_auto_rows": null,
            "grid_column": null,
            "grid_gap": null,
            "grid_row": null,
            "grid_template_areas": null,
            "grid_template_columns": null,
            "grid_template_rows": null,
            "height": null,
            "justify_content": null,
            "justify_items": null,
            "left": null,
            "margin": null,
            "max_height": null,
            "max_width": null,
            "min_height": null,
            "min_width": null,
            "object_fit": null,
            "object_position": null,
            "order": null,
            "overflow": null,
            "overflow_x": null,
            "overflow_y": null,
            "padding": null,
            "right": null,
            "top": null,
            "visibility": null,
            "width": null
          }
        },
        "4b43dbfab1dd427ea8f77038ba806a5c": {
          "model_module": "@jupyter-widgets/base",
          "model_name": "LayoutModel",
          "model_module_version": "1.2.0",
          "state": {
            "_model_module": "@jupyter-widgets/base",
            "_model_module_version": "1.2.0",
            "_model_name": "LayoutModel",
            "_view_count": null,
            "_view_module": "@jupyter-widgets/base",
            "_view_module_version": "1.2.0",
            "_view_name": "LayoutView",
            "align_content": null,
            "align_items": null,
            "align_self": null,
            "border": null,
            "bottom": null,
            "display": null,
            "flex": null,
            "flex_flow": null,
            "grid_area": null,
            "grid_auto_columns": null,
            "grid_auto_flow": null,
            "grid_auto_rows": null,
            "grid_column": null,
            "grid_gap": null,
            "grid_row": null,
            "grid_template_areas": null,
            "grid_template_columns": null,
            "grid_template_rows": null,
            "height": null,
            "justify_content": null,
            "justify_items": null,
            "left": null,
            "margin": null,
            "max_height": null,
            "max_width": null,
            "min_height": null,
            "min_width": null,
            "object_fit": null,
            "object_position": null,
            "order": null,
            "overflow": null,
            "overflow_x": null,
            "overflow_y": null,
            "padding": null,
            "right": null,
            "top": null,
            "visibility": null,
            "width": null
          }
        },
        "1ae832caec1844b4b021eb2be7e0e941": {
          "model_module": "@jupyter-widgets/controls",
          "model_name": "DescriptionStyleModel",
          "model_module_version": "1.5.0",
          "state": {
            "_model_module": "@jupyter-widgets/controls",
            "_model_module_version": "1.5.0",
            "_model_name": "DescriptionStyleModel",
            "_view_count": null,
            "_view_module": "@jupyter-widgets/base",
            "_view_module_version": "1.2.0",
            "_view_name": "StyleView",
            "description_width": ""
          }
        },
        "37a65a95cfe64100a62958bcdceafa72": {
          "model_module": "@jupyter-widgets/base",
          "model_name": "LayoutModel",
          "model_module_version": "1.2.0",
          "state": {
            "_model_module": "@jupyter-widgets/base",
            "_model_module_version": "1.2.0",
            "_model_name": "LayoutModel",
            "_view_count": null,
            "_view_module": "@jupyter-widgets/base",
            "_view_module_version": "1.2.0",
            "_view_name": "LayoutView",
            "align_content": null,
            "align_items": null,
            "align_self": null,
            "border": null,
            "bottom": null,
            "display": null,
            "flex": null,
            "flex_flow": null,
            "grid_area": null,
            "grid_auto_columns": null,
            "grid_auto_flow": null,
            "grid_auto_rows": null,
            "grid_column": null,
            "grid_gap": null,
            "grid_row": null,
            "grid_template_areas": null,
            "grid_template_columns": null,
            "grid_template_rows": null,
            "height": null,
            "justify_content": null,
            "justify_items": null,
            "left": null,
            "margin": null,
            "max_height": null,
            "max_width": null,
            "min_height": null,
            "min_width": null,
            "object_fit": null,
            "object_position": null,
            "order": null,
            "overflow": null,
            "overflow_x": null,
            "overflow_y": null,
            "padding": null,
            "right": null,
            "top": null,
            "visibility": null,
            "width": null
          }
        },
        "18ee6d356bb5462f862d61afb0451159": {
          "model_module": "@jupyter-widgets/controls",
          "model_name": "ProgressStyleModel",
          "model_module_version": "1.5.0",
          "state": {
            "_model_module": "@jupyter-widgets/controls",
            "_model_module_version": "1.5.0",
            "_model_name": "ProgressStyleModel",
            "_view_count": null,
            "_view_module": "@jupyter-widgets/base",
            "_view_module_version": "1.2.0",
            "_view_name": "StyleView",
            "bar_color": null,
            "description_width": ""
          }
        },
        "4cf0a79373204b1cb29a1ed56e355d79": {
          "model_module": "@jupyter-widgets/base",
          "model_name": "LayoutModel",
          "model_module_version": "1.2.0",
          "state": {
            "_model_module": "@jupyter-widgets/base",
            "_model_module_version": "1.2.0",
            "_model_name": "LayoutModel",
            "_view_count": null,
            "_view_module": "@jupyter-widgets/base",
            "_view_module_version": "1.2.0",
            "_view_name": "LayoutView",
            "align_content": null,
            "align_items": null,
            "align_self": null,
            "border": null,
            "bottom": null,
            "display": null,
            "flex": null,
            "flex_flow": null,
            "grid_area": null,
            "grid_auto_columns": null,
            "grid_auto_flow": null,
            "grid_auto_rows": null,
            "grid_column": null,
            "grid_gap": null,
            "grid_row": null,
            "grid_template_areas": null,
            "grid_template_columns": null,
            "grid_template_rows": null,
            "height": null,
            "justify_content": null,
            "justify_items": null,
            "left": null,
            "margin": null,
            "max_height": null,
            "max_width": null,
            "min_height": null,
            "min_width": null,
            "object_fit": null,
            "object_position": null,
            "order": null,
            "overflow": null,
            "overflow_x": null,
            "overflow_y": null,
            "padding": null,
            "right": null,
            "top": null,
            "visibility": null,
            "width": null
          }
        },
        "e11f187b03884de6862a0c377612f98d": {
          "model_module": "@jupyter-widgets/controls",
          "model_name": "DescriptionStyleModel",
          "model_module_version": "1.5.0",
          "state": {
            "_model_module": "@jupyter-widgets/controls",
            "_model_module_version": "1.5.0",
            "_model_name": "DescriptionStyleModel",
            "_view_count": null,
            "_view_module": "@jupyter-widgets/base",
            "_view_module_version": "1.2.0",
            "_view_name": "StyleView",
            "description_width": ""
          }
        },
        "4516da7f6f5242caada8e5e356d9a1b9": {
          "model_module": "@jupyter-widgets/controls",
          "model_name": "HBoxModel",
          "model_module_version": "1.5.0",
          "state": {
            "_dom_classes": [],
            "_model_module": "@jupyter-widgets/controls",
            "_model_module_version": "1.5.0",
            "_model_name": "HBoxModel",
            "_view_count": null,
            "_view_module": "@jupyter-widgets/controls",
            "_view_module_version": "1.5.0",
            "_view_name": "HBoxView",
            "box_style": "",
            "children": [
              "IPY_MODEL_6e37a1ce5ee24e2da746c4585727039f",
              "IPY_MODEL_88aded3f0c2043c18bdf4350d89396ae",
              "IPY_MODEL_c463310dd7da4e53859a4ae45b163448"
            ],
            "layout": "IPY_MODEL_cd62b0be2ac14159b9674159e66191ce"
          }
        },
        "6e37a1ce5ee24e2da746c4585727039f": {
          "model_module": "@jupyter-widgets/controls",
          "model_name": "HTMLModel",
          "model_module_version": "1.5.0",
          "state": {
            "_dom_classes": [],
            "_model_module": "@jupyter-widgets/controls",
            "_model_module_version": "1.5.0",
            "_model_name": "HTMLModel",
            "_view_count": null,
            "_view_module": "@jupyter-widgets/controls",
            "_view_module_version": "1.5.0",
            "_view_name": "HTMLView",
            "description": "",
            "description_tooltip": null,
            "layout": "IPY_MODEL_99b8a48c7f34481a9b594ce04a0cad33",
            "placeholder": "​",
            "style": "IPY_MODEL_bf3f7c35328f4d64a2c1a74a0715fed1",
            "value": "configuration_phi3.py: 100%"
          }
        },
        "88aded3f0c2043c18bdf4350d89396ae": {
          "model_module": "@jupyter-widgets/controls",
          "model_name": "FloatProgressModel",
          "model_module_version": "1.5.0",
          "state": {
            "_dom_classes": [],
            "_model_module": "@jupyter-widgets/controls",
            "_model_module_version": "1.5.0",
            "_model_name": "FloatProgressModel",
            "_view_count": null,
            "_view_module": "@jupyter-widgets/controls",
            "_view_module_version": "1.5.0",
            "_view_name": "ProgressView",
            "bar_style": "success",
            "description": "",
            "description_tooltip": null,
            "layout": "IPY_MODEL_08cdac235c2d422eb7bdb6904f37133f",
            "max": 10411,
            "min": 0,
            "orientation": "horizontal",
            "style": "IPY_MODEL_9f606ed7be224aff8af1509b01cc7c44",
            "value": 10411
          }
        },
        "c463310dd7da4e53859a4ae45b163448": {
          "model_module": "@jupyter-widgets/controls",
          "model_name": "HTMLModel",
          "model_module_version": "1.5.0",
          "state": {
            "_dom_classes": [],
            "_model_module": "@jupyter-widgets/controls",
            "_model_module_version": "1.5.0",
            "_model_name": "HTMLModel",
            "_view_count": null,
            "_view_module": "@jupyter-widgets/controls",
            "_view_module_version": "1.5.0",
            "_view_name": "HTMLView",
            "description": "",
            "description_tooltip": null,
            "layout": "IPY_MODEL_1ea3118e40574d02989049a8d32749f2",
            "placeholder": "​",
            "style": "IPY_MODEL_265a956aa45f40d7b927ec629df43a13",
            "value": " 10.4k/10.4k [00:00&lt;00:00, 512kB/s]"
          }
        },
        "cd62b0be2ac14159b9674159e66191ce": {
          "model_module": "@jupyter-widgets/base",
          "model_name": "LayoutModel",
          "model_module_version": "1.2.0",
          "state": {
            "_model_module": "@jupyter-widgets/base",
            "_model_module_version": "1.2.0",
            "_model_name": "LayoutModel",
            "_view_count": null,
            "_view_module": "@jupyter-widgets/base",
            "_view_module_version": "1.2.0",
            "_view_name": "LayoutView",
            "align_content": null,
            "align_items": null,
            "align_self": null,
            "border": null,
            "bottom": null,
            "display": null,
            "flex": null,
            "flex_flow": null,
            "grid_area": null,
            "grid_auto_columns": null,
            "grid_auto_flow": null,
            "grid_auto_rows": null,
            "grid_column": null,
            "grid_gap": null,
            "grid_row": null,
            "grid_template_areas": null,
            "grid_template_columns": null,
            "grid_template_rows": null,
            "height": null,
            "justify_content": null,
            "justify_items": null,
            "left": null,
            "margin": null,
            "max_height": null,
            "max_width": null,
            "min_height": null,
            "min_width": null,
            "object_fit": null,
            "object_position": null,
            "order": null,
            "overflow": null,
            "overflow_x": null,
            "overflow_y": null,
            "padding": null,
            "right": null,
            "top": null,
            "visibility": null,
            "width": null
          }
        },
        "99b8a48c7f34481a9b594ce04a0cad33": {
          "model_module": "@jupyter-widgets/base",
          "model_name": "LayoutModel",
          "model_module_version": "1.2.0",
          "state": {
            "_model_module": "@jupyter-widgets/base",
            "_model_module_version": "1.2.0",
            "_model_name": "LayoutModel",
            "_view_count": null,
            "_view_module": "@jupyter-widgets/base",
            "_view_module_version": "1.2.0",
            "_view_name": "LayoutView",
            "align_content": null,
            "align_items": null,
            "align_self": null,
            "border": null,
            "bottom": null,
            "display": null,
            "flex": null,
            "flex_flow": null,
            "grid_area": null,
            "grid_auto_columns": null,
            "grid_auto_flow": null,
            "grid_auto_rows": null,
            "grid_column": null,
            "grid_gap": null,
            "grid_row": null,
            "grid_template_areas": null,
            "grid_template_columns": null,
            "grid_template_rows": null,
            "height": null,
            "justify_content": null,
            "justify_items": null,
            "left": null,
            "margin": null,
            "max_height": null,
            "max_width": null,
            "min_height": null,
            "min_width": null,
            "object_fit": null,
            "object_position": null,
            "order": null,
            "overflow": null,
            "overflow_x": null,
            "overflow_y": null,
            "padding": null,
            "right": null,
            "top": null,
            "visibility": null,
            "width": null
          }
        },
        "bf3f7c35328f4d64a2c1a74a0715fed1": {
          "model_module": "@jupyter-widgets/controls",
          "model_name": "DescriptionStyleModel",
          "model_module_version": "1.5.0",
          "state": {
            "_model_module": "@jupyter-widgets/controls",
            "_model_module_version": "1.5.0",
            "_model_name": "DescriptionStyleModel",
            "_view_count": null,
            "_view_module": "@jupyter-widgets/base",
            "_view_module_version": "1.2.0",
            "_view_name": "StyleView",
            "description_width": ""
          }
        },
        "08cdac235c2d422eb7bdb6904f37133f": {
          "model_module": "@jupyter-widgets/base",
          "model_name": "LayoutModel",
          "model_module_version": "1.2.0",
          "state": {
            "_model_module": "@jupyter-widgets/base",
            "_model_module_version": "1.2.0",
            "_model_name": "LayoutModel",
            "_view_count": null,
            "_view_module": "@jupyter-widgets/base",
            "_view_module_version": "1.2.0",
            "_view_name": "LayoutView",
            "align_content": null,
            "align_items": null,
            "align_self": null,
            "border": null,
            "bottom": null,
            "display": null,
            "flex": null,
            "flex_flow": null,
            "grid_area": null,
            "grid_auto_columns": null,
            "grid_auto_flow": null,
            "grid_auto_rows": null,
            "grid_column": null,
            "grid_gap": null,
            "grid_row": null,
            "grid_template_areas": null,
            "grid_template_columns": null,
            "grid_template_rows": null,
            "height": null,
            "justify_content": null,
            "justify_items": null,
            "left": null,
            "margin": null,
            "max_height": null,
            "max_width": null,
            "min_height": null,
            "min_width": null,
            "object_fit": null,
            "object_position": null,
            "order": null,
            "overflow": null,
            "overflow_x": null,
            "overflow_y": null,
            "padding": null,
            "right": null,
            "top": null,
            "visibility": null,
            "width": null
          }
        },
        "9f606ed7be224aff8af1509b01cc7c44": {
          "model_module": "@jupyter-widgets/controls",
          "model_name": "ProgressStyleModel",
          "model_module_version": "1.5.0",
          "state": {
            "_model_module": "@jupyter-widgets/controls",
            "_model_module_version": "1.5.0",
            "_model_name": "ProgressStyleModel",
            "_view_count": null,
            "_view_module": "@jupyter-widgets/base",
            "_view_module_version": "1.2.0",
            "_view_name": "StyleView",
            "bar_color": null,
            "description_width": ""
          }
        },
        "1ea3118e40574d02989049a8d32749f2": {
          "model_module": "@jupyter-widgets/base",
          "model_name": "LayoutModel",
          "model_module_version": "1.2.0",
          "state": {
            "_model_module": "@jupyter-widgets/base",
            "_model_module_version": "1.2.0",
            "_model_name": "LayoutModel",
            "_view_count": null,
            "_view_module": "@jupyter-widgets/base",
            "_view_module_version": "1.2.0",
            "_view_name": "LayoutView",
            "align_content": null,
            "align_items": null,
            "align_self": null,
            "border": null,
            "bottom": null,
            "display": null,
            "flex": null,
            "flex_flow": null,
            "grid_area": null,
            "grid_auto_columns": null,
            "grid_auto_flow": null,
            "grid_auto_rows": null,
            "grid_column": null,
            "grid_gap": null,
            "grid_row": null,
            "grid_template_areas": null,
            "grid_template_columns": null,
            "grid_template_rows": null,
            "height": null,
            "justify_content": null,
            "justify_items": null,
            "left": null,
            "margin": null,
            "max_height": null,
            "max_width": null,
            "min_height": null,
            "min_width": null,
            "object_fit": null,
            "object_position": null,
            "order": null,
            "overflow": null,
            "overflow_x": null,
            "overflow_y": null,
            "padding": null,
            "right": null,
            "top": null,
            "visibility": null,
            "width": null
          }
        },
        "265a956aa45f40d7b927ec629df43a13": {
          "model_module": "@jupyter-widgets/controls",
          "model_name": "DescriptionStyleModel",
          "model_module_version": "1.5.0",
          "state": {
            "_model_module": "@jupyter-widgets/controls",
            "_model_module_version": "1.5.0",
            "_model_name": "DescriptionStyleModel",
            "_view_count": null,
            "_view_module": "@jupyter-widgets/base",
            "_view_module_version": "1.2.0",
            "_view_name": "StyleView",
            "description_width": ""
          }
        },
        "9ae1d55a00074aa7b15b97a105c43a0a": {
          "model_module": "@jupyter-widgets/controls",
          "model_name": "HBoxModel",
          "model_module_version": "1.5.0",
          "state": {
            "_dom_classes": [],
            "_model_module": "@jupyter-widgets/controls",
            "_model_module_version": "1.5.0",
            "_model_name": "HBoxModel",
            "_view_count": null,
            "_view_module": "@jupyter-widgets/controls",
            "_view_module_version": "1.5.0",
            "_view_name": "HBoxView",
            "box_style": "",
            "children": [
              "IPY_MODEL_472609faddf34cb1b51e86107d4933dd",
              "IPY_MODEL_3d5e85e6fc3547218733ee8145eefbb7",
              "IPY_MODEL_f79aea041bd0447fb871485aba80c64b"
            ],
            "layout": "IPY_MODEL_afebff760de7418d9435530e300016c0"
          }
        },
        "472609faddf34cb1b51e86107d4933dd": {
          "model_module": "@jupyter-widgets/controls",
          "model_name": "HTMLModel",
          "model_module_version": "1.5.0",
          "state": {
            "_dom_classes": [],
            "_model_module": "@jupyter-widgets/controls",
            "_model_module_version": "1.5.0",
            "_model_name": "HTMLModel",
            "_view_count": null,
            "_view_module": "@jupyter-widgets/controls",
            "_view_module_version": "1.5.0",
            "_view_name": "HTMLView",
            "description": "",
            "description_tooltip": null,
            "layout": "IPY_MODEL_4f14a01c680348c0b3ee6ed9a245ca05",
            "placeholder": "​",
            "style": "IPY_MODEL_6aabfea651e64db2b9f531c2c1e60719",
            "value": "modeling_phi3.py: 100%"
          }
        },
        "3d5e85e6fc3547218733ee8145eefbb7": {
          "model_module": "@jupyter-widgets/controls",
          "model_name": "FloatProgressModel",
          "model_module_version": "1.5.0",
          "state": {
            "_dom_classes": [],
            "_model_module": "@jupyter-widgets/controls",
            "_model_module_version": "1.5.0",
            "_model_name": "FloatProgressModel",
            "_view_count": null,
            "_view_module": "@jupyter-widgets/controls",
            "_view_module_version": "1.5.0",
            "_view_name": "ProgressView",
            "bar_style": "success",
            "description": "",
            "description_tooltip": null,
            "layout": "IPY_MODEL_9ff5a7d26a344ab3a611bc9d5cee51fe",
            "max": 73779,
            "min": 0,
            "orientation": "horizontal",
            "style": "IPY_MODEL_92da6592d6de4e9ebdb26f38fa5cfda6",
            "value": 73779
          }
        },
        "f79aea041bd0447fb871485aba80c64b": {
          "model_module": "@jupyter-widgets/controls",
          "model_name": "HTMLModel",
          "model_module_version": "1.5.0",
          "state": {
            "_dom_classes": [],
            "_model_module": "@jupyter-widgets/controls",
            "_model_module_version": "1.5.0",
            "_model_name": "HTMLModel",
            "_view_count": null,
            "_view_module": "@jupyter-widgets/controls",
            "_view_module_version": "1.5.0",
            "_view_name": "HTMLView",
            "description": "",
            "description_tooltip": null,
            "layout": "IPY_MODEL_4cbaecd512fe43faacfc9966bed95327",
            "placeholder": "​",
            "style": "IPY_MODEL_54e2edb9b36549149ea38a331e2762ae",
            "value": " 73.8k/73.8k [00:00&lt;00:00, 2.28MB/s]"
          }
        },
        "afebff760de7418d9435530e300016c0": {
          "model_module": "@jupyter-widgets/base",
          "model_name": "LayoutModel",
          "model_module_version": "1.2.0",
          "state": {
            "_model_module": "@jupyter-widgets/base",
            "_model_module_version": "1.2.0",
            "_model_name": "LayoutModel",
            "_view_count": null,
            "_view_module": "@jupyter-widgets/base",
            "_view_module_version": "1.2.0",
            "_view_name": "LayoutView",
            "align_content": null,
            "align_items": null,
            "align_self": null,
            "border": null,
            "bottom": null,
            "display": null,
            "flex": null,
            "flex_flow": null,
            "grid_area": null,
            "grid_auto_columns": null,
            "grid_auto_flow": null,
            "grid_auto_rows": null,
            "grid_column": null,
            "grid_gap": null,
            "grid_row": null,
            "grid_template_areas": null,
            "grid_template_columns": null,
            "grid_template_rows": null,
            "height": null,
            "justify_content": null,
            "justify_items": null,
            "left": null,
            "margin": null,
            "max_height": null,
            "max_width": null,
            "min_height": null,
            "min_width": null,
            "object_fit": null,
            "object_position": null,
            "order": null,
            "overflow": null,
            "overflow_x": null,
            "overflow_y": null,
            "padding": null,
            "right": null,
            "top": null,
            "visibility": null,
            "width": null
          }
        },
        "4f14a01c680348c0b3ee6ed9a245ca05": {
          "model_module": "@jupyter-widgets/base",
          "model_name": "LayoutModel",
          "model_module_version": "1.2.0",
          "state": {
            "_model_module": "@jupyter-widgets/base",
            "_model_module_version": "1.2.0",
            "_model_name": "LayoutModel",
            "_view_count": null,
            "_view_module": "@jupyter-widgets/base",
            "_view_module_version": "1.2.0",
            "_view_name": "LayoutView",
            "align_content": null,
            "align_items": null,
            "align_self": null,
            "border": null,
            "bottom": null,
            "display": null,
            "flex": null,
            "flex_flow": null,
            "grid_area": null,
            "grid_auto_columns": null,
            "grid_auto_flow": null,
            "grid_auto_rows": null,
            "grid_column": null,
            "grid_gap": null,
            "grid_row": null,
            "grid_template_areas": null,
            "grid_template_columns": null,
            "grid_template_rows": null,
            "height": null,
            "justify_content": null,
            "justify_items": null,
            "left": null,
            "margin": null,
            "max_height": null,
            "max_width": null,
            "min_height": null,
            "min_width": null,
            "object_fit": null,
            "object_position": null,
            "order": null,
            "overflow": null,
            "overflow_x": null,
            "overflow_y": null,
            "padding": null,
            "right": null,
            "top": null,
            "visibility": null,
            "width": null
          }
        },
        "6aabfea651e64db2b9f531c2c1e60719": {
          "model_module": "@jupyter-widgets/controls",
          "model_name": "DescriptionStyleModel",
          "model_module_version": "1.5.0",
          "state": {
            "_model_module": "@jupyter-widgets/controls",
            "_model_module_version": "1.5.0",
            "_model_name": "DescriptionStyleModel",
            "_view_count": null,
            "_view_module": "@jupyter-widgets/base",
            "_view_module_version": "1.2.0",
            "_view_name": "StyleView",
            "description_width": ""
          }
        },
        "9ff5a7d26a344ab3a611bc9d5cee51fe": {
          "model_module": "@jupyter-widgets/base",
          "model_name": "LayoutModel",
          "model_module_version": "1.2.0",
          "state": {
            "_model_module": "@jupyter-widgets/base",
            "_model_module_version": "1.2.0",
            "_model_name": "LayoutModel",
            "_view_count": null,
            "_view_module": "@jupyter-widgets/base",
            "_view_module_version": "1.2.0",
            "_view_name": "LayoutView",
            "align_content": null,
            "align_items": null,
            "align_self": null,
            "border": null,
            "bottom": null,
            "display": null,
            "flex": null,
            "flex_flow": null,
            "grid_area": null,
            "grid_auto_columns": null,
            "grid_auto_flow": null,
            "grid_auto_rows": null,
            "grid_column": null,
            "grid_gap": null,
            "grid_row": null,
            "grid_template_areas": null,
            "grid_template_columns": null,
            "grid_template_rows": null,
            "height": null,
            "justify_content": null,
            "justify_items": null,
            "left": null,
            "margin": null,
            "max_height": null,
            "max_width": null,
            "min_height": null,
            "min_width": null,
            "object_fit": null,
            "object_position": null,
            "order": null,
            "overflow": null,
            "overflow_x": null,
            "overflow_y": null,
            "padding": null,
            "right": null,
            "top": null,
            "visibility": null,
            "width": null
          }
        },
        "92da6592d6de4e9ebdb26f38fa5cfda6": {
          "model_module": "@jupyter-widgets/controls",
          "model_name": "ProgressStyleModel",
          "model_module_version": "1.5.0",
          "state": {
            "_model_module": "@jupyter-widgets/controls",
            "_model_module_version": "1.5.0",
            "_model_name": "ProgressStyleModel",
            "_view_count": null,
            "_view_module": "@jupyter-widgets/base",
            "_view_module_version": "1.2.0",
            "_view_name": "StyleView",
            "bar_color": null,
            "description_width": ""
          }
        },
        "4cbaecd512fe43faacfc9966bed95327": {
          "model_module": "@jupyter-widgets/base",
          "model_name": "LayoutModel",
          "model_module_version": "1.2.0",
          "state": {
            "_model_module": "@jupyter-widgets/base",
            "_model_module_version": "1.2.0",
            "_model_name": "LayoutModel",
            "_view_count": null,
            "_view_module": "@jupyter-widgets/base",
            "_view_module_version": "1.2.0",
            "_view_name": "LayoutView",
            "align_content": null,
            "align_items": null,
            "align_self": null,
            "border": null,
            "bottom": null,
            "display": null,
            "flex": null,
            "flex_flow": null,
            "grid_area": null,
            "grid_auto_columns": null,
            "grid_auto_flow": null,
            "grid_auto_rows": null,
            "grid_column": null,
            "grid_gap": null,
            "grid_row": null,
            "grid_template_areas": null,
            "grid_template_columns": null,
            "grid_template_rows": null,
            "height": null,
            "justify_content": null,
            "justify_items": null,
            "left": null,
            "margin": null,
            "max_height": null,
            "max_width": null,
            "min_height": null,
            "min_width": null,
            "object_fit": null,
            "object_position": null,
            "order": null,
            "overflow": null,
            "overflow_x": null,
            "overflow_y": null,
            "padding": null,
            "right": null,
            "top": null,
            "visibility": null,
            "width": null
          }
        },
        "54e2edb9b36549149ea38a331e2762ae": {
          "model_module": "@jupyter-widgets/controls",
          "model_name": "DescriptionStyleModel",
          "model_module_version": "1.5.0",
          "state": {
            "_model_module": "@jupyter-widgets/controls",
            "_model_module_version": "1.5.0",
            "_model_name": "DescriptionStyleModel",
            "_view_count": null,
            "_view_module": "@jupyter-widgets/base",
            "_view_module_version": "1.2.0",
            "_view_name": "StyleView",
            "description_width": ""
          }
        },
        "678a71aa77bd4319ae2f378943d20f2c": {
          "model_module": "@jupyter-widgets/controls",
          "model_name": "HBoxModel",
          "model_module_version": "1.5.0",
          "state": {
            "_dom_classes": [],
            "_model_module": "@jupyter-widgets/controls",
            "_model_module_version": "1.5.0",
            "_model_name": "HBoxModel",
            "_view_count": null,
            "_view_module": "@jupyter-widgets/controls",
            "_view_module_version": "1.5.0",
            "_view_name": "HBoxView",
            "box_style": "",
            "children": [
              "IPY_MODEL_4f48d9cc236b4570a8f555925f0aa88f",
              "IPY_MODEL_ab33c0d206fb42b1a73749e78d37e00f",
              "IPY_MODEL_255b9759cd894a5c950d7559f831a4a6"
            ],
            "layout": "IPY_MODEL_6596bf30f4a14b7689a53b466be49a4c"
          }
        },
        "4f48d9cc236b4570a8f555925f0aa88f": {
          "model_module": "@jupyter-widgets/controls",
          "model_name": "HTMLModel",
          "model_module_version": "1.5.0",
          "state": {
            "_dom_classes": [],
            "_model_module": "@jupyter-widgets/controls",
            "_model_module_version": "1.5.0",
            "_model_name": "HTMLModel",
            "_view_count": null,
            "_view_module": "@jupyter-widgets/controls",
            "_view_module_version": "1.5.0",
            "_view_name": "HTMLView",
            "description": "",
            "description_tooltip": null,
            "layout": "IPY_MODEL_6c36706354cd418e8e5cff29dfdc42b2",
            "placeholder": "​",
            "style": "IPY_MODEL_045c1a2aaa7d4689890bab6c165b8798",
            "value": "Downloading shards: 100%"
          }
        },
        "ab33c0d206fb42b1a73749e78d37e00f": {
          "model_module": "@jupyter-widgets/controls",
          "model_name": "FloatProgressModel",
          "model_module_version": "1.5.0",
          "state": {
            "_dom_classes": [],
            "_model_module": "@jupyter-widgets/controls",
            "_model_module_version": "1.5.0",
            "_model_name": "FloatProgressModel",
            "_view_count": null,
            "_view_module": "@jupyter-widgets/controls",
            "_view_module_version": "1.5.0",
            "_view_name": "ProgressView",
            "bar_style": "success",
            "description": "",
            "description_tooltip": null,
            "layout": "IPY_MODEL_cefa14e6d5df45e7a7dedacfc8ddca2e",
            "max": 2,
            "min": 0,
            "orientation": "horizontal",
            "style": "IPY_MODEL_222a2dc274fe4757b05e5e962298676b",
            "value": 2
          }
        },
        "255b9759cd894a5c950d7559f831a4a6": {
          "model_module": "@jupyter-widgets/controls",
          "model_name": "HTMLModel",
          "model_module_version": "1.5.0",
          "state": {
            "_dom_classes": [],
            "_model_module": "@jupyter-widgets/controls",
            "_model_module_version": "1.5.0",
            "_model_name": "HTMLModel",
            "_view_count": null,
            "_view_module": "@jupyter-widgets/controls",
            "_view_module_version": "1.5.0",
            "_view_name": "HTMLView",
            "description": "",
            "description_tooltip": null,
            "layout": "IPY_MODEL_6dc73aea429b4ce2b1300a69efb5068f",
            "placeholder": "​",
            "style": "IPY_MODEL_d6d9810bb8e740fcb3942944948f9a4d",
            "value": " 2/2 [00:00&lt;00:00, 12.95it/s]"
          }
        },
        "6596bf30f4a14b7689a53b466be49a4c": {
          "model_module": "@jupyter-widgets/base",
          "model_name": "LayoutModel",
          "model_module_version": "1.2.0",
          "state": {
            "_model_module": "@jupyter-widgets/base",
            "_model_module_version": "1.2.0",
            "_model_name": "LayoutModel",
            "_view_count": null,
            "_view_module": "@jupyter-widgets/base",
            "_view_module_version": "1.2.0",
            "_view_name": "LayoutView",
            "align_content": null,
            "align_items": null,
            "align_self": null,
            "border": null,
            "bottom": null,
            "display": null,
            "flex": null,
            "flex_flow": null,
            "grid_area": null,
            "grid_auto_columns": null,
            "grid_auto_flow": null,
            "grid_auto_rows": null,
            "grid_column": null,
            "grid_gap": null,
            "grid_row": null,
            "grid_template_areas": null,
            "grid_template_columns": null,
            "grid_template_rows": null,
            "height": null,
            "justify_content": null,
            "justify_items": null,
            "left": null,
            "margin": null,
            "max_height": null,
            "max_width": null,
            "min_height": null,
            "min_width": null,
            "object_fit": null,
            "object_position": null,
            "order": null,
            "overflow": null,
            "overflow_x": null,
            "overflow_y": null,
            "padding": null,
            "right": null,
            "top": null,
            "visibility": null,
            "width": null
          }
        },
        "6c36706354cd418e8e5cff29dfdc42b2": {
          "model_module": "@jupyter-widgets/base",
          "model_name": "LayoutModel",
          "model_module_version": "1.2.0",
          "state": {
            "_model_module": "@jupyter-widgets/base",
            "_model_module_version": "1.2.0",
            "_model_name": "LayoutModel",
            "_view_count": null,
            "_view_module": "@jupyter-widgets/base",
            "_view_module_version": "1.2.0",
            "_view_name": "LayoutView",
            "align_content": null,
            "align_items": null,
            "align_self": null,
            "border": null,
            "bottom": null,
            "display": null,
            "flex": null,
            "flex_flow": null,
            "grid_area": null,
            "grid_auto_columns": null,
            "grid_auto_flow": null,
            "grid_auto_rows": null,
            "grid_column": null,
            "grid_gap": null,
            "grid_row": null,
            "grid_template_areas": null,
            "grid_template_columns": null,
            "grid_template_rows": null,
            "height": null,
            "justify_content": null,
            "justify_items": null,
            "left": null,
            "margin": null,
            "max_height": null,
            "max_width": null,
            "min_height": null,
            "min_width": null,
            "object_fit": null,
            "object_position": null,
            "order": null,
            "overflow": null,
            "overflow_x": null,
            "overflow_y": null,
            "padding": null,
            "right": null,
            "top": null,
            "visibility": null,
            "width": null
          }
        },
        "045c1a2aaa7d4689890bab6c165b8798": {
          "model_module": "@jupyter-widgets/controls",
          "model_name": "DescriptionStyleModel",
          "model_module_version": "1.5.0",
          "state": {
            "_model_module": "@jupyter-widgets/controls",
            "_model_module_version": "1.5.0",
            "_model_name": "DescriptionStyleModel",
            "_view_count": null,
            "_view_module": "@jupyter-widgets/base",
            "_view_module_version": "1.2.0",
            "_view_name": "StyleView",
            "description_width": ""
          }
        },
        "cefa14e6d5df45e7a7dedacfc8ddca2e": {
          "model_module": "@jupyter-widgets/base",
          "model_name": "LayoutModel",
          "model_module_version": "1.2.0",
          "state": {
            "_model_module": "@jupyter-widgets/base",
            "_model_module_version": "1.2.0",
            "_model_name": "LayoutModel",
            "_view_count": null,
            "_view_module": "@jupyter-widgets/base",
            "_view_module_version": "1.2.0",
            "_view_name": "LayoutView",
            "align_content": null,
            "align_items": null,
            "align_self": null,
            "border": null,
            "bottom": null,
            "display": null,
            "flex": null,
            "flex_flow": null,
            "grid_area": null,
            "grid_auto_columns": null,
            "grid_auto_flow": null,
            "grid_auto_rows": null,
            "grid_column": null,
            "grid_gap": null,
            "grid_row": null,
            "grid_template_areas": null,
            "grid_template_columns": null,
            "grid_template_rows": null,
            "height": null,
            "justify_content": null,
            "justify_items": null,
            "left": null,
            "margin": null,
            "max_height": null,
            "max_width": null,
            "min_height": null,
            "min_width": null,
            "object_fit": null,
            "object_position": null,
            "order": null,
            "overflow": null,
            "overflow_x": null,
            "overflow_y": null,
            "padding": null,
            "right": null,
            "top": null,
            "visibility": null,
            "width": null
          }
        },
        "222a2dc274fe4757b05e5e962298676b": {
          "model_module": "@jupyter-widgets/controls",
          "model_name": "ProgressStyleModel",
          "model_module_version": "1.5.0",
          "state": {
            "_model_module": "@jupyter-widgets/controls",
            "_model_module_version": "1.5.0",
            "_model_name": "ProgressStyleModel",
            "_view_count": null,
            "_view_module": "@jupyter-widgets/base",
            "_view_module_version": "1.2.0",
            "_view_name": "StyleView",
            "bar_color": null,
            "description_width": ""
          }
        },
        "6dc73aea429b4ce2b1300a69efb5068f": {
          "model_module": "@jupyter-widgets/base",
          "model_name": "LayoutModel",
          "model_module_version": "1.2.0",
          "state": {
            "_model_module": "@jupyter-widgets/base",
            "_model_module_version": "1.2.0",
            "_model_name": "LayoutModel",
            "_view_count": null,
            "_view_module": "@jupyter-widgets/base",
            "_view_module_version": "1.2.0",
            "_view_name": "LayoutView",
            "align_content": null,
            "align_items": null,
            "align_self": null,
            "border": null,
            "bottom": null,
            "display": null,
            "flex": null,
            "flex_flow": null,
            "grid_area": null,
            "grid_auto_columns": null,
            "grid_auto_flow": null,
            "grid_auto_rows": null,
            "grid_column": null,
            "grid_gap": null,
            "grid_row": null,
            "grid_template_areas": null,
            "grid_template_columns": null,
            "grid_template_rows": null,
            "height": null,
            "justify_content": null,
            "justify_items": null,
            "left": null,
            "margin": null,
            "max_height": null,
            "max_width": null,
            "min_height": null,
            "min_width": null,
            "object_fit": null,
            "object_position": null,
            "order": null,
            "overflow": null,
            "overflow_x": null,
            "overflow_y": null,
            "padding": null,
            "right": null,
            "top": null,
            "visibility": null,
            "width": null
          }
        },
        "d6d9810bb8e740fcb3942944948f9a4d": {
          "model_module": "@jupyter-widgets/controls",
          "model_name": "DescriptionStyleModel",
          "model_module_version": "1.5.0",
          "state": {
            "_model_module": "@jupyter-widgets/controls",
            "_model_module_version": "1.5.0",
            "_model_name": "DescriptionStyleModel",
            "_view_count": null,
            "_view_module": "@jupyter-widgets/base",
            "_view_module_version": "1.2.0",
            "_view_name": "StyleView",
            "description_width": ""
          }
        },
        "bb1c05af56a24e40bba86f3c6d456fac": {
          "model_module": "@jupyter-widgets/controls",
          "model_name": "HBoxModel",
          "model_module_version": "1.5.0",
          "state": {
            "_dom_classes": [],
            "_model_module": "@jupyter-widgets/controls",
            "_model_module_version": "1.5.0",
            "_model_name": "HBoxModel",
            "_view_count": null,
            "_view_module": "@jupyter-widgets/controls",
            "_view_module_version": "1.5.0",
            "_view_name": "HBoxView",
            "box_style": "",
            "children": [
              "IPY_MODEL_d68dcdb6d9ba407fbf2da05207025f24",
              "IPY_MODEL_a1bc046a19a64e8ba420e9d5a4ca2d9e",
              "IPY_MODEL_6066c6efeff647cfb07af1109530d9aa"
            ],
            "layout": "IPY_MODEL_03d9486981cf46f7a03e71e0bd5114ef"
          }
        },
        "d68dcdb6d9ba407fbf2da05207025f24": {
          "model_module": "@jupyter-widgets/controls",
          "model_name": "HTMLModel",
          "model_module_version": "1.5.0",
          "state": {
            "_dom_classes": [],
            "_model_module": "@jupyter-widgets/controls",
            "_model_module_version": "1.5.0",
            "_model_name": "HTMLModel",
            "_view_count": null,
            "_view_module": "@jupyter-widgets/controls",
            "_view_module_version": "1.5.0",
            "_view_name": "HTMLView",
            "description": "",
            "description_tooltip": null,
            "layout": "IPY_MODEL_27ea95da868f40c694bd6baa992d13cf",
            "placeholder": "​",
            "style": "IPY_MODEL_c1aa790f022b4887be43d509e073942d",
            "value": "Loading checkpoint shards: 100%"
          }
        },
        "a1bc046a19a64e8ba420e9d5a4ca2d9e": {
          "model_module": "@jupyter-widgets/controls",
          "model_name": "FloatProgressModel",
          "model_module_version": "1.5.0",
          "state": {
            "_dom_classes": [],
            "_model_module": "@jupyter-widgets/controls",
            "_model_module_version": "1.5.0",
            "_model_name": "FloatProgressModel",
            "_view_count": null,
            "_view_module": "@jupyter-widgets/controls",
            "_view_module_version": "1.5.0",
            "_view_name": "ProgressView",
            "bar_style": "success",
            "description": "",
            "description_tooltip": null,
            "layout": "IPY_MODEL_968d3ec9045949c2b0d33b0a1b127202",
            "max": 2,
            "min": 0,
            "orientation": "horizontal",
            "style": "IPY_MODEL_44c3272af2d340c8b68a44a73c451ab6",
            "value": 2
          }
        },
        "6066c6efeff647cfb07af1109530d9aa": {
          "model_module": "@jupyter-widgets/controls",
          "model_name": "HTMLModel",
          "model_module_version": "1.5.0",
          "state": {
            "_dom_classes": [],
            "_model_module": "@jupyter-widgets/controls",
            "_model_module_version": "1.5.0",
            "_model_name": "HTMLModel",
            "_view_count": null,
            "_view_module": "@jupyter-widgets/controls",
            "_view_module_version": "1.5.0",
            "_view_name": "HTMLView",
            "description": "",
            "description_tooltip": null,
            "layout": "IPY_MODEL_6de8595eb6cf4198b5dbdc56925e6f2b",
            "placeholder": "​",
            "style": "IPY_MODEL_3f06de8dd6aa441897e716807087a29d",
            "value": " 2/2 [01:44&lt;00:00, 49.57s/it]"
          }
        },
        "03d9486981cf46f7a03e71e0bd5114ef": {
          "model_module": "@jupyter-widgets/base",
          "model_name": "LayoutModel",
          "model_module_version": "1.2.0",
          "state": {
            "_model_module": "@jupyter-widgets/base",
            "_model_module_version": "1.2.0",
            "_model_name": "LayoutModel",
            "_view_count": null,
            "_view_module": "@jupyter-widgets/base",
            "_view_module_version": "1.2.0",
            "_view_name": "LayoutView",
            "align_content": null,
            "align_items": null,
            "align_self": null,
            "border": null,
            "bottom": null,
            "display": null,
            "flex": null,
            "flex_flow": null,
            "grid_area": null,
            "grid_auto_columns": null,
            "grid_auto_flow": null,
            "grid_auto_rows": null,
            "grid_column": null,
            "grid_gap": null,
            "grid_row": null,
            "grid_template_areas": null,
            "grid_template_columns": null,
            "grid_template_rows": null,
            "height": null,
            "justify_content": null,
            "justify_items": null,
            "left": null,
            "margin": null,
            "max_height": null,
            "max_width": null,
            "min_height": null,
            "min_width": null,
            "object_fit": null,
            "object_position": null,
            "order": null,
            "overflow": null,
            "overflow_x": null,
            "overflow_y": null,
            "padding": null,
            "right": null,
            "top": null,
            "visibility": null,
            "width": null
          }
        },
        "27ea95da868f40c694bd6baa992d13cf": {
          "model_module": "@jupyter-widgets/base",
          "model_name": "LayoutModel",
          "model_module_version": "1.2.0",
          "state": {
            "_model_module": "@jupyter-widgets/base",
            "_model_module_version": "1.2.0",
            "_model_name": "LayoutModel",
            "_view_count": null,
            "_view_module": "@jupyter-widgets/base",
            "_view_module_version": "1.2.0",
            "_view_name": "LayoutView",
            "align_content": null,
            "align_items": null,
            "align_self": null,
            "border": null,
            "bottom": null,
            "display": null,
            "flex": null,
            "flex_flow": null,
            "grid_area": null,
            "grid_auto_columns": null,
            "grid_auto_flow": null,
            "grid_auto_rows": null,
            "grid_column": null,
            "grid_gap": null,
            "grid_row": null,
            "grid_template_areas": null,
            "grid_template_columns": null,
            "grid_template_rows": null,
            "height": null,
            "justify_content": null,
            "justify_items": null,
            "left": null,
            "margin": null,
            "max_height": null,
            "max_width": null,
            "min_height": null,
            "min_width": null,
            "object_fit": null,
            "object_position": null,
            "order": null,
            "overflow": null,
            "overflow_x": null,
            "overflow_y": null,
            "padding": null,
            "right": null,
            "top": null,
            "visibility": null,
            "width": null
          }
        },
        "c1aa790f022b4887be43d509e073942d": {
          "model_module": "@jupyter-widgets/controls",
          "model_name": "DescriptionStyleModel",
          "model_module_version": "1.5.0",
          "state": {
            "_model_module": "@jupyter-widgets/controls",
            "_model_module_version": "1.5.0",
            "_model_name": "DescriptionStyleModel",
            "_view_count": null,
            "_view_module": "@jupyter-widgets/base",
            "_view_module_version": "1.2.0",
            "_view_name": "StyleView",
            "description_width": ""
          }
        },
        "968d3ec9045949c2b0d33b0a1b127202": {
          "model_module": "@jupyter-widgets/base",
          "model_name": "LayoutModel",
          "model_module_version": "1.2.0",
          "state": {
            "_model_module": "@jupyter-widgets/base",
            "_model_module_version": "1.2.0",
            "_model_name": "LayoutModel",
            "_view_count": null,
            "_view_module": "@jupyter-widgets/base",
            "_view_module_version": "1.2.0",
            "_view_name": "LayoutView",
            "align_content": null,
            "align_items": null,
            "align_self": null,
            "border": null,
            "bottom": null,
            "display": null,
            "flex": null,
            "flex_flow": null,
            "grid_area": null,
            "grid_auto_columns": null,
            "grid_auto_flow": null,
            "grid_auto_rows": null,
            "grid_column": null,
            "grid_gap": null,
            "grid_row": null,
            "grid_template_areas": null,
            "grid_template_columns": null,
            "grid_template_rows": null,
            "height": null,
            "justify_content": null,
            "justify_items": null,
            "left": null,
            "margin": null,
            "max_height": null,
            "max_width": null,
            "min_height": null,
            "min_width": null,
            "object_fit": null,
            "object_position": null,
            "order": null,
            "overflow": null,
            "overflow_x": null,
            "overflow_y": null,
            "padding": null,
            "right": null,
            "top": null,
            "visibility": null,
            "width": null
          }
        },
        "44c3272af2d340c8b68a44a73c451ab6": {
          "model_module": "@jupyter-widgets/controls",
          "model_name": "ProgressStyleModel",
          "model_module_version": "1.5.0",
          "state": {
            "_model_module": "@jupyter-widgets/controls",
            "_model_module_version": "1.5.0",
            "_model_name": "ProgressStyleModel",
            "_view_count": null,
            "_view_module": "@jupyter-widgets/base",
            "_view_module_version": "1.2.0",
            "_view_name": "StyleView",
            "bar_color": null,
            "description_width": ""
          }
        },
        "6de8595eb6cf4198b5dbdc56925e6f2b": {
          "model_module": "@jupyter-widgets/base",
          "model_name": "LayoutModel",
          "model_module_version": "1.2.0",
          "state": {
            "_model_module": "@jupyter-widgets/base",
            "_model_module_version": "1.2.0",
            "_model_name": "LayoutModel",
            "_view_count": null,
            "_view_module": "@jupyter-widgets/base",
            "_view_module_version": "1.2.0",
            "_view_name": "LayoutView",
            "align_content": null,
            "align_items": null,
            "align_self": null,
            "border": null,
            "bottom": null,
            "display": null,
            "flex": null,
            "flex_flow": null,
            "grid_area": null,
            "grid_auto_columns": null,
            "grid_auto_flow": null,
            "grid_auto_rows": null,
            "grid_column": null,
            "grid_gap": null,
            "grid_row": null,
            "grid_template_areas": null,
            "grid_template_columns": null,
            "grid_template_rows": null,
            "height": null,
            "justify_content": null,
            "justify_items": null,
            "left": null,
            "margin": null,
            "max_height": null,
            "max_width": null,
            "min_height": null,
            "min_width": null,
            "object_fit": null,
            "object_position": null,
            "order": null,
            "overflow": null,
            "overflow_x": null,
            "overflow_y": null,
            "padding": null,
            "right": null,
            "top": null,
            "visibility": null,
            "width": null
          }
        },
        "3f06de8dd6aa441897e716807087a29d": {
          "model_module": "@jupyter-widgets/controls",
          "model_name": "DescriptionStyleModel",
          "model_module_version": "1.5.0",
          "state": {
            "_model_module": "@jupyter-widgets/controls",
            "_model_module_version": "1.5.0",
            "_model_name": "DescriptionStyleModel",
            "_view_count": null,
            "_view_module": "@jupyter-widgets/base",
            "_view_module_version": "1.2.0",
            "_view_name": "StyleView",
            "description_width": ""
          }
        },
        "6e3ec789ca5e460f9e0681d169d0e039": {
          "model_module": "@jupyter-widgets/controls",
          "model_name": "HBoxModel",
          "model_module_version": "1.5.0",
          "state": {
            "_dom_classes": [],
            "_model_module": "@jupyter-widgets/controls",
            "_model_module_version": "1.5.0",
            "_model_name": "HBoxModel",
            "_view_count": null,
            "_view_module": "@jupyter-widgets/controls",
            "_view_module_version": "1.5.0",
            "_view_name": "HBoxView",
            "box_style": "",
            "children": [
              "IPY_MODEL_91d0437a782048bd88cf05e25a3400d9",
              "IPY_MODEL_ad13be1cd09f41b0bdc63be85e487673",
              "IPY_MODEL_0c0c7fe7491f448da29fdcb90f7651f1"
            ],
            "layout": "IPY_MODEL_f46a15c69fd646068a8bdb9cf1fc25b2"
          }
        },
        "91d0437a782048bd88cf05e25a3400d9": {
          "model_module": "@jupyter-widgets/controls",
          "model_name": "HTMLModel",
          "model_module_version": "1.5.0",
          "state": {
            "_dom_classes": [],
            "_model_module": "@jupyter-widgets/controls",
            "_model_module_version": "1.5.0",
            "_model_name": "HTMLModel",
            "_view_count": null,
            "_view_module": "@jupyter-widgets/controls",
            "_view_module_version": "1.5.0",
            "_view_name": "HTMLView",
            "description": "",
            "description_tooltip": null,
            "layout": "IPY_MODEL_e4ed2b71400943f08262db6a602992f6",
            "placeholder": "​",
            "style": "IPY_MODEL_f3ac07aed2ac43569a94648c4b941a44",
            "value": "Loading checkpoint shards: 100%"
          }
        },
        "ad13be1cd09f41b0bdc63be85e487673": {
          "model_module": "@jupyter-widgets/controls",
          "model_name": "FloatProgressModel",
          "model_module_version": "1.5.0",
          "state": {
            "_dom_classes": [],
            "_model_module": "@jupyter-widgets/controls",
            "_model_module_version": "1.5.0",
            "_model_name": "FloatProgressModel",
            "_view_count": null,
            "_view_module": "@jupyter-widgets/controls",
            "_view_module_version": "1.5.0",
            "_view_name": "ProgressView",
            "bar_style": "success",
            "description": "",
            "description_tooltip": null,
            "layout": "IPY_MODEL_f4c39fb162354e65b4680ff999e91970",
            "max": 2,
            "min": 0,
            "orientation": "horizontal",
            "style": "IPY_MODEL_b2aeee87f48c41e3a804559fb96c403f",
            "value": 2
          }
        },
        "0c0c7fe7491f448da29fdcb90f7651f1": {
          "model_module": "@jupyter-widgets/controls",
          "model_name": "HTMLModel",
          "model_module_version": "1.5.0",
          "state": {
            "_dom_classes": [],
            "_model_module": "@jupyter-widgets/controls",
            "_model_module_version": "1.5.0",
            "_model_name": "HTMLModel",
            "_view_count": null,
            "_view_module": "@jupyter-widgets/controls",
            "_view_module_version": "1.5.0",
            "_view_name": "HTMLView",
            "description": "",
            "description_tooltip": null,
            "layout": "IPY_MODEL_9fd813f13fed4d8a808650462cdd93f2",
            "placeholder": "​",
            "style": "IPY_MODEL_659bd97161124618a8b7436618c53846",
            "value": " 2/2 [00:07&lt;00:00,  3.71s/it]"
          }
        },
        "f46a15c69fd646068a8bdb9cf1fc25b2": {
          "model_module": "@jupyter-widgets/base",
          "model_name": "LayoutModel",
          "model_module_version": "1.2.0",
          "state": {
            "_model_module": "@jupyter-widgets/base",
            "_model_module_version": "1.2.0",
            "_model_name": "LayoutModel",
            "_view_count": null,
            "_view_module": "@jupyter-widgets/base",
            "_view_module_version": "1.2.0",
            "_view_name": "LayoutView",
            "align_content": null,
            "align_items": null,
            "align_self": null,
            "border": null,
            "bottom": null,
            "display": null,
            "flex": null,
            "flex_flow": null,
            "grid_area": null,
            "grid_auto_columns": null,
            "grid_auto_flow": null,
            "grid_auto_rows": null,
            "grid_column": null,
            "grid_gap": null,
            "grid_row": null,
            "grid_template_areas": null,
            "grid_template_columns": null,
            "grid_template_rows": null,
            "height": null,
            "justify_content": null,
            "justify_items": null,
            "left": null,
            "margin": null,
            "max_height": null,
            "max_width": null,
            "min_height": null,
            "min_width": null,
            "object_fit": null,
            "object_position": null,
            "order": null,
            "overflow": null,
            "overflow_x": null,
            "overflow_y": null,
            "padding": null,
            "right": null,
            "top": null,
            "visibility": null,
            "width": null
          }
        },
        "e4ed2b71400943f08262db6a602992f6": {
          "model_module": "@jupyter-widgets/base",
          "model_name": "LayoutModel",
          "model_module_version": "1.2.0",
          "state": {
            "_model_module": "@jupyter-widgets/base",
            "_model_module_version": "1.2.0",
            "_model_name": "LayoutModel",
            "_view_count": null,
            "_view_module": "@jupyter-widgets/base",
            "_view_module_version": "1.2.0",
            "_view_name": "LayoutView",
            "align_content": null,
            "align_items": null,
            "align_self": null,
            "border": null,
            "bottom": null,
            "display": null,
            "flex": null,
            "flex_flow": null,
            "grid_area": null,
            "grid_auto_columns": null,
            "grid_auto_flow": null,
            "grid_auto_rows": null,
            "grid_column": null,
            "grid_gap": null,
            "grid_row": null,
            "grid_template_areas": null,
            "grid_template_columns": null,
            "grid_template_rows": null,
            "height": null,
            "justify_content": null,
            "justify_items": null,
            "left": null,
            "margin": null,
            "max_height": null,
            "max_width": null,
            "min_height": null,
            "min_width": null,
            "object_fit": null,
            "object_position": null,
            "order": null,
            "overflow": null,
            "overflow_x": null,
            "overflow_y": null,
            "padding": null,
            "right": null,
            "top": null,
            "visibility": null,
            "width": null
          }
        },
        "f3ac07aed2ac43569a94648c4b941a44": {
          "model_module": "@jupyter-widgets/controls",
          "model_name": "DescriptionStyleModel",
          "model_module_version": "1.5.0",
          "state": {
            "_model_module": "@jupyter-widgets/controls",
            "_model_module_version": "1.5.0",
            "_model_name": "DescriptionStyleModel",
            "_view_count": null,
            "_view_module": "@jupyter-widgets/base",
            "_view_module_version": "1.2.0",
            "_view_name": "StyleView",
            "description_width": ""
          }
        },
        "f4c39fb162354e65b4680ff999e91970": {
          "model_module": "@jupyter-widgets/base",
          "model_name": "LayoutModel",
          "model_module_version": "1.2.0",
          "state": {
            "_model_module": "@jupyter-widgets/base",
            "_model_module_version": "1.2.0",
            "_model_name": "LayoutModel",
            "_view_count": null,
            "_view_module": "@jupyter-widgets/base",
            "_view_module_version": "1.2.0",
            "_view_name": "LayoutView",
            "align_content": null,
            "align_items": null,
            "align_self": null,
            "border": null,
            "bottom": null,
            "display": null,
            "flex": null,
            "flex_flow": null,
            "grid_area": null,
            "grid_auto_columns": null,
            "grid_auto_flow": null,
            "grid_auto_rows": null,
            "grid_column": null,
            "grid_gap": null,
            "grid_row": null,
            "grid_template_areas": null,
            "grid_template_columns": null,
            "grid_template_rows": null,
            "height": null,
            "justify_content": null,
            "justify_items": null,
            "left": null,
            "margin": null,
            "max_height": null,
            "max_width": null,
            "min_height": null,
            "min_width": null,
            "object_fit": null,
            "object_position": null,
            "order": null,
            "overflow": null,
            "overflow_x": null,
            "overflow_y": null,
            "padding": null,
            "right": null,
            "top": null,
            "visibility": null,
            "width": null
          }
        },
        "b2aeee87f48c41e3a804559fb96c403f": {
          "model_module": "@jupyter-widgets/controls",
          "model_name": "ProgressStyleModel",
          "model_module_version": "1.5.0",
          "state": {
            "_model_module": "@jupyter-widgets/controls",
            "_model_module_version": "1.5.0",
            "_model_name": "ProgressStyleModel",
            "_view_count": null,
            "_view_module": "@jupyter-widgets/base",
            "_view_module_version": "1.2.0",
            "_view_name": "StyleView",
            "bar_color": null,
            "description_width": ""
          }
        },
        "9fd813f13fed4d8a808650462cdd93f2": {
          "model_module": "@jupyter-widgets/base",
          "model_name": "LayoutModel",
          "model_module_version": "1.2.0",
          "state": {
            "_model_module": "@jupyter-widgets/base",
            "_model_module_version": "1.2.0",
            "_model_name": "LayoutModel",
            "_view_count": null,
            "_view_module": "@jupyter-widgets/base",
            "_view_module_version": "1.2.0",
            "_view_name": "LayoutView",
            "align_content": null,
            "align_items": null,
            "align_self": null,
            "border": null,
            "bottom": null,
            "display": null,
            "flex": null,
            "flex_flow": null,
            "grid_area": null,
            "grid_auto_columns": null,
            "grid_auto_flow": null,
            "grid_auto_rows": null,
            "grid_column": null,
            "grid_gap": null,
            "grid_row": null,
            "grid_template_areas": null,
            "grid_template_columns": null,
            "grid_template_rows": null,
            "height": null,
            "justify_content": null,
            "justify_items": null,
            "left": null,
            "margin": null,
            "max_height": null,
            "max_width": null,
            "min_height": null,
            "min_width": null,
            "object_fit": null,
            "object_position": null,
            "order": null,
            "overflow": null,
            "overflow_x": null,
            "overflow_y": null,
            "padding": null,
            "right": null,
            "top": null,
            "visibility": null,
            "width": null
          }
        },
        "659bd97161124618a8b7436618c53846": {
          "model_module": "@jupyter-widgets/controls",
          "model_name": "DescriptionStyleModel",
          "model_module_version": "1.5.0",
          "state": {
            "_model_module": "@jupyter-widgets/controls",
            "_model_module_version": "1.5.0",
            "_model_name": "DescriptionStyleModel",
            "_view_count": null,
            "_view_module": "@jupyter-widgets/base",
            "_view_module_version": "1.2.0",
            "_view_name": "StyleView",
            "description_width": ""
          }
        },
        "ac014d279fb34ada82c4586f898b11ed": {
          "model_module": "@jupyter-widgets/controls",
          "model_name": "HBoxModel",
          "model_module_version": "1.5.0",
          "state": {
            "_dom_classes": [],
            "_model_module": "@jupyter-widgets/controls",
            "_model_module_version": "1.5.0",
            "_model_name": "HBoxModel",
            "_view_count": null,
            "_view_module": "@jupyter-widgets/controls",
            "_view_module_version": "1.5.0",
            "_view_name": "HBoxView",
            "box_style": "",
            "children": [
              "IPY_MODEL_c303f7173bb24cedb061eacebcd2f5eb",
              "IPY_MODEL_15666bb5b17844fca058d09bb07ac4c1",
              "IPY_MODEL_bb410cc0f5b7416483ea534d94b2ff9d"
            ],
            "layout": "IPY_MODEL_d3d064f9881b4661afa246c4806fb571"
          }
        },
        "c303f7173bb24cedb061eacebcd2f5eb": {
          "model_module": "@jupyter-widgets/controls",
          "model_name": "HTMLModel",
          "model_module_version": "1.5.0",
          "state": {
            "_dom_classes": [],
            "_model_module": "@jupyter-widgets/controls",
            "_model_module_version": "1.5.0",
            "_model_name": "HTMLModel",
            "_view_count": null,
            "_view_module": "@jupyter-widgets/controls",
            "_view_module_version": "1.5.0",
            "_view_name": "HTMLView",
            "description": "",
            "description_tooltip": null,
            "layout": "IPY_MODEL_ba67bbb6aa5e400d82d0b63bab7a9aa5",
            "placeholder": "​",
            "style": "IPY_MODEL_f8727e3a59c04b42a42f6c50c7fc585a",
            "value": "Fetching 5 files: 100%"
          }
        },
        "15666bb5b17844fca058d09bb07ac4c1": {
          "model_module": "@jupyter-widgets/controls",
          "model_name": "FloatProgressModel",
          "model_module_version": "1.5.0",
          "state": {
            "_dom_classes": [],
            "_model_module": "@jupyter-widgets/controls",
            "_model_module_version": "1.5.0",
            "_model_name": "FloatProgressModel",
            "_view_count": null,
            "_view_module": "@jupyter-widgets/controls",
            "_view_module_version": "1.5.0",
            "_view_name": "ProgressView",
            "bar_style": "success",
            "description": "",
            "description_tooltip": null,
            "layout": "IPY_MODEL_bbde67d912bb4723b7f871869f7e6dba",
            "max": 5,
            "min": 0,
            "orientation": "horizontal",
            "style": "IPY_MODEL_9ae7283263d34ee49e3dba2dc1949cea",
            "value": 5
          }
        },
        "bb410cc0f5b7416483ea534d94b2ff9d": {
          "model_module": "@jupyter-widgets/controls",
          "model_name": "HTMLModel",
          "model_module_version": "1.5.0",
          "state": {
            "_dom_classes": [],
            "_model_module": "@jupyter-widgets/controls",
            "_model_module_version": "1.5.0",
            "_model_name": "HTMLModel",
            "_view_count": null,
            "_view_module": "@jupyter-widgets/controls",
            "_view_module_version": "1.5.0",
            "_view_name": "HTMLView",
            "description": "",
            "description_tooltip": null,
            "layout": "IPY_MODEL_cd16218b006a4351b25f0c06c2c51b94",
            "placeholder": "​",
            "style": "IPY_MODEL_3ac035054c344a409dcd2d1c7821f3e7",
            "value": " 5/5 [00:00&lt;00:00, 316.24it/s]"
          }
        },
        "d3d064f9881b4661afa246c4806fb571": {
          "model_module": "@jupyter-widgets/base",
          "model_name": "LayoutModel",
          "model_module_version": "1.2.0",
          "state": {
            "_model_module": "@jupyter-widgets/base",
            "_model_module_version": "1.2.0",
            "_model_name": "LayoutModel",
            "_view_count": null,
            "_view_module": "@jupyter-widgets/base",
            "_view_module_version": "1.2.0",
            "_view_name": "LayoutView",
            "align_content": null,
            "align_items": null,
            "align_self": null,
            "border": null,
            "bottom": null,
            "display": null,
            "flex": null,
            "flex_flow": null,
            "grid_area": null,
            "grid_auto_columns": null,
            "grid_auto_flow": null,
            "grid_auto_rows": null,
            "grid_column": null,
            "grid_gap": null,
            "grid_row": null,
            "grid_template_areas": null,
            "grid_template_columns": null,
            "grid_template_rows": null,
            "height": null,
            "justify_content": null,
            "justify_items": null,
            "left": null,
            "margin": null,
            "max_height": null,
            "max_width": null,
            "min_height": null,
            "min_width": null,
            "object_fit": null,
            "object_position": null,
            "order": null,
            "overflow": null,
            "overflow_x": null,
            "overflow_y": null,
            "padding": null,
            "right": null,
            "top": null,
            "visibility": null,
            "width": null
          }
        },
        "ba67bbb6aa5e400d82d0b63bab7a9aa5": {
          "model_module": "@jupyter-widgets/base",
          "model_name": "LayoutModel",
          "model_module_version": "1.2.0",
          "state": {
            "_model_module": "@jupyter-widgets/base",
            "_model_module_version": "1.2.0",
            "_model_name": "LayoutModel",
            "_view_count": null,
            "_view_module": "@jupyter-widgets/base",
            "_view_module_version": "1.2.0",
            "_view_name": "LayoutView",
            "align_content": null,
            "align_items": null,
            "align_self": null,
            "border": null,
            "bottom": null,
            "display": null,
            "flex": null,
            "flex_flow": null,
            "grid_area": null,
            "grid_auto_columns": null,
            "grid_auto_flow": null,
            "grid_auto_rows": null,
            "grid_column": null,
            "grid_gap": null,
            "grid_row": null,
            "grid_template_areas": null,
            "grid_template_columns": null,
            "grid_template_rows": null,
            "height": null,
            "justify_content": null,
            "justify_items": null,
            "left": null,
            "margin": null,
            "max_height": null,
            "max_width": null,
            "min_height": null,
            "min_width": null,
            "object_fit": null,
            "object_position": null,
            "order": null,
            "overflow": null,
            "overflow_x": null,
            "overflow_y": null,
            "padding": null,
            "right": null,
            "top": null,
            "visibility": null,
            "width": null
          }
        },
        "f8727e3a59c04b42a42f6c50c7fc585a": {
          "model_module": "@jupyter-widgets/controls",
          "model_name": "DescriptionStyleModel",
          "model_module_version": "1.5.0",
          "state": {
            "_model_module": "@jupyter-widgets/controls",
            "_model_module_version": "1.5.0",
            "_model_name": "DescriptionStyleModel",
            "_view_count": null,
            "_view_module": "@jupyter-widgets/base",
            "_view_module_version": "1.2.0",
            "_view_name": "StyleView",
            "description_width": ""
          }
        },
        "bbde67d912bb4723b7f871869f7e6dba": {
          "model_module": "@jupyter-widgets/base",
          "model_name": "LayoutModel",
          "model_module_version": "1.2.0",
          "state": {
            "_model_module": "@jupyter-widgets/base",
            "_model_module_version": "1.2.0",
            "_model_name": "LayoutModel",
            "_view_count": null,
            "_view_module": "@jupyter-widgets/base",
            "_view_module_version": "1.2.0",
            "_view_name": "LayoutView",
            "align_content": null,
            "align_items": null,
            "align_self": null,
            "border": null,
            "bottom": null,
            "display": null,
            "flex": null,
            "flex_flow": null,
            "grid_area": null,
            "grid_auto_columns": null,
            "grid_auto_flow": null,
            "grid_auto_rows": null,
            "grid_column": null,
            "grid_gap": null,
            "grid_row": null,
            "grid_template_areas": null,
            "grid_template_columns": null,
            "grid_template_rows": null,
            "height": null,
            "justify_content": null,
            "justify_items": null,
            "left": null,
            "margin": null,
            "max_height": null,
            "max_width": null,
            "min_height": null,
            "min_width": null,
            "object_fit": null,
            "object_position": null,
            "order": null,
            "overflow": null,
            "overflow_x": null,
            "overflow_y": null,
            "padding": null,
            "right": null,
            "top": null,
            "visibility": null,
            "width": null
          }
        },
        "9ae7283263d34ee49e3dba2dc1949cea": {
          "model_module": "@jupyter-widgets/controls",
          "model_name": "ProgressStyleModel",
          "model_module_version": "1.5.0",
          "state": {
            "_model_module": "@jupyter-widgets/controls",
            "_model_module_version": "1.5.0",
            "_model_name": "ProgressStyleModel",
            "_view_count": null,
            "_view_module": "@jupyter-widgets/base",
            "_view_module_version": "1.2.0",
            "_view_name": "StyleView",
            "bar_color": null,
            "description_width": ""
          }
        },
        "cd16218b006a4351b25f0c06c2c51b94": {
          "model_module": "@jupyter-widgets/base",
          "model_name": "LayoutModel",
          "model_module_version": "1.2.0",
          "state": {
            "_model_module": "@jupyter-widgets/base",
            "_model_module_version": "1.2.0",
            "_model_name": "LayoutModel",
            "_view_count": null,
            "_view_module": "@jupyter-widgets/base",
            "_view_module_version": "1.2.0",
            "_view_name": "LayoutView",
            "align_content": null,
            "align_items": null,
            "align_self": null,
            "border": null,
            "bottom": null,
            "display": null,
            "flex": null,
            "flex_flow": null,
            "grid_area": null,
            "grid_auto_columns": null,
            "grid_auto_flow": null,
            "grid_auto_rows": null,
            "grid_column": null,
            "grid_gap": null,
            "grid_row": null,
            "grid_template_areas": null,
            "grid_template_columns": null,
            "grid_template_rows": null,
            "height": null,
            "justify_content": null,
            "justify_items": null,
            "left": null,
            "margin": null,
            "max_height": null,
            "max_width": null,
            "min_height": null,
            "min_width": null,
            "object_fit": null,
            "object_position": null,
            "order": null,
            "overflow": null,
            "overflow_x": null,
            "overflow_y": null,
            "padding": null,
            "right": null,
            "top": null,
            "visibility": null,
            "width": null
          }
        },
        "3ac035054c344a409dcd2d1c7821f3e7": {
          "model_module": "@jupyter-widgets/controls",
          "model_name": "DescriptionStyleModel",
          "model_module_version": "1.5.0",
          "state": {
            "_model_module": "@jupyter-widgets/controls",
            "_model_module_version": "1.5.0",
            "_model_name": "DescriptionStyleModel",
            "_view_count": null,
            "_view_module": "@jupyter-widgets/base",
            "_view_module_version": "1.2.0",
            "_view_name": "StyleView",
            "description_width": ""
          }
        },
        "ef65ab6cf6374cc0b51eab070a955bcf": {
          "model_module": "@jupyter-widgets/controls",
          "model_name": "HBoxModel",
          "model_module_version": "1.5.0",
          "state": {
            "_dom_classes": [],
            "_model_module": "@jupyter-widgets/controls",
            "_model_module_version": "1.5.0",
            "_model_name": "HBoxModel",
            "_view_count": null,
            "_view_module": "@jupyter-widgets/controls",
            "_view_module_version": "1.5.0",
            "_view_name": "HBoxView",
            "box_style": "",
            "children": [
              "IPY_MODEL_70dc8873d4d74ba5860ad9bfb15058d0",
              "IPY_MODEL_5e975474bf9b48f0bb2eb880953b174d",
              "IPY_MODEL_5cb16c442e2c475f9612432ca0342bc7"
            ],
            "layout": "IPY_MODEL_0882f6adf5d04dcb9fb65c38e3981bc7"
          }
        },
        "70dc8873d4d74ba5860ad9bfb15058d0": {
          "model_module": "@jupyter-widgets/controls",
          "model_name": "HTMLModel",
          "model_module_version": "1.5.0",
          "state": {
            "_dom_classes": [],
            "_model_module": "@jupyter-widgets/controls",
            "_model_module_version": "1.5.0",
            "_model_name": "HTMLModel",
            "_view_count": null,
            "_view_module": "@jupyter-widgets/controls",
            "_view_module_version": "1.5.0",
            "_view_name": "HTMLView",
            "description": "",
            "description_tooltip": null,
            "layout": "IPY_MODEL_140e27caaafd4c9d8a310f545ba1649b",
            "placeholder": "​",
            "style": "IPY_MODEL_b0afb89191674fc7b67e8733d12d16ce",
            "value": "Parsing nodes: 100%"
          }
        },
        "5e975474bf9b48f0bb2eb880953b174d": {
          "model_module": "@jupyter-widgets/controls",
          "model_name": "FloatProgressModel",
          "model_module_version": "1.5.0",
          "state": {
            "_dom_classes": [],
            "_model_module": "@jupyter-widgets/controls",
            "_model_module_version": "1.5.0",
            "_model_name": "FloatProgressModel",
            "_view_count": null,
            "_view_module": "@jupyter-widgets/controls",
            "_view_module_version": "1.5.0",
            "_view_name": "ProgressView",
            "bar_style": "success",
            "description": "",
            "description_tooltip": null,
            "layout": "IPY_MODEL_ab079745cf7247a4b44b1894159fe9c7",
            "max": 1,
            "min": 0,
            "orientation": "horizontal",
            "style": "IPY_MODEL_ac15568882e04d59890bec5353151225",
            "value": 1
          }
        },
        "5cb16c442e2c475f9612432ca0342bc7": {
          "model_module": "@jupyter-widgets/controls",
          "model_name": "HTMLModel",
          "model_module_version": "1.5.0",
          "state": {
            "_dom_classes": [],
            "_model_module": "@jupyter-widgets/controls",
            "_model_module_version": "1.5.0",
            "_model_name": "HTMLModel",
            "_view_count": null,
            "_view_module": "@jupyter-widgets/controls",
            "_view_module_version": "1.5.0",
            "_view_name": "HTMLView",
            "description": "",
            "description_tooltip": null,
            "layout": "IPY_MODEL_1c5241c5a5124df49df93b85fb208a0d",
            "placeholder": "​",
            "style": "IPY_MODEL_6ddce8026e724368b4b35c34c28f55bc",
            "value": " 1/1 [00:00&lt;00:00, 61.63it/s]"
          }
        },
        "0882f6adf5d04dcb9fb65c38e3981bc7": {
          "model_module": "@jupyter-widgets/base",
          "model_name": "LayoutModel",
          "model_module_version": "1.2.0",
          "state": {
            "_model_module": "@jupyter-widgets/base",
            "_model_module_version": "1.2.0",
            "_model_name": "LayoutModel",
            "_view_count": null,
            "_view_module": "@jupyter-widgets/base",
            "_view_module_version": "1.2.0",
            "_view_name": "LayoutView",
            "align_content": null,
            "align_items": null,
            "align_self": null,
            "border": null,
            "bottom": null,
            "display": null,
            "flex": null,
            "flex_flow": null,
            "grid_area": null,
            "grid_auto_columns": null,
            "grid_auto_flow": null,
            "grid_auto_rows": null,
            "grid_column": null,
            "grid_gap": null,
            "grid_row": null,
            "grid_template_areas": null,
            "grid_template_columns": null,
            "grid_template_rows": null,
            "height": null,
            "justify_content": null,
            "justify_items": null,
            "left": null,
            "margin": null,
            "max_height": null,
            "max_width": null,
            "min_height": null,
            "min_width": null,
            "object_fit": null,
            "object_position": null,
            "order": null,
            "overflow": null,
            "overflow_x": null,
            "overflow_y": null,
            "padding": null,
            "right": null,
            "top": null,
            "visibility": null,
            "width": null
          }
        },
        "140e27caaafd4c9d8a310f545ba1649b": {
          "model_module": "@jupyter-widgets/base",
          "model_name": "LayoutModel",
          "model_module_version": "1.2.0",
          "state": {
            "_model_module": "@jupyter-widgets/base",
            "_model_module_version": "1.2.0",
            "_model_name": "LayoutModel",
            "_view_count": null,
            "_view_module": "@jupyter-widgets/base",
            "_view_module_version": "1.2.0",
            "_view_name": "LayoutView",
            "align_content": null,
            "align_items": null,
            "align_self": null,
            "border": null,
            "bottom": null,
            "display": null,
            "flex": null,
            "flex_flow": null,
            "grid_area": null,
            "grid_auto_columns": null,
            "grid_auto_flow": null,
            "grid_auto_rows": null,
            "grid_column": null,
            "grid_gap": null,
            "grid_row": null,
            "grid_template_areas": null,
            "grid_template_columns": null,
            "grid_template_rows": null,
            "height": null,
            "justify_content": null,
            "justify_items": null,
            "left": null,
            "margin": null,
            "max_height": null,
            "max_width": null,
            "min_height": null,
            "min_width": null,
            "object_fit": null,
            "object_position": null,
            "order": null,
            "overflow": null,
            "overflow_x": null,
            "overflow_y": null,
            "padding": null,
            "right": null,
            "top": null,
            "visibility": null,
            "width": null
          }
        },
        "b0afb89191674fc7b67e8733d12d16ce": {
          "model_module": "@jupyter-widgets/controls",
          "model_name": "DescriptionStyleModel",
          "model_module_version": "1.5.0",
          "state": {
            "_model_module": "@jupyter-widgets/controls",
            "_model_module_version": "1.5.0",
            "_model_name": "DescriptionStyleModel",
            "_view_count": null,
            "_view_module": "@jupyter-widgets/base",
            "_view_module_version": "1.2.0",
            "_view_name": "StyleView",
            "description_width": ""
          }
        },
        "ab079745cf7247a4b44b1894159fe9c7": {
          "model_module": "@jupyter-widgets/base",
          "model_name": "LayoutModel",
          "model_module_version": "1.2.0",
          "state": {
            "_model_module": "@jupyter-widgets/base",
            "_model_module_version": "1.2.0",
            "_model_name": "LayoutModel",
            "_view_count": null,
            "_view_module": "@jupyter-widgets/base",
            "_view_module_version": "1.2.0",
            "_view_name": "LayoutView",
            "align_content": null,
            "align_items": null,
            "align_self": null,
            "border": null,
            "bottom": null,
            "display": null,
            "flex": null,
            "flex_flow": null,
            "grid_area": null,
            "grid_auto_columns": null,
            "grid_auto_flow": null,
            "grid_auto_rows": null,
            "grid_column": null,
            "grid_gap": null,
            "grid_row": null,
            "grid_template_areas": null,
            "grid_template_columns": null,
            "grid_template_rows": null,
            "height": null,
            "justify_content": null,
            "justify_items": null,
            "left": null,
            "margin": null,
            "max_height": null,
            "max_width": null,
            "min_height": null,
            "min_width": null,
            "object_fit": null,
            "object_position": null,
            "order": null,
            "overflow": null,
            "overflow_x": null,
            "overflow_y": null,
            "padding": null,
            "right": null,
            "top": null,
            "visibility": null,
            "width": null
          }
        },
        "ac15568882e04d59890bec5353151225": {
          "model_module": "@jupyter-widgets/controls",
          "model_name": "ProgressStyleModel",
          "model_module_version": "1.5.0",
          "state": {
            "_model_module": "@jupyter-widgets/controls",
            "_model_module_version": "1.5.0",
            "_model_name": "ProgressStyleModel",
            "_view_count": null,
            "_view_module": "@jupyter-widgets/base",
            "_view_module_version": "1.2.0",
            "_view_name": "StyleView",
            "bar_color": null,
            "description_width": ""
          }
        },
        "1c5241c5a5124df49df93b85fb208a0d": {
          "model_module": "@jupyter-widgets/base",
          "model_name": "LayoutModel",
          "model_module_version": "1.2.0",
          "state": {
            "_model_module": "@jupyter-widgets/base",
            "_model_module_version": "1.2.0",
            "_model_name": "LayoutModel",
            "_view_count": null,
            "_view_module": "@jupyter-widgets/base",
            "_view_module_version": "1.2.0",
            "_view_name": "LayoutView",
            "align_content": null,
            "align_items": null,
            "align_self": null,
            "border": null,
            "bottom": null,
            "display": null,
            "flex": null,
            "flex_flow": null,
            "grid_area": null,
            "grid_auto_columns": null,
            "grid_auto_flow": null,
            "grid_auto_rows": null,
            "grid_column": null,
            "grid_gap": null,
            "grid_row": null,
            "grid_template_areas": null,
            "grid_template_columns": null,
            "grid_template_rows": null,
            "height": null,
            "justify_content": null,
            "justify_items": null,
            "left": null,
            "margin": null,
            "max_height": null,
            "max_width": null,
            "min_height": null,
            "min_width": null,
            "object_fit": null,
            "object_position": null,
            "order": null,
            "overflow": null,
            "overflow_x": null,
            "overflow_y": null,
            "padding": null,
            "right": null,
            "top": null,
            "visibility": null,
            "width": null
          }
        },
        "6ddce8026e724368b4b35c34c28f55bc": {
          "model_module": "@jupyter-widgets/controls",
          "model_name": "DescriptionStyleModel",
          "model_module_version": "1.5.0",
          "state": {
            "_model_module": "@jupyter-widgets/controls",
            "_model_module_version": "1.5.0",
            "_model_name": "DescriptionStyleModel",
            "_view_count": null,
            "_view_module": "@jupyter-widgets/base",
            "_view_module_version": "1.2.0",
            "_view_name": "StyleView",
            "description_width": ""
          }
        },
        "683424e6922848a38bde4aad95249b38": {
          "model_module": "@jupyter-widgets/controls",
          "model_name": "HBoxModel",
          "model_module_version": "1.5.0",
          "state": {
            "_dom_classes": [],
            "_model_module": "@jupyter-widgets/controls",
            "_model_module_version": "1.5.0",
            "_model_name": "HBoxModel",
            "_view_count": null,
            "_view_module": "@jupyter-widgets/controls",
            "_view_module_version": "1.5.0",
            "_view_name": "HBoxView",
            "box_style": "",
            "children": [
              "IPY_MODEL_ab9f10e84af14dd28e3b75f8e57e5ce8",
              "IPY_MODEL_71bc80a9cc3b4ac8bfbb58f5ea6d2003",
              "IPY_MODEL_e285b9409ede4635b4eae36d46820ea7"
            ],
            "layout": "IPY_MODEL_836fe2c25f0949b292b36376da04e548"
          }
        },
        "ab9f10e84af14dd28e3b75f8e57e5ce8": {
          "model_module": "@jupyter-widgets/controls",
          "model_name": "HTMLModel",
          "model_module_version": "1.5.0",
          "state": {
            "_dom_classes": [],
            "_model_module": "@jupyter-widgets/controls",
            "_model_module_version": "1.5.0",
            "_model_name": "HTMLModel",
            "_view_count": null,
            "_view_module": "@jupyter-widgets/controls",
            "_view_module_version": "1.5.0",
            "_view_name": "HTMLView",
            "description": "",
            "description_tooltip": null,
            "layout": "IPY_MODEL_e1276ff3a14e40bca735bb42d0e6e18a",
            "placeholder": "​",
            "style": "IPY_MODEL_5f98b4ba893d4c569cefb1681b9bcfee",
            "value": "Generating embeddings: 100%"
          }
        },
        "71bc80a9cc3b4ac8bfbb58f5ea6d2003": {
          "model_module": "@jupyter-widgets/controls",
          "model_name": "FloatProgressModel",
          "model_module_version": "1.5.0",
          "state": {
            "_dom_classes": [],
            "_model_module": "@jupyter-widgets/controls",
            "_model_module_version": "1.5.0",
            "_model_name": "FloatProgressModel",
            "_view_count": null,
            "_view_module": "@jupyter-widgets/controls",
            "_view_module_version": "1.5.0",
            "_view_name": "ProgressView",
            "bar_style": "success",
            "description": "",
            "description_tooltip": null,
            "layout": "IPY_MODEL_5363e7d69e774694ba6c0a47467f401a",
            "max": 1,
            "min": 0,
            "orientation": "horizontal",
            "style": "IPY_MODEL_30aaad6a92224c47900c528ac819f58d",
            "value": 1
          }
        },
        "e285b9409ede4635b4eae36d46820ea7": {
          "model_module": "@jupyter-widgets/controls",
          "model_name": "HTMLModel",
          "model_module_version": "1.5.0",
          "state": {
            "_dom_classes": [],
            "_model_module": "@jupyter-widgets/controls",
            "_model_module_version": "1.5.0",
            "_model_name": "HTMLModel",
            "_view_count": null,
            "_view_module": "@jupyter-widgets/controls",
            "_view_module_version": "1.5.0",
            "_view_name": "HTMLView",
            "description": "",
            "description_tooltip": null,
            "layout": "IPY_MODEL_162a0cad7f864940b6c2b768720cab14",
            "placeholder": "​",
            "style": "IPY_MODEL_f5f8742391684ce0937dda10e6d1fa9f",
            "value": " 1/1 [00:00&lt;00:00,  3.19it/s]"
          }
        },
        "836fe2c25f0949b292b36376da04e548": {
          "model_module": "@jupyter-widgets/base",
          "model_name": "LayoutModel",
          "model_module_version": "1.2.0",
          "state": {
            "_model_module": "@jupyter-widgets/base",
            "_model_module_version": "1.2.0",
            "_model_name": "LayoutModel",
            "_view_count": null,
            "_view_module": "@jupyter-widgets/base",
            "_view_module_version": "1.2.0",
            "_view_name": "LayoutView",
            "align_content": null,
            "align_items": null,
            "align_self": null,
            "border": null,
            "bottom": null,
            "display": null,
            "flex": null,
            "flex_flow": null,
            "grid_area": null,
            "grid_auto_columns": null,
            "grid_auto_flow": null,
            "grid_auto_rows": null,
            "grid_column": null,
            "grid_gap": null,
            "grid_row": null,
            "grid_template_areas": null,
            "grid_template_columns": null,
            "grid_template_rows": null,
            "height": null,
            "justify_content": null,
            "justify_items": null,
            "left": null,
            "margin": null,
            "max_height": null,
            "max_width": null,
            "min_height": null,
            "min_width": null,
            "object_fit": null,
            "object_position": null,
            "order": null,
            "overflow": null,
            "overflow_x": null,
            "overflow_y": null,
            "padding": null,
            "right": null,
            "top": null,
            "visibility": null,
            "width": null
          }
        },
        "e1276ff3a14e40bca735bb42d0e6e18a": {
          "model_module": "@jupyter-widgets/base",
          "model_name": "LayoutModel",
          "model_module_version": "1.2.0",
          "state": {
            "_model_module": "@jupyter-widgets/base",
            "_model_module_version": "1.2.0",
            "_model_name": "LayoutModel",
            "_view_count": null,
            "_view_module": "@jupyter-widgets/base",
            "_view_module_version": "1.2.0",
            "_view_name": "LayoutView",
            "align_content": null,
            "align_items": null,
            "align_self": null,
            "border": null,
            "bottom": null,
            "display": null,
            "flex": null,
            "flex_flow": null,
            "grid_area": null,
            "grid_auto_columns": null,
            "grid_auto_flow": null,
            "grid_auto_rows": null,
            "grid_column": null,
            "grid_gap": null,
            "grid_row": null,
            "grid_template_areas": null,
            "grid_template_columns": null,
            "grid_template_rows": null,
            "height": null,
            "justify_content": null,
            "justify_items": null,
            "left": null,
            "margin": null,
            "max_height": null,
            "max_width": null,
            "min_height": null,
            "min_width": null,
            "object_fit": null,
            "object_position": null,
            "order": null,
            "overflow": null,
            "overflow_x": null,
            "overflow_y": null,
            "padding": null,
            "right": null,
            "top": null,
            "visibility": null,
            "width": null
          }
        },
        "5f98b4ba893d4c569cefb1681b9bcfee": {
          "model_module": "@jupyter-widgets/controls",
          "model_name": "DescriptionStyleModel",
          "model_module_version": "1.5.0",
          "state": {
            "_model_module": "@jupyter-widgets/controls",
            "_model_module_version": "1.5.0",
            "_model_name": "DescriptionStyleModel",
            "_view_count": null,
            "_view_module": "@jupyter-widgets/base",
            "_view_module_version": "1.2.0",
            "_view_name": "StyleView",
            "description_width": ""
          }
        },
        "5363e7d69e774694ba6c0a47467f401a": {
          "model_module": "@jupyter-widgets/base",
          "model_name": "LayoutModel",
          "model_module_version": "1.2.0",
          "state": {
            "_model_module": "@jupyter-widgets/base",
            "_model_module_version": "1.2.0",
            "_model_name": "LayoutModel",
            "_view_count": null,
            "_view_module": "@jupyter-widgets/base",
            "_view_module_version": "1.2.0",
            "_view_name": "LayoutView",
            "align_content": null,
            "align_items": null,
            "align_self": null,
            "border": null,
            "bottom": null,
            "display": null,
            "flex": null,
            "flex_flow": null,
            "grid_area": null,
            "grid_auto_columns": null,
            "grid_auto_flow": null,
            "grid_auto_rows": null,
            "grid_column": null,
            "grid_gap": null,
            "grid_row": null,
            "grid_template_areas": null,
            "grid_template_columns": null,
            "grid_template_rows": null,
            "height": null,
            "justify_content": null,
            "justify_items": null,
            "left": null,
            "margin": null,
            "max_height": null,
            "max_width": null,
            "min_height": null,
            "min_width": null,
            "object_fit": null,
            "object_position": null,
            "order": null,
            "overflow": null,
            "overflow_x": null,
            "overflow_y": null,
            "padding": null,
            "right": null,
            "top": null,
            "visibility": null,
            "width": null
          }
        },
        "30aaad6a92224c47900c528ac819f58d": {
          "model_module": "@jupyter-widgets/controls",
          "model_name": "ProgressStyleModel",
          "model_module_version": "1.5.0",
          "state": {
            "_model_module": "@jupyter-widgets/controls",
            "_model_module_version": "1.5.0",
            "_model_name": "ProgressStyleModel",
            "_view_count": null,
            "_view_module": "@jupyter-widgets/base",
            "_view_module_version": "1.2.0",
            "_view_name": "StyleView",
            "bar_color": null,
            "description_width": ""
          }
        },
        "162a0cad7f864940b6c2b768720cab14": {
          "model_module": "@jupyter-widgets/base",
          "model_name": "LayoutModel",
          "model_module_version": "1.2.0",
          "state": {
            "_model_module": "@jupyter-widgets/base",
            "_model_module_version": "1.2.0",
            "_model_name": "LayoutModel",
            "_view_count": null,
            "_view_module": "@jupyter-widgets/base",
            "_view_module_version": "1.2.0",
            "_view_name": "LayoutView",
            "align_content": null,
            "align_items": null,
            "align_self": null,
            "border": null,
            "bottom": null,
            "display": null,
            "flex": null,
            "flex_flow": null,
            "grid_area": null,
            "grid_auto_columns": null,
            "grid_auto_flow": null,
            "grid_auto_rows": null,
            "grid_column": null,
            "grid_gap": null,
            "grid_row": null,
            "grid_template_areas": null,
            "grid_template_columns": null,
            "grid_template_rows": null,
            "height": null,
            "justify_content": null,
            "justify_items": null,
            "left": null,
            "margin": null,
            "max_height": null,
            "max_width": null,
            "min_height": null,
            "min_width": null,
            "object_fit": null,
            "object_position": null,
            "order": null,
            "overflow": null,
            "overflow_x": null,
            "overflow_y": null,
            "padding": null,
            "right": null,
            "top": null,
            "visibility": null,
            "width": null
          }
        },
        "f5f8742391684ce0937dda10e6d1fa9f": {
          "model_module": "@jupyter-widgets/controls",
          "model_name": "DescriptionStyleModel",
          "model_module_version": "1.5.0",
          "state": {
            "_model_module": "@jupyter-widgets/controls",
            "_model_module_version": "1.5.0",
            "_model_name": "DescriptionStyleModel",
            "_view_count": null,
            "_view_module": "@jupyter-widgets/base",
            "_view_module_version": "1.2.0",
            "_view_name": "StyleView",
            "description_width": ""
          }
        },
        "a088367d95bb40ca8c630232798672cf": {
          "model_module": "@jupyter-widgets/controls",
          "model_name": "HBoxModel",
          "model_module_version": "1.5.0",
          "state": {
            "_dom_classes": [],
            "_model_module": "@jupyter-widgets/controls",
            "_model_module_version": "1.5.0",
            "_model_name": "HBoxModel",
            "_view_count": null,
            "_view_module": "@jupyter-widgets/controls",
            "_view_module_version": "1.5.0",
            "_view_name": "HBoxView",
            "box_style": "",
            "children": [
              "IPY_MODEL_a114eabe84474e13a5f46fde2ca7d7a5",
              "IPY_MODEL_5f286905e55649868fd717d46b1a836f",
              "IPY_MODEL_49dc64cf71cb4501851cb92bc4557e74"
            ],
            "layout": "IPY_MODEL_b3cc58c31c9b419bb44a341a51da674a"
          }
        },
        "a114eabe84474e13a5f46fde2ca7d7a5": {
          "model_module": "@jupyter-widgets/controls",
          "model_name": "HTMLModel",
          "model_module_version": "1.5.0",
          "state": {
            "_dom_classes": [],
            "_model_module": "@jupyter-widgets/controls",
            "_model_module_version": "1.5.0",
            "_model_name": "HTMLModel",
            "_view_count": null,
            "_view_module": "@jupyter-widgets/controls",
            "_view_module_version": "1.5.0",
            "_view_name": "HTMLView",
            "description": "",
            "description_tooltip": null,
            "layout": "IPY_MODEL_0cfb2a2944ca41b5a45cdb431894fefc",
            "placeholder": "​",
            "style": "IPY_MODEL_01fc825bcdca4e3cbc61b94310909796",
            "value": "Loading checkpoint shards: 100%"
          }
        },
        "5f286905e55649868fd717d46b1a836f": {
          "model_module": "@jupyter-widgets/controls",
          "model_name": "FloatProgressModel",
          "model_module_version": "1.5.0",
          "state": {
            "_dom_classes": [],
            "_model_module": "@jupyter-widgets/controls",
            "_model_module_version": "1.5.0",
            "_model_name": "FloatProgressModel",
            "_view_count": null,
            "_view_module": "@jupyter-widgets/controls",
            "_view_module_version": "1.5.0",
            "_view_name": "ProgressView",
            "bar_style": "success",
            "description": "",
            "description_tooltip": null,
            "layout": "IPY_MODEL_22449eccb1174666ac4360f61dc3e131",
            "max": 2,
            "min": 0,
            "orientation": "horizontal",
            "style": "IPY_MODEL_afc075db108e429e856c1e035b44f891",
            "value": 2
          }
        },
        "49dc64cf71cb4501851cb92bc4557e74": {
          "model_module": "@jupyter-widgets/controls",
          "model_name": "HTMLModel",
          "model_module_version": "1.5.0",
          "state": {
            "_dom_classes": [],
            "_model_module": "@jupyter-widgets/controls",
            "_model_module_version": "1.5.0",
            "_model_name": "HTMLModel",
            "_view_count": null,
            "_view_module": "@jupyter-widgets/controls",
            "_view_module_version": "1.5.0",
            "_view_name": "HTMLView",
            "description": "",
            "description_tooltip": null,
            "layout": "IPY_MODEL_37bb127de8fc424ab670fcf8b7b01a65",
            "placeholder": "​",
            "style": "IPY_MODEL_06f6a738ccdf4717865af2ee75ad19fe",
            "value": " 2/2 [00:09&lt;00:00,  4.51s/it]"
          }
        },
        "b3cc58c31c9b419bb44a341a51da674a": {
          "model_module": "@jupyter-widgets/base",
          "model_name": "LayoutModel",
          "model_module_version": "1.2.0",
          "state": {
            "_model_module": "@jupyter-widgets/base",
            "_model_module_version": "1.2.0",
            "_model_name": "LayoutModel",
            "_view_count": null,
            "_view_module": "@jupyter-widgets/base",
            "_view_module_version": "1.2.0",
            "_view_name": "LayoutView",
            "align_content": null,
            "align_items": null,
            "align_self": null,
            "border": null,
            "bottom": null,
            "display": null,
            "flex": null,
            "flex_flow": null,
            "grid_area": null,
            "grid_auto_columns": null,
            "grid_auto_flow": null,
            "grid_auto_rows": null,
            "grid_column": null,
            "grid_gap": null,
            "grid_row": null,
            "grid_template_areas": null,
            "grid_template_columns": null,
            "grid_template_rows": null,
            "height": null,
            "justify_content": null,
            "justify_items": null,
            "left": null,
            "margin": null,
            "max_height": null,
            "max_width": null,
            "min_height": null,
            "min_width": null,
            "object_fit": null,
            "object_position": null,
            "order": null,
            "overflow": null,
            "overflow_x": null,
            "overflow_y": null,
            "padding": null,
            "right": null,
            "top": null,
            "visibility": null,
            "width": null
          }
        },
        "0cfb2a2944ca41b5a45cdb431894fefc": {
          "model_module": "@jupyter-widgets/base",
          "model_name": "LayoutModel",
          "model_module_version": "1.2.0",
          "state": {
            "_model_module": "@jupyter-widgets/base",
            "_model_module_version": "1.2.0",
            "_model_name": "LayoutModel",
            "_view_count": null,
            "_view_module": "@jupyter-widgets/base",
            "_view_module_version": "1.2.0",
            "_view_name": "LayoutView",
            "align_content": null,
            "align_items": null,
            "align_self": null,
            "border": null,
            "bottom": null,
            "display": null,
            "flex": null,
            "flex_flow": null,
            "grid_area": null,
            "grid_auto_columns": null,
            "grid_auto_flow": null,
            "grid_auto_rows": null,
            "grid_column": null,
            "grid_gap": null,
            "grid_row": null,
            "grid_template_areas": null,
            "grid_template_columns": null,
            "grid_template_rows": null,
            "height": null,
            "justify_content": null,
            "justify_items": null,
            "left": null,
            "margin": null,
            "max_height": null,
            "max_width": null,
            "min_height": null,
            "min_width": null,
            "object_fit": null,
            "object_position": null,
            "order": null,
            "overflow": null,
            "overflow_x": null,
            "overflow_y": null,
            "padding": null,
            "right": null,
            "top": null,
            "visibility": null,
            "width": null
          }
        },
        "01fc825bcdca4e3cbc61b94310909796": {
          "model_module": "@jupyter-widgets/controls",
          "model_name": "DescriptionStyleModel",
          "model_module_version": "1.5.0",
          "state": {
            "_model_module": "@jupyter-widgets/controls",
            "_model_module_version": "1.5.0",
            "_model_name": "DescriptionStyleModel",
            "_view_count": null,
            "_view_module": "@jupyter-widgets/base",
            "_view_module_version": "1.2.0",
            "_view_name": "StyleView",
            "description_width": ""
          }
        },
        "22449eccb1174666ac4360f61dc3e131": {
          "model_module": "@jupyter-widgets/base",
          "model_name": "LayoutModel",
          "model_module_version": "1.2.0",
          "state": {
            "_model_module": "@jupyter-widgets/base",
            "_model_module_version": "1.2.0",
            "_model_name": "LayoutModel",
            "_view_count": null,
            "_view_module": "@jupyter-widgets/base",
            "_view_module_version": "1.2.0",
            "_view_name": "LayoutView",
            "align_content": null,
            "align_items": null,
            "align_self": null,
            "border": null,
            "bottom": null,
            "display": null,
            "flex": null,
            "flex_flow": null,
            "grid_area": null,
            "grid_auto_columns": null,
            "grid_auto_flow": null,
            "grid_auto_rows": null,
            "grid_column": null,
            "grid_gap": null,
            "grid_row": null,
            "grid_template_areas": null,
            "grid_template_columns": null,
            "grid_template_rows": null,
            "height": null,
            "justify_content": null,
            "justify_items": null,
            "left": null,
            "margin": null,
            "max_height": null,
            "max_width": null,
            "min_height": null,
            "min_width": null,
            "object_fit": null,
            "object_position": null,
            "order": null,
            "overflow": null,
            "overflow_x": null,
            "overflow_y": null,
            "padding": null,
            "right": null,
            "top": null,
            "visibility": null,
            "width": null
          }
        },
        "afc075db108e429e856c1e035b44f891": {
          "model_module": "@jupyter-widgets/controls",
          "model_name": "ProgressStyleModel",
          "model_module_version": "1.5.0",
          "state": {
            "_model_module": "@jupyter-widgets/controls",
            "_model_module_version": "1.5.0",
            "_model_name": "ProgressStyleModel",
            "_view_count": null,
            "_view_module": "@jupyter-widgets/base",
            "_view_module_version": "1.2.0",
            "_view_name": "StyleView",
            "bar_color": null,
            "description_width": ""
          }
        },
        "37bb127de8fc424ab670fcf8b7b01a65": {
          "model_module": "@jupyter-widgets/base",
          "model_name": "LayoutModel",
          "model_module_version": "1.2.0",
          "state": {
            "_model_module": "@jupyter-widgets/base",
            "_model_module_version": "1.2.0",
            "_model_name": "LayoutModel",
            "_view_count": null,
            "_view_module": "@jupyter-widgets/base",
            "_view_module_version": "1.2.0",
            "_view_name": "LayoutView",
            "align_content": null,
            "align_items": null,
            "align_self": null,
            "border": null,
            "bottom": null,
            "display": null,
            "flex": null,
            "flex_flow": null,
            "grid_area": null,
            "grid_auto_columns": null,
            "grid_auto_flow": null,
            "grid_auto_rows": null,
            "grid_column": null,
            "grid_gap": null,
            "grid_row": null,
            "grid_template_areas": null,
            "grid_template_columns": null,
            "grid_template_rows": null,
            "height": null,
            "justify_content": null,
            "justify_items": null,
            "left": null,
            "margin": null,
            "max_height": null,
            "max_width": null,
            "min_height": null,
            "min_width": null,
            "object_fit": null,
            "object_position": null,
            "order": null,
            "overflow": null,
            "overflow_x": null,
            "overflow_y": null,
            "padding": null,
            "right": null,
            "top": null,
            "visibility": null,
            "width": null
          }
        },
        "06f6a738ccdf4717865af2ee75ad19fe": {
          "model_module": "@jupyter-widgets/controls",
          "model_name": "DescriptionStyleModel",
          "model_module_version": "1.5.0",
          "state": {
            "_model_module": "@jupyter-widgets/controls",
            "_model_module_version": "1.5.0",
            "_model_name": "DescriptionStyleModel",
            "_view_count": null,
            "_view_module": "@jupyter-widgets/base",
            "_view_module_version": "1.2.0",
            "_view_name": "StyleView",
            "description_width": ""
          }
        },
        "10239502814344c894c6714226bca3b7": {
          "model_module": "@jupyter-widgets/controls",
          "model_name": "HBoxModel",
          "model_module_version": "1.5.0",
          "state": {
            "_dom_classes": [],
            "_model_module": "@jupyter-widgets/controls",
            "_model_module_version": "1.5.0",
            "_model_name": "HBoxModel",
            "_view_count": null,
            "_view_module": "@jupyter-widgets/controls",
            "_view_module_version": "1.5.0",
            "_view_name": "HBoxView",
            "box_style": "",
            "children": [
              "IPY_MODEL_d00b5df073eb44f995b49d90508eea07",
              "IPY_MODEL_caea78bf27154fdaba8f1d87a3ec3462",
              "IPY_MODEL_a57a4dcf923c49699255e4511792a45a"
            ],
            "layout": "IPY_MODEL_1b07f631c6544fae973376624113793e"
          }
        },
        "d00b5df073eb44f995b49d90508eea07": {
          "model_module": "@jupyter-widgets/controls",
          "model_name": "HTMLModel",
          "model_module_version": "1.5.0",
          "state": {
            "_dom_classes": [],
            "_model_module": "@jupyter-widgets/controls",
            "_model_module_version": "1.5.0",
            "_model_name": "HTMLModel",
            "_view_count": null,
            "_view_module": "@jupyter-widgets/controls",
            "_view_module_version": "1.5.0",
            "_view_name": "HTMLView",
            "description": "",
            "description_tooltip": null,
            "layout": "IPY_MODEL_543a170b7e624634b503ed8e6df4d5de",
            "placeholder": "​",
            "style": "IPY_MODEL_d403c0784f9b4ec38db8c458266e491e",
            "value": "Fetching 5 files: 100%"
          }
        },
        "caea78bf27154fdaba8f1d87a3ec3462": {
          "model_module": "@jupyter-widgets/controls",
          "model_name": "FloatProgressModel",
          "model_module_version": "1.5.0",
          "state": {
            "_dom_classes": [],
            "_model_module": "@jupyter-widgets/controls",
            "_model_module_version": "1.5.0",
            "_model_name": "FloatProgressModel",
            "_view_count": null,
            "_view_module": "@jupyter-widgets/controls",
            "_view_module_version": "1.5.0",
            "_view_name": "ProgressView",
            "bar_style": "success",
            "description": "",
            "description_tooltip": null,
            "layout": "IPY_MODEL_a093df25f5004fae97c017e85543bbed",
            "max": 5,
            "min": 0,
            "orientation": "horizontal",
            "style": "IPY_MODEL_19a5d6dc102c40c5a5af2775d4f7b550",
            "value": 5
          }
        },
        "a57a4dcf923c49699255e4511792a45a": {
          "model_module": "@jupyter-widgets/controls",
          "model_name": "HTMLModel",
          "model_module_version": "1.5.0",
          "state": {
            "_dom_classes": [],
            "_model_module": "@jupyter-widgets/controls",
            "_model_module_version": "1.5.0",
            "_model_name": "HTMLModel",
            "_view_count": null,
            "_view_module": "@jupyter-widgets/controls",
            "_view_module_version": "1.5.0",
            "_view_name": "HTMLView",
            "description": "",
            "description_tooltip": null,
            "layout": "IPY_MODEL_d63d0250153f481d99b0d556b96473df",
            "placeholder": "​",
            "style": "IPY_MODEL_a6816929509a4883ad7c7edb4460d1be",
            "value": " 5/5 [00:00&lt;00:00, 312.16it/s]"
          }
        },
        "1b07f631c6544fae973376624113793e": {
          "model_module": "@jupyter-widgets/base",
          "model_name": "LayoutModel",
          "model_module_version": "1.2.0",
          "state": {
            "_model_module": "@jupyter-widgets/base",
            "_model_module_version": "1.2.0",
            "_model_name": "LayoutModel",
            "_view_count": null,
            "_view_module": "@jupyter-widgets/base",
            "_view_module_version": "1.2.0",
            "_view_name": "LayoutView",
            "align_content": null,
            "align_items": null,
            "align_self": null,
            "border": null,
            "bottom": null,
            "display": null,
            "flex": null,
            "flex_flow": null,
            "grid_area": null,
            "grid_auto_columns": null,
            "grid_auto_flow": null,
            "grid_auto_rows": null,
            "grid_column": null,
            "grid_gap": null,
            "grid_row": null,
            "grid_template_areas": null,
            "grid_template_columns": null,
            "grid_template_rows": null,
            "height": null,
            "justify_content": null,
            "justify_items": null,
            "left": null,
            "margin": null,
            "max_height": null,
            "max_width": null,
            "min_height": null,
            "min_width": null,
            "object_fit": null,
            "object_position": null,
            "order": null,
            "overflow": null,
            "overflow_x": null,
            "overflow_y": null,
            "padding": null,
            "right": null,
            "top": null,
            "visibility": null,
            "width": null
          }
        },
        "543a170b7e624634b503ed8e6df4d5de": {
          "model_module": "@jupyter-widgets/base",
          "model_name": "LayoutModel",
          "model_module_version": "1.2.0",
          "state": {
            "_model_module": "@jupyter-widgets/base",
            "_model_module_version": "1.2.0",
            "_model_name": "LayoutModel",
            "_view_count": null,
            "_view_module": "@jupyter-widgets/base",
            "_view_module_version": "1.2.0",
            "_view_name": "LayoutView",
            "align_content": null,
            "align_items": null,
            "align_self": null,
            "border": null,
            "bottom": null,
            "display": null,
            "flex": null,
            "flex_flow": null,
            "grid_area": null,
            "grid_auto_columns": null,
            "grid_auto_flow": null,
            "grid_auto_rows": null,
            "grid_column": null,
            "grid_gap": null,
            "grid_row": null,
            "grid_template_areas": null,
            "grid_template_columns": null,
            "grid_template_rows": null,
            "height": null,
            "justify_content": null,
            "justify_items": null,
            "left": null,
            "margin": null,
            "max_height": null,
            "max_width": null,
            "min_height": null,
            "min_width": null,
            "object_fit": null,
            "object_position": null,
            "order": null,
            "overflow": null,
            "overflow_x": null,
            "overflow_y": null,
            "padding": null,
            "right": null,
            "top": null,
            "visibility": null,
            "width": null
          }
        },
        "d403c0784f9b4ec38db8c458266e491e": {
          "model_module": "@jupyter-widgets/controls",
          "model_name": "DescriptionStyleModel",
          "model_module_version": "1.5.0",
          "state": {
            "_model_module": "@jupyter-widgets/controls",
            "_model_module_version": "1.5.0",
            "_model_name": "DescriptionStyleModel",
            "_view_count": null,
            "_view_module": "@jupyter-widgets/base",
            "_view_module_version": "1.2.0",
            "_view_name": "StyleView",
            "description_width": ""
          }
        },
        "a093df25f5004fae97c017e85543bbed": {
          "model_module": "@jupyter-widgets/base",
          "model_name": "LayoutModel",
          "model_module_version": "1.2.0",
          "state": {
            "_model_module": "@jupyter-widgets/base",
            "_model_module_version": "1.2.0",
            "_model_name": "LayoutModel",
            "_view_count": null,
            "_view_module": "@jupyter-widgets/base",
            "_view_module_version": "1.2.0",
            "_view_name": "LayoutView",
            "align_content": null,
            "align_items": null,
            "align_self": null,
            "border": null,
            "bottom": null,
            "display": null,
            "flex": null,
            "flex_flow": null,
            "grid_area": null,
            "grid_auto_columns": null,
            "grid_auto_flow": null,
            "grid_auto_rows": null,
            "grid_column": null,
            "grid_gap": null,
            "grid_row": null,
            "grid_template_areas": null,
            "grid_template_columns": null,
            "grid_template_rows": null,
            "height": null,
            "justify_content": null,
            "justify_items": null,
            "left": null,
            "margin": null,
            "max_height": null,
            "max_width": null,
            "min_height": null,
            "min_width": null,
            "object_fit": null,
            "object_position": null,
            "order": null,
            "overflow": null,
            "overflow_x": null,
            "overflow_y": null,
            "padding": null,
            "right": null,
            "top": null,
            "visibility": null,
            "width": null
          }
        },
        "19a5d6dc102c40c5a5af2775d4f7b550": {
          "model_module": "@jupyter-widgets/controls",
          "model_name": "ProgressStyleModel",
          "model_module_version": "1.5.0",
          "state": {
            "_model_module": "@jupyter-widgets/controls",
            "_model_module_version": "1.5.0",
            "_model_name": "ProgressStyleModel",
            "_view_count": null,
            "_view_module": "@jupyter-widgets/base",
            "_view_module_version": "1.2.0",
            "_view_name": "StyleView",
            "bar_color": null,
            "description_width": ""
          }
        },
        "d63d0250153f481d99b0d556b96473df": {
          "model_module": "@jupyter-widgets/base",
          "model_name": "LayoutModel",
          "model_module_version": "1.2.0",
          "state": {
            "_model_module": "@jupyter-widgets/base",
            "_model_module_version": "1.2.0",
            "_model_name": "LayoutModel",
            "_view_count": null,
            "_view_module": "@jupyter-widgets/base",
            "_view_module_version": "1.2.0",
            "_view_name": "LayoutView",
            "align_content": null,
            "align_items": null,
            "align_self": null,
            "border": null,
            "bottom": null,
            "display": null,
            "flex": null,
            "flex_flow": null,
            "grid_area": null,
            "grid_auto_columns": null,
            "grid_auto_flow": null,
            "grid_auto_rows": null,
            "grid_column": null,
            "grid_gap": null,
            "grid_row": null,
            "grid_template_areas": null,
            "grid_template_columns": null,
            "grid_template_rows": null,
            "height": null,
            "justify_content": null,
            "justify_items": null,
            "left": null,
            "margin": null,
            "max_height": null,
            "max_width": null,
            "min_height": null,
            "min_width": null,
            "object_fit": null,
            "object_position": null,
            "order": null,
            "overflow": null,
            "overflow_x": null,
            "overflow_y": null,
            "padding": null,
            "right": null,
            "top": null,
            "visibility": null,
            "width": null
          }
        },
        "a6816929509a4883ad7c7edb4460d1be": {
          "model_module": "@jupyter-widgets/controls",
          "model_name": "DescriptionStyleModel",
          "model_module_version": "1.5.0",
          "state": {
            "_model_module": "@jupyter-widgets/controls",
            "_model_module_version": "1.5.0",
            "_model_name": "DescriptionStyleModel",
            "_view_count": null,
            "_view_module": "@jupyter-widgets/base",
            "_view_module_version": "1.2.0",
            "_view_name": "StyleView",
            "description_width": ""
          }
        },
        "b5af2cc45b8942c29df43fada376e060": {
          "model_module": "@jupyter-widgets/controls",
          "model_name": "HBoxModel",
          "model_module_version": "1.5.0",
          "state": {
            "_dom_classes": [],
            "_model_module": "@jupyter-widgets/controls",
            "_model_module_version": "1.5.0",
            "_model_name": "HBoxModel",
            "_view_count": null,
            "_view_module": "@jupyter-widgets/controls",
            "_view_module_version": "1.5.0",
            "_view_name": "HBoxView",
            "box_style": "",
            "children": [
              "IPY_MODEL_e0e2c4406ff843619f952caadd5e9790",
              "IPY_MODEL_bb403bed14ec4a3795f19a60923fdb36",
              "IPY_MODEL_10d6fcdd110045b7b9e4a9285c8102e1"
            ],
            "layout": "IPY_MODEL_2384258523394c50a03f02566f789748"
          }
        },
        "e0e2c4406ff843619f952caadd5e9790": {
          "model_module": "@jupyter-widgets/controls",
          "model_name": "HTMLModel",
          "model_module_version": "1.5.0",
          "state": {
            "_dom_classes": [],
            "_model_module": "@jupyter-widgets/controls",
            "_model_module_version": "1.5.0",
            "_model_name": "HTMLModel",
            "_view_count": null,
            "_view_module": "@jupyter-widgets/controls",
            "_view_module_version": "1.5.0",
            "_view_name": "HTMLView",
            "description": "",
            "description_tooltip": null,
            "layout": "IPY_MODEL_4708b2481a764190ad56dc1294a34188",
            "placeholder": "​",
            "style": "IPY_MODEL_c4ab8ded83fd41b79c87991e107b99e8",
            "value": "Parsing nodes: 100%"
          }
        },
        "bb403bed14ec4a3795f19a60923fdb36": {
          "model_module": "@jupyter-widgets/controls",
          "model_name": "FloatProgressModel",
          "model_module_version": "1.5.0",
          "state": {
            "_dom_classes": [],
            "_model_module": "@jupyter-widgets/controls",
            "_model_module_version": "1.5.0",
            "_model_name": "FloatProgressModel",
            "_view_count": null,
            "_view_module": "@jupyter-widgets/controls",
            "_view_module_version": "1.5.0",
            "_view_name": "ProgressView",
            "bar_style": "success",
            "description": "",
            "description_tooltip": null,
            "layout": "IPY_MODEL_df95ced828a7497bb858b32811af0956",
            "max": 1,
            "min": 0,
            "orientation": "horizontal",
            "style": "IPY_MODEL_6a3c8e153c724d3baa4951d7ba780b69",
            "value": 1
          }
        },
        "10d6fcdd110045b7b9e4a9285c8102e1": {
          "model_module": "@jupyter-widgets/controls",
          "model_name": "HTMLModel",
          "model_module_version": "1.5.0",
          "state": {
            "_dom_classes": [],
            "_model_module": "@jupyter-widgets/controls",
            "_model_module_version": "1.5.0",
            "_model_name": "HTMLModel",
            "_view_count": null,
            "_view_module": "@jupyter-widgets/controls",
            "_view_module_version": "1.5.0",
            "_view_name": "HTMLView",
            "description": "",
            "description_tooltip": null,
            "layout": "IPY_MODEL_79a51398c3c8474fac3959c9527bd9f1",
            "placeholder": "​",
            "style": "IPY_MODEL_64252ffc59384dffbff1e4c41bd7f10a",
            "value": " 1/1 [00:00&lt;00:00, 64.25it/s]"
          }
        },
        "2384258523394c50a03f02566f789748": {
          "model_module": "@jupyter-widgets/base",
          "model_name": "LayoutModel",
          "model_module_version": "1.2.0",
          "state": {
            "_model_module": "@jupyter-widgets/base",
            "_model_module_version": "1.2.0",
            "_model_name": "LayoutModel",
            "_view_count": null,
            "_view_module": "@jupyter-widgets/base",
            "_view_module_version": "1.2.0",
            "_view_name": "LayoutView",
            "align_content": null,
            "align_items": null,
            "align_self": null,
            "border": null,
            "bottom": null,
            "display": null,
            "flex": null,
            "flex_flow": null,
            "grid_area": null,
            "grid_auto_columns": null,
            "grid_auto_flow": null,
            "grid_auto_rows": null,
            "grid_column": null,
            "grid_gap": null,
            "grid_row": null,
            "grid_template_areas": null,
            "grid_template_columns": null,
            "grid_template_rows": null,
            "height": null,
            "justify_content": null,
            "justify_items": null,
            "left": null,
            "margin": null,
            "max_height": null,
            "max_width": null,
            "min_height": null,
            "min_width": null,
            "object_fit": null,
            "object_position": null,
            "order": null,
            "overflow": null,
            "overflow_x": null,
            "overflow_y": null,
            "padding": null,
            "right": null,
            "top": null,
            "visibility": null,
            "width": null
          }
        },
        "4708b2481a764190ad56dc1294a34188": {
          "model_module": "@jupyter-widgets/base",
          "model_name": "LayoutModel",
          "model_module_version": "1.2.0",
          "state": {
            "_model_module": "@jupyter-widgets/base",
            "_model_module_version": "1.2.0",
            "_model_name": "LayoutModel",
            "_view_count": null,
            "_view_module": "@jupyter-widgets/base",
            "_view_module_version": "1.2.0",
            "_view_name": "LayoutView",
            "align_content": null,
            "align_items": null,
            "align_self": null,
            "border": null,
            "bottom": null,
            "display": null,
            "flex": null,
            "flex_flow": null,
            "grid_area": null,
            "grid_auto_columns": null,
            "grid_auto_flow": null,
            "grid_auto_rows": null,
            "grid_column": null,
            "grid_gap": null,
            "grid_row": null,
            "grid_template_areas": null,
            "grid_template_columns": null,
            "grid_template_rows": null,
            "height": null,
            "justify_content": null,
            "justify_items": null,
            "left": null,
            "margin": null,
            "max_height": null,
            "max_width": null,
            "min_height": null,
            "min_width": null,
            "object_fit": null,
            "object_position": null,
            "order": null,
            "overflow": null,
            "overflow_x": null,
            "overflow_y": null,
            "padding": null,
            "right": null,
            "top": null,
            "visibility": null,
            "width": null
          }
        },
        "c4ab8ded83fd41b79c87991e107b99e8": {
          "model_module": "@jupyter-widgets/controls",
          "model_name": "DescriptionStyleModel",
          "model_module_version": "1.5.0",
          "state": {
            "_model_module": "@jupyter-widgets/controls",
            "_model_module_version": "1.5.0",
            "_model_name": "DescriptionStyleModel",
            "_view_count": null,
            "_view_module": "@jupyter-widgets/base",
            "_view_module_version": "1.2.0",
            "_view_name": "StyleView",
            "description_width": ""
          }
        },
        "df95ced828a7497bb858b32811af0956": {
          "model_module": "@jupyter-widgets/base",
          "model_name": "LayoutModel",
          "model_module_version": "1.2.0",
          "state": {
            "_model_module": "@jupyter-widgets/base",
            "_model_module_version": "1.2.0",
            "_model_name": "LayoutModel",
            "_view_count": null,
            "_view_module": "@jupyter-widgets/base",
            "_view_module_version": "1.2.0",
            "_view_name": "LayoutView",
            "align_content": null,
            "align_items": null,
            "align_self": null,
            "border": null,
            "bottom": null,
            "display": null,
            "flex": null,
            "flex_flow": null,
            "grid_area": null,
            "grid_auto_columns": null,
            "grid_auto_flow": null,
            "grid_auto_rows": null,
            "grid_column": null,
            "grid_gap": null,
            "grid_row": null,
            "grid_template_areas": null,
            "grid_template_columns": null,
            "grid_template_rows": null,
            "height": null,
            "justify_content": null,
            "justify_items": null,
            "left": null,
            "margin": null,
            "max_height": null,
            "max_width": null,
            "min_height": null,
            "min_width": null,
            "object_fit": null,
            "object_position": null,
            "order": null,
            "overflow": null,
            "overflow_x": null,
            "overflow_y": null,
            "padding": null,
            "right": null,
            "top": null,
            "visibility": null,
            "width": null
          }
        },
        "6a3c8e153c724d3baa4951d7ba780b69": {
          "model_module": "@jupyter-widgets/controls",
          "model_name": "ProgressStyleModel",
          "model_module_version": "1.5.0",
          "state": {
            "_model_module": "@jupyter-widgets/controls",
            "_model_module_version": "1.5.0",
            "_model_name": "ProgressStyleModel",
            "_view_count": null,
            "_view_module": "@jupyter-widgets/base",
            "_view_module_version": "1.2.0",
            "_view_name": "StyleView",
            "bar_color": null,
            "description_width": ""
          }
        },
        "79a51398c3c8474fac3959c9527bd9f1": {
          "model_module": "@jupyter-widgets/base",
          "model_name": "LayoutModel",
          "model_module_version": "1.2.0",
          "state": {
            "_model_module": "@jupyter-widgets/base",
            "_model_module_version": "1.2.0",
            "_model_name": "LayoutModel",
            "_view_count": null,
            "_view_module": "@jupyter-widgets/base",
            "_view_module_version": "1.2.0",
            "_view_name": "LayoutView",
            "align_content": null,
            "align_items": null,
            "align_self": null,
            "border": null,
            "bottom": null,
            "display": null,
            "flex": null,
            "flex_flow": null,
            "grid_area": null,
            "grid_auto_columns": null,
            "grid_auto_flow": null,
            "grid_auto_rows": null,
            "grid_column": null,
            "grid_gap": null,
            "grid_row": null,
            "grid_template_areas": null,
            "grid_template_columns": null,
            "grid_template_rows": null,
            "height": null,
            "justify_content": null,
            "justify_items": null,
            "left": null,
            "margin": null,
            "max_height": null,
            "max_width": null,
            "min_height": null,
            "min_width": null,
            "object_fit": null,
            "object_position": null,
            "order": null,
            "overflow": null,
            "overflow_x": null,
            "overflow_y": null,
            "padding": null,
            "right": null,
            "top": null,
            "visibility": null,
            "width": null
          }
        },
        "64252ffc59384dffbff1e4c41bd7f10a": {
          "model_module": "@jupyter-widgets/controls",
          "model_name": "DescriptionStyleModel",
          "model_module_version": "1.5.0",
          "state": {
            "_model_module": "@jupyter-widgets/controls",
            "_model_module_version": "1.5.0",
            "_model_name": "DescriptionStyleModel",
            "_view_count": null,
            "_view_module": "@jupyter-widgets/base",
            "_view_module_version": "1.2.0",
            "_view_name": "StyleView",
            "description_width": ""
          }
        },
        "e414a3cd2d254a31ac1c4fc58a08976d": {
          "model_module": "@jupyter-widgets/controls",
          "model_name": "HBoxModel",
          "model_module_version": "1.5.0",
          "state": {
            "_dom_classes": [],
            "_model_module": "@jupyter-widgets/controls",
            "_model_module_version": "1.5.0",
            "_model_name": "HBoxModel",
            "_view_count": null,
            "_view_module": "@jupyter-widgets/controls",
            "_view_module_version": "1.5.0",
            "_view_name": "HBoxView",
            "box_style": "",
            "children": [
              "IPY_MODEL_6a334e14eb724b3e8d373a12295aa533",
              "IPY_MODEL_7eea1fdee1a64096bbecae1646806a60",
              "IPY_MODEL_fa6040f6b28a4b53960292e92f0d28e9"
            ],
            "layout": "IPY_MODEL_a9a2eef7ba4d400db0b05a7959f29cd0"
          }
        },
        "6a334e14eb724b3e8d373a12295aa533": {
          "model_module": "@jupyter-widgets/controls",
          "model_name": "HTMLModel",
          "model_module_version": "1.5.0",
          "state": {
            "_dom_classes": [],
            "_model_module": "@jupyter-widgets/controls",
            "_model_module_version": "1.5.0",
            "_model_name": "HTMLModel",
            "_view_count": null,
            "_view_module": "@jupyter-widgets/controls",
            "_view_module_version": "1.5.0",
            "_view_name": "HTMLView",
            "description": "",
            "description_tooltip": null,
            "layout": "IPY_MODEL_31a9d5abc3594ff1aad14e9651c60c69",
            "placeholder": "​",
            "style": "IPY_MODEL_2582e7c1b79140fab9c28f05721949fd",
            "value": "Generating embeddings: 100%"
          }
        },
        "7eea1fdee1a64096bbecae1646806a60": {
          "model_module": "@jupyter-widgets/controls",
          "model_name": "FloatProgressModel",
          "model_module_version": "1.5.0",
          "state": {
            "_dom_classes": [],
            "_model_module": "@jupyter-widgets/controls",
            "_model_module_version": "1.5.0",
            "_model_name": "FloatProgressModel",
            "_view_count": null,
            "_view_module": "@jupyter-widgets/controls",
            "_view_module_version": "1.5.0",
            "_view_name": "ProgressView",
            "bar_style": "success",
            "description": "",
            "description_tooltip": null,
            "layout": "IPY_MODEL_7b80ed1ad1324f0dab2d8706210ded73",
            "max": 1,
            "min": 0,
            "orientation": "horizontal",
            "style": "IPY_MODEL_e01f41d74f094f7fbf994112ecb41ec6",
            "value": 1
          }
        },
        "fa6040f6b28a4b53960292e92f0d28e9": {
          "model_module": "@jupyter-widgets/controls",
          "model_name": "HTMLModel",
          "model_module_version": "1.5.0",
          "state": {
            "_dom_classes": [],
            "_model_module": "@jupyter-widgets/controls",
            "_model_module_version": "1.5.0",
            "_model_name": "HTMLModel",
            "_view_count": null,
            "_view_module": "@jupyter-widgets/controls",
            "_view_module_version": "1.5.0",
            "_view_name": "HTMLView",
            "description": "",
            "description_tooltip": null,
            "layout": "IPY_MODEL_5aff9af4625148aba85ae2dd35e8d0fd",
            "placeholder": "​",
            "style": "IPY_MODEL_551998fbdd0f4831b8f9e114ef983dd1",
            "value": " 1/1 [00:00&lt;00:00,  3.72it/s]"
          }
        },
        "a9a2eef7ba4d400db0b05a7959f29cd0": {
          "model_module": "@jupyter-widgets/base",
          "model_name": "LayoutModel",
          "model_module_version": "1.2.0",
          "state": {
            "_model_module": "@jupyter-widgets/base",
            "_model_module_version": "1.2.0",
            "_model_name": "LayoutModel",
            "_view_count": null,
            "_view_module": "@jupyter-widgets/base",
            "_view_module_version": "1.2.0",
            "_view_name": "LayoutView",
            "align_content": null,
            "align_items": null,
            "align_self": null,
            "border": null,
            "bottom": null,
            "display": null,
            "flex": null,
            "flex_flow": null,
            "grid_area": null,
            "grid_auto_columns": null,
            "grid_auto_flow": null,
            "grid_auto_rows": null,
            "grid_column": null,
            "grid_gap": null,
            "grid_row": null,
            "grid_template_areas": null,
            "grid_template_columns": null,
            "grid_template_rows": null,
            "height": null,
            "justify_content": null,
            "justify_items": null,
            "left": null,
            "margin": null,
            "max_height": null,
            "max_width": null,
            "min_height": null,
            "min_width": null,
            "object_fit": null,
            "object_position": null,
            "order": null,
            "overflow": null,
            "overflow_x": null,
            "overflow_y": null,
            "padding": null,
            "right": null,
            "top": null,
            "visibility": null,
            "width": null
          }
        },
        "31a9d5abc3594ff1aad14e9651c60c69": {
          "model_module": "@jupyter-widgets/base",
          "model_name": "LayoutModel",
          "model_module_version": "1.2.0",
          "state": {
            "_model_module": "@jupyter-widgets/base",
            "_model_module_version": "1.2.0",
            "_model_name": "LayoutModel",
            "_view_count": null,
            "_view_module": "@jupyter-widgets/base",
            "_view_module_version": "1.2.0",
            "_view_name": "LayoutView",
            "align_content": null,
            "align_items": null,
            "align_self": null,
            "border": null,
            "bottom": null,
            "display": null,
            "flex": null,
            "flex_flow": null,
            "grid_area": null,
            "grid_auto_columns": null,
            "grid_auto_flow": null,
            "grid_auto_rows": null,
            "grid_column": null,
            "grid_gap": null,
            "grid_row": null,
            "grid_template_areas": null,
            "grid_template_columns": null,
            "grid_template_rows": null,
            "height": null,
            "justify_content": null,
            "justify_items": null,
            "left": null,
            "margin": null,
            "max_height": null,
            "max_width": null,
            "min_height": null,
            "min_width": null,
            "object_fit": null,
            "object_position": null,
            "order": null,
            "overflow": null,
            "overflow_x": null,
            "overflow_y": null,
            "padding": null,
            "right": null,
            "top": null,
            "visibility": null,
            "width": null
          }
        },
        "2582e7c1b79140fab9c28f05721949fd": {
          "model_module": "@jupyter-widgets/controls",
          "model_name": "DescriptionStyleModel",
          "model_module_version": "1.5.0",
          "state": {
            "_model_module": "@jupyter-widgets/controls",
            "_model_module_version": "1.5.0",
            "_model_name": "DescriptionStyleModel",
            "_view_count": null,
            "_view_module": "@jupyter-widgets/base",
            "_view_module_version": "1.2.0",
            "_view_name": "StyleView",
            "description_width": ""
          }
        },
        "7b80ed1ad1324f0dab2d8706210ded73": {
          "model_module": "@jupyter-widgets/base",
          "model_name": "LayoutModel",
          "model_module_version": "1.2.0",
          "state": {
            "_model_module": "@jupyter-widgets/base",
            "_model_module_version": "1.2.0",
            "_model_name": "LayoutModel",
            "_view_count": null,
            "_view_module": "@jupyter-widgets/base",
            "_view_module_version": "1.2.0",
            "_view_name": "LayoutView",
            "align_content": null,
            "align_items": null,
            "align_self": null,
            "border": null,
            "bottom": null,
            "display": null,
            "flex": null,
            "flex_flow": null,
            "grid_area": null,
            "grid_auto_columns": null,
            "grid_auto_flow": null,
            "grid_auto_rows": null,
            "grid_column": null,
            "grid_gap": null,
            "grid_row": null,
            "grid_template_areas": null,
            "grid_template_columns": null,
            "grid_template_rows": null,
            "height": null,
            "justify_content": null,
            "justify_items": null,
            "left": null,
            "margin": null,
            "max_height": null,
            "max_width": null,
            "min_height": null,
            "min_width": null,
            "object_fit": null,
            "object_position": null,
            "order": null,
            "overflow": null,
            "overflow_x": null,
            "overflow_y": null,
            "padding": null,
            "right": null,
            "top": null,
            "visibility": null,
            "width": null
          }
        },
        "e01f41d74f094f7fbf994112ecb41ec6": {
          "model_module": "@jupyter-widgets/controls",
          "model_name": "ProgressStyleModel",
          "model_module_version": "1.5.0",
          "state": {
            "_model_module": "@jupyter-widgets/controls",
            "_model_module_version": "1.5.0",
            "_model_name": "ProgressStyleModel",
            "_view_count": null,
            "_view_module": "@jupyter-widgets/base",
            "_view_module_version": "1.2.0",
            "_view_name": "StyleView",
            "bar_color": null,
            "description_width": ""
          }
        },
        "5aff9af4625148aba85ae2dd35e8d0fd": {
          "model_module": "@jupyter-widgets/base",
          "model_name": "LayoutModel",
          "model_module_version": "1.2.0",
          "state": {
            "_model_module": "@jupyter-widgets/base",
            "_model_module_version": "1.2.0",
            "_model_name": "LayoutModel",
            "_view_count": null,
            "_view_module": "@jupyter-widgets/base",
            "_view_module_version": "1.2.0",
            "_view_name": "LayoutView",
            "align_content": null,
            "align_items": null,
            "align_self": null,
            "border": null,
            "bottom": null,
            "display": null,
            "flex": null,
            "flex_flow": null,
            "grid_area": null,
            "grid_auto_columns": null,
            "grid_auto_flow": null,
            "grid_auto_rows": null,
            "grid_column": null,
            "grid_gap": null,
            "grid_row": null,
            "grid_template_areas": null,
            "grid_template_columns": null,
            "grid_template_rows": null,
            "height": null,
            "justify_content": null,
            "justify_items": null,
            "left": null,
            "margin": null,
            "max_height": null,
            "max_width": null,
            "min_height": null,
            "min_width": null,
            "object_fit": null,
            "object_position": null,
            "order": null,
            "overflow": null,
            "overflow_x": null,
            "overflow_y": null,
            "padding": null,
            "right": null,
            "top": null,
            "visibility": null,
            "width": null
          }
        },
        "551998fbdd0f4831b8f9e114ef983dd1": {
          "model_module": "@jupyter-widgets/controls",
          "model_name": "DescriptionStyleModel",
          "model_module_version": "1.5.0",
          "state": {
            "_model_module": "@jupyter-widgets/controls",
            "_model_module_version": "1.5.0",
            "_model_name": "DescriptionStyleModel",
            "_view_count": null,
            "_view_module": "@jupyter-widgets/base",
            "_view_module_version": "1.2.0",
            "_view_name": "StyleView",
            "description_width": ""
          }
        },
        "644f15e901c84b12b53c4a960ccc54e4": {
          "model_module": "@jupyter-widgets/controls",
          "model_name": "HBoxModel",
          "model_module_version": "1.5.0",
          "state": {
            "_dom_classes": [],
            "_model_module": "@jupyter-widgets/controls",
            "_model_module_version": "1.5.0",
            "_model_name": "HBoxModel",
            "_view_count": null,
            "_view_module": "@jupyter-widgets/controls",
            "_view_module_version": "1.5.0",
            "_view_name": "HBoxView",
            "box_style": "",
            "children": [
              "IPY_MODEL_fe83bab56abc4834be642cfb1e6cf211",
              "IPY_MODEL_c0c93382ad7f4610be950bbe3002964c",
              "IPY_MODEL_2732fc067e6b488b9fbe0c6259af0e04"
            ],
            "layout": "IPY_MODEL_401df6b771f647a395a73020231ee7c0"
          }
        },
        "fe83bab56abc4834be642cfb1e6cf211": {
          "model_module": "@jupyter-widgets/controls",
          "model_name": "HTMLModel",
          "model_module_version": "1.5.0",
          "state": {
            "_dom_classes": [],
            "_model_module": "@jupyter-widgets/controls",
            "_model_module_version": "1.5.0",
            "_model_name": "HTMLModel",
            "_view_count": null,
            "_view_module": "@jupyter-widgets/controls",
            "_view_module_version": "1.5.0",
            "_view_name": "HTMLView",
            "description": "",
            "description_tooltip": null,
            "layout": "IPY_MODEL_142a51f6f18941439df09f83b3ddb073",
            "placeholder": "​",
            "style": "IPY_MODEL_3783809acf974efd927d4b90bccb51c4",
            "value": "Loading checkpoint shards: 100%"
          }
        },
        "c0c93382ad7f4610be950bbe3002964c": {
          "model_module": "@jupyter-widgets/controls",
          "model_name": "FloatProgressModel",
          "model_module_version": "1.5.0",
          "state": {
            "_dom_classes": [],
            "_model_module": "@jupyter-widgets/controls",
            "_model_module_version": "1.5.0",
            "_model_name": "FloatProgressModel",
            "_view_count": null,
            "_view_module": "@jupyter-widgets/controls",
            "_view_module_version": "1.5.0",
            "_view_name": "ProgressView",
            "bar_style": "success",
            "description": "",
            "description_tooltip": null,
            "layout": "IPY_MODEL_ad651bcff924484f86d231745254731b",
            "max": 2,
            "min": 0,
            "orientation": "horizontal",
            "style": "IPY_MODEL_ef080a5b40f149978a4df77669adc85d",
            "value": 2
          }
        },
        "2732fc067e6b488b9fbe0c6259af0e04": {
          "model_module": "@jupyter-widgets/controls",
          "model_name": "HTMLModel",
          "model_module_version": "1.5.0",
          "state": {
            "_dom_classes": [],
            "_model_module": "@jupyter-widgets/controls",
            "_model_module_version": "1.5.0",
            "_model_name": "HTMLModel",
            "_view_count": null,
            "_view_module": "@jupyter-widgets/controls",
            "_view_module_version": "1.5.0",
            "_view_name": "HTMLView",
            "description": "",
            "description_tooltip": null,
            "layout": "IPY_MODEL_f6e9407c65b8483ba4dcaa7e4f9ca57f",
            "placeholder": "​",
            "style": "IPY_MODEL_1cda0fafeaa64bac8c7cd0a5499f5c0b",
            "value": " 2/2 [01:54&lt;00:00, 54.24s/it]"
          }
        },
        "401df6b771f647a395a73020231ee7c0": {
          "model_module": "@jupyter-widgets/base",
          "model_name": "LayoutModel",
          "model_module_version": "1.2.0",
          "state": {
            "_model_module": "@jupyter-widgets/base",
            "_model_module_version": "1.2.0",
            "_model_name": "LayoutModel",
            "_view_count": null,
            "_view_module": "@jupyter-widgets/base",
            "_view_module_version": "1.2.0",
            "_view_name": "LayoutView",
            "align_content": null,
            "align_items": null,
            "align_self": null,
            "border": null,
            "bottom": null,
            "display": null,
            "flex": null,
            "flex_flow": null,
            "grid_area": null,
            "grid_auto_columns": null,
            "grid_auto_flow": null,
            "grid_auto_rows": null,
            "grid_column": null,
            "grid_gap": null,
            "grid_row": null,
            "grid_template_areas": null,
            "grid_template_columns": null,
            "grid_template_rows": null,
            "height": null,
            "justify_content": null,
            "justify_items": null,
            "left": null,
            "margin": null,
            "max_height": null,
            "max_width": null,
            "min_height": null,
            "min_width": null,
            "object_fit": null,
            "object_position": null,
            "order": null,
            "overflow": null,
            "overflow_x": null,
            "overflow_y": null,
            "padding": null,
            "right": null,
            "top": null,
            "visibility": null,
            "width": null
          }
        },
        "142a51f6f18941439df09f83b3ddb073": {
          "model_module": "@jupyter-widgets/base",
          "model_name": "LayoutModel",
          "model_module_version": "1.2.0",
          "state": {
            "_model_module": "@jupyter-widgets/base",
            "_model_module_version": "1.2.0",
            "_model_name": "LayoutModel",
            "_view_count": null,
            "_view_module": "@jupyter-widgets/base",
            "_view_module_version": "1.2.0",
            "_view_name": "LayoutView",
            "align_content": null,
            "align_items": null,
            "align_self": null,
            "border": null,
            "bottom": null,
            "display": null,
            "flex": null,
            "flex_flow": null,
            "grid_area": null,
            "grid_auto_columns": null,
            "grid_auto_flow": null,
            "grid_auto_rows": null,
            "grid_column": null,
            "grid_gap": null,
            "grid_row": null,
            "grid_template_areas": null,
            "grid_template_columns": null,
            "grid_template_rows": null,
            "height": null,
            "justify_content": null,
            "justify_items": null,
            "left": null,
            "margin": null,
            "max_height": null,
            "max_width": null,
            "min_height": null,
            "min_width": null,
            "object_fit": null,
            "object_position": null,
            "order": null,
            "overflow": null,
            "overflow_x": null,
            "overflow_y": null,
            "padding": null,
            "right": null,
            "top": null,
            "visibility": null,
            "width": null
          }
        },
        "3783809acf974efd927d4b90bccb51c4": {
          "model_module": "@jupyter-widgets/controls",
          "model_name": "DescriptionStyleModel",
          "model_module_version": "1.5.0",
          "state": {
            "_model_module": "@jupyter-widgets/controls",
            "_model_module_version": "1.5.0",
            "_model_name": "DescriptionStyleModel",
            "_view_count": null,
            "_view_module": "@jupyter-widgets/base",
            "_view_module_version": "1.2.0",
            "_view_name": "StyleView",
            "description_width": ""
          }
        },
        "ad651bcff924484f86d231745254731b": {
          "model_module": "@jupyter-widgets/base",
          "model_name": "LayoutModel",
          "model_module_version": "1.2.0",
          "state": {
            "_model_module": "@jupyter-widgets/base",
            "_model_module_version": "1.2.0",
            "_model_name": "LayoutModel",
            "_view_count": null,
            "_view_module": "@jupyter-widgets/base",
            "_view_module_version": "1.2.0",
            "_view_name": "LayoutView",
            "align_content": null,
            "align_items": null,
            "align_self": null,
            "border": null,
            "bottom": null,
            "display": null,
            "flex": null,
            "flex_flow": null,
            "grid_area": null,
            "grid_auto_columns": null,
            "grid_auto_flow": null,
            "grid_auto_rows": null,
            "grid_column": null,
            "grid_gap": null,
            "grid_row": null,
            "grid_template_areas": null,
            "grid_template_columns": null,
            "grid_template_rows": null,
            "height": null,
            "justify_content": null,
            "justify_items": null,
            "left": null,
            "margin": null,
            "max_height": null,
            "max_width": null,
            "min_height": null,
            "min_width": null,
            "object_fit": null,
            "object_position": null,
            "order": null,
            "overflow": null,
            "overflow_x": null,
            "overflow_y": null,
            "padding": null,
            "right": null,
            "top": null,
            "visibility": null,
            "width": null
          }
        },
        "ef080a5b40f149978a4df77669adc85d": {
          "model_module": "@jupyter-widgets/controls",
          "model_name": "ProgressStyleModel",
          "model_module_version": "1.5.0",
          "state": {
            "_model_module": "@jupyter-widgets/controls",
            "_model_module_version": "1.5.0",
            "_model_name": "ProgressStyleModel",
            "_view_count": null,
            "_view_module": "@jupyter-widgets/base",
            "_view_module_version": "1.2.0",
            "_view_name": "StyleView",
            "bar_color": null,
            "description_width": ""
          }
        },
        "f6e9407c65b8483ba4dcaa7e4f9ca57f": {
          "model_module": "@jupyter-widgets/base",
          "model_name": "LayoutModel",
          "model_module_version": "1.2.0",
          "state": {
            "_model_module": "@jupyter-widgets/base",
            "_model_module_version": "1.2.0",
            "_model_name": "LayoutModel",
            "_view_count": null,
            "_view_module": "@jupyter-widgets/base",
            "_view_module_version": "1.2.0",
            "_view_name": "LayoutView",
            "align_content": null,
            "align_items": null,
            "align_self": null,
            "border": null,
            "bottom": null,
            "display": null,
            "flex": null,
            "flex_flow": null,
            "grid_area": null,
            "grid_auto_columns": null,
            "grid_auto_flow": null,
            "grid_auto_rows": null,
            "grid_column": null,
            "grid_gap": null,
            "grid_row": null,
            "grid_template_areas": null,
            "grid_template_columns": null,
            "grid_template_rows": null,
            "height": null,
            "justify_content": null,
            "justify_items": null,
            "left": null,
            "margin": null,
            "max_height": null,
            "max_width": null,
            "min_height": null,
            "min_width": null,
            "object_fit": null,
            "object_position": null,
            "order": null,
            "overflow": null,
            "overflow_x": null,
            "overflow_y": null,
            "padding": null,
            "right": null,
            "top": null,
            "visibility": null,
            "width": null
          }
        },
        "1cda0fafeaa64bac8c7cd0a5499f5c0b": {
          "model_module": "@jupyter-widgets/controls",
          "model_name": "DescriptionStyleModel",
          "model_module_version": "1.5.0",
          "state": {
            "_model_module": "@jupyter-widgets/controls",
            "_model_module_version": "1.5.0",
            "_model_name": "DescriptionStyleModel",
            "_view_count": null,
            "_view_module": "@jupyter-widgets/base",
            "_view_module_version": "1.2.0",
            "_view_name": "StyleView",
            "description_width": ""
          }
        }
      }
    }
  },
  "nbformat": 4,
  "nbformat_minor": 5
}